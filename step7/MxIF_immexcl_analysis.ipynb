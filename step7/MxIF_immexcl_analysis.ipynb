{
 "cells": [
  {
   "cell_type": "code",
   "execution_count": null,
   "metadata": {},
   "outputs": [],
   "source": [
    "%%javascript\n",
    "document.title='fuzzy-lasagna'"
   ]
  },
  {
   "cell_type": "code",
   "execution_count": null,
   "metadata": {},
   "outputs": [],
   "source": [
    "import kitchen.ingredients as k\n",
    "import dropkick as dk\n",
    "import sys; sys.path.append(\"../../../../utility_scripts/\")\n",
    "from mxif_immexcl_analysis import *\n",
    "\n",
    "# some stuff to make this notebook work better with Scanpy\n",
    "import warnings\n",
    "warnings.simplefilter(action='ignore', category=FutureWarning)"
   ]
  },
  {
   "cell_type": "code",
   "execution_count": null,
   "metadata": {},
   "outputs": [],
   "source": [
    "sc.set_figure_params(transparent=True, dpi_save=400)\n",
    "sc.settings.figdir = \"segmentation/\""
   ]
  },
  {
   "cell_type": "code",
   "execution_count": null,
   "metadata": {},
   "outputs": [],
   "source": [
    "sns.set_style(\"white\")"
   ]
  },
  {
   "cell_type": "code",
   "execution_count": null,
   "metadata": {},
   "outputs": [],
   "source": [
    "sample_key = pd.read_csv(\"../../../resources/visium_sample_key.csv\", index_col=0)\n",
    "\n",
    "sample_key.ws_adata = sample_key.ws_adata.fillna(\"\")"
   ]
  },
  {
   "cell_type": "code",
   "execution_count": null,
   "metadata": {},
   "outputs": [],
   "source": [
    "celltype_dict = {\n",
    "    'T helper': [\"CD3D\",\"CD4\"],\n",
    "    'T reg': [\"CD3D\",\"CD4\",\"FOXP3\"],\n",
    "    'T cytotoxic': [\"CD3D\",\"CD8\"],\n",
    "    'Myeloid': [\"CD11B\"],\n",
    "    'Macrophage': [\"CD11B\",\"CD68\"],\n",
    "    'Macrophage M1': [\"CD11B\",\"CD68\",\"LYSOZYME\"],\n",
    "}"
   ]
  },
  {
   "cell_type": "markdown",
   "metadata": {},
   "source": [
    "---\n",
    "# PAT71397 (TVA)"
   ]
  },
  {
   "cell_type": "code",
   "execution_count": null,
   "metadata": {},
   "outputs": [],
   "source": [
    "process_segmentation(\n",
    "    input_csv=\"quantification/WD86055_threshold_quantificaion.csv\",\n",
    "    output_h5ad=\"segmentation/WD86055_immunecells.h5ad\",\n",
    "    tile_kwargs = {\n",
    "        \"canvas\":\"region_canvas_26Sep22.csv\",\n",
    "        \"name\":\"WD86055\",\n",
    "        \"regions\":[\"region_001\",\"region_002\",\"region_003\",\"region_004\",\"region_005\",\"region_006\"],\n",
    "        \"scale\":8,\n",
    "    },\n",
    "    id_cells_kwargs={\n",
    "        \"celldict\":celltype_dict,\n",
    "        \"thresh\":0.5,\n",
    "    },\n",
    "    plot_out=True,\n",
    "    spot_size=50,\n",
    ")"
   ]
  },
  {
   "cell_type": "code",
   "execution_count": null,
   "metadata": {},
   "outputs": [],
   "source": [
    "a_sub = sc.read(\"segmentation/WD86055_immunecells.h5ad\")"
   ]
  },
  {
   "cell_type": "code",
   "execution_count": null,
   "metadata": {},
   "outputs": [],
   "source": [
    "a_sub = a_sub[a_sub.obs.epi==0,:].copy(); a_sub"
   ]
  },
  {
   "cell_type": "code",
   "execution_count": null,
   "metadata": {},
   "outputs": [],
   "source": [
    "sc.pl.spatial(\n",
    "    a_sub,\n",
    "    basis=\"spatial_ws\",\n",
    "    color=[\"Cell Type\"],\n",
    "    ncols=4,\n",
    "    img=None,\n",
    "    spot_size=50,\n",
    "    scale_factor=1,\n",
    "    frameon=False,\n",
    "    cmap=\"viridis\",\n",
    "    save=\"_celltypeIDs_immune_mxif_epi0.png\"\n",
    ")"
   ]
  },
  {
   "cell_type": "markdown",
   "metadata": {},
   "source": [
    "---"
   ]
  },
  {
   "cell_type": "code",
   "execution_count": null,
   "metadata": {},
   "outputs": [],
   "source": [
    "sample_key.loc[sample_key.patient_name==\"PAT71397\", [\"sample_key\",\"ws_he\",\"ws_flip\"]]"
   ]
  },
  {
   "cell_type": "markdown",
   "metadata": {},
   "source": [
    "---\n",
    "# 6723-4"
   ]
  },
  {
   "cell_type": "code",
   "execution_count": null,
   "metadata": {},
   "outputs": [],
   "source": [
    "#v = sc.read(\"../../visium/datasets/6723_4_WD86055_master.h5ad\")\n",
    "affine = np.genfromtxt(\"/mnt/500gb_ssd/home/cody/images/MxIF/WD86055/WD86055_downsample8_6723_4_affine2.csv\", delimiter=\",\")\n",
    "shape = np.genfromtxt(\"/mnt/500gb_ssd/home/cody/images/MxIF/WD86055/WD86055_downsample8_6723_4_shape2.csv\", delimiter=\",\")\n",
    "#a_img = img.from_npz(\"/mnt/500gb_ssd/home/cody/images/MxIF/WD86055/WD86055_downsample8.npz\")"
   ]
  },
  {
   "cell_type": "code",
   "execution_count": null,
   "metadata": {},
   "outputs": [],
   "source": [
    "a_img"
   ]
  },
  {
   "cell_type": "code",
   "execution_count": null,
   "metadata": {},
   "outputs": [],
   "source": [
    "shape"
   ]
  },
  {
   "cell_type": "code",
   "execution_count": null,
   "metadata": {},
   "outputs": [],
   "source": [
    "immune_cells_6723_4_WD86055 = quantify_cells_per_clone(\n",
    "    visium_adata=v,\n",
    "    seg_adata=a_sub,\n",
    "    affine=affine,\n",
    "    shape=shape,\n",
    "    img_obj=a_img,\n",
    "    visium_pita_save=\"segmentation/cnvclone_WD86055_6723_4.png\",\n",
    "    seg_pita_save=\"segmentation/immune_cellseg_WD86055_6723_4.png\",\n",
    "    flip=True,\n",
    ")"
   ]
  },
  {
   "cell_type": "code",
   "execution_count": null,
   "metadata": {},
   "outputs": [],
   "source": [
    "immune_cells_6723_4_WD86055"
   ]
  },
  {
   "cell_type": "markdown",
   "metadata": {},
   "source": [
    "---"
   ]
  },
  {
   "cell_type": "code",
   "execution_count": null,
   "metadata": {},
   "outputs": [],
   "source": [
    "WD86055_immune_counts_df = pd.DataFrame(immune_cells_6723_4_WD86055).fillna(0)"
   ]
  },
  {
   "cell_type": "code",
   "execution_count": null,
   "metadata": {},
   "outputs": [],
   "source": [
    "WD86055_immune_counts_df"
   ]
  },
  {
   "cell_type": "code",
   "execution_count": null,
   "metadata": {},
   "outputs": [],
   "source": [
    "WD86055_immune_counts_df.to_csv(\"segmentation/WD86055_immunecell_cnvclone_quant.csv\")"
   ]
  },
  {
   "cell_type": "code",
   "execution_count": null,
   "metadata": {},
   "outputs": [],
   "source": [
    "WD86055_immune_counts_df.plot.barh()"
   ]
  },
  {
   "cell_type": "markdown",
   "metadata": {},
   "source": [
    "---\n",
    "# PAT71397 (MSS)"
   ]
  },
  {
   "cell_type": "code",
   "execution_count": null,
   "metadata": {},
   "outputs": [],
   "source": [
    "process_segmentation(\n",
    "    input_csv=\"quantification/WD86056_threshold_quantificaion.csv\",\n",
    "    output_h5ad=\"segmentation/WD86056_immunecells.h5ad\",\n",
    "    tile_kwargs = {\n",
    "        \"canvas\":\"region_canvas_26Sep22.csv\",\n",
    "        \"name\":\"WD86056\",\n",
    "        \"regions\":[\"region_001\",\"region_002\",\"region_003\",\"region_004\"],\n",
    "        \"scale\":8,\n",
    "    },\n",
    "    id_cells_kwargs={\n",
    "        \"celldict\":celltype_dict,\n",
    "        \"thresh\":0.5,\n",
    "    },\n",
    "    plot_out=True,\n",
    ")"
   ]
  },
  {
   "cell_type": "code",
   "execution_count": null,
   "metadata": {},
   "outputs": [],
   "source": [
    "a_sub = sc.read(\"segmentation/WD86056_immunecells.h5ad\")"
   ]
  },
  {
   "cell_type": "code",
   "execution_count": null,
   "metadata": {},
   "outputs": [],
   "source": [
    "a_sub = a_sub[a_sub.obs.epi==0,:].copy(); a_sub"
   ]
  },
  {
   "cell_type": "code",
   "execution_count": null,
   "metadata": {},
   "outputs": [],
   "source": [
    "sc.pl.spatial(\n",
    "    a_sub,\n",
    "    basis=\"spatial_ws\",\n",
    "    color=[\"Cell Type\"],\n",
    "    ncols=4,\n",
    "    img=None,\n",
    "    spot_size=50,\n",
    "    scale_factor=1,\n",
    "    frameon=False,\n",
    "    cmap=\"viridis\",\n",
    "    save=\"_celltypeIDs_immune_mxif_epi0.png\"\n",
    ")"
   ]
  },
  {
   "cell_type": "markdown",
   "metadata": {},
   "source": [
    "---"
   ]
  },
  {
   "cell_type": "code",
   "execution_count": null,
   "metadata": {},
   "outputs": [],
   "source": [
    "sample_key.loc[sample_key.patient_name==\"PAT71397\", [\"sample_key\",\"ws_he\",\"ws_flip\"]]"
   ]
  },
  {
   "cell_type": "markdown",
   "metadata": {},
   "source": [
    "---\n",
    "# 6723-1"
   ]
  },
  {
   "cell_type": "code",
   "execution_count": null,
   "metadata": {},
   "outputs": [],
   "source": [
    "v = sc.read(\"../../visium/datasets/6723_1_WD86056_master.h5ad\")\n",
    "affine = np.genfromtxt(\"/mnt/500gb_ssd/home/cody/images/MxIF/WD86056/WD86056_downsample8_6723_1_affine2.csv\", delimiter=\",\")\n",
    "shape = np.genfromtxt(\"/mnt/500gb_ssd/home/cody/images/MxIF/WD86056/WD86056_downsample8_6723_1_shape2.csv\", delimiter=\",\")\n",
    "a_img = img.from_npz(\"/mnt/500gb_ssd/home/cody/images/MxIF/WD86056/WD86056_downsample8.npz\")"
   ]
  },
  {
   "cell_type": "code",
   "execution_count": null,
   "metadata": {},
   "outputs": [],
   "source": [
    "immune_cells_6723_1_WD86056 = quantify_cells_per_clone(\n",
    "    visium_adata=v,\n",
    "    seg_adata=a_sub,\n",
    "    affine=affine,\n",
    "    shape=shape,\n",
    "    img_obj=a_img,\n",
    "    visium_pita_save=\"segmentation/cnvclone_WD86056_6723_1.png\",\n",
    "    seg_pita_save=\"segmentation/immune_cellseg_WD86056_6723_1.png\",\n",
    "    flip=False,\n",
    ")"
   ]
  },
  {
   "cell_type": "code",
   "execution_count": null,
   "metadata": {},
   "outputs": [],
   "source": [
    "immune_cells_6723_1_WD86056"
   ]
  },
  {
   "cell_type": "markdown",
   "metadata": {},
   "source": [
    "---\n",
    "# 6723-2"
   ]
  },
  {
   "cell_type": "code",
   "execution_count": null,
   "metadata": {},
   "outputs": [],
   "source": [
    "v = sc.read(\"../../visium/datasets/6723_2_WD86056_master.h5ad\")\n",
    "affine = np.genfromtxt(\"/mnt/500gb_ssd/home/cody/images/MxIF/WD86056/WD86056_downsample8_6723_2_affine2.csv\", delimiter=\",\")\n",
    "shape = np.genfromtxt(\"/mnt/500gb_ssd/home/cody/images/MxIF/WD86056/WD86056_downsample8_6723_2_shape2.csv\", delimiter=\",\")\n",
    "a_img = img.from_npz(\"/mnt/500gb_ssd/home/cody/images/MxIF/WD86056/WD86056_downsample8.npz\")"
   ]
  },
  {
   "cell_type": "code",
   "execution_count": null,
   "metadata": {},
   "outputs": [],
   "source": [
    "immune_cells_6723_2_WD86056 = quantify_cells_per_clone(\n",
    "    visium_adata=v,\n",
    "    seg_adata=a_sub,\n",
    "    affine=affine,\n",
    "    shape=shape,\n",
    "    img_obj=a_img,\n",
    "    visium_pita_save=\"segmentation/cnvclone_WD86056_6723_2.png\",\n",
    "    seg_pita_save=\"segmentation/immune_cellseg_WD86056_6723_2.png\",\n",
    "    flip=False,\n",
    ")"
   ]
  },
  {
   "cell_type": "code",
   "execution_count": null,
   "metadata": {},
   "outputs": [],
   "source": [
    "immune_cells_6723_2_WD86056"
   ]
  },
  {
   "cell_type": "markdown",
   "metadata": {},
   "source": [
    "---\n",
    "# 6723-3"
   ]
  },
  {
   "cell_type": "code",
   "execution_count": null,
   "metadata": {},
   "outputs": [],
   "source": [
    "v = sc.read(\"../../visium/datasets/6723_3_WD86056_master.h5ad\")\n",
    "affine = np.genfromtxt(\"/mnt/500gb_ssd/home/cody/images/MxIF/WD86056/WD86056_downsample8_6723_3_affine2.csv\", delimiter=\",\")\n",
    "shape = np.genfromtxt(\"/mnt/500gb_ssd/home/cody/images/MxIF/WD86056/WD86056_downsample8_6723_3_shape2.csv\", delimiter=\",\")\n",
    "a_img = img.from_npz(\"/mnt/500gb_ssd/home/cody/images/MxIF/WD86056/WD86056_downsample8.npz\")"
   ]
  },
  {
   "cell_type": "code",
   "execution_count": null,
   "metadata": {},
   "outputs": [],
   "source": [
    "immune_cells_6723_3_WD86056 = quantify_cells_per_clone(\n",
    "    visium_adata=v,\n",
    "    seg_adata=a_sub,\n",
    "    affine=affine,\n",
    "    shape=shape,\n",
    "    img_obj=a_img,\n",
    "    visium_pita_save=\"segmentation/cnvclone_WD86056_6723_3.png\",\n",
    "    seg_pita_save=\"segmentation/immune_cellseg_WD86056_6723_3.png\",\n",
    "    flip=False,\n",
    ")"
   ]
  },
  {
   "cell_type": "code",
   "execution_count": null,
   "metadata": {},
   "outputs": [],
   "source": [
    "immune_cells_6723_3_WD86056"
   ]
  },
  {
   "cell_type": "markdown",
   "metadata": {},
   "source": [
    "---"
   ]
  },
  {
   "cell_type": "code",
   "execution_count": null,
   "metadata": {},
   "outputs": [],
   "source": [
    "immune_cells_6723_3_WD86056_df = pd.DataFrame(immune_cells_6723_3_WD86056).fillna(0)\n",
    "immune_cells_6723_3_WD86056_df.loc[\"3\"] = [0,0,0,0,0,0]"
   ]
  },
  {
   "cell_type": "code",
   "execution_count": null,
   "metadata": {},
   "outputs": [],
   "source": [
    "WD86056_immune_counts_df = pd.DataFrame(immune_cells_6723_1_WD86056).fillna(0) + pd.DataFrame(immune_cells_6723_2_WD86056).fillna(0) + immune_cells_6723_3_WD86056_df"
   ]
  },
  {
   "cell_type": "code",
   "execution_count": null,
   "metadata": {},
   "outputs": [],
   "source": [
    "WD86056_immune_counts_df"
   ]
  },
  {
   "cell_type": "code",
   "execution_count": null,
   "metadata": {},
   "outputs": [],
   "source": [
    "WD86056_immune_counts_df.to_csv(\"segmentation/WD86056_immunecell_cnvclone_quant.csv\")"
   ]
  },
  {
   "cell_type": "code",
   "execution_count": null,
   "metadata": {},
   "outputs": [],
   "source": [
    "WD86056_immune_counts_df.plot.barh()"
   ]
  },
  {
   "cell_type": "markdown",
   "metadata": {},
   "source": [
    "---\n",
    "# PAT59600"
   ]
  },
  {
   "cell_type": "code",
   "execution_count": null,
   "metadata": {},
   "outputs": [],
   "source": [
    "process_segmentation(\n",
    "    input_csv=\"quantification/WD54594_threshold_quantificaion.csv\",\n",
    "    output_h5ad=\"segmentation/WD84594_immunecells.h5ad\",\n",
    "    tile_kwargs = {\n",
    "        \"canvas\":\"region_canvas_26Sep22.csv\",\n",
    "        \"name\":\"WD54594\",\n",
    "        \"regions\":[\"region_001\",\"region_002\",\"region_003\",\"region_004\"],\n",
    "        \"scale\":8,\n",
    "    },\n",
    "    id_cells_kwargs={\n",
    "        \"celldict\":celltype_dict,\n",
    "        \"thresh\":0.5,\n",
    "    },\n",
    "    plot_out=True,\n",
    ")"
   ]
  },
  {
   "cell_type": "code",
   "execution_count": null,
   "metadata": {},
   "outputs": [],
   "source": [
    "a_sub = sc.read(\"segmentation/WD84594_immunecells.h5ad\")"
   ]
  },
  {
   "cell_type": "code",
   "execution_count": null,
   "metadata": {},
   "outputs": [],
   "source": [
    "a_sub = a_sub[a_sub.obs.epi==0,:].copy(); a_sub"
   ]
  },
  {
   "cell_type": "code",
   "execution_count": null,
   "metadata": {},
   "outputs": [],
   "source": [
    "sc.pl.spatial(\n",
    "    a_sub,\n",
    "    basis=\"spatial_ws\",\n",
    "    color=[\"Cell Type\"],\n",
    "    ncols=4,\n",
    "    img=None,\n",
    "    spot_size=50,\n",
    "    scale_factor=1,\n",
    "    frameon=False,\n",
    "    cmap=\"viridis\",\n",
    "    save=\"_celltypeIDs_immune_mxif_epi0.png\"\n",
    ")"
   ]
  },
  {
   "cell_type": "markdown",
   "metadata": {},
   "source": [
    "---"
   ]
  },
  {
   "cell_type": "code",
   "execution_count": null,
   "metadata": {},
   "outputs": [],
   "source": [
    "sample_key.loc[sample_key.patient_name==\"PAT59600\", [\"sample_key\",\"ws_he\",\"ws_flip\"]]"
   ]
  },
  {
   "cell_type": "markdown",
   "metadata": {},
   "source": [
    "---\n",
    "# 8270-9"
   ]
  },
  {
   "cell_type": "code",
   "execution_count": null,
   "metadata": {},
   "outputs": [],
   "source": [
    "v = sc.read(\"../../visium/datasets/8270_9_WD84594_master.h5ad\")\n",
    "affine = np.genfromtxt(\"/mnt/500gb_ssd/home/cody/images/MxIF/WD84594/WD84594_downsample8_8270_9_affine2.csv\", delimiter=\",\")\n",
    "shape = np.genfromtxt(\"/mnt/500gb_ssd/home/cody/images/MxIF/WD84594/WD84594_downsample8_8270_9_shape2.csv\", delimiter=\",\")\n",
    "a_img = img.from_npz(\"/mnt/500gb_ssd/home/cody/images/MxIF/WD84594/WD84594_downsample8.npz\")"
   ]
  },
  {
   "cell_type": "code",
   "execution_count": null,
   "metadata": {},
   "outputs": [],
   "source": [
    "immune_cells_8270_9_WD84594 = quantify_cells_per_clone(\n",
    "    visium_adata=v,\n",
    "    seg_adata=a_sub,\n",
    "    affine=affine,\n",
    "    shape=shape,\n",
    "    img_obj=a_img,\n",
    "    visium_pita_save=\"segmentation/cnvclone_WD84594_8270_9.png\",\n",
    "    seg_pita_save=\"segmentation/immune_cellseg_WD84594_8270_9.png\",\n",
    "    flip=False,\n",
    ")"
   ]
  },
  {
   "cell_type": "code",
   "execution_count": null,
   "metadata": {},
   "outputs": [],
   "source": [
    "immune_cells_8270_9_WD84594"
   ]
  },
  {
   "cell_type": "markdown",
   "metadata": {},
   "source": [
    "---"
   ]
  },
  {
   "cell_type": "code",
   "execution_count": null,
   "metadata": {},
   "outputs": [],
   "source": [
    "WD84594_immune_counts_df = pd.DataFrame(immune_cells_8270_9_WD84594).fillna(0)"
   ]
  },
  {
   "cell_type": "code",
   "execution_count": null,
   "metadata": {},
   "outputs": [],
   "source": [
    "WD84594_immune_counts_df"
   ]
  },
  {
   "cell_type": "code",
   "execution_count": null,
   "metadata": {},
   "outputs": [],
   "source": [
    "WD84594_immune_counts_df.to_csv(\"segmentation/WD84594_immunecell_cnvclone_quant.csv\")"
   ]
  },
  {
   "cell_type": "code",
   "execution_count": null,
   "metadata": {},
   "outputs": [],
   "source": [
    "WD84594_immune_counts_df.plot.barh()"
   ]
  },
  {
   "cell_type": "markdown",
   "metadata": {},
   "source": [
    "---\n",
    "# PAT54273"
   ]
  },
  {
   "cell_type": "code",
   "execution_count": null,
   "metadata": {},
   "outputs": [],
   "source": [
    "process_segmentation(\n",
    "    input_csv=\"quantification/WD84216_threshold_quantificaion.csv\",\n",
    "    output_h5ad=\"segmentation/WD84216_immunecells.h5ad\",\n",
    "    tile_kwargs = {\n",
    "        \"canvas\":\"region_canvas_26Sep22.csv\",\n",
    "        \"name\":\"WD84216\",\n",
    "        \"regions\":[\"region_001\",\"region_002\",\"region_003\",\"region_004\"],\n",
    "        \"scale\":8,\n",
    "    },\n",
    "    id_cells_kwargs={\n",
    "        \"celldict\":celltype_dict,\n",
    "        \"thresh\":0.5,\n",
    "    },\n",
    "    plot_out=True,\n",
    ")"
   ]
  },
  {
   "cell_type": "code",
   "execution_count": null,
   "metadata": {},
   "outputs": [],
   "source": [
    "a_sub = sc.read(\"segmentation/WD84216_immunecells.h5ad\")"
   ]
  },
  {
   "cell_type": "code",
   "execution_count": null,
   "metadata": {},
   "outputs": [],
   "source": [
    "a_sub = a_sub[a_sub.obs.epi==0,:].copy(); a_sub"
   ]
  },
  {
   "cell_type": "code",
   "execution_count": null,
   "metadata": {},
   "outputs": [],
   "source": [
    "sc.pl.spatial(\n",
    "    a_sub,\n",
    "    basis=\"spatial_ws\",\n",
    "    color=[\"Cell Type\"],\n",
    "    ncols=4,\n",
    "    img=None,\n",
    "    spot_size=50,\n",
    "    scale_factor=1,\n",
    "    frameon=False,\n",
    "    cmap=\"viridis\",\n",
    "    save=\"_celltypeIDs_immune_mxif_epi0.png\"\n",
    ")"
   ]
  },
  {
   "cell_type": "markdown",
   "metadata": {},
   "source": [
    "---"
   ]
  },
  {
   "cell_type": "code",
   "execution_count": null,
   "metadata": {},
   "outputs": [],
   "source": [
    "sample_key.loc[sample_key.patient_name==\"PAT54273\", [\"sample_key\",\"ws_he\",\"ws_flip\"]]"
   ]
  },
  {
   "cell_type": "markdown",
   "metadata": {},
   "source": [
    "---\n",
    "# 8270-11"
   ]
  },
  {
   "cell_type": "code",
   "execution_count": null,
   "metadata": {},
   "outputs": [],
   "source": [
    "v = sc.read(\"../../visium/datasets/8270_11_WD84216_master.h5ad\")\n",
    "affine = np.genfromtxt(\"/mnt/500gb_ssd/home/cody/images/MxIF/WD84216/WD84216_downsample8_8270_11_affine2.csv\", delimiter=\",\")\n",
    "shape = np.genfromtxt(\"/mnt/500gb_ssd/home/cody/images/MxIF/WD84216/WD84216_downsample8_8270_11_shape2.csv\", delimiter=\",\")\n",
    "a_img = img.from_npz(\"/mnt/500gb_ssd/home/cody/images/MxIF/WD84216/WD84216_downsample8.npz\")"
   ]
  },
  {
   "cell_type": "code",
   "execution_count": null,
   "metadata": {},
   "outputs": [],
   "source": [
    "immune_cells_8270_11_WD84216 = quantify_cells_per_clone(\n",
    "    visium_adata=v,\n",
    "    seg_adata=a_sub,\n",
    "    affine=affine,\n",
    "    shape=shape,\n",
    "    img_obj=a_img,\n",
    "    visium_pita_save=\"segmentation/cnvclone_WD84216_8270_11.png\",\n",
    "    seg_pita_save=\"segmentation/immune_cellseg_WD84216_8270_11.png\",\n",
    "    flip=False,\n",
    ")"
   ]
  },
  {
   "cell_type": "code",
   "execution_count": null,
   "metadata": {},
   "outputs": [],
   "source": [
    "immune_cells_8270_11_WD84216"
   ]
  },
  {
   "cell_type": "markdown",
   "metadata": {},
   "source": [
    "---\n",
    "# 8270-12"
   ]
  },
  {
   "cell_type": "code",
   "execution_count": null,
   "metadata": {},
   "outputs": [],
   "source": [
    "v = sc.read(\"../../visium/datasets/8270_12_WD84216_master.h5ad\")\n",
    "affine = np.genfromtxt(\"/mnt/500gb_ssd/home/cody/images/MxIF/WD84216/WD84216_downsample8_8270_12_affine2.csv\", delimiter=\",\")\n",
    "shape = np.genfromtxt(\"/mnt/500gb_ssd/home/cody/images/MxIF/WD84216/WD84216_downsample8_8270_12_shape2.csv\", delimiter=\",\")"
   ]
  },
  {
   "cell_type": "code",
   "execution_count": null,
   "metadata": {},
   "outputs": [],
   "source": [
    "immune_cells_8270_12_WD84216 = quantify_cells_per_clone(\n",
    "    visium_adata=v,\n",
    "    seg_adata=a_sub,\n",
    "    affine=affine,\n",
    "    shape=shape,\n",
    "    img_obj=a_img,\n",
    "    visium_pita_save=\"segmentation/cnvclone_WD84216_8270_12.png\",\n",
    "    seg_pita_save=\"segmentation/immune_cellseg_WD84216_8270_12.png\",\n",
    "    flip=False,\n",
    ")"
   ]
  },
  {
   "cell_type": "code",
   "execution_count": null,
   "metadata": {},
   "outputs": [],
   "source": [
    "immune_cells_8270_12_WD84216"
   ]
  },
  {
   "cell_type": "markdown",
   "metadata": {},
   "source": [
    "---"
   ]
  },
  {
   "cell_type": "code",
   "execution_count": null,
   "metadata": {},
   "outputs": [],
   "source": [
    "WD84216_immune_counts_df = pd.DataFrame(immune_cells_8270_11_WD84216).fillna(0) + pd.DataFrame(immune_cells_8270_12_WD84216).fillna(0)"
   ]
  },
  {
   "cell_type": "code",
   "execution_count": null,
   "metadata": {},
   "outputs": [],
   "source": [
    "WD84216_immune_counts_df"
   ]
  },
  {
   "cell_type": "code",
   "execution_count": null,
   "metadata": {},
   "outputs": [],
   "source": [
    "WD84216_immune_counts_df.to_csv(\"segmentation/WD84216_immunecell_cnvclone_quant.csv\")"
   ]
  },
  {
   "cell_type": "code",
   "execution_count": null,
   "metadata": {},
   "outputs": [],
   "source": [
    "WD84216_immune_counts_df.plot.barh()"
   ]
  },
  {
   "cell_type": "markdown",
   "metadata": {},
   "source": [
    "---\n",
    "# PAT33430"
   ]
  },
  {
   "cell_type": "code",
   "execution_count": null,
   "metadata": {},
   "outputs": [],
   "source": [
    "process_segmentation(\n",
    "    input_csv=\"quantification/WD84221_threshold_quantificaion.csv\",\n",
    "    output_h5ad=\"segmentation/WD84221_immunecells.h5ad\",\n",
    "    tile_kwargs = {\n",
    "        \"canvas\":\"region_canvas_26Sep22.csv\",\n",
    "        \"name\":\"WD84221\",\n",
    "        \"regions\":[\"region_001\",\"region_002\",\"region_003\",\"region_004\",\"region_005\",\"region_006\"],\n",
    "        \"scale\":8,\n",
    "    },\n",
    "    id_cells_kwargs={\n",
    "        \"celldict\":celltype_dict,\n",
    "        \"thresh\":0.5,\n",
    "    },\n",
    "    plot_out=True,\n",
    ")"
   ]
  },
  {
   "cell_type": "code",
   "execution_count": null,
   "metadata": {},
   "outputs": [],
   "source": [
    "a_sub = sc.read(\"segmentation/WD84221_immunecells.h5ad\")"
   ]
  },
  {
   "cell_type": "code",
   "execution_count": null,
   "metadata": {},
   "outputs": [],
   "source": [
    "a_sub = a_sub[a_sub.obs.epi==0,:].copy(); a_sub"
   ]
  },
  {
   "cell_type": "code",
   "execution_count": null,
   "metadata": {},
   "outputs": [],
   "source": [
    "sc.pl.spatial(\n",
    "    a_sub,\n",
    "    basis=\"spatial_ws\",\n",
    "    color=[\"Cell Type\"],\n",
    "    ncols=4,\n",
    "    img=None,\n",
    "    spot_size=50,\n",
    "    scale_factor=1,\n",
    "    frameon=False,\n",
    "    cmap=\"viridis\",\n",
    "    save=\"_celltypeIDs_immune_mxif_epi0.png\"\n",
    ")"
   ]
  },
  {
   "cell_type": "markdown",
   "metadata": {},
   "source": [
    "---"
   ]
  },
  {
   "cell_type": "code",
   "execution_count": null,
   "metadata": {},
   "outputs": [],
   "source": [
    "sample_key.loc[sample_key.patient_name==\"PAT33430\", [\"sample_key\",\"ws_he\",\"ws_flip\"]]"
   ]
  },
  {
   "cell_type": "markdown",
   "metadata": {},
   "source": [
    "---\n",
    "# 7794-3"
   ]
  },
  {
   "cell_type": "code",
   "execution_count": null,
   "metadata": {},
   "outputs": [],
   "source": [
    "v = sc.read(\"../../visium/datasets/7794_3_WD84221_master.h5ad\")\n",
    "affine = np.genfromtxt(\"/mnt/500gb_ssd/home/cody/images/MxIF/WD84221/WD84221_downsample8_7794_3_affine2.csv\", delimiter=\",\")\n",
    "shape = np.genfromtxt(\"/mnt/500gb_ssd/home/cody/images/MxIF/WD84221/WD84221_downsample8_7794_3_shape2.csv\", delimiter=\",\")\n",
    "a_img = img.from_npz(\"/mnt/500gb_ssd/home/cody/images/MxIF/WD84221/WD84221_downsample8.npz\")"
   ]
  },
  {
   "cell_type": "code",
   "execution_count": null,
   "metadata": {},
   "outputs": [],
   "source": [
    "a_img"
   ]
  },
  {
   "cell_type": "code",
   "execution_count": null,
   "metadata": {},
   "outputs": [],
   "source": [
    "immune_cells_7794_3_WD84221 = quantify_cells_per_clone(\n",
    "    visium_adata=v,\n",
    "    seg_adata=a_sub,\n",
    "    affine=affine,\n",
    "    shape=shape,\n",
    "    img_obj=a_img,\n",
    "    visium_pita_save=\"segmentation/cnvclone_WD84221_7794_3.png\",\n",
    "    seg_pita_save=\"segmentation/immune_cellseg_WD84221_7794_3.png\",\n",
    "    flip=False,\n",
    ")"
   ]
  },
  {
   "cell_type": "code",
   "execution_count": null,
   "metadata": {},
   "outputs": [],
   "source": [
    "immune_cells_7794_3_WD84221"
   ]
  },
  {
   "cell_type": "markdown",
   "metadata": {},
   "source": [
    "---"
   ]
  },
  {
   "cell_type": "code",
   "execution_count": null,
   "metadata": {},
   "outputs": [],
   "source": [
    "WD84221_immune_counts_df = pd.DataFrame(immune_cells_7794_3_WD84221).fillna(0)"
   ]
  },
  {
   "cell_type": "code",
   "execution_count": null,
   "metadata": {},
   "outputs": [],
   "source": [
    "WD84221_immune_counts_df"
   ]
  },
  {
   "cell_type": "code",
   "execution_count": null,
   "metadata": {},
   "outputs": [],
   "source": [
    "WD84221_immune_counts_df.to_csv(\"segmentation/WD84221_immunecell_cnvclone_quant.csv\")"
   ]
  },
  {
   "cell_type": "code",
   "execution_count": null,
   "metadata": {},
   "outputs": [],
   "source": [
    "WD84221_immune_counts_df.plot.barh()"
   ]
  },
  {
   "cell_type": "markdown",
   "metadata": {},
   "source": [
    "---\n",
    "# PAT59667"
   ]
  },
  {
   "cell_type": "code",
   "execution_count": null,
   "metadata": {},
   "outputs": [],
   "source": [
    "process_segmentation(\n",
    "    input_csv=\"quantification/WD84596_threshold_quantificaion.csv\",\n",
    "    output_h5ad=\"segmentation/WD84596_immunecells.h5ad\",\n",
    "    tile_kwargs = {\n",
    "        \"canvas\":\"region_canvas_26Sep22.csv\",\n",
    "        \"name\":\"WD84596\",\n",
    "        \"regions\":[\"region_001\",\"region_002\",\"region_003\",\"region_004\",\"region_005\"],\n",
    "        \"scale\":8,\n",
    "    },\n",
    "    id_cells_kwargs={\n",
    "        \"celldict\":celltype_dict,\n",
    "        \"thresh\":0.5,\n",
    "    },\n",
    "    plot_out=True,\n",
    ")"
   ]
  },
  {
   "cell_type": "code",
   "execution_count": null,
   "metadata": {},
   "outputs": [],
   "source": [
    "a_sub = sc.read(\"segmentation/WD84596_immunecells.h5ad\")"
   ]
  },
  {
   "cell_type": "code",
   "execution_count": null,
   "metadata": {},
   "outputs": [],
   "source": [
    "a_sub = a_sub[a_sub.obs.epi==0,:].copy(); a_sub"
   ]
  },
  {
   "cell_type": "code",
   "execution_count": null,
   "metadata": {},
   "outputs": [],
   "source": [
    "sc.pl.spatial(\n",
    "    a_sub,\n",
    "    basis=\"spatial_ws\",\n",
    "    color=[\"Cell Type\"],\n",
    "    ncols=4,\n",
    "    img=None,\n",
    "    spot_size=50,\n",
    "    scale_factor=1,\n",
    "    frameon=False,\n",
    "    cmap=\"viridis\",\n",
    "    save=\"_celltypeIDs_immune_mxif_epi0.png\"\n",
    ")"
   ]
  },
  {
   "cell_type": "markdown",
   "metadata": {},
   "source": [
    "---"
   ]
  },
  {
   "cell_type": "code",
   "execution_count": null,
   "metadata": {},
   "outputs": [],
   "source": [
    "sample_key.loc[sample_key.patient_name==\"PAT59667\", [\"sample_key\",\"ws_he\",\"ws_flip\"]]"
   ]
  },
  {
   "cell_type": "markdown",
   "metadata": {},
   "source": [
    "---\n",
    "# 8270-8"
   ]
  },
  {
   "cell_type": "code",
   "execution_count": null,
   "metadata": {},
   "outputs": [],
   "source": [
    "v = sc.read(\"../../visium/datasets/8270_8_WD84596_master.h5ad\")\n",
    "affine = np.genfromtxt(\"/mnt/500gb_ssd/home/cody/images/MxIF/WD84596/WD84596_downsample8_8270_8_affine2.csv\", delimiter=\",\")\n",
    "shape = np.genfromtxt(\"/mnt/500gb_ssd/home/cody/images/MxIF/WD84596/WD84596_downsample8_8270_8_shape2.csv\", delimiter=\",\")\n",
    "a_img = img.from_npz(\"/mnt/500gb_ssd/home/cody/images/MxIF/WD84596/WD84596_downsample8.npz\")"
   ]
  },
  {
   "cell_type": "code",
   "execution_count": null,
   "metadata": {},
   "outputs": [],
   "source": [
    "immune_cells_8270_8_WD84596 = quantify_cells_per_clone(\n",
    "    visium_adata=v,\n",
    "    seg_adata=a_sub,\n",
    "    affine=affine,\n",
    "    shape=shape,\n",
    "    img_obj=a_img,\n",
    "    visium_pita_save=\"segmentation/cnvclone_WD84596_8270_8.png\",\n",
    "    seg_pita_save=\"segmentation/immune_cellseg_WD84596_8270_8.png\",\n",
    "    flip=True,\n",
    ")"
   ]
  },
  {
   "cell_type": "code",
   "execution_count": null,
   "metadata": {},
   "outputs": [],
   "source": [
    "immune_cells_8270_8_WD84596"
   ]
  },
  {
   "cell_type": "markdown",
   "metadata": {},
   "source": [
    "---"
   ]
  },
  {
   "cell_type": "code",
   "execution_count": null,
   "metadata": {},
   "outputs": [],
   "source": [
    "WD84596_immune_counts_df = pd.DataFrame(immune_cells_8270_8_WD84596).fillna(0)"
   ]
  },
  {
   "cell_type": "code",
   "execution_count": null,
   "metadata": {},
   "outputs": [],
   "source": [
    "WD84596_immune_counts_df"
   ]
  },
  {
   "cell_type": "code",
   "execution_count": null,
   "metadata": {},
   "outputs": [],
   "source": [
    "WD84596_immune_counts_df.to_csv(\"segmentation/WD84596_immunecell_cnvclone_quant.csv\")"
   ]
  },
  {
   "cell_type": "code",
   "execution_count": null,
   "metadata": {},
   "outputs": [],
   "source": [
    "WD84596_immune_counts_df.plot.barh()"
   ]
  },
  {
   "cell_type": "markdown",
   "metadata": {},
   "source": [
    "---\n",
    "# PAT30884"
   ]
  },
  {
   "cell_type": "code",
   "execution_count": null,
   "metadata": {},
   "outputs": [],
   "source": [
    "process_segmentation(\n",
    "    input_csv=\"quantification/WD84602_threshold_quantificaion.csv\",\n",
    "    output_h5ad=\"segmentation/WD84602_immunecells.h5ad\",\n",
    "    tile_kwargs = {\n",
    "        \"canvas\":\"region_canvas_26Sep22.csv\",\n",
    "        \"name\":\"WD84602\",\n",
    "        \"regions\":[\"region_001\",\"region_002\",\"region_003\",\"region_004\",\"region_005\",\"region_006\"],\n",
    "        \"scale\":8,\n",
    "    },\n",
    "    id_cells_kwargs={\n",
    "        \"celldict\":celltype_dict,\n",
    "        \"thresh\":0.5,\n",
    "    },\n",
    "    plot_out=True,\n",
    ")"
   ]
  },
  {
   "cell_type": "code",
   "execution_count": null,
   "metadata": {},
   "outputs": [],
   "source": [
    "a_sub = sc.read(\"segmentation/WD84602_immunecells.h5ad\")"
   ]
  },
  {
   "cell_type": "code",
   "execution_count": null,
   "metadata": {},
   "outputs": [],
   "source": [
    "a_sub = a_sub[a_sub.obs.epi==0,:].copy(); a_sub"
   ]
  },
  {
   "cell_type": "code",
   "execution_count": null,
   "metadata": {},
   "outputs": [],
   "source": [
    "sc.pl.spatial(\n",
    "    a_sub,\n",
    "    basis=\"spatial_ws\",\n",
    "    color=[\"Cell Type\"],\n",
    "    ncols=4,\n",
    "    img=None,\n",
    "    spot_size=50,\n",
    "    scale_factor=1,\n",
    "    frameon=False,\n",
    "    cmap=\"viridis\",\n",
    "    save=\"_celltypeIDs_immune_mxif_epi0.png\"\n",
    ")"
   ]
  },
  {
   "cell_type": "markdown",
   "metadata": {},
   "source": [
    "---"
   ]
  },
  {
   "cell_type": "code",
   "execution_count": null,
   "metadata": {},
   "outputs": [],
   "source": [
    "sample_key.loc[sample_key.patient_name==\"PAT30884\", [\"sample_key\",\"ws_he\",\"ws_flip\"]]"
   ]
  },
  {
   "cell_type": "markdown",
   "metadata": {},
   "source": [
    "---\n",
    "# 8270-6"
   ]
  },
  {
   "cell_type": "code",
   "execution_count": null,
   "metadata": {},
   "outputs": [],
   "source": [
    "v = sc.read(\"../../visium/datasets/8270_6_WD84602_master.h5ad\")\n",
    "affine = np.genfromtxt(\"/mnt/500gb_ssd/home/cody/images/MxIF/WD84602/WD84602_downsample8_8270_6_affine2.csv\", delimiter=\",\")\n",
    "shape = np.genfromtxt(\"/mnt/500gb_ssd/home/cody/images/MxIF/WD84602/WD84602_downsample8_8270_6_shape2.csv\", delimiter=\",\")\n",
    "a_img = img.from_npz(\"/mnt/500gb_ssd/home/cody/images/MxIF/WD84602/WD84602_downsample8.npz\")"
   ]
  },
  {
   "cell_type": "code",
   "execution_count": null,
   "metadata": {},
   "outputs": [],
   "source": [
    "immune_cells_8270_6_WD84602 = quantify_cells_per_clone(\n",
    "    visium_adata=v,\n",
    "    seg_adata=a_sub,\n",
    "    affine=affine,\n",
    "    shape=shape,\n",
    "    img_obj=a_img,\n",
    "    visium_pita_save=\"segmentation/cnvclone_WD84602_8270_6.png\",\n",
    "    seg_pita_save=\"segmentation/immune_cellseg_WD84602_8270_6.png\",\n",
    "    flip=False,\n",
    ")"
   ]
  },
  {
   "cell_type": "code",
   "execution_count": null,
   "metadata": {},
   "outputs": [],
   "source": [
    "immune_cells_8270_6_WD84602"
   ]
  },
  {
   "cell_type": "markdown",
   "metadata": {},
   "source": [
    "---\n",
    "# 8270-7"
   ]
  },
  {
   "cell_type": "code",
   "execution_count": null,
   "metadata": {},
   "outputs": [],
   "source": [
    "v = sc.read(\"../../visium/datasets/8270_7_WD84602_master.h5ad\")\n",
    "affine = np.genfromtxt(\"/mnt/500gb_ssd/home/cody/images/MxIF/WD84602/WD84602_downsample8_8270_7_affine2.csv\", delimiter=\",\")\n",
    "shape = np.genfromtxt(\"/mnt/500gb_ssd/home/cody/images/MxIF/WD84602/WD84602_downsample8_8270_7_shape2.csv\", delimiter=\",\")"
   ]
  },
  {
   "cell_type": "code",
   "execution_count": null,
   "metadata": {},
   "outputs": [],
   "source": [
    "immune_cells_8270_7_WD84602 = quantify_cells_per_clone(\n",
    "    visium_adata=v,\n",
    "    seg_adata=a_sub,\n",
    "    affine=affine,\n",
    "    shape=shape,\n",
    "    img_obj=a_img,\n",
    "    visium_pita_save=\"segmentation/cnvclone_WD84602_8270_7.png\",\n",
    "    seg_pita_save=\"segmentation/immune_cellseg_WD84602_8270_7.png\",\n",
    "    flip=False,\n",
    ")"
   ]
  },
  {
   "cell_type": "code",
   "execution_count": null,
   "metadata": {},
   "outputs": [],
   "source": [
    "immune_cells_8270_7_WD84602"
   ]
  },
  {
   "cell_type": "markdown",
   "metadata": {},
   "source": [
    "---"
   ]
  },
  {
   "cell_type": "code",
   "execution_count": null,
   "metadata": {},
   "outputs": [],
   "source": [
    "WD84602_immune_counts_df = pd.DataFrame(immune_cells_8270_7_WD84602).fillna(0) + pd.DataFrame(immune_cells_8270_7_WD84602).fillna(0)"
   ]
  },
  {
   "cell_type": "code",
   "execution_count": null,
   "metadata": {},
   "outputs": [],
   "source": [
    "WD84602_immune_counts_df"
   ]
  },
  {
   "cell_type": "code",
   "execution_count": null,
   "metadata": {},
   "outputs": [],
   "source": [
    "WD84602_immune_counts_df.to_csv(\"segmentation/WD84602_immunecell_cnvclone_quant.csv\")"
   ]
  },
  {
   "cell_type": "code",
   "execution_count": null,
   "metadata": {},
   "outputs": [],
   "source": [
    "WD84602_immune_counts_df.plot.barh()"
   ]
  },
  {
   "cell_type": "markdown",
   "metadata": {},
   "source": [
    "---\n",
    "# PAT74143"
   ]
  },
  {
   "cell_type": "code",
   "execution_count": null,
   "metadata": {},
   "outputs": [],
   "source": [
    "process_segmentation(\n",
    "    input_csv=\"quantification/WD87478_threshold_quantificaion.csv\",\n",
    "    output_h5ad=\"segmentation/WD87478_immunecells.h5ad\",\n",
    "    tile_kwargs = {\n",
    "        \"canvas\":\"region_canvas_09Aug22.csv\",\n",
    "        \"name\":\"WD87478\",\n",
    "        \"regions\":[\"region_001\",\"region_002\",\"region_003\"],\n",
    "        \"scale\":8,\n",
    "    },\n",
    "    id_cells_kwargs={\n",
    "        \"celldict\":celltype_dict,\n",
    "        \"thresh\":0.5,\n",
    "    },\n",
    "    plot_out=True,\n",
    ")"
   ]
  },
  {
   "cell_type": "code",
   "execution_count": null,
   "metadata": {},
   "outputs": [],
   "source": [
    "a_sub = sc.read(\"segmentation/WD87478_immunecells.h5ad\")"
   ]
  },
  {
   "cell_type": "code",
   "execution_count": null,
   "metadata": {},
   "outputs": [],
   "source": [
    "a_sub = a_sub[a_sub.obs.epi==0,:].copy(); a_sub"
   ]
  },
  {
   "cell_type": "code",
   "execution_count": null,
   "metadata": {},
   "outputs": [],
   "source": [
    "sc.pl.spatial(\n",
    "    a_sub,\n",
    "    basis=\"spatial_ws\",\n",
    "    color=[\"Cell Type\"],\n",
    "    ncols=4,\n",
    "    img=None,\n",
    "    spot_size=50,\n",
    "    scale_factor=1,\n",
    "    frameon=False,\n",
    "    cmap=\"viridis\",\n",
    "    save=\"_celltypeIDs_immune_mxif_epi0.png\"\n",
    ")"
   ]
  },
  {
   "cell_type": "markdown",
   "metadata": {},
   "source": [
    "---"
   ]
  },
  {
   "cell_type": "code",
   "execution_count": null,
   "metadata": {},
   "outputs": [],
   "source": [
    "sample_key.loc[sample_key.patient_name==\"PAT74143\", [\"sample_key\",\"ws_he\",\"ws_flip\"]]"
   ]
  },
  {
   "cell_type": "markdown",
   "metadata": {},
   "source": [
    "---\n",
    "# 7003-1"
   ]
  },
  {
   "cell_type": "code",
   "execution_count": null,
   "metadata": {},
   "outputs": [],
   "source": [
    "v = sc.read(\"../../visium/datasets/7003_1_WD87478_master.h5ad\")\n",
    "affine = np.genfromtxt(\"/mnt/500gb_ssd/home/cody/images/MxIF/WD87478/WD87478_downsample8_7003_1_affine2.csv\", delimiter=\",\")\n",
    "shape = np.genfromtxt(\"/mnt/500gb_ssd/home/cody/images/MxIF/WD87478/WD87478_downsample8_7003_1_shape2.csv\", delimiter=\",\")\n",
    "a_img = img.from_npz(\"/mnt/500gb_ssd/home/cody/images/MxIF/WD87478/WD87478_downsample8.npz\")"
   ]
  },
  {
   "cell_type": "code",
   "execution_count": null,
   "metadata": {},
   "outputs": [],
   "source": [
    "immune_cells_7003_1_WD87478 = quantify_cells_per_clone(\n",
    "    visium_adata=v,\n",
    "    seg_adata=a_sub,\n",
    "    affine=affine,\n",
    "    shape=shape,\n",
    "    img_obj=a_img,\n",
    "    visium_pita_save=\"segmentation/cnvclone_WD87478_7003_1.png\",\n",
    "    seg_pita_save=\"segmentation/immune_cellseg_WD87478_7003_1.png\",\n",
    "    flip=True,\n",
    ")"
   ]
  },
  {
   "cell_type": "code",
   "execution_count": null,
   "metadata": {},
   "outputs": [],
   "source": [
    "immune_cells_7003_1_WD87478"
   ]
  },
  {
   "cell_type": "markdown",
   "metadata": {},
   "source": [
    "---\n",
    "# 7003-2"
   ]
  },
  {
   "cell_type": "code",
   "execution_count": null,
   "metadata": {},
   "outputs": [],
   "source": [
    "v = sc.read(\"../../visium/datasets/7003_2_WD87478_master.h5ad\")\n",
    "affine = np.genfromtxt(\"/mnt/500gb_ssd/home/cody/images/MxIF/WD87478/WD87478_downsample8_7003_2_affine2.csv\", delimiter=\",\")\n",
    "shape = np.genfromtxt(\"/mnt/500gb_ssd/home/cody/images/MxIF/WD87478/WD87478_downsample8_7003_2_shape2.csv\", delimiter=\",\")"
   ]
  },
  {
   "cell_type": "code",
   "execution_count": null,
   "metadata": {},
   "outputs": [],
   "source": [
    "immune_cells_7003_2_WD87478 = quantify_cells_per_clone(\n",
    "    visium_adata=v,\n",
    "    seg_adata=a_sub,\n",
    "    affine=affine,\n",
    "    shape=shape,\n",
    "    img_obj=a_img,\n",
    "    visium_pita_save=\"segmentation/cnvclone_WD87478_7003_2.png\",\n",
    "    seg_pita_save=\"segmentation/immune_cellseg_WD87478_7003_2.png\",\n",
    "    flip=True,\n",
    ")"
   ]
  },
  {
   "cell_type": "code",
   "execution_count": null,
   "metadata": {},
   "outputs": [],
   "source": [
    "immune_cells_7003_2_WD87478"
   ]
  },
  {
   "cell_type": "markdown",
   "metadata": {},
   "source": [
    "---"
   ]
  },
  {
   "cell_type": "code",
   "execution_count": null,
   "metadata": {},
   "outputs": [],
   "source": [
    "WD87478_immune_counts_df = pd.DataFrame(immune_cells_7003_1_WD87478).fillna(0) + pd.DataFrame(immune_cells_7003_2_WD87478).fillna(0)"
   ]
  },
  {
   "cell_type": "code",
   "execution_count": null,
   "metadata": {},
   "outputs": [],
   "source": [
    "WD87478_immune_counts_df"
   ]
  },
  {
   "cell_type": "code",
   "execution_count": null,
   "metadata": {},
   "outputs": [],
   "source": [
    "WD87478_immune_counts_df.to_csv(\"segmentation/WD87478_immunecell_cnvclone_quant.csv\")"
   ]
  },
  {
   "cell_type": "code",
   "execution_count": null,
   "metadata": {},
   "outputs": [],
   "source": [
    "WD87478_immune_counts_df.plot.barh()"
   ]
  },
  {
   "cell_type": "markdown",
   "metadata": {},
   "source": [
    "---\n",
    "# PAT73458"
   ]
  },
  {
   "cell_type": "code",
   "execution_count": null,
   "metadata": {},
   "outputs": [],
   "source": [
    "process_segmentation(\n",
    "    input_csv=\"quantification/WD85806_threshold_quantificaion.csv\",\n",
    "    output_h5ad=\"segmentation/WD85806_immunecells.h5ad\",\n",
    "    tile_kwargs = {\n",
    "        \"canvas\":\"region_canvas_26Sep22.csv\",\n",
    "        \"name\":\"WD85806\",\n",
    "        \"regions\":[\"region_001\",\"region_002\",\"region_003\",\"region_004\"],\n",
    "        \"scale\":8,\n",
    "    },\n",
    "    id_cells_kwargs={\n",
    "        \"celldict\":celltype_dict,\n",
    "        \"thresh\":0.5,\n",
    "    },\n",
    "    plot_out=True,\n",
    ")"
   ]
  },
  {
   "cell_type": "code",
   "execution_count": null,
   "metadata": {},
   "outputs": [],
   "source": [
    "a_sub = sc.read(\"segmentation/WD85806_immunecells.h5ad\")"
   ]
  },
  {
   "cell_type": "code",
   "execution_count": null,
   "metadata": {},
   "outputs": [],
   "source": [
    "a_sub = a_sub[a_sub.obs.epi==0,:].copy(); a_sub"
   ]
  },
  {
   "cell_type": "code",
   "execution_count": null,
   "metadata": {},
   "outputs": [],
   "source": [
    "sc.pl.spatial(\n",
    "    a_sub,\n",
    "    basis=\"spatial_ws\",\n",
    "    color=[\"Cell Type\"],\n",
    "    ncols=4,\n",
    "    img=None,\n",
    "    spot_size=50,\n",
    "    scale_factor=1,\n",
    "    frameon=False,\n",
    "    cmap=\"viridis\",\n",
    "    save=\"_celltypeIDs_immune_mxif_epi0.png\"\n",
    ")"
   ]
  },
  {
   "cell_type": "markdown",
   "metadata": {},
   "source": [
    "---"
   ]
  },
  {
   "cell_type": "code",
   "execution_count": null,
   "metadata": {},
   "outputs": [],
   "source": [
    "sample_key.loc[sample_key.patient_name==\"PAT73458\", [\"sample_key\",\"ws_he\",\"ws_flip\"]]"
   ]
  },
  {
   "cell_type": "markdown",
   "metadata": {},
   "source": [
    "---\n",
    "# 7003-3"
   ]
  },
  {
   "cell_type": "code",
   "execution_count": null,
   "metadata": {},
   "outputs": [],
   "source": [
    "v = sc.read(\"../../visium/datasets/7003_3_WD85806_master.h5ad\")\n",
    "affine = np.genfromtxt(\"/mnt/500gb_ssd/home/cody/images/MxIF/WD85806/WD85806_downsample8_7003_3_affine2.csv\", delimiter=\",\")\n",
    "shape = np.genfromtxt(\"/mnt/500gb_ssd/home/cody/images/MxIF/WD85806/WD85806_downsample8_7003_3_shape2.csv\", delimiter=\",\")\n",
    "a_img = img.from_npz(\"/mnt/500gb_ssd/home/cody/images/MxIF/WD85806/WD85806_downsample8.npz\")"
   ]
  },
  {
   "cell_type": "code",
   "execution_count": null,
   "metadata": {},
   "outputs": [],
   "source": [
    "immune_cells_7003_3_WD85806 = quantify_cells_per_clone(\n",
    "    visium_adata=v,\n",
    "    seg_adata=a_sub,\n",
    "    affine=affine,\n",
    "    shape=shape,\n",
    "    img_obj=a_img,\n",
    "    visium_pita_save=\"segmentation/cnvclone_WD85806_7003_3.png\",\n",
    "    seg_pita_save=\"segmentation/immune_cellseg_WD85806_7003_3.png\",\n",
    "    flip=True,\n",
    ")"
   ]
  },
  {
   "cell_type": "code",
   "execution_count": null,
   "metadata": {},
   "outputs": [],
   "source": [
    "immune_cells_7003_3_WD85806"
   ]
  },
  {
   "cell_type": "markdown",
   "metadata": {},
   "source": [
    "---\n",
    "# 7003-4"
   ]
  },
  {
   "cell_type": "code",
   "execution_count": null,
   "metadata": {},
   "outputs": [],
   "source": [
    "v = sc.read(\"../../visium/datasets/7003_4_WD85806_master.h5ad\")\n",
    "affine = np.genfromtxt(\"/mnt/500gb_ssd/home/cody/images/MxIF/WD85806/WD85806_downsample8_7003_4_affine2.csv\", delimiter=\",\")\n",
    "shape = np.genfromtxt(\"/mnt/500gb_ssd/home/cody/images/MxIF/WD85806/WD85806_downsample8_7003_4_shape2.csv\", delimiter=\",\")"
   ]
  },
  {
   "cell_type": "code",
   "execution_count": null,
   "metadata": {},
   "outputs": [],
   "source": [
    "immune_cells_7003_4_WD85806 = quantify_cells_per_clone(\n",
    "    visium_adata=v,\n",
    "    seg_adata=a_sub,\n",
    "    affine=affine,\n",
    "    shape=shape,\n",
    "    img_obj=a_img,\n",
    "    visium_pita_save=\"segmentation/cnvclone_WD85806_7003_4.png\",\n",
    "    seg_pita_save=\"segmentation/immune_cellseg_WD85806_7003_4.png\",\n",
    "    flip=False,\n",
    ")"
   ]
  },
  {
   "cell_type": "code",
   "execution_count": null,
   "metadata": {},
   "outputs": [],
   "source": [
    "immune_cells_7003_4_WD85806"
   ]
  },
  {
   "cell_type": "markdown",
   "metadata": {},
   "source": [
    "---"
   ]
  },
  {
   "cell_type": "code",
   "execution_count": null,
   "metadata": {},
   "outputs": [],
   "source": [
    "WD85806_immune_counts_df = pd.DataFrame(immune_cells_7003_3_WD85806).fillna(0) + pd.DataFrame(immune_cells_7003_4_WD85806).fillna(0)"
   ]
  },
  {
   "cell_type": "code",
   "execution_count": null,
   "metadata": {},
   "outputs": [],
   "source": [
    "WD85806_immune_counts_df"
   ]
  },
  {
   "cell_type": "code",
   "execution_count": null,
   "metadata": {},
   "outputs": [],
   "source": [
    "WD85806_immune_counts_df.to_csv(\"segmentation/WD85806_immunecell_cnvclone_quant.csv\")"
   ]
  },
  {
   "cell_type": "code",
   "execution_count": null,
   "metadata": {},
   "outputs": [],
   "source": [
    "WD85806_immune_counts_df.plot.barh()"
   ]
  },
  {
   "cell_type": "markdown",
   "metadata": {},
   "source": [
    "---\n",
    "# PAT71662"
   ]
  },
  {
   "cell_type": "code",
   "execution_count": null,
   "metadata": {},
   "outputs": [],
   "source": [
    "process_segmentation(\n",
    "    input_csv=\"quantification/WD87480_threshold_quantificaion.csv\",\n",
    "    output_h5ad=\"segmentation/WD87480_immunecells.h5ad\",\n",
    "    tile_kwargs = {\n",
    "        \"canvas\":\"region_canvas_26Sep22.csv\",\n",
    "        \"name\":\"WD87480\",\n",
    "        \"regions\":[\"region_001\",\"region_002\",\"region_003\",\"region_004\"],\n",
    "        \"scale\":8,\n",
    "    },\n",
    "    id_cells_kwargs={\n",
    "        \"celldict\":celltype_dict,\n",
    "        \"thresh\":0.5,\n",
    "    },\n",
    "    plot_out=True,\n",
    ")"
   ]
  },
  {
   "cell_type": "code",
   "execution_count": null,
   "metadata": {},
   "outputs": [],
   "source": [
    "a_sub = sc.read(\"segmentation/WD87480_immunecells.h5ad\")"
   ]
  },
  {
   "cell_type": "code",
   "execution_count": null,
   "metadata": {},
   "outputs": [],
   "source": [
    "a_sub = a_sub[a_sub.obs.epi==0,:].copy(); a_sub"
   ]
  },
  {
   "cell_type": "code",
   "execution_count": null,
   "metadata": {},
   "outputs": [],
   "source": [
    "sc.pl.spatial(\n",
    "    a_sub,\n",
    "    basis=\"spatial_ws\",\n",
    "    color=[\"Cell Type\"],\n",
    "    ncols=4,\n",
    "    img=None,\n",
    "    spot_size=50,\n",
    "    scale_factor=1,\n",
    "    frameon=False,\n",
    "    cmap=\"viridis\",\n",
    "    save=\"_celltypeIDs_immune_mxif_epi0.png\"\n",
    ")"
   ]
  },
  {
   "cell_type": "markdown",
   "metadata": {},
   "source": [
    "---"
   ]
  },
  {
   "cell_type": "code",
   "execution_count": null,
   "metadata": {},
   "outputs": [],
   "source": [
    "sample_key.loc[sample_key.patient_name==\"PAT71662\", [\"sample_key\",\"ws_he\",\"ws_flip\"]]"
   ]
  },
  {
   "cell_type": "markdown",
   "metadata": {},
   "source": [
    "---\n",
    "# 7003-5"
   ]
  },
  {
   "cell_type": "code",
   "execution_count": null,
   "metadata": {},
   "outputs": [],
   "source": [
    "v = sc.read(\"../../visium/datasets/7003_5_WD87480_master.h5ad\")\n",
    "affine = np.genfromtxt(\"/mnt/500gb_ssd/home/cody/images/MxIF/WD87480/WD87480_downsample8_7003_5_affine2.csv\", delimiter=\",\")\n",
    "shape = np.genfromtxt(\"/mnt/500gb_ssd/home/cody/images/MxIF/WD87480/WD87480_downsample8_7003_5_shape2.csv\", delimiter=\",\")\n",
    "a_img = img.from_npz(\"/mnt/500gb_ssd/home/cody/images/MxIF/WD87480/WD87480_downsample8.npz\")"
   ]
  },
  {
   "cell_type": "code",
   "execution_count": null,
   "metadata": {},
   "outputs": [],
   "source": [
    "immune_cells_7003_5_WD87480 = quantify_cells_per_clone(\n",
    "    visium_adata=v,\n",
    "    seg_adata=a_sub,\n",
    "    affine=affine,\n",
    "    shape=shape,\n",
    "    img_obj=a_img,\n",
    "    visium_pita_save=\"segmentation/cnvclone_WD87480_7003_5.png\",\n",
    "    seg_pita_save=\"segmentation/immune_cellseg_WD87480_7003_5.png\",\n",
    "    flip=True,\n",
    ")"
   ]
  },
  {
   "cell_type": "code",
   "execution_count": null,
   "metadata": {},
   "outputs": [],
   "source": [
    "immune_cells_7003_5_WD87480"
   ]
  },
  {
   "cell_type": "markdown",
   "metadata": {},
   "source": [
    "---\n",
    "# 7003-6"
   ]
  },
  {
   "cell_type": "code",
   "execution_count": null,
   "metadata": {},
   "outputs": [],
   "source": [
    "v = sc.read(\"../../visium/datasets/7003_6_WD87480_master.h5ad\")\n",
    "affine = np.genfromtxt(\"/mnt/500gb_ssd/home/cody/images/MxIF/WD87480/WD87480_downsample8_7003_6_affine2.csv\", delimiter=\",\")\n",
    "shape = np.genfromtxt(\"/mnt/500gb_ssd/home/cody/images/MxIF/WD87480/WD87480_downsample8_7003_6_shape2.csv\", delimiter=\",\")"
   ]
  },
  {
   "cell_type": "code",
   "execution_count": null,
   "metadata": {},
   "outputs": [],
   "source": [
    "immune_cells_7003_6_WD87480 = quantify_cells_per_clone(\n",
    "    visium_adata=v,\n",
    "    seg_adata=a_sub,\n",
    "    affine=affine,\n",
    "    shape=shape,\n",
    "    img_obj=a_img,\n",
    "    visium_pita_save=\"segmentation/cnvclone_WD87480_7003_6.png\",\n",
    "    seg_pita_save=\"segmentation/immune_cellseg_WD87480_7003_6.png\",\n",
    "    flip=False,\n",
    ")"
   ]
  },
  {
   "cell_type": "code",
   "execution_count": null,
   "metadata": {},
   "outputs": [],
   "source": [
    "immune_cells_7003_6_WD87480"
   ]
  },
  {
   "cell_type": "markdown",
   "metadata": {},
   "source": [
    "---"
   ]
  },
  {
   "cell_type": "code",
   "execution_count": null,
   "metadata": {},
   "outputs": [],
   "source": [
    "WD87480_immune_counts_df = pd.DataFrame(immune_cells_7003_5_WD87480).fillna(0) + pd.DataFrame(immune_cells_7003_6_WD87480).fillna(0)"
   ]
  },
  {
   "cell_type": "code",
   "execution_count": null,
   "metadata": {},
   "outputs": [],
   "source": [
    "WD87480_immune_counts_df"
   ]
  },
  {
   "cell_type": "code",
   "execution_count": null,
   "metadata": {},
   "outputs": [],
   "source": [
    "WD87480_immune_counts_df.to_csv(\"segmentation/WD87480_immunecell_cnvclone_quant.csv\")"
   ]
  },
  {
   "cell_type": "code",
   "execution_count": null,
   "metadata": {},
   "outputs": [],
   "source": [
    "WD87480_immune_counts_df.plot.barh()"
   ]
  },
  {
   "cell_type": "markdown",
   "metadata": {},
   "source": [
    "---"
   ]
  },
  {
   "cell_type": "code",
   "execution_count": null,
   "metadata": {},
   "outputs": [],
   "source": [
    "WD87480_immune_counts_df = pd.read_csv(\"segmentation/WD87480_immunecell_cnvclone_quant.csv\", index_col=0)"
   ]
  },
  {
   "cell_type": "code",
   "execution_count": null,
   "metadata": {},
   "outputs": [],
   "source": [
    "WD87480_immune_counts_df.index = [\"PAT71662 \" + x for x in WD87480_immune_counts_df.index]"
   ]
  },
  {
   "cell_type": "code",
   "execution_count": null,
   "metadata": {},
   "outputs": [],
   "source": [
    "WD85806_immune_counts_df = pd.read_csv(\"segmentation/WD85806_immunecell_cnvclone_quant.csv\", index_col=0)"
   ]
  },
  {
   "cell_type": "code",
   "execution_count": null,
   "metadata": {},
   "outputs": [],
   "source": [
    "WD85806_immune_counts_df.index = [\"PAT73458 \" + x for x in WD85806_immune_counts_df.index]"
   ]
  },
  {
   "cell_type": "code",
   "execution_count": null,
   "metadata": {},
   "outputs": [],
   "source": [
    "WD85806_WD87480 = pd.concat([WD85806_immune_counts_df, WD87480_immune_counts_df])"
   ]
  },
  {
   "cell_type": "code",
   "execution_count": null,
   "metadata": {},
   "outputs": [],
   "source": [
    "WD85806_WD87480.plot.barh(figsize=(6,15))\n",
    "plt.tight_layout()\n",
    "plt.savefig(\"segmentation/PAT71662_PAT73458_immunecell_cnvclone_quant.png\")"
   ]
  },
  {
   "cell_type": "markdown",
   "metadata": {},
   "source": [
    "---\n",
    "# PAT73899"
   ]
  },
  {
   "cell_type": "code",
   "execution_count": null,
   "metadata": {},
   "outputs": [],
   "source": [
    "process_segmentation(\n",
    "    input_csv=\"quantification/WD87482_threshold_quantificaion.csv\",\n",
    "    output_h5ad=\"segmentation/WD87482_immunecells.h5ad\",\n",
    "    tile_kwargs = {\n",
    "        \"canvas\":\"region_canvas_26Sep22.csv\",\n",
    "        \"name\":\"WD87482\",\n",
    "        \"regions\":[\"region_001\",\"region_002\",\"region_003\",\"region_004\"],\n",
    "        \"scale\":8,\n",
    "    },\n",
    "    id_cells_kwargs={\n",
    "        \"celldict\":celltype_dict,\n",
    "        \"thresh\":0.5,\n",
    "    },\n",
    "    plot_out=True,\n",
    ")"
   ]
  },
  {
   "cell_type": "code",
   "execution_count": null,
   "metadata": {},
   "outputs": [],
   "source": [
    "a_sub = sc.read(\"segmentation/WD87482_immunecells.h5ad\")"
   ]
  },
  {
   "cell_type": "code",
   "execution_count": null,
   "metadata": {},
   "outputs": [],
   "source": [
    "a_sub = a_sub[a_sub.obs.epi==0,:].copy(); a_sub"
   ]
  },
  {
   "cell_type": "code",
   "execution_count": null,
   "metadata": {},
   "outputs": [],
   "source": [
    "sc.pl.spatial(\n",
    "    a_sub,\n",
    "    basis=\"spatial_ws\",\n",
    "    color=[\"Cell Type\"],\n",
    "    ncols=4,\n",
    "    img=None,\n",
    "    spot_size=50,\n",
    "    scale_factor=1,\n",
    "    frameon=False,\n",
    "    cmap=\"viridis\",\n",
    "    save=\"_celltypeIDs_immune_mxif_epi0.png\"\n",
    ")"
   ]
  },
  {
   "cell_type": "markdown",
   "metadata": {},
   "source": [
    "---"
   ]
  },
  {
   "cell_type": "code",
   "execution_count": null,
   "metadata": {},
   "outputs": [],
   "source": [
    "sample_key.loc[sample_key.patient_name==\"PAT73899\", [\"sample_key\",\"ws_he\",\"ws_flip\"]]"
   ]
  },
  {
   "cell_type": "markdown",
   "metadata": {},
   "source": [
    "---\n",
    "# 7003-7"
   ]
  },
  {
   "cell_type": "code",
   "execution_count": null,
   "metadata": {},
   "outputs": [],
   "source": [
    "v = sc.read(\"../../visium/datasets/7003_7_WD87482_master.h5ad\")\n",
    "affine = np.genfromtxt(\"/mnt/500gb_ssd/home/cody/images/MxIF/WD87482/WD87482_downsample8_7003_7_affine2.csv\", delimiter=\",\")\n",
    "shape = np.genfromtxt(\"/mnt/500gb_ssd/home/cody/images/MxIF/WD87482/WD87482_downsample8_7003_7_shape2.csv\", delimiter=\",\")\n",
    "a_img = img.from_npz(\"/mnt/500gb_ssd/home/cody/images/MxIF/WD87482/WD87482_downsample8.npz\")"
   ]
  },
  {
   "cell_type": "code",
   "execution_count": null,
   "metadata": {},
   "outputs": [],
   "source": [
    "immune_cells_7003_7_WD87482 = quantify_cells_per_clone(\n",
    "    visium_adata=v,\n",
    "    seg_adata=a_sub,\n",
    "    affine=affine,\n",
    "    shape=shape,\n",
    "    img_obj=a_img,\n",
    "    visium_pita_save=\"segmentation/cnvclone_WD87482_7003_7.png\",\n",
    "    seg_pita_save=\"segmentation/immune_cellseg_WD87482_7003_7.png\",\n",
    "    flip=True,\n",
    ")"
   ]
  },
  {
   "cell_type": "code",
   "execution_count": null,
   "metadata": {},
   "outputs": [],
   "source": [
    "immune_cells_7003_7_WD87482"
   ]
  },
  {
   "cell_type": "markdown",
   "metadata": {},
   "source": [
    "---\n",
    "# 7003-8"
   ]
  },
  {
   "cell_type": "code",
   "execution_count": null,
   "metadata": {},
   "outputs": [],
   "source": [
    "v = sc.read(\"../../visium/datasets/7003_8_WD87482_master.h5ad\")\n",
    "affine = np.genfromtxt(\"/mnt/500gb_ssd/home/cody/images/MxIF/WD87482/WD87482_downsample8_7003_8_affine2.csv\", delimiter=\",\")\n",
    "shape = np.genfromtxt(\"/mnt/500gb_ssd/home/cody/images/MxIF/WD87482/WD87482_downsample8_7003_8_shape2.csv\", delimiter=\",\")"
   ]
  },
  {
   "cell_type": "code",
   "execution_count": null,
   "metadata": {},
   "outputs": [],
   "source": [
    "immune_cells_7003_8_WD87482 = quantify_cells_per_clone(\n",
    "    visium_adata=v,\n",
    "    seg_adata=a_sub,\n",
    "    affine=affine,\n",
    "    shape=shape,\n",
    "    img_obj=a_img,\n",
    "    visium_pita_save=\"segmentation/cnvclone_WD87482_7003_8.png\",\n",
    "    seg_pita_save=\"segmentation/immune_cellseg_WD87482_7003_8.png\",\n",
    "    flip=True,\n",
    ")"
   ]
  },
  {
   "cell_type": "code",
   "execution_count": null,
   "metadata": {},
   "outputs": [],
   "source": [
    "immune_cells_7003_8_WD87482"
   ]
  },
  {
   "cell_type": "markdown",
   "metadata": {},
   "source": [
    "---"
   ]
  },
  {
   "cell_type": "code",
   "execution_count": null,
   "metadata": {},
   "outputs": [],
   "source": [
    "WD87482_immune_counts_df = pd.DataFrame(immune_cells_7003_7_WD87482).fillna(0) + pd.DataFrame(immune_cells_7003_8_WD87482).fillna(0)"
   ]
  },
  {
   "cell_type": "code",
   "execution_count": null,
   "metadata": {},
   "outputs": [],
   "source": [
    "WD87482_immune_counts_df"
   ]
  },
  {
   "cell_type": "code",
   "execution_count": null,
   "metadata": {},
   "outputs": [],
   "source": [
    "WD87482_immune_counts_df.to_csv(\"segmentation/WD87482_immunecell_cnvclone_quant.csv\")"
   ]
  },
  {
   "cell_type": "code",
   "execution_count": null,
   "metadata": {},
   "outputs": [],
   "source": [
    "WD87482_immune_counts_df.plot.barh()"
   ]
  },
  {
   "cell_type": "markdown",
   "metadata": {},
   "source": [
    "---\n",
    "# `squidpy`"
   ]
  },
  {
   "cell_type": "code",
   "execution_count": null,
   "metadata": {},
   "outputs": [],
   "source": [
    "a_comb = a_ws.concatenate(a_sub, join=\"outer\", fill_value=0); a_comb"
   ]
  },
  {
   "cell_type": "code",
   "execution_count": null,
   "metadata": {},
   "outputs": [],
   "source": [
    "a_comb.obs[\"Cell Type\"] = a_comb.obs[\"Cell Type\"].cat.add_categories(a_comb.obs[\"CNV Clone\"].cat.categories).fillna(a_comb.obs[\"CNV Clone\"].astype(str))"
   ]
  },
  {
   "cell_type": "code",
   "execution_count": null,
   "metadata": {},
   "outputs": [],
   "source": [
    "a_comb.obs[\"Cell Type\"].value_counts()"
   ]
  },
  {
   "cell_type": "code",
   "execution_count": null,
   "metadata": {},
   "outputs": [],
   "source": [
    "sc.pl.spatial(\n",
    "    a_comb,\n",
    "    basis=\"spatial_ws\",\n",
    "    color=[\"Cell Type\", \"CNV Clone\"],\n",
    "    ncols=4,\n",
    "    img=None,\n",
    "    spot_size=50,\n",
    "    scale_factor=1,\n",
    "    #crop_coord=[0,bg_img.shape[1],0,bg_img.shape[0]],\n",
    "    frameon=False,\n",
    "    cmap=\"viridis\",\n",
    ")"
   ]
  },
  {
   "cell_type": "code",
   "execution_count": null,
   "metadata": {},
   "outputs": [],
   "source": [
    "import squidpy as sq"
   ]
  },
  {
   "cell_type": "code",
   "execution_count": null,
   "metadata": {},
   "outputs": [],
   "source": [
    "sq.gr.spatial_neighbors(a_comb, spatial_key=\"spatial_ws\", coord_type=\"generic\", n_neighs=int(np.sqrt(a_comb.n_obs)))"
   ]
  },
  {
   "cell_type": "code",
   "execution_count": null,
   "metadata": {},
   "outputs": [],
   "source": [
    "#sq.gr.nhood_enrichment(a_comb, cluster_key=\"Cell Type\")\n",
    "sq.pl.nhood_enrichment(a_comb, cluster_key=\"Cell Type\", method=\"single\")"
   ]
  },
  {
   "cell_type": "code",
   "execution_count": null,
   "metadata": {},
   "outputs": [],
   "source": [
    "#sq.gr.interaction_matrix(a_comb, cluster_key=\"Cell Type\")\n",
    "sq.pl.interaction_matrix(a_comb, cluster_key=\"Cell Type\", method=\"single\")"
   ]
  }
 ],
 "metadata": {
  "kernelspec": {
   "display_name": "scanpy",
   "language": "python",
   "name": "scanpy"
  },
  "language_info": {
   "codemirror_mode": {
    "name": "ipython",
    "version": 3
   },
   "file_extension": ".py",
   "mimetype": "text/x-python",
   "name": "python",
   "nbconvert_exporter": "python",
   "pygments_lexer": "ipython3",
   "version": "3.8.10"
  }
 },
 "nbformat": 4,
 "nbformat_minor": 5
}
