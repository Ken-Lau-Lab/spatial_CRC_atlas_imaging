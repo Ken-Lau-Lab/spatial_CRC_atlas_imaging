{
 "cells": [
  {
   "cell_type": "code",
   "execution_count": null,
   "metadata": {},
   "outputs": [],
   "source": [
    "import os\n",
    "import kitchen.ingredients as k\n",
    "import dropkick as dk\n",
    "import sys; sys.path.append(\"../resources/\")\n",
    "from mxif_immexcl_analysis import *\n",
    "\n",
    "# some stuff to make this notebook work better with Scanpy\n",
    "import warnings\n",
    "warnings.simplefilter(action='ignore', category=FutureWarning)"
   ]
  },
  {
   "cell_type": "code",
   "execution_count": null,
   "metadata": {},
   "outputs": [],
   "source": [
    "# make output directories\n",
    "import os\n",
    "if not os.path.exists(\"MxIF_out\"):\n",
    "    os.mkdir(\"MxIF_out\")\n",
    "\n",
    "if not os.path.exists(\"MxIF_out/immexcl/\"):\n",
    "    os.mkdir(\"MxIF_out/immexcl/\")"
   ]
  },
  {
   "cell_type": "code",
   "execution_count": null,
   "metadata": {},
   "outputs": [],
   "source": [
    "sc.set_figure_params(transparent=True, dpi_save=400)\n",
    "sc.settings.figdir = \"MxIF_out/immexcl/\""
   ]
  },
  {
   "cell_type": "code",
   "execution_count": null,
   "metadata": {},
   "outputs": [],
   "source": [
    "sns.set_style(\"white\")"
   ]
  },
  {
   "cell_type": "code",
   "execution_count": null,
   "metadata": {},
   "outputs": [],
   "source": [
    "sample_key = pd.read_csv(\"../resources/visium_sample_key.csv\", index_col=0)\n",
    "\n",
    "sample_key.ws_adata = sample_key.ws_adata.fillna(\"\")"
   ]
  },
  {
   "cell_type": "code",
   "execution_count": null,
   "metadata": {},
   "outputs": [],
   "source": [
    "celltype_dict = {\n",
    "    'T helper': [\"CD3D\",\"CD4\"],\n",
    "    'T reg': [\"CD3D\",\"CD4\",\"FOXP3\"],\n",
    "    'T cytotoxic': [\"CD3D\",\"CD8\"],\n",
    "    'Myeloid': [\"CD11B\"],\n",
    "    'Macrophage': [\"CD11B\",\"CD68\"],\n",
    "    'Macrophage M1': [\"CD11B\",\"CD68\",\"LYSOZYME\"],\n",
    "}"
   ]
  },
  {
   "cell_type": "markdown",
   "metadata": {},
   "source": [
    "---\n",
    "# Read outputs from `07-MxIF_immexcl_analysis.ipynb`"
   ]
  },
  {
   "cell_type": "code",
   "execution_count": null,
   "metadata": {},
   "outputs": [],
   "source": [
    "out = pd.DataFrame()\n",
    "for file in os.listdir(\"../step7/MxIF_out/immexcl/\"):\n",
    "    if \"immunecell_cnvclone_quant.csv\" in file:\n",
    "        print(file)\n",
    "        block_name = file.split(\"_\")[0]\n",
    "        pat_name = sample_key.loc[sample_key.block_name==block_name, \"patient_name\"][0]\n",
    "        a = pd.read_csv(\"../step7/MxIF_out/immexcl/{}\".format(file), index_col=0)\n",
    "        a.index = [pat_name + \" \" + x for x in a.index]\n",
    "        out = pd.concat([out, a])"
   ]
  },
  {
   "cell_type": "code",
   "execution_count": null,
   "metadata": {},
   "outputs": [],
   "source": [
    "out"
   ]
  },
  {
   "cell_type": "code",
   "execution_count": null,
   "metadata": {},
   "outputs": [],
   "source": [
    "out.plot.barh(figsize=(5,15))\n",
    "plt.legend(bbox_to_anchor=(1, 1), loc=\"upper left\", fontsize=\"small\", frameon=False)\n",
    "sns.despine()\n",
    "#plt.tight_layout()\n",
    "#plt.savefig(\"segmentation/PAT71662_PAT73458_immunecell_cnvclone_quant.png\")"
   ]
  },
  {
   "cell_type": "code",
   "execution_count": null,
   "metadata": {},
   "outputs": [],
   "source": [
    "out.loc[(out.index.str.startswith(\"PAT71662\"))|(out.index.str.startswith(\"PAT73458\")),:].plot.barh(figsize=(5,5.5))\n",
    "plt.legend(bbox_to_anchor=(1, 1), loc=\"upper left\", fontsize=\"small\", frameon=False, title=\"Cell Type (MxIF)\")\n",
    "plt.xlabel(\"# of Cells (MxIF)\")\n",
    "sns.despine()\n",
    "plt.tight_layout()\n",
    "plt.savefig(\"MxIF_out/immexcl/PAT71662_PAT73458_immunecell_cnvclone_quant.png\")"
   ]
  },
  {
   "cell_type": "code",
   "execution_count": null,
   "metadata": {},
   "outputs": [],
   "source": [
    "out.loc[(out.index.str.startswith(\"PAT71662\"))|(out.index.str.startswith(\"PAT73458\")),[\"T cytotoxic\",\"T helper\"]].plot.bar(figsize=(8,4), color={\"T cytotoxic\":\"red\",\"T helper\":\"purple\"})\n",
    "plt.legend(bbox_to_anchor=(1, 1), loc=\"upper left\", fontsize=\"small\", frameon=False, title=\"Cell Type (MxIF)\")\n",
    "plt.ylabel(\"# of Cells (MxIF)\")\n",
    "sns.despine()\n",
    "plt.tight_layout()\n",
    "plt.savefig(\"MxIF_out/immexcl/PAT71662_PAT73458_lymphocyte_cnvclone_quant.png\")"
   ]
  },
  {
   "cell_type": "markdown",
   "metadata": {},
   "source": [
    "---"
   ]
  },
  {
   "cell_type": "code",
   "execution_count": null,
   "metadata": {},
   "outputs": [],
   "source": [
    "meta_df = pd.read_csv(\"/home/cody/Dropbox/fuzzy-lasagna/data/visium/CNVclone_heatmap_df.csv\")"
   ]
  },
  {
   "cell_type": "code",
   "execution_count": null,
   "metadata": {},
   "outputs": [],
   "source": [
    "final = out.merge(meta_df[[\"CNV Clone\",\"CIN+ PPT (CNV Score)\",\"HM PPT (Mut. Burden)\",\"Tumor Type\",\"Immune Exclusion\",\"CIN Status\"]], left_index=True, right_on=\"CNV Clone\", how=\"left\").dropna().reset_index(drop=True)"
   ]
  },
  {
   "cell_type": "code",
   "execution_count": null,
   "metadata": {},
   "outputs": [],
   "source": [
    "final = final.melt(id_vars=[\"CNV Clone\",\"Tumor Type\",\"CIN+ PPT (CNV Score)\",\"HM PPT (Mut. Burden)\", \"Immune Exclusion\",\"CIN Status\"])"
   ]
  },
  {
   "cell_type": "code",
   "execution_count": null,
   "metadata": {},
   "outputs": [],
   "source": [
    "final.rename(columns={\"variable\":\"Cell Type\",\"value\":\"# of Cells (MxIF)\", \"CIN Status\":\"Tumor class\",\"Immune Exclusion\":\"IES\"}, inplace=True)"
   ]
  },
  {
   "cell_type": "code",
   "execution_count": null,
   "metadata": {},
   "outputs": [],
   "source": [
    "final[\"CIN_PPT_norm\"] = final[\"CIN+ PPT (CNV Score)\"] - final[\"CIN+ PPT (CNV Score)\"].min()\n",
    "final[\"CIN_PPT_norm\"] = final[\"CIN_PPT_norm\"] / final[\"CIN_PPT_norm\"].max()"
   ]
  },
  {
   "cell_type": "code",
   "execution_count": null,
   "metadata": {},
   "outputs": [],
   "source": [
    "final[\"HM_PPT_norm\"] = final[\"HM PPT (Mut. Burden)\"] - final[\"HM PPT (Mut. Burden)\"].min()\n",
    "final[\"HM_PPT_norm\"] = final[\"HM_PPT_norm\"] / final[\"HM_PPT_norm\"].max()"
   ]
  },
  {
   "cell_type": "code",
   "execution_count": null,
   "metadata": {},
   "outputs": [],
   "source": [
    "final[\"PPT\"] = final[\"CIN_PPT_norm\"]\n",
    "final.loc[final[\"Tumor class\"]==\"HM\", \"PPT\"] = final.loc[final[\"Tumor class\"]==\"HM\", \"HM_PPT_norm\"]"
   ]
  },
  {
   "cell_type": "code",
   "execution_count": null,
   "metadata": {},
   "outputs": [],
   "source": [
    "cmap_dict = {\n",
    "    \"SSL/HP\":\"#c4a4e1\",\"MSI-H\":\"#7a4fa3\",\"MSS\":\"#ffc101\",\"TA/TVA\":\"#fee799\",\"NL\":\"#1f77b4\",\n",
    "    \"CIN+\":\"#ffc101\",\"HM\":\"#7a4fa3\",\n",
    "    \"Cecum\":\"#1f4e79\",\"Ascending\":\"#2e74b7\",\"Hepatic Flexure\":\"#bdd6ef\",\"Transverse\":\"#ff717a\",\"Descending\":\"#fe0001\",\"Sigmoid\":\"#c00101\",\n",
    "    \"lymph_node\":\"#000000\",\n",
    "    \"nan\":\"#ffffff\",\n",
    "    \"T\":\"#000000\",\"F\":\"#ffffff\",\n",
    "    \"N\":\"#1f77b4\",\"L\":\"#ff7f0e\",\"B\":\"#2ca02c\",\n",
    "    \"DOD\":\"#ff0000\",\"DOC\":\"#ff0000\",\"AWD\":\"#ffff00\",\"NED\":\"#008000\",\n",
    "}"
   ]
  },
  {
   "cell_type": "code",
   "execution_count": null,
   "metadata": {},
   "outputs": [],
   "source": [
    "plt.figure(figsize=(5, 3))\n",
    "#sns.regplot(data=final, x=\"Immune Exclusion\", y=\"# of Cells (MxIF)\", scatter=False, line_kws={\"alpha\":0.3, \"color\":\"k\"})#, order=3)\n",
    "sns.scatterplot(data=final, x=\"IES\", y=\"# of Cells (MxIF)\", hue=\"Tumor class\", size=\"PPT\", palette=cmap_dict)\n",
    "plt.legend(bbox_to_anchor=(1, 1), loc=\"upper left\", fontsize=\"small\", frameon=False)\n",
    "sns.despine()\n",
    "plt.tight_layout()\n",
    "plt.savefig(\"MxIF_out/immexcl/immunecell_cnvclone_quant.png\", dpi=400)"
   ]
  },
  {
   "cell_type": "code",
   "execution_count": null,
   "metadata": {},
   "outputs": [],
   "source": [
    "g = sns.FacetGrid(final, col=\"Cell Type\", col_order= [\"T reg\",\"Myeloid\",\"T helper\",\"Macrophage\",\"T cytotoxic\",\"Macrophage M1\"], sharey=False, col_wrap=2, aspect=1.2, height=3.5)\n",
    "g.map(sns.regplot, \"IES\", \"# of Cells (MxIF)\", scatter=False, line_kws={\"alpha\":0.3, \"color\":\"k\"})\n",
    "g.map(sns.scatterplot, \"IES\", \"# of Cells (MxIF)\", \"Tumor class\", \"PPT\", alpha=0.7, palette=cmap_dict)\n",
    "g.set_titles(col_template=\"{col_name}\")\n",
    "g.tight_layout()\n",
    "g.savefig(\"MxIF_out/immexcl/immunecell_cnvclone_quant_facet.png\", dpi=400)"
   ]
  },
  {
   "cell_type": "code",
   "execution_count": null,
   "metadata": {},
   "outputs": [],
   "source": [
    "ies_thresh = 4.99"
   ]
  },
  {
   "cell_type": "code",
   "execution_count": null,
   "metadata": {},
   "outputs": [],
   "source": [
    "final[\"IES_status\"] = np.nan\n",
    "final.loc[final.IES >= ies_thresh, \"IES_status\"] = \"IES+\"\n",
    "final.loc[final.IES < ies_thresh, \"IES_status\"] = \"IES-\""
   ]
  },
  {
   "cell_type": "markdown",
   "metadata": {},
   "source": [
    "---\n",
    "# calculate _n_ by tumor type"
   ]
  },
  {
   "cell_type": "code",
   "execution_count": null,
   "metadata": {},
   "outputs": [],
   "source": [
    "final.loc[final[\"Cell Type\"]==\"Macrophage\", \"Tumor Type\"].value_counts()"
   ]
  },
  {
   "cell_type": "markdown",
   "metadata": {},
   "source": [
    "---\n",
    "# Loop through immune cell percentages"
   ]
  },
  {
   "cell_type": "code",
   "execution_count": null,
   "metadata": {},
   "outputs": [],
   "source": [
    "from scipy.stats import ttest_ind"
   ]
  },
  {
   "cell_type": "code",
   "execution_count": null,
   "metadata": {},
   "outputs": [],
   "source": [
    "stats_dict = {\"celltype\":[], \"Tstat\":[], \"pval\":[]}  # initialize dictionary for stats\n",
    "\n",
    "for celltype in final[\"Cell Type\"].unique():\n",
    "    print(\"starting {}\".format(celltype))\n",
    "    fig, axes = plt.subplots(1, 2, sharey=True, figsize=(5, 3.5), width_ratios=(3,1))\n",
    "    axes[0].axvline(ies_thresh, ls=\"--\", lw=1.8, alpha=0.7, c=\"k\")\n",
    "    #axes[0].annotate(\"Stromal\\nMean+SD: {}\".format(round(ies_thresh,2)), xy=(1.1*ies_thresh,0.9*counts_df[\"Exhaustion\"].max()), fontsize=\"medium\")\n",
    "    sns.scatterplot(\n",
    "        data=final.loc[final[\"Cell Type\"]==celltype],\n",
    "        x=\"IES\",\n",
    "        y=\"# of Cells (MxIF)\",\n",
    "        hue=\"Tumor class\",\n",
    "        palette=cmap_dict,\n",
    "        size=\"PPT\",\n",
    "        alpha=0.7,\n",
    "        ax=axes[0],\n",
    "    )\n",
    "\n",
    "    PROPS = {\n",
    "        'boxprops':{'facecolor':'none', 'edgecolor':'k'},\n",
    "        'medianprops':{'color':'k'},\n",
    "        'whiskerprops':{'color':'k'},\n",
    "        'capprops':{'color':'k'}\n",
    "    }\n",
    "    sns.boxplot(\n",
    "        data=final.loc[final[\"Cell Type\"]==celltype],\n",
    "        x=\"IES_status\",\n",
    "        y=\"# of Cells (MxIF)\",\n",
    "        order=[\"IES-\",\"IES+\"],\n",
    "        hue=\"Tumor class\",\n",
    "        dodge=True,\n",
    "        orient=\"v\",\n",
    "        fliersize=5,\n",
    "        linewidth=1.8,\n",
    "        ax=axes[1],\n",
    "        saturation=1,\n",
    "        showcaps=False,\n",
    "        palette=cmap_dict,\n",
    "        hue_order=[\"HM\",\"CIN+\"],\n",
    "        #**PROPS,\n",
    "    )\n",
    "\n",
    "    handles, labels = axes[0].get_legend_handles_labels()\n",
    "    #lgd = fig.legend(handles=handles, labels=labels, bbox_to_anchor=(0.95, 0.88), loc=\"upper left\", fontsize=\"small\", frameon=False)\n",
    "    tit = fig.suptitle(celltype, fontsize=18)\n",
    "    axes[0].get_legend().remove()\n",
    "    axes[1].get_legend().remove()\n",
    "    axes[0].set_ylabel(\"# of Cells (MxIF)\")\n",
    "    axes[1].set_xlabel(\"\")\n",
    "    axes[1].set_ylabel(\"\")\n",
    "\n",
    "    sns.despine()\n",
    "    fig.tight_layout()\n",
    "    fig.savefig(\"MxIF_out/immexcl/{}_vs_IESscore.png\".format(celltype.replace(\" \",\"\")), dpi=400, bbox_extra_artists=(tit,), bbox_inches='tight')\n",
    "    \n",
    "    # calculate stats\n",
    "    tstat, pval = ttest_ind(\n",
    "        final.loc[(final[\"Cell Type\"]==celltype)&(final.IES_status==\"IES-\"), \"# of Cells (MxIF)\"],\n",
    "        final.loc[(final[\"Cell Type\"]==celltype)&(final.IES_status==\"IES+\"), \"# of Cells (MxIF)\"],\n",
    "    )\n",
    "    stats_dict[\"celltype\"].append(celltype)\n",
    "    stats_dict[\"Tstat\"].append(tstat)\n",
    "    stats_dict[\"pval\"].append(pval)"
   ]
  },
  {
   "cell_type": "code",
   "execution_count": null,
   "metadata": {},
   "outputs": [],
   "source": [
    "pd.DataFrame(stats_dict)"
   ]
  },
  {
   "cell_type": "code",
   "execution_count": null,
   "metadata": {},
   "outputs": [],
   "source": [
    "pd.DataFrame(stats_dict).to_csv(\"MxIF_out/immexcl/celltypes_vs_IES_stats.csv\", index=False)"
   ]
  },
  {
   "cell_type": "markdown",
   "metadata": {},
   "source": [
    "---"
   ]
  },
  {
   "cell_type": "code",
   "execution_count": null,
   "metadata": {},
   "outputs": [],
   "source": [
    "fig, axes = plt.subplots(1, 2, sharey=True, figsize=(5, 3.5), width_ratios=(3,1))\n",
    "axes[0].axvline(ies_thresh, ls=\"--\", lw=1.8, alpha=0.7, c=\"k\")\n",
    "#axes[0].annotate(\"Stromal\\nMean+SD: {}\".format(round(ies_thresh,2)), xy=(1.1*ies_thresh,0.9*counts_df[\"Exhaustion\"].max()), fontsize=\"medium\")\n",
    "sns.scatterplot(\n",
    "    data=final,\n",
    "    x=\"IES\",\n",
    "    y=\"# of Cells (MxIF)\",\n",
    "    hue=\"Tumor class\",\n",
    "    palette=cmap_dict,\n",
    "    size=\"PPT\",\n",
    "    alpha=0.7,\n",
    "    ax=axes[0],\n",
    ")\n",
    "\n",
    "PROPS = {\n",
    "    'boxprops':{'facecolor':'none', 'edgecolor':'k'},\n",
    "    'medianprops':{'color':'k'},\n",
    "    'whiskerprops':{'color':'k'},\n",
    "    'capprops':{'color':'k'}\n",
    "}\n",
    "sns.boxplot(\n",
    "    data=final,\n",
    "    x=\"IES_status\",\n",
    "    y=\"# of Cells (MxIF)\",\n",
    "    order=[\"IES-\",\"IES+\"],\n",
    "    #hue=\"Sample_Classification\",\n",
    "    dodge=True,\n",
    "    orient=\"v\",\n",
    "    fliersize=5,\n",
    "    linewidth=1.8,\n",
    "    ax=axes[1],\n",
    "    saturation=1,\n",
    "    showcaps=False,\n",
    "    **PROPS,\n",
    ")\n",
    "\n",
    "#lgd = fig.legend(bbox_to_anchor=(0.95, 0.88), loc=\"upper left\", fontsize=\"small\", frameon=False)\n",
    "tit = fig.suptitle(\"Immune Cells\", fontsize=18)\n",
    "axes[0].get_legend().remove()\n",
    "#axes[1].get_legend().remove()\n",
    "axes[0].set_ylabel(\"# of Cells (MxIF)\")\n",
    "axes[1].set_xlabel(\"\")\n",
    "axes[1].set_ylabel(\"\")\n",
    "\n",
    "sns.despine()\n",
    "fig.tight_layout()\n",
    "fig.savefig(\"MxIF_out/immexcl/immunecells_vs_IESscore.png\", dpi=400, bbox_extra_artists=(tit,), bbox_inches='tight')"
   ]
  },
  {
   "cell_type": "markdown",
   "metadata": {},
   "source": [
    "---\n",
    "# Cell Centroid Viz. - per Sample"
   ]
  },
  {
   "cell_type": "markdown",
   "metadata": {},
   "source": [
    "---"
   ]
  },
  {
   "cell_type": "code",
   "execution_count": null,
   "metadata": {},
   "outputs": [],
   "source": [
    "pat = \"PAT71662\""
   ]
  },
  {
   "cell_type": "code",
   "execution_count": null,
   "metadata": {},
   "outputs": [],
   "source": [
    "a = sc.read(\"MxIF_out/immexcl/WD87480_immunecells.h5ad\")\n",
    "a = a[a.obs.epi==0,:].copy(); a"
   ]
  },
  {
   "cell_type": "code",
   "execution_count": null,
   "metadata": {},
   "outputs": [],
   "source": [
    "a.obsm[\"spatial_ws\"] = flip_coords(a.obsm[\"spatial_ws\"])"
   ]
  },
  {
   "cell_type": "code",
   "execution_count": null,
   "metadata": {},
   "outputs": [],
   "source": [
    "a.obs[\"Myeloid\"] = np.nan\n",
    "a.obs.loc[a.obs[\"Cell Type\"].isin([\"Macrophage\",\"Macrophage M1\",\"Myeloid\"]), \"Myeloid\"] = a.obs.loc[a.obs[\"Cell Type\"].isin([\"Macrophage\",\"Macrophage M1\",\"Myeloid\"]), \"Cell Type\"]\n",
    "a.obs[\"Lymphoid\"] = np.nan\n",
    "a.obs.loc[a.obs[\"Cell Type\"].isin([\"T cytotoxic\",\"T helper\",\"T reg\"]), \"Lymphoid\"] = a.obs.loc[a.obs[\"Cell Type\"].isin([\"T cytotoxic\",\"T helper\",\"T reg\"]), \"Cell Type\"]"
   ]
  },
  {
   "cell_type": "code",
   "execution_count": null,
   "metadata": {},
   "outputs": [],
   "source": [
    "cdict = dict(zip(list(a.obs[\"Cell Type\"].cat.categories), list(a.uns[\"Cell Type_colors\"])))\n",
    "a.uns[\"Myeloid_colors\"] = [cdict[x] for x in a.obs[\"Myeloid\"].cat.categories]\n",
    "a.uns[\"Lymphoid_colors\"] = [cdict[x] for x in a.obs[\"Lymphoid\"].cat.categories]"
   ]
  },
  {
   "cell_type": "code",
   "execution_count": null,
   "metadata": {},
   "outputs": [],
   "source": [
    "sc.pl.spatial(\n",
    "    a,\n",
    "    basis=\"spatial_ws\",\n",
    "    color=[\"Lymphoid\", \"Myeloid\"],\n",
    "    ncols=4,\n",
    "    img=None,\n",
    "    spot_size=50,\n",
    "    scale_factor=1,\n",
    "    frameon=False,\n",
    "    cmap=\"viridis\",\n",
    "    save=\"_{}_celltypeIDs_split_immune_mxif_epi0.png\".format(pat),\\\n",
    "    na_in_legend=False,\n",
    ")"
   ]
  },
  {
   "cell_type": "markdown",
   "metadata": {},
   "source": [
    "---"
   ]
  },
  {
   "cell_type": "code",
   "execution_count": null,
   "metadata": {},
   "outputs": [],
   "source": [
    "pat = \"PAT73458\""
   ]
  },
  {
   "cell_type": "code",
   "execution_count": null,
   "metadata": {},
   "outputs": [],
   "source": [
    "a = sc.read(\"MxIF_out/immexcl/WD85806_immunecells.h5ad\")\n",
    "a = a[a.obs.epi==0,:].copy(); a"
   ]
  },
  {
   "cell_type": "code",
   "execution_count": null,
   "metadata": {},
   "outputs": [],
   "source": [
    "a.obsm[\"spatial_ws\"] = flip_coords(a.obsm[\"spatial_ws\"])"
   ]
  },
  {
   "cell_type": "code",
   "execution_count": null,
   "metadata": {},
   "outputs": [],
   "source": [
    "a.obs[\"Myeloid\"] = np.nan\n",
    "a.obs.loc[a.obs[\"Cell Type\"].isin([\"Macrophage\",\"Macrophage M1\",\"Myeloid\"]), \"Myeloid\"] = a.obs.loc[a.obs[\"Cell Type\"].isin([\"Macrophage\",\"Macrophage M1\",\"Myeloid\"]), \"Cell Type\"]\n",
    "a.obs[\"Lymphoid\"] = np.nan\n",
    "a.obs.loc[a.obs[\"Cell Type\"].isin([\"T cytotoxic\",\"T helper\",\"T reg\"]), \"Lymphoid\"] = a.obs.loc[a.obs[\"Cell Type\"].isin([\"T cytotoxic\",\"T helper\",\"T reg\"]), \"Cell Type\"]"
   ]
  },
  {
   "cell_type": "code",
   "execution_count": null,
   "metadata": {},
   "outputs": [],
   "source": [
    "a.obs[\"Cell Type\"] = a.obs[\"Cell Type\"].astype(\"category\")"
   ]
  },
  {
   "cell_type": "code",
   "execution_count": null,
   "metadata": {},
   "outputs": [],
   "source": [
    "cdict = dict(zip(list(a.obs[\"Cell Type\"].cat.categories), list(a.uns[\"Cell Type_colors\"])))\n",
    "a.uns[\"Myeloid_colors\"] = [cdict[x] for x in a.obs[\"Myeloid\"].cat.categories]\n",
    "a.uns[\"Lymphoid_colors\"] = [cdict[x] for x in a.obs[\"Lymphoid\"].cat.categories]"
   ]
  },
  {
   "cell_type": "code",
   "execution_count": null,
   "metadata": {},
   "outputs": [],
   "source": [
    "sc.pl.spatial(\n",
    "    a,\n",
    "    basis=\"spatial_ws\",\n",
    "    color=[\"Lymphoid\", \"Myeloid\"],\n",
    "    ncols=4,\n",
    "    img=None,\n",
    "    spot_size=50,\n",
    "    scale_factor=1,\n",
    "    frameon=False,\n",
    "    cmap=\"viridis\",\n",
    "    save=\"_{}_celltypeIDs_split_immune_mxif_epi0.png\".format(pat),\\\n",
    "    na_in_legend=False,\n",
    ")"
   ]
  }
 ],
 "metadata": {
  "kernelspec": {
   "display_name": "scanpy",
   "language": "python",
   "name": "scanpy"
  },
  "language_info": {
   "codemirror_mode": {
    "name": "ipython",
    "version": 3
   },
   "file_extension": ".py",
   "mimetype": "text/x-python",
   "name": "python",
   "nbconvert_exporter": "python",
   "pygments_lexer": "ipython3",
   "version": "3.8.10"
  }
 },
 "nbformat": 4,
 "nbformat_minor": 4
}
