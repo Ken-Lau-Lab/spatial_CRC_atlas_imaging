{
 "cells": [
  {
   "cell_type": "code",
   "execution_count": 1,
   "metadata": {},
   "outputs": [],
   "source": [
    "from skimage import data, transform, io\n",
    "from skimage.color import rgb2gray\n",
    "import numpy as np\n",
    "import pandas as pd\n",
    "import napari\n",
    "from napari.utils.transforms import Affine, CompositeAffine\n",
    "import matplotlib.pyplot as plt\n",
    "from MILWRM.MxIF import *"
   ]
  },
  {
   "cell_type": "markdown",
   "metadata": {},
   "source": [
    "---\n",
    "# Transform all marker images into ST space and save to TIFFs"
   ]
  },
  {
   "cell_type": "code",
   "execution_count": 2,
   "metadata": {
    "tags": []
   },
   "outputs": [],
   "source": [
    "def transform_tiffs(\n",
    "    affine,\n",
    "    shape,\n",
    "    tiffdir,\n",
    "    read_suffix=\"_stitched_downsample8.tif\",\n",
    "    save_suffix=\"_stitched_downsample8_6723_4.tif\",\n",
    "    read_mask=\"WD86055_TISSUE_MASK_stitched_downsample8.tif\",\n",
    "    save_mask=\"WD86055_TISSUE_MASK_stitched_downsampled8_6723_4.tif\",\n",
    "    flip=False,\n",
    "):\n",
    "    # individual markers first\n",
    "    for marker in eliotmarkers:\n",
    "        print(marker, end=\": \")\n",
    "        tmp = io.imread(\"{}/{}{}\".format(tiffdir, marker, read_suffix))\n",
    "        if flip:\n",
    "            # flip horizontally the MxIF image\n",
    "            tmp = tmp[::-1,::-1]\n",
    "        image = transform.warp(tmp, transform.AffineTransform(affine), output_shape = abs(shape))\n",
    "        # downsample image\n",
    "        #image = block_reduce(image, block_size=(8, 8), func=np.mean, cval=0)\n",
    "        print(image.shape)\n",
    "        io.imsave(arr=image, fname=\"{}/{}{}\".format(tiffdir, marker, save_suffix))\n",
    "    # tissue mask if needed\n",
    "    if read_mask is not None and save_mask is not None:\n",
    "        print(\"tissue mask\", end=\": \")\n",
    "        tmp = io.imread(\"{}/{}\".format(tiffdir, read_mask))\n",
    "        if flip:\n",
    "            # flip horizontally the MxIF image\n",
    "            tmp = tmp[::-1,::-1]\n",
    "        image = transform.warp(tmp, transform.AffineTransform(affine), output_shape = abs(shape))\n",
    "        print(image.shape)\n",
    "        io.imsave(arr=image, fname=\"{}/{}\".format(tiffdir, save_mask))"
   ]
  },
  {
   "cell_type": "code",
   "execution_count": 11,
   "metadata": {
    "tags": []
   },
   "outputs": [],
   "source": [
    "def transform_imgs(\n",
    "    affine,\n",
    "    shape,\n",
    "    img_in,\n",
    "    img_out,\n",
    "    flip=False,\n",
    "    downsample_fact=None,\n",
    "    plot=True,\n",
    "):\n",
    "    a = img.from_npz(img_in)\n",
    "    shape[2] = a.n_ch  # replace third dim of shape with number of channels in img\n",
    "    if flip:\n",
    "        a.img = transform.warp(a.img[::-1,::-1,:], transform.AffineTransform(affine), output_shape=shape)\n",
    "        a.mask = transform.warp(a.mask[::-1,::-1], transform.AffineTransform(affine), output_shape=shape[:2])\n",
    "    else:\n",
    "        a.img = transform.warp(a.img, transform.AffineTransform(affine), output_shape=shape)\n",
    "        a.mask = transform.warp(a.mask, transform.AffineTransform(affine), output_shape=shape[:2])\n",
    "    if downsample_fact is not None:\n",
    "        a.downsample(fact=downsample_fact)\n",
    "        \n",
    "    if plot:\n",
    "        rgb = a.show(channels=[\"SMA\",\"VIMENTIN\",\"BCATENIN\"], RGB=True)\n",
    "    a.to_npz(img_out)"
   ]
  },
  {
   "cell_type": "code",
   "execution_count": 4,
   "metadata": {},
   "outputs": [],
   "source": [
    "sample_key = pd.read_csv(\"../../../resources/visium_sample_key.csv\", index_col=0)"
   ]
  },
  {
   "cell_type": "code",
   "execution_count": null,
   "metadata": {
    "tags": []
   },
   "outputs": [
    {
     "name": "stdout",
     "output_type": "stream",
     "text": [
      "Transforming 8899_1_SG00001\n",
      "Loading img object from /mnt/500gb_ssd/home/cody/images/MxIF/SG00001/SG00001_downsample8.npz...\n"
     ]
    }
   ],
   "source": [
    "for s in [\"8899_1_SG00001\",\"8899_2_SG00001\",\"8899_3_SG00002\",\"8899_4_SG00002\",\"8899_5_SG00003\",\"8899_6_SG00003\",\"8899_7_SG00004\",\"8899_8_SG00004\"]:\n",
    "    block = sample_key.loc[s, \"block_name\"]\n",
    "    visium_ID = sample_key.loc[s, \"sample_key_short\"]\n",
    "    ws_flip = sample_key.loc[s, \"ws_flip\"]\n",
    "    ws_flip = True if ws_flip == \"T\" else False\n",
    "    \n",
    "    # get affine files\n",
    "    affine = np.genfromtxt(\"/mnt/500gb_ssd/home/cody/images/MxIF/{}/{}_downsample8_{}_affine.csv\".format(block, block, visium_ID), delimiter=\",\")\n",
    "    shape = np.genfromtxt(\"/mnt/500gb_ssd/home/cody/images/MxIF/{}/{}_downsample8_{}_shape.csv\".format(block, block, visium_ID), delimiter=\",\")\n",
    "    \n",
    "    print(\"Transforming {}\".format(s))\n",
    "    transform_imgs(\n",
    "        affine=affine,\n",
    "        shape=shape,\n",
    "        img_in=sample_key.loc[s, \"ws_npz\"],\n",
    "        img_out=sample_key.loc[s, \"MxIF_npz\"],\n",
    "        flip=ws_flip,\n",
    "        downsample_fact=None,\n",
    "        plot=True,\n",
    "    )"
   ]
  }
 ],
 "metadata": {
  "kernelspec": {
   "display_name": "scanpy",
   "language": "python",
   "name": "scanpy"
  },
  "language_info": {
   "codemirror_mode": {
    "name": "ipython",
    "version": 3
   },
   "file_extension": ".py",
   "mimetype": "text/x-python",
   "name": "python",
   "nbconvert_exporter": "python",
   "pygments_lexer": "ipython3",
   "version": "3.8.10"
  }
 },
 "nbformat": 4,
 "nbformat_minor": 5
}
