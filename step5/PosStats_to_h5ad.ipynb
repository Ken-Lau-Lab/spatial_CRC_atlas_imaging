{
 "cells": [
  {
   "cell_type": "code",
   "execution_count": null,
   "metadata": {},
   "outputs": [],
   "source": [
    "import numpy as np\n",
    "import pandas as pd\n",
    "import scanpy as sc\n",
    "import MILWRM as mw\n",
    "import matplotlib.pyplot as plt\n",
    "from tifffile import imread"
   ]
  },
  {
   "cell_type": "code",
   "execution_count": null,
   "metadata": {},
   "outputs": [],
   "source": [
    "a = sc.read(\"WD80384_T6_MxIF_median_initial.h5ad\"); a"
   ]
  },
  {
   "cell_type": "code",
   "execution_count": null,
   "metadata": {},
   "outputs": [],
   "source": [
    "a.var_names"
   ]
  },
  {
   "cell_type": "code",
   "execution_count": null,
   "metadata": {},
   "outputs": [],
   "source": [
    "a.obs"
   ]
  },
  {
   "cell_type": "markdown",
   "metadata": {},
   "source": [
    "---"
   ]
  },
  {
   "cell_type": "code",
   "execution_count": null,
   "metadata": {},
   "outputs": [],
   "source": [
    "%time s = pd.read_csv(\"/Volumes/CellDive/Cody_Heiser/MxIF/SegQuant/PosStats/AllStats_WD80384_T6.csv\")"
   ]
  },
  {
   "cell_type": "code",
   "execution_count": null,
   "metadata": {},
   "outputs": [],
   "source": [
    "%%time\n",
    "b = sc.AnnData(\n",
    "    s.loc[:,s.columns[s.columns.str.contains(\"Median_Cell\")]].values,\n",
    "    obs = s[[\"ID\",\"First ID\",\"UniqueID\",\"Cell_Centroid_X\",\"Cell_Centroid_Y\",\"Cell_Area\",\"Nuc_Area\",\"Mem_Area\",\"Cyt_Area\",\"Percent Epithelium\",\"Percent Stroma\"]],\n",
    ")"
   ]
  },
  {
   "cell_type": "code",
   "execution_count": null,
   "metadata": {},
   "outputs": [],
   "source": [
    "b.var_names = s.columns[s.columns.str.contains(\"Median_Cell\")].str.split(\"_\").str[-1]"
   ]
  },
  {
   "cell_type": "code",
   "execution_count": null,
   "metadata": {},
   "outputs": [],
   "source": [
    "b.obs_names = b.obs.UniqueID"
   ]
  },
  {
   "cell_type": "code",
   "execution_count": null,
   "metadata": {},
   "outputs": [],
   "source": [
    "b.obs.drop(columns=\"UniqueID\",inplace=True)"
   ]
  },
  {
   "cell_type": "code",
   "execution_count": null,
   "metadata": {},
   "outputs": [],
   "source": [
    "b.layers[\"median_cell\"] = b.X.copy()"
   ]
  },
  {
   "cell_type": "code",
   "execution_count": null,
   "metadata": {},
   "outputs": [],
   "source": [
    "b.layers[\"median_cyt\"] = s.loc[:,s.columns[s.columns.str.contains(\"Median_Cyt\")]].values"
   ]
  },
  {
   "cell_type": "code",
   "execution_count": null,
   "metadata": {},
   "outputs": [],
   "source": [
    "b.layers[\"median_mem\"] = s.loc[:,s.columns[s.columns.str.contains(\"Median_Mem\")]].values"
   ]
  },
  {
   "cell_type": "code",
   "execution_count": null,
   "metadata": {},
   "outputs": [],
   "source": [
    "b.layers[\"median_nuc\"] = s.loc[:,s.columns[s.columns.str.contains(\"Median_Nuc\")]].values"
   ]
  },
  {
   "cell_type": "code",
   "execution_count": null,
   "metadata": {},
   "outputs": [],
   "source": [
    "b"
   ]
  },
  {
   "cell_type": "code",
   "execution_count": null,
   "metadata": {},
   "outputs": [],
   "source": [
    "b.write(\"WD80384_T6_MxIF_median.h5ad\", compression=\"gzip\")"
   ]
  },
  {
   "cell_type": "markdown",
   "metadata": {},
   "source": [
    "---"
   ]
  },
  {
   "cell_type": "code",
   "execution_count": null,
   "metadata": {},
   "outputs": [],
   "source": [
    "%time s = pd.read_csv(\"/Volumes/CellDive/Cody_Heiser/MxIF/SegQuant/PosStats/AllStats_WD80385_N10.csv\")"
   ]
  },
  {
   "cell_type": "code",
   "execution_count": null,
   "metadata": {},
   "outputs": [],
   "source": [
    "%%time\n",
    "b = sc.AnnData(\n",
    "    s.loc[:,s.columns[s.columns.str.contains(\"Median_Cell\")]].values,\n",
    "    obs = s[[\"ID\",\"First ID\",\"UniqueID\",\"Cell_Centroid_X\",\"Cell_Centroid_Y\",\"Cell_Area\",\"Nuc_Area\",\"Mem_Area\",\"Cyt_Area\",\"Percent Epithelium\",\"Percent Stroma\"]],\n",
    ")"
   ]
  },
  {
   "cell_type": "code",
   "execution_count": null,
   "metadata": {},
   "outputs": [],
   "source": [
    "b.var_names = s.columns[s.columns.str.contains(\"Median_Cell\")].str.split(\"_\").str[-1]"
   ]
  },
  {
   "cell_type": "code",
   "execution_count": null,
   "metadata": {},
   "outputs": [],
   "source": [
    "b.obs_names = b.obs.UniqueID"
   ]
  },
  {
   "cell_type": "code",
   "execution_count": null,
   "metadata": {},
   "outputs": [],
   "source": [
    "b.obs.drop(columns=\"UniqueID\",inplace=True)"
   ]
  },
  {
   "cell_type": "code",
   "execution_count": null,
   "metadata": {},
   "outputs": [],
   "source": [
    "b.layers[\"median_cell\"] = b.X.copy()"
   ]
  },
  {
   "cell_type": "code",
   "execution_count": null,
   "metadata": {},
   "outputs": [],
   "source": [
    "b.layers[\"median_cyt\"] = s.loc[:,s.columns[s.columns.str.contains(\"Median_Cyt\")]].values"
   ]
  },
  {
   "cell_type": "code",
   "execution_count": null,
   "metadata": {},
   "outputs": [],
   "source": [
    "b.layers[\"median_mem\"] = s.loc[:,s.columns[s.columns.str.contains(\"Median_Mem\")]].values"
   ]
  },
  {
   "cell_type": "code",
   "execution_count": null,
   "metadata": {},
   "outputs": [],
   "source": [
    "b.layers[\"median_nuc\"] = s.loc[:,s.columns[s.columns.str.contains(\"Median_Nuc\")]].values"
   ]
  },
  {
   "cell_type": "code",
   "execution_count": null,
   "metadata": {},
   "outputs": [],
   "source": [
    "b"
   ]
  },
  {
   "cell_type": "code",
   "execution_count": null,
   "metadata": {},
   "outputs": [],
   "source": [
    "b.write(\"WD80385_N10_MxIF_median.h5ad\", compression=\"gzip\")"
   ]
  },
  {
   "cell_type": "markdown",
   "metadata": {},
   "source": [
    "---"
   ]
  },
  {
   "cell_type": "code",
   "execution_count": null,
   "metadata": {},
   "outputs": [],
   "source": [
    "b = imread(\"/Volumes/CellDive/scan_alpha/MAP01938_0000_0E_01/DAPI Tiles/S002_mono_dapi_reg_region_001_r_001_c_010.tif\")"
   ]
  },
  {
   "cell_type": "code",
   "execution_count": null,
   "metadata": {},
   "outputs": [],
   "source": [
    "plt.imshow(b)"
   ]
  },
  {
   "cell_type": "code",
   "execution_count": null,
   "metadata": {},
   "outputs": [],
   "source": [
    "b.shape"
   ]
  },
  {
   "cell_type": "code",
   "execution_count": null,
   "metadata": {},
   "outputs": [],
   "source": [
    "%%time\n",
    "\n",
    "A_comb = None\n",
    "for col in [x+1 for x in range(13)]:\n",
    "    colname = str(col) if col > 9 else \"0\"+str(col)\n",
    "    A_col = None\n",
    "    for row in [x+1 for x in range(11)]:\n",
    "        rowname = str(row) if row > 9 else \"0\"+str(row)\n",
    "        try:\n",
    "            #print(\"reading: ../MxIF/MAP01938_0000_0E_01/PosStats/PosStats_region_001_r_0{}_c_0{}.csv\".format(rowname,colname))\n",
    "            A = pd.read_csv(\"../MxIF/MAP01938_0000_0E_01/PosStats/PosStats_region_001_r_0{}_c_0{}.csv\".format(rowname,colname))\n",
    "            A[\"row\"] = row\n",
    "            A[\"col\"] = col\n",
    "            #A[\"Cell_Centroid_Y_flipped\"] = A[\"Cell_Centroid_Y\"].max() - A[\"Cell_Centroid_Y\"]\n",
    "            A[\"Centroid_Y_global\"] = A[\"Cell_Centroid_Y\"] + (2191*row)\n",
    "            A[\"Centroid_X_global\"] = A[\"Cell_Centroid_X\"] + (2223*col)\n",
    "        except:\n",
    "            A = pd.DataFrame([])\n",
    "\n",
    "        if A_col is None:\n",
    "            A_col = A.copy()\n",
    "        elif A is not None:\n",
    "            A_col = pd.concat([A_col, A])\n",
    "        \n",
    "    if A_comb is None:\n",
    "        A_comb = A_col.copy()\n",
    "    else:\n",
    "        A_comb = pd.concat([A_comb, A_col])"
   ]
  },
  {
   "cell_type": "code",
   "execution_count": null,
   "metadata": {},
   "outputs": [],
   "source": [
    "A_comb[\"Centroid_Y_global_flipped\"] = A_comb[\"Centroid_Y_global\"].max() - A_comb[\"Centroid_Y_global\"]"
   ]
  },
  {
   "cell_type": "code",
   "execution_count": null,
   "metadata": {},
   "outputs": [],
   "source": [
    "plt.scatter(data=A_comb, x=\"Centroid_X_global\", y=\"Centroid_Y_global_flipped\", c=\"Median_Cell_ACTININ\", s=1)"
   ]
  },
  {
   "cell_type": "code",
   "execution_count": null,
   "metadata": {},
   "outputs": [],
   "source": [
    "%%time\n",
    "b = sc.AnnData(\n",
    "    A_comb.loc[:,A_comb.columns[A_comb.columns.str.contains(\"Median_Cell\")]].values,\n",
    "    obs = A_comb[[\n",
    "        \"Pos\",\"Cell_Centroid_X\",\"Cell_Centroid_Y\",\"Centroid_X_global\",\"Centroid_Y_global\",\"Centroid_Y_global_flipped\",\n",
    "        \"Cell_Area\",\"Nuc_Area\",\"Mem_Area\",\"Cyt_Area\",\"Tumor\",'Area_Thresh_CD11B','Area_Thresh_CD20','Area_Thresh_CD3D',\n",
    "        'Area_Thresh_CD4','Area_Thresh_CD68','Area_Thresh_CD8','Area_Thresh_DAPI','Area_Thresh_FOXP3','Area_Thresh_LYSOZYME',\n",
    "    ]],\n",
    ")"
   ]
  },
  {
   "cell_type": "code",
   "execution_count": null,
   "metadata": {},
   "outputs": [],
   "source": [
    "b.var_names = A_comb.columns[A_comb.columns.str.contains(\"Median_Cell\")].str.split(\"_\").str[-1]"
   ]
  },
  {
   "cell_type": "code",
   "execution_count": null,
   "metadata": {},
   "outputs": [],
   "source": [
    "b.layers[\"median_cell\"] = b.X.copy()"
   ]
  },
  {
   "cell_type": "code",
   "execution_count": null,
   "metadata": {},
   "outputs": [],
   "source": [
    "b.layers[\"median_cyt\"] = A_comb.loc[:,A_comb.columns[A_comb.columns.str.contains(\"Median_Cyt\")]].values"
   ]
  },
  {
   "cell_type": "code",
   "execution_count": null,
   "metadata": {},
   "outputs": [],
   "source": [
    "b.layers[\"median_mem\"] = A_comb.loc[:,A_comb.columns[A_comb.columns.str.contains(\"Median_Mem\")]].values"
   ]
  },
  {
   "cell_type": "code",
   "execution_count": null,
   "metadata": {},
   "outputs": [],
   "source": [
    "b.layers[\"median_nuc\"] = A_comb.loc[:,A_comb.columns[A_comb.columns.str.contains(\"Median_Nuc\")]].values"
   ]
  },
  {
   "cell_type": "code",
   "execution_count": null,
   "metadata": {},
   "outputs": [],
   "source": [
    "b"
   ]
  },
  {
   "cell_type": "code",
   "execution_count": null,
   "metadata": {},
   "outputs": [],
   "source": [
    "b.write(\"../MxIF/MAP01938_0000_0E_01/MAP01938_0000_0E_01_PosStats_region_001.h5ad\", compression=\"gzip\")"
   ]
  },
  {
   "cell_type": "markdown",
   "metadata": {},
   "source": [
    "---"
   ]
  },
  {
   "cell_type": "code",
   "execution_count": null,
   "metadata": {},
   "outputs": [],
   "source": [
    "b = imread(\"/Volumes/CellDive/scan_alpha/MAP01938_0000_0E_01/DAPI Tiles/S002_mono_dapi_reg_region_002_r_001_c_001.tif\")"
   ]
  },
  {
   "cell_type": "code",
   "execution_count": null,
   "metadata": {},
   "outputs": [],
   "source": [
    "plt.imshow(b)"
   ]
  },
  {
   "cell_type": "code",
   "execution_count": null,
   "metadata": {},
   "outputs": [],
   "source": [
    "b.shape"
   ]
  },
  {
   "cell_type": "code",
   "execution_count": null,
   "metadata": {},
   "outputs": [],
   "source": [
    "%%time\n",
    "\n",
    "A_comb = None\n",
    "for col in [x+1 for x in range(8)]:\n",
    "    colname = str(col) if col > 9 else \"0\"+str(col)\n",
    "    A_col = None\n",
    "    for row in [x+1 for x in range(7)]:\n",
    "        rowname = str(row) if row > 9 else \"0\"+str(row)\n",
    "        try:\n",
    "            #print(\"reading: ../MxIF/MAP01938_0000_0E_01/PosStats/PosStats_region_002_r_0{}_c_0{}.csv\".format(rowname,colname))\n",
    "            A = pd.read_csv(\"../MxIF/MAP01938_0000_0E_01/PosStats/PosStats_region_002_r_0{}_c_0{}.csv\".format(rowname,colname))\n",
    "            A[\"row\"] = row\n",
    "            A[\"col\"] = col\n",
    "            #A[\"Cell_Centroid_Y_flipped\"] = A[\"Cell_Centroid_Y\"].max() - A[\"Cell_Centroid_Y\"]\n",
    "            A[\"Centroid_Y_global\"] = A[\"Cell_Centroid_Y\"] + (2041*row)\n",
    "            A[\"Centroid_X_global\"] = A[\"Cell_Centroid_X\"] + (2050*col)\n",
    "        except:\n",
    "            A = pd.DataFrame([])\n",
    "\n",
    "        if A_col is None:\n",
    "            A_col = A.copy()\n",
    "        elif A is not None:\n",
    "            A_col = pd.concat([A_col, A])\n",
    "        \n",
    "    if A_comb is None:\n",
    "        A_comb = A_col.copy()\n",
    "    else:\n",
    "        A_comb = pd.concat([A_comb, A_col])"
   ]
  },
  {
   "cell_type": "code",
   "execution_count": null,
   "metadata": {},
   "outputs": [],
   "source": [
    "A_comb[\"Centroid_Y_global_flipped\"] = A_comb[\"Centroid_Y_global\"].max() - A_comb[\"Centroid_Y_global\"]"
   ]
  },
  {
   "cell_type": "code",
   "execution_count": null,
   "metadata": {},
   "outputs": [],
   "source": [
    "plt.scatter(data=A_comb, x=\"Centroid_X_global\", y=\"Centroid_Y_global_flipped\", c=\"Median_Cell_ACTININ\", s=1)"
   ]
  },
  {
   "cell_type": "code",
   "execution_count": null,
   "metadata": {},
   "outputs": [],
   "source": [
    "%%time\n",
    "b = sc.AnnData(\n",
    "    A_comb.loc[:,A_comb.columns[A_comb.columns.str.contains(\"Median_Cell\")]].values,\n",
    "    obs = A_comb[[\n",
    "        \"Pos\",\"Cell_Centroid_X\",\"Cell_Centroid_Y\",\"Centroid_X_global\",\"Centroid_Y_global\",\"Centroid_Y_global_flipped\",\n",
    "        \"Cell_Area\",\"Nuc_Area\",\"Mem_Area\",\"Cyt_Area\",\"Tumor\",'Area_Thresh_CD11B','Area_Thresh_CD20','Area_Thresh_CD3D',\n",
    "        'Area_Thresh_CD4','Area_Thresh_CD68','Area_Thresh_CD8','Area_Thresh_DAPI','Area_Thresh_FOXP3','Area_Thresh_LYSOZYME',\n",
    "    ]],\n",
    ")"
   ]
  },
  {
   "cell_type": "code",
   "execution_count": null,
   "metadata": {},
   "outputs": [],
   "source": [
    "b.var_names = A_comb.columns[A_comb.columns.str.contains(\"Median_Cell\")].str.split(\"_\").str[-1]"
   ]
  },
  {
   "cell_type": "code",
   "execution_count": null,
   "metadata": {},
   "outputs": [],
   "source": [
    "b.layers[\"median_cell\"] = b.X.copy()"
   ]
  },
  {
   "cell_type": "code",
   "execution_count": null,
   "metadata": {},
   "outputs": [],
   "source": [
    "b.layers[\"median_cyt\"] = A_comb.loc[:,A_comb.columns[A_comb.columns.str.contains(\"Median_Cyt\")]].values"
   ]
  },
  {
   "cell_type": "code",
   "execution_count": null,
   "metadata": {},
   "outputs": [],
   "source": [
    "b.layers[\"median_mem\"] = A_comb.loc[:,A_comb.columns[A_comb.columns.str.contains(\"Median_Mem\")]].values"
   ]
  },
  {
   "cell_type": "code",
   "execution_count": null,
   "metadata": {},
   "outputs": [],
   "source": [
    "b.layers[\"median_nuc\"] = A_comb.loc[:,A_comb.columns[A_comb.columns.str.contains(\"Median_Nuc\")]].values"
   ]
  },
  {
   "cell_type": "code",
   "execution_count": null,
   "metadata": {},
   "outputs": [],
   "source": [
    "b"
   ]
  },
  {
   "cell_type": "code",
   "execution_count": null,
   "metadata": {},
   "outputs": [],
   "source": [
    "b.write(\"../MxIF/MAP01938_0000_0E_01/MAP01938_0000_0E_01_PosStats_region_002.h5ad\", compression=\"gzip\")"
   ]
  },
  {
   "cell_type": "markdown",
   "metadata": {},
   "source": [
    "---"
   ]
  },
  {
   "cell_type": "code",
   "execution_count": null,
   "metadata": {},
   "outputs": [],
   "source": [
    "b = imread(\"/Volumes/CellDive/scan_alpha/HTA11_8622_0000_01E_01/DAPI Tiles/S002_mono_dapi_reg_region_001_r_001_c_003.tif\")"
   ]
  },
  {
   "cell_type": "code",
   "execution_count": null,
   "metadata": {},
   "outputs": [],
   "source": [
    "plt.imshow(b)"
   ]
  },
  {
   "cell_type": "code",
   "execution_count": null,
   "metadata": {},
   "outputs": [],
   "source": [
    "b.shape"
   ]
  },
  {
   "cell_type": "code",
   "execution_count": null,
   "metadata": {},
   "outputs": [],
   "source": [
    "%%time\n",
    "\n",
    "A_comb = None\n",
    "for col in [x+1 for x in range(4)]:\n",
    "    colname = str(col) if col > 9 else \"0\"+str(col)\n",
    "    A_col = None\n",
    "    for row in [x+1 for x in range(3)]:\n",
    "        rowname = str(row) if row > 9 else \"0\"+str(row)\n",
    "        try:\n",
    "            #print(\"reading: ../MxIF/MAP01938_0000_0E_01/PosStats/PosStats_region_001_r_0{}_c_0{}.csv\".format(rowname,colname))\n",
    "            A = pd.read_csv(\"../MxIF/MAP08622_0000_01E_01/PosStats/PosStats_region_001_r_0{}_c_0{}.csv\".format(rowname,colname))\n",
    "            A[\"row\"] = row\n",
    "            A[\"col\"] = col\n",
    "            #A[\"Cell_Centroid_Y_flipped\"] = A[\"Cell_Centroid_Y\"].max() - A[\"Cell_Centroid_Y\"]\n",
    "            A[\"Centroid_Y_global\"] = A[\"Cell_Centroid_Y\"] + (2093*row)\n",
    "            A[\"Centroid_X_global\"] = A[\"Cell_Centroid_X\"] + (2076*col)\n",
    "        except:\n",
    "            A = pd.DataFrame([])\n",
    "\n",
    "        if A_col is None:\n",
    "            A_col = A.copy()\n",
    "        elif A is not None:\n",
    "            A_col = pd.concat([A_col, A])\n",
    "        \n",
    "    if A_comb is None:\n",
    "        A_comb = A_col.copy()\n",
    "    else:\n",
    "        A_comb = pd.concat([A_comb, A_col])"
   ]
  },
  {
   "cell_type": "code",
   "execution_count": null,
   "metadata": {},
   "outputs": [],
   "source": [
    "A_comb[\"Centroid_Y_global_flipped\"] = A_comb[\"Centroid_Y_global\"].max() - A_comb[\"Centroid_Y_global\"]"
   ]
  },
  {
   "cell_type": "code",
   "execution_count": null,
   "metadata": {},
   "outputs": [],
   "source": [
    "plt.scatter(data=A_comb, x=\"Centroid_X_global\", y=\"Centroid_Y_global_flipped\", c=\"Median_Cell_BCATENIN\", s=1)"
   ]
  },
  {
   "cell_type": "code",
   "execution_count": null,
   "metadata": {},
   "outputs": [],
   "source": [
    "%%time\n",
    "b = sc.AnnData(\n",
    "    A_comb.loc[:,A_comb.columns[A_comb.columns.str.contains(\"Median_Cell\")]].values,\n",
    "    obs = A_comb[[\n",
    "        \"Pos\",\"Cell_Centroid_X\",\"Cell_Centroid_Y\",\"Centroid_X_global\",\"Centroid_Y_global\",\"Centroid_Y_global_flipped\",\n",
    "        \"Cell_Area\",\"Nuc_Area\",\"Mem_Area\",\"Cyt_Area\",\"Tumor\",'Area_Thresh_CD11B','Area_Thresh_CD20','Area_Thresh_CD3D',\n",
    "        'Area_Thresh_CD4','Area_Thresh_CD68','Area_Thresh_CD8','Area_Thresh_DAPI','Area_Thresh_FOXP3','Area_Thresh_LYSOZYME',\n",
    "    ]],\n",
    ")"
   ]
  },
  {
   "cell_type": "code",
   "execution_count": null,
   "metadata": {},
   "outputs": [],
   "source": [
    "b.var_names = A_comb.columns[A_comb.columns.str.contains(\"Median_Cell\")].str.split(\"_\").str[-1]"
   ]
  },
  {
   "cell_type": "code",
   "execution_count": null,
   "metadata": {},
   "outputs": [],
   "source": [
    "b.layers[\"median_cell\"] = b.X.copy()"
   ]
  },
  {
   "cell_type": "code",
   "execution_count": null,
   "metadata": {},
   "outputs": [],
   "source": [
    "b.layers[\"median_cyt\"] = A_comb.loc[:,A_comb.columns[A_comb.columns.str.contains(\"Median_Cyt\")]].values"
   ]
  },
  {
   "cell_type": "code",
   "execution_count": null,
   "metadata": {},
   "outputs": [],
   "source": [
    "b.layers[\"median_mem\"] = A_comb.loc[:,A_comb.columns[A_comb.columns.str.contains(\"Median_Mem\")]].values"
   ]
  },
  {
   "cell_type": "code",
   "execution_count": null,
   "metadata": {},
   "outputs": [],
   "source": [
    "b.layers[\"median_nuc\"] = A_comb.loc[:,A_comb.columns[A_comb.columns.str.contains(\"Median_Nuc\")]].values"
   ]
  },
  {
   "cell_type": "code",
   "execution_count": null,
   "metadata": {},
   "outputs": [],
   "source": [
    "b"
   ]
  },
  {
   "cell_type": "code",
   "execution_count": null,
   "metadata": {},
   "outputs": [],
   "source": [
    "b.write(\"../MxIF/MAP08622_0000_01E_01/MAP08622_0000_01E_01_PosStats_region_001.h5ad\", compression=\"gzip\")"
   ]
  },
  {
   "cell_type": "markdown",
   "metadata": {},
   "source": [
    "---"
   ]
  },
  {
   "cell_type": "code",
   "execution_count": null,
   "metadata": {},
   "outputs": [],
   "source": [
    "b = imread(\"/Volumes/CellDive/scan_alpha/HTA11_8622_0000_01E_01/DAPI Tiles/S002_mono_dapi_reg_region_002_r_001_c_007.tif\")"
   ]
  },
  {
   "cell_type": "code",
   "execution_count": null,
   "metadata": {},
   "outputs": [],
   "source": [
    "plt.imshow(b)"
   ]
  },
  {
   "cell_type": "code",
   "execution_count": null,
   "metadata": {},
   "outputs": [],
   "source": [
    "b.shape"
   ]
  },
  {
   "cell_type": "code",
   "execution_count": null,
   "metadata": {},
   "outputs": [],
   "source": [
    "%%time\n",
    "\n",
    "A_comb = None\n",
    "for col in [x+1 for x in range(8)]:\n",
    "    colname = str(col) if col > 9 else \"0\"+str(col)\n",
    "    A_col = None\n",
    "    for row in [x+1 for x in range(6)]:\n",
    "        rowname = str(row) if row > 9 else \"0\"+str(row)\n",
    "        try:\n",
    "            #print(\"reading: ../MxIF/MAP01938_0000_0E_01/PosStats/PosStats_region_001_r_0{}_c_0{}.csv\".format(rowname,colname))\n",
    "            A = pd.read_csv(\"../MxIF/MAP08622_0000_01E_01/PosStats/PosStats_region_002_r_0{}_c_0{}.csv\".format(rowname,colname))\n",
    "            A[\"row\"] = row\n",
    "            A[\"col\"] = col\n",
    "            #A[\"Cell_Centroid_Y_flipped\"] = A[\"Cell_Centroid_Y\"].max() - A[\"Cell_Centroid_Y\"]\n",
    "            A[\"Centroid_Y_global\"] = A[\"Cell_Centroid_Y\"] + (2062*row)\n",
    "            A[\"Centroid_X_global\"] = A[\"Cell_Centroid_X\"] + (2048*col)\n",
    "        except:\n",
    "            A = pd.DataFrame([])\n",
    "\n",
    "        if A_col is None:\n",
    "            A_col = A.copy()\n",
    "        elif A is not None:\n",
    "            A_col = pd.concat([A_col, A])\n",
    "        \n",
    "    if A_comb is None:\n",
    "        A_comb = A_col.copy()\n",
    "    else:\n",
    "        A_comb = pd.concat([A_comb, A_col])"
   ]
  },
  {
   "cell_type": "code",
   "execution_count": null,
   "metadata": {},
   "outputs": [],
   "source": [
    "A_comb[\"Centroid_Y_global_flipped\"] = A_comb[\"Centroid_Y_global\"].max() - A_comb[\"Centroid_Y_global\"]"
   ]
  },
  {
   "cell_type": "code",
   "execution_count": null,
   "metadata": {},
   "outputs": [],
   "source": [
    "plt.scatter(data=A_comb, x=\"Centroid_X_global\", y=\"Centroid_Y_global_flipped\", c=\"Median_Cell_BCATENIN\", s=1)"
   ]
  },
  {
   "cell_type": "code",
   "execution_count": null,
   "metadata": {},
   "outputs": [],
   "source": [
    "%%time\n",
    "b = sc.AnnData(\n",
    "    A_comb.loc[:,A_comb.columns[A_comb.columns.str.contains(\"Median_Cell\")]].values,\n",
    "    obs = A_comb[[\n",
    "        \"Pos\",\"Cell_Centroid_X\",\"Cell_Centroid_Y\",\"Centroid_X_global\",\"Centroid_Y_global\",\"Centroid_Y_global_flipped\",\n",
    "        \"Cell_Area\",\"Nuc_Area\",\"Mem_Area\",\"Cyt_Area\",\"Tumor\",'Area_Thresh_CD11B','Area_Thresh_CD20','Area_Thresh_CD3D',\n",
    "        'Area_Thresh_CD4','Area_Thresh_CD68','Area_Thresh_CD8','Area_Thresh_DAPI','Area_Thresh_FOXP3','Area_Thresh_LYSOZYME',\n",
    "    ]],\n",
    ")"
   ]
  },
  {
   "cell_type": "code",
   "execution_count": null,
   "metadata": {},
   "outputs": [],
   "source": [
    "b.var_names = A_comb.columns[A_comb.columns.str.contains(\"Median_Cell\")].str.split(\"_\").str[-1]"
   ]
  },
  {
   "cell_type": "code",
   "execution_count": null,
   "metadata": {},
   "outputs": [],
   "source": [
    "b.layers[\"median_cell\"] = b.X.copy()"
   ]
  },
  {
   "cell_type": "code",
   "execution_count": null,
   "metadata": {},
   "outputs": [],
   "source": [
    "b.layers[\"median_cyt\"] = A_comb.loc[:,A_comb.columns[A_comb.columns.str.contains(\"Median_Cyt\")]].values"
   ]
  },
  {
   "cell_type": "code",
   "execution_count": null,
   "metadata": {},
   "outputs": [],
   "source": [
    "b.layers[\"median_mem\"] = A_comb.loc[:,A_comb.columns[A_comb.columns.str.contains(\"Median_Mem\")]].values"
   ]
  },
  {
   "cell_type": "code",
   "execution_count": null,
   "metadata": {},
   "outputs": [],
   "source": [
    "b.layers[\"median_nuc\"] = A_comb.loc[:,A_comb.columns[A_comb.columns.str.contains(\"Median_Nuc\")]].values"
   ]
  },
  {
   "cell_type": "code",
   "execution_count": null,
   "metadata": {},
   "outputs": [],
   "source": [
    "b"
   ]
  },
  {
   "cell_type": "code",
   "execution_count": null,
   "metadata": {},
   "outputs": [],
   "source": [
    "b.write(\"../MxIF/MAP08622_0000_01E_01/MAP08622_0000_01E_01_PosStats_region_002.h5ad\", compression=\"gzip\")"
   ]
  },
  {
   "cell_type": "markdown",
   "metadata": {},
   "source": [
    "---"
   ]
  },
  {
   "cell_type": "code",
   "execution_count": null,
   "metadata": {},
   "outputs": [],
   "source": [
    "b = imread(\"/Volumes/CellDive/scan_alpha/HTA11_8622_0000_01E_01/DAPI Tiles/S002_mono_dapi_reg_region_003_r_001_c_006.tif\")"
   ]
  },
  {
   "cell_type": "code",
   "execution_count": null,
   "metadata": {},
   "outputs": [],
   "source": [
    "plt.imshow(b)"
   ]
  },
  {
   "cell_type": "code",
   "execution_count": null,
   "metadata": {},
   "outputs": [],
   "source": [
    "b.shape"
   ]
  },
  {
   "cell_type": "code",
   "execution_count": null,
   "metadata": {},
   "outputs": [],
   "source": [
    "%%time\n",
    "\n",
    "A_comb = None\n",
    "for col in [x+1 for x in range(7)]:\n",
    "    colname = str(col) if col > 9 else \"0\"+str(col)\n",
    "    A_col = None\n",
    "    for row in [x+1 for x in range(7)]:\n",
    "        rowname = str(row) if row > 9 else \"0\"+str(row)\n",
    "        try:\n",
    "            #print(\"reading: ../MxIF/MAP01938_0000_0E_01/PosStats/PosStats_region_001_r_0{}_c_0{}.csv\".format(rowname,colname))\n",
    "            A = pd.read_csv(\"../MxIF/MAP08622_0000_01E_01/PosStats/PosStats_region_003_r_0{}_c_0{}.csv\".format(rowname,colname))\n",
    "            A[\"row\"] = row\n",
    "            A[\"col\"] = col\n",
    "            #A[\"Cell_Centroid_Y_flipped\"] = A[\"Cell_Centroid_Y\"].max() - A[\"Cell_Centroid_Y\"]\n",
    "            A[\"Centroid_Y_global\"] = A[\"Cell_Centroid_Y\"] + (2052*row)\n",
    "            A[\"Centroid_X_global\"] = A[\"Cell_Centroid_X\"] + (2051*col)\n",
    "        except:\n",
    "            A = pd.DataFrame([])\n",
    "\n",
    "        if A_col is None:\n",
    "            A_col = A.copy()\n",
    "        elif A is not None:\n",
    "            A_col = pd.concat([A_col, A])\n",
    "        \n",
    "    if A_comb is None:\n",
    "        A_comb = A_col.copy()\n",
    "    else:\n",
    "        A_comb = pd.concat([A_comb, A_col])"
   ]
  },
  {
   "cell_type": "code",
   "execution_count": null,
   "metadata": {},
   "outputs": [],
   "source": [
    "A_comb[\"Centroid_Y_global_flipped\"] = A_comb[\"Centroid_Y_global\"].max() - A_comb[\"Centroid_Y_global\"]"
   ]
  },
  {
   "cell_type": "code",
   "execution_count": null,
   "metadata": {},
   "outputs": [],
   "source": [
    "plt.scatter(data=A_comb, x=\"Centroid_X_global\", y=\"Centroid_Y_global_flipped\", c=\"Median_Cell_BCATENIN\", s=1)"
   ]
  },
  {
   "cell_type": "code",
   "execution_count": null,
   "metadata": {},
   "outputs": [],
   "source": [
    "%%time\n",
    "b = sc.AnnData(\n",
    "    A_comb.loc[:,A_comb.columns[A_comb.columns.str.contains(\"Median_Cell\")]].values,\n",
    "    obs = A_comb[[\n",
    "        \"Pos\",\"Cell_Centroid_X\",\"Cell_Centroid_Y\",\"Centroid_X_global\",\"Centroid_Y_global\",\"Centroid_Y_global_flipped\",\n",
    "        \"Cell_Area\",\"Nuc_Area\",\"Mem_Area\",\"Cyt_Area\",\"Tumor\",'Area_Thresh_CD11B','Area_Thresh_CD20','Area_Thresh_CD3D',\n",
    "        'Area_Thresh_CD4','Area_Thresh_CD68','Area_Thresh_CD8','Area_Thresh_DAPI','Area_Thresh_FOXP3','Area_Thresh_LYSOZYME',\n",
    "    ]],\n",
    ")"
   ]
  },
  {
   "cell_type": "code",
   "execution_count": null,
   "metadata": {},
   "outputs": [],
   "source": [
    "b.var_names = A_comb.columns[A_comb.columns.str.contains(\"Median_Cell\")].str.split(\"_\").str[-1]"
   ]
  },
  {
   "cell_type": "code",
   "execution_count": null,
   "metadata": {},
   "outputs": [],
   "source": [
    "b.layers[\"median_cell\"] = b.X.copy()"
   ]
  },
  {
   "cell_type": "code",
   "execution_count": null,
   "metadata": {},
   "outputs": [],
   "source": [
    "b.layers[\"median_cyt\"] = A_comb.loc[:,A_comb.columns[A_comb.columns.str.contains(\"Median_Cyt\")]].values"
   ]
  },
  {
   "cell_type": "code",
   "execution_count": null,
   "metadata": {},
   "outputs": [],
   "source": [
    "b.layers[\"median_mem\"] = A_comb.loc[:,A_comb.columns[A_comb.columns.str.contains(\"Median_Mem\")]].values"
   ]
  },
  {
   "cell_type": "code",
   "execution_count": null,
   "metadata": {},
   "outputs": [],
   "source": [
    "b.layers[\"median_nuc\"] = A_comb.loc[:,A_comb.columns[A_comb.columns.str.contains(\"Median_Nuc\")]].values"
   ]
  },
  {
   "cell_type": "code",
   "execution_count": null,
   "metadata": {},
   "outputs": [],
   "source": [
    "b"
   ]
  },
  {
   "cell_type": "code",
   "execution_count": null,
   "metadata": {},
   "outputs": [],
   "source": [
    "b.write(\"../MxIF/MAP08622_0000_01E_01/MAP08622_0000_01E_01_PosStats_region_003.h5ad\", compression=\"gzip\")"
   ]
  },
  {
   "cell_type": "markdown",
   "metadata": {},
   "source": [
    "---"
   ]
  },
  {
   "cell_type": "code",
   "execution_count": null,
   "metadata": {},
   "outputs": [],
   "source": [
    "b = imread(\"/Volumes/CellDive/scan_alpha/HTA11_8622_0000_01E_01/DAPI Tiles/S002_mono_dapi_reg_region_004_r_002_c_004.tif\")"
   ]
  },
  {
   "cell_type": "code",
   "execution_count": null,
   "metadata": {},
   "outputs": [],
   "source": [
    "plt.imshow(b)"
   ]
  },
  {
   "cell_type": "code",
   "execution_count": null,
   "metadata": {},
   "outputs": [],
   "source": [
    "b.shape"
   ]
  },
  {
   "cell_type": "code",
   "execution_count": null,
   "metadata": {},
   "outputs": [],
   "source": [
    "%%time\n",
    "\n",
    "A_comb = None\n",
    "for col in [x+1 for x in range(6)]:\n",
    "    colname = str(col) if col > 9 else \"0\"+str(col)\n",
    "    A_col = None\n",
    "    for row in [x+1 for x in range(4)]:\n",
    "        rowname = str(row) if row > 9 else \"0\"+str(row)\n",
    "        try:\n",
    "            #print(\"reading: ../MxIF/MAP01938_0000_0E_01/PosStats/PosStats_region_001_r_0{}_c_0{}.csv\".format(rowname,colname))\n",
    "            A = pd.read_csv(\"../MxIF/MAP08622_0000_01E_01/PosStats/PosStats_region_004_r_0{}_c_0{}.csv\".format(rowname,colname))\n",
    "            A[\"row\"] = row\n",
    "            A[\"col\"] = col\n",
    "            #A[\"Cell_Centroid_Y_flipped\"] = A[\"Cell_Centroid_Y\"].max() - A[\"Cell_Centroid_Y\"]\n",
    "            A[\"Centroid_Y_global\"] = A[\"Cell_Centroid_Y\"] + (2067*row)\n",
    "            A[\"Centroid_X_global\"] = A[\"Cell_Centroid_X\"] + (2058*col)\n",
    "        except:\n",
    "            A = pd.DataFrame([])\n",
    "\n",
    "        if A_col is None:\n",
    "            A_col = A.copy()\n",
    "        elif A is not None:\n",
    "            A_col = pd.concat([A_col, A])\n",
    "        \n",
    "    if A_comb is None:\n",
    "        A_comb = A_col.copy()\n",
    "    else:\n",
    "        A_comb = pd.concat([A_comb, A_col])"
   ]
  },
  {
   "cell_type": "code",
   "execution_count": null,
   "metadata": {},
   "outputs": [],
   "source": [
    "A_comb[\"Centroid_Y_global_flipped\"] = A_comb[\"Centroid_Y_global\"].max() - A_comb[\"Centroid_Y_global\"]"
   ]
  },
  {
   "cell_type": "code",
   "execution_count": null,
   "metadata": {},
   "outputs": [],
   "source": [
    "plt.scatter(data=A_comb, x=\"Centroid_X_global\", y=\"Centroid_Y_global_flipped\", c=\"Median_Cell_BCATENIN\", s=1)"
   ]
  },
  {
   "cell_type": "code",
   "execution_count": null,
   "metadata": {},
   "outputs": [],
   "source": [
    "%%time\n",
    "b = sc.AnnData(\n",
    "    A_comb.loc[:,A_comb.columns[A_comb.columns.str.contains(\"Median_Cell\")]].values,\n",
    "    obs = A_comb[[\n",
    "        \"Pos\",\"Cell_Centroid_X\",\"Cell_Centroid_Y\",\"Centroid_X_global\",\"Centroid_Y_global\",\"Centroid_Y_global_flipped\",\n",
    "        \"Cell_Area\",\"Nuc_Area\",\"Mem_Area\",\"Cyt_Area\",\"Tumor\",'Area_Thresh_CD11B','Area_Thresh_CD20','Area_Thresh_CD3D',\n",
    "        'Area_Thresh_CD4','Area_Thresh_CD68','Area_Thresh_CD8','Area_Thresh_DAPI','Area_Thresh_FOXP3','Area_Thresh_LYSOZYME',\n",
    "    ]],\n",
    ")"
   ]
  },
  {
   "cell_type": "code",
   "execution_count": null,
   "metadata": {},
   "outputs": [],
   "source": [
    "b.var_names = A_comb.columns[A_comb.columns.str.contains(\"Median_Cell\")].str.split(\"_\").str[-1]"
   ]
  },
  {
   "cell_type": "code",
   "execution_count": null,
   "metadata": {},
   "outputs": [],
   "source": [
    "b.layers[\"median_cell\"] = b.X.copy()"
   ]
  },
  {
   "cell_type": "code",
   "execution_count": null,
   "metadata": {},
   "outputs": [],
   "source": [
    "b.layers[\"median_cyt\"] = A_comb.loc[:,A_comb.columns[A_comb.columns.str.contains(\"Median_Cyt\")]].values"
   ]
  },
  {
   "cell_type": "code",
   "execution_count": null,
   "metadata": {},
   "outputs": [],
   "source": [
    "b.layers[\"median_mem\"] = A_comb.loc[:,A_comb.columns[A_comb.columns.str.contains(\"Median_Mem\")]].values"
   ]
  },
  {
   "cell_type": "code",
   "execution_count": null,
   "metadata": {},
   "outputs": [],
   "source": [
    "b.layers[\"median_nuc\"] = A_comb.loc[:,A_comb.columns[A_comb.columns.str.contains(\"Median_Nuc\")]].values"
   ]
  },
  {
   "cell_type": "code",
   "execution_count": null,
   "metadata": {},
   "outputs": [],
   "source": [
    "b"
   ]
  },
  {
   "cell_type": "code",
   "execution_count": null,
   "metadata": {},
   "outputs": [],
   "source": [
    "b.write(\"../MxIF/MAP08622_0000_01E_01/MAP08622_0000_01E_01_PosStats_region_004.h5ad\", compression=\"gzip\")"
   ]
  },
  {
   "cell_type": "markdown",
   "metadata": {},
   "source": [
    "---"
   ]
  },
  {
   "cell_type": "code",
   "execution_count": null,
   "metadata": {},
   "outputs": [],
   "source": [
    "b = imread(\"/Volumes/CellDive/scan_alpha/HTA11_8622_0000_01E_01/DAPI Tiles/S002_mono_dapi_reg_region_005_r_001_c_006.tif\")"
   ]
  },
  {
   "cell_type": "code",
   "execution_count": null,
   "metadata": {},
   "outputs": [],
   "source": [
    "plt.imshow(b)"
   ]
  },
  {
   "cell_type": "code",
   "execution_count": null,
   "metadata": {},
   "outputs": [],
   "source": [
    "b.shape"
   ]
  },
  {
   "cell_type": "code",
   "execution_count": null,
   "metadata": {},
   "outputs": [],
   "source": [
    "%%time\n",
    "\n",
    "A_comb = None\n",
    "for col in [x+1 for x in range(7)]:\n",
    "    colname = str(col) if col > 9 else \"0\"+str(col)\n",
    "    A_col = None\n",
    "    for row in [x+1 for x in range(7)]:\n",
    "        rowname = str(row) if row > 9 else \"0\"+str(row)\n",
    "        try:\n",
    "            #print(\"reading: ../MxIF/MAP01938_0000_0E_01/PosStats/PosStats_region_001_r_0{}_c_0{}.csv\".format(rowname,colname))\n",
    "            A = pd.read_csv(\"../MxIF/MAP08622_0000_01E_01/PosStats/PosStats_region_005_r_0{}_c_0{}.csv\".format(rowname,colname))\n",
    "            A[\"row\"] = row\n",
    "            A[\"col\"] = col\n",
    "            #A[\"Cell_Centroid_Y_flipped\"] = A[\"Cell_Centroid_Y\"].max() - A[\"Cell_Centroid_Y\"]\n",
    "            A[\"Centroid_Y_global\"] = A[\"Cell_Centroid_Y\"] + (2052*row)\n",
    "            A[\"Centroid_X_global\"] = A[\"Cell_Centroid_X\"] + (2051*col)\n",
    "        except:\n",
    "            A = pd.DataFrame([])\n",
    "\n",
    "        if A_col is None:\n",
    "            A_col = A.copy()\n",
    "        elif A is not None:\n",
    "            A_col = pd.concat([A_col, A])\n",
    "        \n",
    "    if A_comb is None:\n",
    "        A_comb = A_col.copy()\n",
    "    else:\n",
    "        A_comb = pd.concat([A_comb, A_col])"
   ]
  },
  {
   "cell_type": "code",
   "execution_count": null,
   "metadata": {},
   "outputs": [],
   "source": [
    "A_comb[\"Centroid_Y_global_flipped\"] = A_comb[\"Centroid_Y_global\"].max() - A_comb[\"Centroid_Y_global\"]"
   ]
  },
  {
   "cell_type": "code",
   "execution_count": null,
   "metadata": {},
   "outputs": [],
   "source": [
    "plt.scatter(data=A_comb, x=\"Centroid_X_global\", y=\"Centroid_Y_global_flipped\", c=\"Median_Cell_BCATENIN\", s=1)"
   ]
  },
  {
   "cell_type": "code",
   "execution_count": null,
   "metadata": {},
   "outputs": [],
   "source": [
    "%%time\n",
    "b = sc.AnnData(\n",
    "    A_comb.loc[:,A_comb.columns[A_comb.columns.str.contains(\"Median_Cell\")]].values,\n",
    "    obs = A_comb[[\n",
    "        \"Pos\",\"Cell_Centroid_X\",\"Cell_Centroid_Y\",\"Centroid_X_global\",\"Centroid_Y_global\",\"Centroid_Y_global_flipped\",\n",
    "        \"Cell_Area\",\"Nuc_Area\",\"Mem_Area\",\"Cyt_Area\",\"Tumor\",'Area_Thresh_CD11B','Area_Thresh_CD20','Area_Thresh_CD3D',\n",
    "        'Area_Thresh_CD4','Area_Thresh_CD68','Area_Thresh_CD8','Area_Thresh_DAPI','Area_Thresh_FOXP3','Area_Thresh_LYSOZYME',\n",
    "    ]],\n",
    ")"
   ]
  },
  {
   "cell_type": "code",
   "execution_count": null,
   "metadata": {},
   "outputs": [],
   "source": [
    "b.var_names = A_comb.columns[A_comb.columns.str.contains(\"Median_Cell\")].str.split(\"_\").str[-1]"
   ]
  },
  {
   "cell_type": "code",
   "execution_count": null,
   "metadata": {},
   "outputs": [],
   "source": [
    "b.layers[\"median_cell\"] = b.X.copy()"
   ]
  },
  {
   "cell_type": "code",
   "execution_count": null,
   "metadata": {},
   "outputs": [],
   "source": [
    "b.layers[\"median_cyt\"] = A_comb.loc[:,A_comb.columns[A_comb.columns.str.contains(\"Median_Cyt\")]].values"
   ]
  },
  {
   "cell_type": "code",
   "execution_count": null,
   "metadata": {},
   "outputs": [],
   "source": [
    "b.layers[\"median_mem\"] = A_comb.loc[:,A_comb.columns[A_comb.columns.str.contains(\"Median_Mem\")]].values"
   ]
  },
  {
   "cell_type": "code",
   "execution_count": null,
   "metadata": {},
   "outputs": [],
   "source": [
    "b.layers[\"median_nuc\"] = A_comb.loc[:,A_comb.columns[A_comb.columns.str.contains(\"Median_Nuc\")]].values"
   ]
  },
  {
   "cell_type": "code",
   "execution_count": null,
   "metadata": {},
   "outputs": [],
   "source": [
    "b"
   ]
  },
  {
   "cell_type": "code",
   "execution_count": null,
   "metadata": {},
   "outputs": [],
   "source": [
    "b.write(\"../MxIF/MAP08622_0000_01E_01/MAP08622_0000_01E_01_PosStats_region_005.h5ad\", compression=\"gzip\")"
   ]
  },
  {
   "cell_type": "markdown",
   "metadata": {},
   "source": [
    "---"
   ]
  },
  {
   "cell_type": "code",
   "execution_count": null,
   "metadata": {},
   "outputs": [],
   "source": [
    "%time s = pd.read_csv(\"/Volumes/CellDive/Cody_Heiser/cody_quantification.csv\")"
   ]
  },
  {
   "cell_type": "code",
   "execution_count": null,
   "metadata": {},
   "outputs": [],
   "source": [
    "s"
   ]
  },
  {
   "cell_type": "code",
   "execution_count": null,
   "metadata": {},
   "outputs": [],
   "source": [
    "s.SlideID.value_counts()"
   ]
  },
  {
   "cell_type": "code",
   "execution_count": null,
   "metadata": {},
   "outputs": [],
   "source": [
    "s_WD86055 = s.loc[s.SlideID==\"WD86055\",:]"
   ]
  },
  {
   "cell_type": "code",
   "execution_count": null,
   "metadata": {},
   "outputs": [],
   "source": [
    "%%time\n",
    "b = sc.AnnData(\n",
    "    s_WD86055.loc[:,s_WD86055.columns[s_WD86055.columns.str.contains(\"Median_Cell\")]].values,\n",
    "    obs = s_WD86055[[\"ID\",\"SlideID\",\"Pos\",\"region\",\"Cell_Centroid_X\",\"Cell_Centroid_Y\",\"Cell_Area\",\"Nuc_Area\",\"Mem_Area\",\"Cyt_Area\"]],\n",
    ")"
   ]
  },
  {
   "cell_type": "code",
   "execution_count": null,
   "metadata": {},
   "outputs": [],
   "source": [
    "b.var_names = s_WD86055.columns[s_WD86055.columns.str.contains(\"Median_Cell\")].str.split(\"_\").str[-1]"
   ]
  },
  {
   "cell_type": "code",
   "execution_count": null,
   "metadata": {},
   "outputs": [],
   "source": [
    "b.layers[\"median_cell\"] = b.X.copy()"
   ]
  },
  {
   "cell_type": "code",
   "execution_count": null,
   "metadata": {},
   "outputs": [],
   "source": [
    "b"
   ]
  },
  {
   "cell_type": "code",
   "execution_count": null,
   "metadata": {},
   "outputs": [],
   "source": [
    "b.write(\"WD86055/WD86055_MxIF_median.h5ad\", compression=\"gzip\")"
   ]
  },
  {
   "cell_type": "code",
   "execution_count": null,
   "metadata": {},
   "outputs": [],
   "source": [
    "s_WD87480 = s.loc[s.SlideID==\"WD87480\",:]"
   ]
  },
  {
   "cell_type": "code",
   "execution_count": null,
   "metadata": {},
   "outputs": [],
   "source": [
    "%%time\n",
    "b = sc.AnnData(\n",
    "    s_WD87480.loc[:,s_WD87480.columns[s_WD87480.columns.str.contains(\"Median_Cell\")]].values,\n",
    "    obs = s_WD87480[[\"ID\",\"SlideID\",\"Pos\",\"region\",\"Cell_Centroid_X\",\"Cell_Centroid_Y\",\"Cell_Area\",\"Nuc_Area\",\"Mem_Area\",\"Cyt_Area\"]],\n",
    ")"
   ]
  },
  {
   "cell_type": "code",
   "execution_count": null,
   "metadata": {},
   "outputs": [],
   "source": [
    "b.var_names = s_WD87480.columns[s_WD87480.columns.str.contains(\"Median_Cell\")].str.split(\"_\").str[-1]"
   ]
  },
  {
   "cell_type": "code",
   "execution_count": null,
   "metadata": {},
   "outputs": [],
   "source": [
    "b.layers[\"median_cell\"] = b.X.copy()"
   ]
  },
  {
   "cell_type": "code",
   "execution_count": null,
   "metadata": {},
   "outputs": [],
   "source": [
    "b"
   ]
  },
  {
   "cell_type": "code",
   "execution_count": null,
   "metadata": {},
   "outputs": [],
   "source": [
    "b.write(\"WD87480/WD87480_MxIF_median.h5ad\", compression=\"gzip\")"
   ]
  },
  {
   "cell_type": "code",
   "execution_count": null,
   "metadata": {},
   "outputs": [],
   "source": [
    "s_WD85806 = s.loc[s.SlideID==\"WD85806\",:]"
   ]
  },
  {
   "cell_type": "code",
   "execution_count": null,
   "metadata": {},
   "outputs": [],
   "source": [
    "%%time\n",
    "b = sc.AnnData(\n",
    "    s_WD85806.loc[:,s_WD85806.columns[s_WD85806.columns.str.contains(\"Median_Cell\")]].values,\n",
    "    obs = s_WD85806[[\"ID\",\"SlideID\",\"Pos\",\"region\",\"Cell_Centroid_X\",\"Cell_Centroid_Y\",\"Cell_Area\",\"Nuc_Area\",\"Mem_Area\",\"Cyt_Area\"]],\n",
    ")"
   ]
  },
  {
   "cell_type": "code",
   "execution_count": null,
   "metadata": {},
   "outputs": [],
   "source": [
    "b.var_names = s_WD85806.columns[s_WD85806.columns.str.contains(\"Median_Cell\")].str.split(\"_\").str[-1]"
   ]
  },
  {
   "cell_type": "code",
   "execution_count": null,
   "metadata": {},
   "outputs": [],
   "source": [
    "b.layers[\"median_cell\"] = b.X.copy()"
   ]
  },
  {
   "cell_type": "code",
   "execution_count": null,
   "metadata": {},
   "outputs": [],
   "source": [
    "b"
   ]
  },
  {
   "cell_type": "code",
   "execution_count": null,
   "metadata": {},
   "outputs": [],
   "source": [
    "b.write(\"WD85806/WD85806_MxIF_median.h5ad\", compression=\"gzip\")"
   ]
  },
  {
   "cell_type": "code",
   "execution_count": null,
   "metadata": {},
   "outputs": [],
   "source": [
    "s_WD87482 = s.loc[s.SlideID==\"WD87482\",:]"
   ]
  },
  {
   "cell_type": "code",
   "execution_count": null,
   "metadata": {},
   "outputs": [],
   "source": [
    "%%time\n",
    "b = sc.AnnData(\n",
    "    s_WD87482.loc[:,s_WD87482.columns[s_WD87482.columns.str.contains(\"Median_Cell\")]].values,\n",
    "    obs = s_WD87482[[\"ID\",\"SlideID\",\"Pos\",\"region\",\"Cell_Centroid_X\",\"Cell_Centroid_Y\",\"Cell_Area\",\"Nuc_Area\",\"Mem_Area\",\"Cyt_Area\"]],\n",
    ")"
   ]
  },
  {
   "cell_type": "code",
   "execution_count": null,
   "metadata": {},
   "outputs": [],
   "source": [
    "b.var_names = s_WD87482.columns[s_WD87482.columns.str.contains(\"Median_Cell\")].str.split(\"_\").str[-1]"
   ]
  },
  {
   "cell_type": "code",
   "execution_count": null,
   "metadata": {},
   "outputs": [],
   "source": [
    "b.layers[\"median_cell\"] = b.X.copy()"
   ]
  },
  {
   "cell_type": "code",
   "execution_count": null,
   "metadata": {},
   "outputs": [],
   "source": [
    "b"
   ]
  },
  {
   "cell_type": "code",
   "execution_count": null,
   "metadata": {},
   "outputs": [],
   "source": [
    "b.write(\"WD87482/WD87482_MxIF_median.h5ad\", compression=\"gzip\")"
   ]
  },
  {
   "cell_type": "code",
   "execution_count": null,
   "metadata": {},
   "outputs": [],
   "source": [
    "s_WD86056 = s.loc[s.SlideID==\"WD86056\",:]"
   ]
  },
  {
   "cell_type": "code",
   "execution_count": null,
   "metadata": {},
   "outputs": [],
   "source": [
    "%%time\n",
    "b = sc.AnnData(\n",
    "    s_WD86056.loc[:,s_WD86056.columns[s_WD86056.columns.str.contains(\"Median_Cell\")]].values,\n",
    "    obs = s_WD86056[[\"ID\",\"SlideID\",\"Pos\",\"region\",\"Cell_Centroid_X\",\"Cell_Centroid_Y\",\"Cell_Area\",\"Nuc_Area\",\"Mem_Area\",\"Cyt_Area\"]],\n",
    ")"
   ]
  },
  {
   "cell_type": "code",
   "execution_count": null,
   "metadata": {},
   "outputs": [],
   "source": [
    "b.var_names = s_WD86056.columns[s_WD86056.columns.str.contains(\"Median_Cell\")].str.split(\"_\").str[-1]"
   ]
  },
  {
   "cell_type": "code",
   "execution_count": null,
   "metadata": {},
   "outputs": [],
   "source": [
    "b.layers[\"median_cell\"] = b.X.copy()"
   ]
  },
  {
   "cell_type": "code",
   "execution_count": null,
   "metadata": {},
   "outputs": [],
   "source": [
    "b"
   ]
  },
  {
   "cell_type": "code",
   "execution_count": null,
   "metadata": {},
   "outputs": [],
   "source": [
    "b.write(\"WD86056/WD86056_MxIF_median.h5ad\", compression=\"gzip\")"
   ]
  }
 ],
 "metadata": {
  "kernelspec": {
   "display_name": "scanpy",
   "language": "python",
   "name": "scanpy"
  },
  "language_info": {
   "codemirror_mode": {
    "name": "ipython",
    "version": 3
   },
   "file_extension": ".py",
   "mimetype": "text/x-python",
   "name": "python",
   "nbconvert_exporter": "python",
   "pygments_lexer": "ipython3",
   "version": "3.8.10"
  }
 },
 "nbformat": 4,
 "nbformat_minor": 5
}
