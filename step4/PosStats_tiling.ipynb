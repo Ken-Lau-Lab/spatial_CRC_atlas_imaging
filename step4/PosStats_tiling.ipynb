{
 "cells": [
  {
   "cell_type": "code",
   "execution_count": null,
   "metadata": {},
   "outputs": [],
   "source": [
    "import scanpy as sc\n",
    "import pandas as pd\n",
    "import matplotlib.pyplot as plt"
   ]
  },
  {
   "cell_type": "markdown",
   "metadata": {},
   "source": [
    "---"
   ]
  },
  {
   "cell_type": "code",
   "execution_count": null,
   "metadata": {},
   "outputs": [],
   "source": [
    "test = sc.read(\"WD86055/WD86055_MxIF_median.h5ad\"); test  # read in AnnData object using scanpy"
   ]
  },
  {
   "cell_type": "code",
   "execution_count": null,
   "metadata": {},
   "outputs": [],
   "source": [
    "test.obs  # .obs dataframe contains all the data needed here"
   ]
  },
  {
   "cell_type": "code",
   "execution_count": null,
   "metadata": {},
   "outputs": [],
   "source": [
    "test.obs.region.value_counts()  # there should be 6 regions"
   ]
  },
  {
   "cell_type": "code",
   "execution_count": null,
   "metadata": {},
   "outputs": [],
   "source": [
    "test = test[test.obs.region==\"region_001\",:].copy()  # select only region 1 to start"
   ]
  },
  {
   "cell_type": "code",
   "execution_count": null,
   "metadata": {},
   "outputs": [],
   "source": [
    "test  # much less cells in region 1 alone"
   ]
  },
  {
   "cell_type": "code",
   "execution_count": null,
   "metadata": {},
   "outputs": [],
   "source": [
    "plt.scatter(data=test.obs, x=\"Cell_Centroid_X\", y=\"Cell_Centroid_Y\", s=1, c=\"Cell_Area\") # try to plot cells by their centroids"
   ]
  },
  {
   "cell_type": "markdown",
   "metadata": {},
   "source": [
    "TODO:\n",
    "1. Tile out centroids (X and Y coordinates) *in each region* using \"r\" and \"c\" values in their \"Pos\"\n",
    "2. Use Eliot's/my code to transform X and Y coordinates for each region to global coordinates so the whole tissue is in the same coordinate system\n",
    "3. Use my affine transformation and final image dimensions to transform centroids from global coordinates into my \"spatial transcriptomics coordinates\""
   ]
  }
 ],
 "metadata": {
  "kernelspec": {
   "display_name": "sc",
   "language": "python",
   "name": "sc"
  },
  "language_info": {
   "codemirror_mode": {
    "name": "ipython",
    "version": 3
   },
   "file_extension": ".py",
   "mimetype": "text/x-python",
   "name": "python",
   "nbconvert_exporter": "python",
   "pygments_lexer": "ipython3",
   "version": "3.8.10"
  }
 },
 "nbformat": 4,
 "nbformat_minor": 5
}
