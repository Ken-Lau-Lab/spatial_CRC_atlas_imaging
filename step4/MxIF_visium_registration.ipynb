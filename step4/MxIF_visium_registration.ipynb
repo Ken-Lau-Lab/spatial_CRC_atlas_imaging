{
 "cells": [
  {
   "cell_type": "code",
   "execution_count": null,
   "metadata": {},
   "outputs": [],
   "source": [
    "%%javascript\n",
    "document.title=\"local\""
   ]
  },
  {
   "cell_type": "code",
   "execution_count": null,
   "metadata": {},
   "outputs": [],
   "source": [
    "from skimage import data, transform, io\n",
    "from skimage.color import rgb2gray\n",
    "import pandas as pd\n",
    "import matplotlib.pyplot as plt\n",
    "from MILWRM.MxIF import *"
   ]
  },
  {
   "cell_type": "code",
   "execution_count": null,
   "metadata": {},
   "outputs": [],
   "source": [
    "sample_key = pd.read_csv(\"/Users/cody/Dropbox (VU Basic Sciences)/fuzzy-lasagna/resources/visium_sample_key.csv\", index_col=0)\n",
    "\n",
    "sample_key.ws_adata = sample_key.ws_adata.fillna(\"\")"
   ]
  },
  {
   "cell_type": "markdown",
   "metadata": {},
   "source": [
    "---\n",
    "\n",
    "## Define functions"
   ]
  },
  {
   "cell_type": "code",
   "execution_count": null,
   "metadata": {},
   "outputs": [],
   "source": [
    "import napari\n",
    "import numpy as np\n",
    "from napari.utils.transforms import Affine\n",
    "\n",
    "def on_transform_changed_drag(event):\n",
    "    \"\"\"record affine transform as ST is manipulated\"\"\"\n",
    "    viewer.layers.selection.active.affine = event.value\n",
    "\n",
    "\n",
    "def registration_viewer(bg_img, fg_img):\n",
    "    \"\"\"\n",
    "    Run napari registration plugin\n",
    "\n",
    "    Parameters\n",
    "    ----------\n",
    "    bg_img : np.array\n",
    "        Background image to register `fg_img` to\n",
    "    fg_img : np.array\n",
    "        Foreground image to register to `bg_img`\n",
    "    \"\"\"\n",
    "    viewer = napari.view_image(bg_img)  # whole-slide image to register fg_img onto\n",
    "    viewer.add_image(fg_img, opacity=0.5)  # fg_img on top with transparency\n",
    "    # set up interaction box for moving/scaling fg_img\n",
    "    viewer.layers.selection.active.interactive = False\n",
    "    viewer.overlays.interaction_box.points = viewer.layers.selection.active.extent.world\n",
    "    viewer.overlays.interaction_box.show = True\n",
    "    viewer.overlays.interaction_box.show_vertices = True\n",
    "    viewer.overlays.interaction_box.show_handle = True\n",
    "    viewer.overlays.interaction_box.allow_new_selection = False\n",
    "    viewer.overlays.interaction_box.events.transform_drag.connect(on_transform_changed_drag)\n",
    "    # open viewer\n",
    "    napari.run()\n",
    "    # return viewer object for capturing live information\n",
    "    return viewer\n",
    "\n",
    "\n",
    "def extract_affine(viewer, fg_img):\n",
    "    \"\"\"\n",
    "    Extract the inverse of the applied affine transformation from napari `registration_viewer`\n",
    "\n",
    "    Parameters\n",
    "    ----------\n",
    "    viewer : napari.viewer\n",
    "        Napari viewer object initialized by `registration_viewer`\n",
    "    fg_img : np.array\n",
    "        Foreground image to register to `bg_img`\n",
    "\n",
    "    Returns\n",
    "    -------\n",
    "    affine : np.array\n",
    "        Affine matrix describing transformation\n",
    "    scale : tuple\n",
    "        Scale from affine transformation\n",
    "    shape : tuple\n",
    "        New shape of transformed image\n",
    "    \"\"\"\n",
    "    # extract inverse of affine\n",
    "    cut = Affine(\n",
    "        rotate=viewer.layers.selection.active.affine.inverse.rotate,\n",
    "        translate=viewer.layers.selection.active.affine.translate[::-1],\n",
    "    )\n",
    "    affine = cut.affine_matrix\n",
    "    # extract scale factor from affine object\n",
    "    scale = (\n",
    "        viewer.layers.selection.active.affine.scale[0],\n",
    "        viewer.layers.selection.active.affine.scale[1],\n",
    "        1,  # for 3D image\n",
    "    )\n",
    "    # calculate new shape from original and scale factor\n",
    "    shape = np.array(\n",
    "        np.array(fg_img.shape, dtype = np.float64) * scale,\n",
    "        dtype = int,\n",
    "    )  # keep original aspect ratio\n",
    "    return affine, scale, shape\n"
   ]
  },
  {
   "cell_type": "markdown",
   "metadata": {
    "tags": []
   },
   "source": [
    "---\n",
    "# Read in two images for registration"
   ]
  },
  {
   "cell_type": "code",
   "execution_count": null,
   "metadata": {},
   "outputs": [],
   "source": [
    "slide_id = \"SG00002\"\n",
    "visium_id = \"8899_4\""
   ]
  },
  {
   "cell_type": "code",
   "execution_count": null,
   "metadata": {},
   "outputs": [],
   "source": [
    "sample_key.loc[sample_key.patient_name==\"SG00002\", [\"sample_key\",\"ws_he\",\"ws_flip\"]]"
   ]
  },
  {
   "cell_type": "code",
   "execution_count": null,
   "metadata": {},
   "outputs": [],
   "source": [
    "%time a = img.from_npz(\"/Users/cody/Downloads/{}_downsample8.npz\".format(slide_id))"
   ]
  },
  {
   "cell_type": "code",
   "execution_count": null,
   "metadata": {},
   "outputs": [],
   "source": [
    "rgb = a.show(channels=[\"PANCK\",\"BCATENIN\",\"SMA\"], RGB=True)"
   ]
  },
  {
   "cell_type": "code",
   "execution_count": null,
   "metadata": {},
   "outputs": [],
   "source": [
    "ST = io.imread(\"/Users/cody/Dropbox (VU Basic Sciences)/fuzzy-lasagna/data/visium/datasets/8899_AS/images_alignment/V11U23-321_D1 copy.tif\")"
   ]
  },
  {
   "cell_type": "code",
   "execution_count": null,
   "metadata": {},
   "outputs": [],
   "source": [
    "plt.imshow(ST)#[::-1,::-1,:])"
   ]
  },
  {
   "cell_type": "code",
   "execution_count": null,
   "metadata": {},
   "outputs": [],
   "source": [
    "A = a[\"PANCK\",\"BCATENIN\",\"SMA\"].copy()"
   ]
  },
  {
   "cell_type": "code",
   "execution_count": null,
   "metadata": {},
   "outputs": [],
   "source": [
    "# flip the MxIF image horizontally (if needed)\n",
    "A = A[::-1,::-1,:]"
   ]
  },
  {
   "cell_type": "code",
   "execution_count": null,
   "metadata": {},
   "outputs": [],
   "source": [
    "# flip the MxIF image horizontally (if needed)\n",
    "ST = ST[::-1,::-1,:]"
   ]
  },
  {
   "cell_type": "markdown",
   "metadata": {},
   "source": [
    "## Set up napari viewer"
   ]
  },
  {
   "cell_type": "code",
   "execution_count": null,
   "metadata": {},
   "outputs": [],
   "source": [
    "import napari"
   ]
  },
  {
   "cell_type": "code",
   "execution_count": null,
   "metadata": {},
   "outputs": [],
   "source": [
    "viewer = registration_viewer(bg_img=A, fg_img=ST)"
   ]
  },
  {
   "cell_type": "markdown",
   "metadata": {},
   "source": [
    "## Extract applied affine transformation"
   ]
  },
  {
   "cell_type": "code",
   "execution_count": null,
   "metadata": {},
   "outputs": [],
   "source": [
    "affine, scale, shape = extract_affine(viewer=viewer, fg_img=ST)"
   ]
  },
  {
   "cell_type": "code",
   "execution_count": null,
   "metadata": {},
   "outputs": [],
   "source": [
    "affine"
   ]
  },
  {
   "cell_type": "code",
   "execution_count": null,
   "metadata": {},
   "outputs": [],
   "source": [
    "scale"
   ]
  },
  {
   "cell_type": "code",
   "execution_count": null,
   "metadata": {},
   "outputs": [],
   "source": [
    "shape"
   ]
  },
  {
   "cell_type": "code",
   "execution_count": null,
   "metadata": {},
   "outputs": [],
   "source": [
    "# save affine matrix and final shape to files so we don't have to re-do the manual registration in the future\n",
    "np.savetxt(\n",
    "    X=affine,\n",
    "    fname=\"/Users/cody/Downloads/{}_downsample8_{}_affine2.csv\".format(slide_id,visium_id),\n",
    "    delimiter=\",\",\n",
    ")\n",
    "np.savetxt(\n",
    "    X=shape,\n",
    "    fname=\"/Users/cody/Downloads/{}_downsample8_{}_shape2.csv\".format(slide_id,visium_id),\n",
    "    delimiter=\",\",\n",
    ")"
   ]
  },
  {
   "cell_type": "markdown",
   "metadata": {},
   "source": [
    "### Pull image out of background and export"
   ]
  },
  {
   "cell_type": "code",
   "execution_count": null,
   "metadata": {},
   "outputs": [],
   "source": [
    "image = transform.warp(A, transform.AffineTransform(affine), output_shape=abs(shape))"
   ]
  },
  {
   "cell_type": "code",
   "execution_count": null,
   "metadata": {},
   "outputs": [],
   "source": [
    "plt.imshow(image)"
   ]
  }
 ],
 "metadata": {
  "kernelspec": {
   "display_name": "sc",
   "language": "python",
   "name": "sc"
  },
  "language_info": {
   "codemirror_mode": {
    "name": "ipython",
    "version": 3
   },
   "file_extension": ".py",
   "mimetype": "text/x-python",
   "name": "python",
   "nbconvert_exporter": "python",
   "pygments_lexer": "ipython3",
   "version": "3.8.10"
  }
 },
 "nbformat": 4,
 "nbformat_minor": 5
}
