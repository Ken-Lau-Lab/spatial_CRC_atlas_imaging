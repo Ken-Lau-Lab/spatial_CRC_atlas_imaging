{
 "cells": [
  {
   "cell_type": "code",
   "execution_count": null,
   "metadata": {},
   "outputs": [],
   "source": [
    "import os\n",
    "import kitchen.ingredients as k\n",
    "import dropkick as dk\n",
    "import numpy as np\n",
    "import pandas as pd\n",
    "import MILWRM.ST as st\n",
    "import MILWRM.MxIF as mxif\n",
    "import scanpy as sc\n",
    "import sys; sys.path.append(\"../../../../../utility_scripts/\")\n",
    "from visium_utils import deconvolve_cnmf\n",
    "\n",
    "# some stuff to make this notebook work better with Scanpy\n",
    "import warnings\n",
    "warnings.simplefilter(action='ignore', category=FutureWarning)"
   ]
  },
  {
   "cell_type": "markdown",
   "metadata": {
    "tags": []
   },
   "source": [
    "---\n",
    "# Read in key dataframe with sample information"
   ]
  },
  {
   "cell_type": "code",
   "execution_count": null,
   "metadata": {},
   "outputs": [],
   "source": [
    "sample_key = pd.read_csv(\"../../../../resources/visium_sample_key.csv\", index_col=0)"
   ]
  },
  {
   "cell_type": "code",
   "execution_count": null,
   "metadata": {},
   "outputs": [],
   "source": [
    "# markers in COLON MAP PCA data\n",
    "allmarkers = [\"ACTININ\",\"BCATENIN\",\"CD3D\",\"CD4_\",\"CD8\",\"CD11B\",\"CD20\",\"CD45\",\"CD68\",\n",
    "              \"CGA\",\"COLLAGEN\",\"COX2\",\"DAPI\",\"ERBB2\",\"FOXP3\",\"GAMMAACTIN\",\"HLAA\",\"LYSOZYME\",\"MUC2\",\n",
    "              \"NAKATPASE\",\"OLFM4\",\"SOX9\",\"PANCK\",\"PCNA\",\"PEGFR\",\"PSTAT3\",\"SMA\",\"SNA\",\"VIMENTIN\"]\n",
    "\n",
    "eliotmarkers = [\"VIMENTIN\",\"SOX9\",\"SMA\",\"PSTAT3\",\"PEGFR\",\"PCNA\",\"PANCK\",\"OLFM4\",\n",
    "                \"NAKATPASE\",\"MUC5AC\",\"MUC2\",\"LYSOZYME\",\"HLAA\",\"GAMMAACTIN\",\"FOXP3\",\n",
    "                \"ERBB2\",\"COLLAGEN\",\"CGA\",\"CDX2\",\"CD68\",\"CD45\",\"CD20\",\"CD11B\",\"CD8\",\n",
    "                \"CD4_\",\"CD3D\",\"BCATENIN\",\"AQP5\",\"COX2\"]\n",
    "\n",
    "channels_26sep22 = [\"CEACAM5\",\"DPEP1\",\"CD27\",\"AQP5\",\"VIMENTIN\",\"SOX9\",\"SMA\",\"PSTAT3\",\"PEGFR\",\"PCNA\",\n",
    "                    \"PANCK\",\"OLFM4\",\"NAKATPASE\",\"MUC5AC\",\"MUC2\",\"LYSOZYME\",\"HLAA\",\"GAMMAACTIN\",\n",
    "                    \"FOXP3\",\"COLLAGEN\",\"CGA\",\"CDX2\",\"CD68\",\"CD45\",\"CD20\",\"CD11B\",\"CD8\",\"CD4_\",\n",
    "                    \"CD3D\",\"BCATENIN\"]"
   ]
  },
  {
   "cell_type": "code",
   "execution_count": null,
   "metadata": {},
   "outputs": [],
   "source": [
    "# common channels among all slides\n",
    "print(set(channels_26sep22).intersection(set(allmarkers).intersection(set(eliotmarkers))))"
   ]
  },
  {
   "cell_type": "code",
   "execution_count": null,
   "metadata": {
    "tags": []
   },
   "outputs": [],
   "source": [
    "for s in sample_key.index:\n",
    "    if os.path.exists(\"IES_npz/{}_IES.npz\".format(s)):\n",
    "        print(\"Skipping {}\".format(s))\n",
    "    else:\n",
    "        try:\n",
    "            print(\"\\nStarting: {}\".format(s))\n",
    "            print(\"Processing {}\".format(sample_key.loc[s, \"MxIF_npz\"]))\n",
    "            # read in img npz\n",
    "            a_mx = mxif.img.from_npz(\"{}\".format(sample_key.loc[s, \"MxIF_npz\"]))\n",
    "            # read in unfiltered anndata\n",
    "            a = sc.read(sample_key.loc[s, \"unfiltered_adata\"])\n",
    "            # clean up anndatas so they're lightweight\n",
    "            del a.var\n",
    "            a = a[:,:5].copy()\n",
    "\n",
    "            # read in master anndata\n",
    "            a_cellprops = sc.read(\"../../\" + sample_key.loc[s, \"MILWRM_VUMCrefNMF30_adata\"])\n",
    "            # clean up anndatas so they're lightweight\n",
    "            del a_cellprops.var\n",
    "            a_cellprops = a_cellprops[:,:5].copy()\n",
    "\n",
    "            # pre-align unfiltered anndata with master anndata\n",
    "            a.obs[\"in_tissue\"] = 0\n",
    "            a.obs.loc[a_cellprops.obs_names, \"in_tissue\"] = 1\n",
    "            # add MxIF to Visium anndata object\n",
    "            a.uns[\"spatial\"][sample_key.loc[s,\"sample_key\"]][\"images\"][\"MxIF\"] = np.dstack([a_mx.img, a_mx.mask])\n",
    "            a.uns[\"spatial\"][sample_key.loc[s,\"sample_key\"]][\"scalefactors\"][\"tissue_MxIF_scalef\"] = (\n",
    "                a_mx.img.shape[1] / a.uns[\"spatial\"][sample_key.loc[s,\"sample_key\"]][\"images\"][\"hires\"].shape[1]\n",
    "            ) * a.uns[\"spatial\"][sample_key.loc[s,\"sample_key\"]][\"scalefactors\"][\"tissue_hires_scalef\"]\n",
    "\n",
    "            # trim MxIF to Visium coordinates\n",
    "            a = st.map_pixels(a, img_key=\"MxIF\", filter_label=\"in_tissue\", map_size=a_mx.img.shape[:2])\n",
    "            st.trim_image(a, channels=a_mx.ch+[\"tissue_mask\"], plot_out=False)\n",
    "    \n",
    "            # read in master\n",
    "            a_master = sc.read(\"../../datasets/master_anndatas/{}_master.h5ad\".format(s))\n",
    "            # transfer IES\n",
    "            a.obs[\"IES\"] = a_master.obs[\"IES\"]\n",
    "    \n",
    "            p = st.assemble_pita(\n",
    "                a,\n",
    "                features=[\"IES\"],\n",
    "                use_rep=\".obs\",\n",
    "                save_to=None,\n",
    "                histo=\"hires\",\n",
    "                label=[\"IES\"],\n",
    "                cmap=\"plasma\",\n",
    "            )\n",
    "\n",
    "            # save as MILWRM npz\n",
    "            a_IES = mxif.img(p[0], channels=[\"IES\"], mask=a_mx.mask)\n",
    "            a_IES.to_npz(\"IES_npz/{}_IES.npz\".format(s))\n",
    "\n",
    "            print(\"Finished: {}\".format(s))\n",
    "        except:\n",
    "            print(\"{} Failed\".format(s))"
   ]
  }
 ],
 "metadata": {
  "kernelspec": {
   "display_name": "scanpy",
   "language": "python",
   "name": "scanpy"
  },
  "language_info": {
   "codemirror_mode": {
    "name": "ipython",
    "version": 3
   },
   "file_extension": ".py",
   "mimetype": "text/x-python",
   "name": "python",
   "nbconvert_exporter": "python",
   "pygments_lexer": "ipython3",
   "version": "3.8.10"
  }
 },
 "nbformat": 4,
 "nbformat_minor": 4
}
