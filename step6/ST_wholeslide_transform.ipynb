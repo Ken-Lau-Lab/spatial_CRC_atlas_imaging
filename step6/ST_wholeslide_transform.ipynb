{
 "cells": [
  {
   "cell_type": "code",
   "execution_count": null,
   "metadata": {},
   "outputs": [],
   "source": [
    "import kitchen.ingredients as k\n",
    "import dropkick as dk\n",
    "from MILWRM.ST import *\n",
    "from MILWRM.MxIF import *\n",
    "import sys; sys.path.append(\"../resources/\")\n",
    "from visium_utils import deconvolve_cnmf\n",
    "\n",
    "# some stuff to make this notebook work better with Scanpy\n",
    "import warnings\n",
    "warnings.simplefilter(action='ignore', category=FutureWarning)"
   ]
  },
  {
   "cell_type": "code",
   "execution_count": null,
   "metadata": {},
   "outputs": [],
   "source": [
    "from skimage import data, transform, io\n",
    "from napari.utils.transforms import Affine"
   ]
  },
  {
   "cell_type": "code",
   "execution_count": null,
   "metadata": {},
   "outputs": [],
   "source": [
    "# make output directories\n",
    "import os\n",
    "if not os.path.exists(\"ST_out\"):\n",
    "    os.mkdir(\"ST_out\")\n",
    "\n",
    "if not os.path.exists(\"ST_out/plots_overview/\"):\n",
    "    os.mkdir(\"ST_out/plots_overview/\")\n",
    "    \n",
    "if not os.path.exists(\"ST_out/plots_overview/wholeslide/\"):\n",
    "    os.mkdir(\"ST_out/plots_overview/wholeslide/\")"
   ]
  },
  {
   "cell_type": "code",
   "execution_count": null,
   "metadata": {},
   "outputs": [],
   "source": [
    "sc.set_figure_params(transparent=True, dpi_save=400)\n",
    "sc.settings.figdir = \"ST_out/plots_overview/wholeslide/\"\n",
    "import seaborn as sns; sns.set_style(\"white\")"
   ]
  },
  {
   "cell_type": "markdown",
   "metadata": {},
   "source": [
    "---\n",
    "# WD86056 Sample 6723-KL-1"
   ]
  },
  {
   "cell_type": "code",
   "execution_count": null,
   "metadata": {},
   "outputs": [],
   "source": [
    "a1 = sc.read(\"../data/ST/6723_1_WD86056_master.h5ad\"); a1"
   ]
  },
  {
   "cell_type": "code",
   "execution_count": null,
   "metadata": {},
   "outputs": [],
   "source": [
    "WD86056 = img.from_npz(file=\"../data/MxIF/WD86056/WD86056_downsample8.npz\"); WD86056"
   ]
  },
  {
   "cell_type": "code",
   "execution_count": null,
   "metadata": {},
   "outputs": [],
   "source": [
    "img1 = io.imread(\"../data/MxIF/WD86056/VirtualStains/S002_VHE_stitched_downsample8.tif\")"
   ]
  },
  {
   "cell_type": "code",
   "execution_count": null,
   "metadata": {},
   "outputs": [],
   "source": [
    "img1 = img1[1::,:WD86056.img.shape[1]:,:]"
   ]
  },
  {
   "cell_type": "code",
   "execution_count": null,
   "metadata": {},
   "outputs": [],
   "source": [
    "WD86056_HE = img(img1, mask=WD86056.mask)\n",
    "WD86056_HE.scale()\n",
    "#WD86056_HE.img = WD86056_HE.img[::-1,::-1,:]\n",
    "#WD86056_HE.mask = WD86056_HE.mask[::-1,::-1]"
   ]
  },
  {
   "cell_type": "code",
   "execution_count": null,
   "metadata": {},
   "outputs": [],
   "source": [
    "p = WD86056_HE.show(RGB=True, mask_out=False, save_to=\"plots_patient/wholeslide/show_PAT71397_WD86056_histology.png\")"
   ]
  },
  {
   "cell_type": "code",
   "execution_count": null,
   "metadata": {},
   "outputs": [],
   "source": [
    "WD86056_HE"
   ]
  },
  {
   "cell_type": "code",
   "execution_count": null,
   "metadata": {},
   "outputs": [],
   "source": [
    "bg_img = WD86056_HE.img\n",
    "for i in [0, 1, 2]:  # for 3-channel image\n",
    "    bg_img[:, :, i][WD86056_HE.mask == 0] = 1.0  # area outside mask 1.0"
   ]
  },
  {
   "cell_type": "code",
   "execution_count": null,
   "metadata": {},
   "outputs": [],
   "source": [
    "affine1 = np.genfromtxt(\n",
    "    \"../data/MxIF/WD86056/WD86056_downsample8_6723_1_affine.csv\",\n",
    "    delimiter=\",\",\n",
    ")\n",
    "shape1 = np.genfromtxt(\n",
    "    \"../data/MxIF/WD86056/WD86056_downsample8_6723_1_shape.csv\",\n",
    "    delimiter=\",\",\n",
    ")"
   ]
  },
  {
   "cell_type": "code",
   "execution_count": null,
   "metadata": {},
   "outputs": [],
   "source": [
    "affine1"
   ]
  },
  {
   "cell_type": "code",
   "execution_count": null,
   "metadata": {},
   "outputs": [],
   "source": [
    "shape1"
   ]
  },
  {
   "cell_type": "code",
   "execution_count": null,
   "metadata": {},
   "outputs": [],
   "source": [
    "shape1 * affine1[0,0]"
   ]
  },
  {
   "cell_type": "code",
   "execution_count": null,
   "metadata": {},
   "outputs": [],
   "source": [
    "scalef_adata = a1.uns[\"spatial\"][\"6723_KL_1\"][\"scalefactors\"][\"tissue_hires_scalef\"]"
   ]
  },
  {
   "cell_type": "code",
   "execution_count": null,
   "metadata": {},
   "outputs": [],
   "source": [
    "scalef = affine1[0,0]"
   ]
  },
  {
   "cell_type": "code",
   "execution_count": null,
   "metadata": {},
   "outputs": [],
   "source": [
    "a1.obsm[\"spatial_ws\"] = np.dot(\n",
    "    np.column_stack([\n",
    "        (a1.obsm[\"spatial\"]),\n",
    "        np.zeros((a1.obsm[\"spatial\"].shape[0],1))\n",
    "    ]),\n",
    "    affine1.T\n",
    ")[:,:2]"
   ]
  },
  {
   "cell_type": "code",
   "execution_count": null,
   "metadata": {},
   "outputs": [],
   "source": [
    "a1.obsm[\"spatial_ws\"]"
   ]
  },
  {
   "cell_type": "code",
   "execution_count": null,
   "metadata": {},
   "outputs": [],
   "source": [
    "a1.obsm[\"spatial_ws\"][:,0] = a1.obsm[\"spatial_ws\"][:,0] - (WD86056_HE.img.shape[1] / (scalef_adata/scalef))\n",
    "a1.obsm[\"spatial_ws\"][:,1] = a1.obsm[\"spatial_ws\"][:,1] + (WD86056_HE.img.shape[0] / (scalef/scalef_adata))"
   ]
  },
  {
   "cell_type": "code",
   "execution_count": null,
   "metadata": {},
   "outputs": [],
   "source": [
    "a1.obsm[\"spatial_ws\"][:,0] = a1.obsm[\"spatial_ws\"][:,0] - ((a1.uns[\"spatial\"][\"6723_KL_1\"][\"images\"][\"hires\"].shape[1] / scalef_adata) - (WD86056_HE.img.shape[1] / scalef))\n",
    "a1.obsm[\"spatial_ws\"][:,1] = a1.obsm[\"spatial_ws\"][:,1] + ((a1.uns[\"spatial\"][\"6723_KL_1\"][\"images\"][\"hires\"].shape[0] / scalef_adata) - (WD86056_HE.img.shape[0] / scalef))"
   ]
  },
  {
   "cell_type": "code",
   "execution_count": null,
   "metadata": {},
   "outputs": [],
   "source": [
    "a1.obsm[\"spatial_ws\"][:,1] = a1.obsm[\"spatial_ws\"][:,1] + 500"
   ]
  },
  {
   "cell_type": "code",
   "execution_count": null,
   "metadata": {},
   "outputs": [],
   "source": [
    "a1.obsm[\"spatial_ws\"] = a1.obsm[\"spatial_ws\"] * (2*scalef_adata/scalef)"
   ]
  },
  {
   "cell_type": "code",
   "execution_count": null,
   "metadata": {},
   "outputs": [],
   "source": [
    "a1.obsm[\"spatial_ws\"]"
   ]
  },
  {
   "cell_type": "code",
   "execution_count": null,
   "metadata": {},
   "outputs": [],
   "source": [
    "sc.pl.spatial(\n",
    "    a1,\n",
    "    basis=\"spatial_ws\",\n",
    "    color=\"cnv_score\",\n",
    "    img=bg_img,\n",
    "    spot_size=50,\n",
    "    scale_factor=1,\n",
    "    crop_coord=[0,WD86056_HE.img.shape[1],0,WD86056_HE.img.shape[0]],\n",
    "    frameon=False,\n",
    "    cmap=\"viridis\",\n",
    ")"
   ]
  },
  {
   "cell_type": "markdown",
   "metadata": {},
   "source": [
    "---\n",
    "# WD86056 Sample 6723-KL-2"
   ]
  },
  {
   "cell_type": "code",
   "execution_count": null,
   "metadata": {},
   "outputs": [],
   "source": [
    "a2 = sc.read(\"6723_2_WD86056_master.h5ad\"); a2"
   ]
  },
  {
   "cell_type": "code",
   "execution_count": null,
   "metadata": {},
   "outputs": [],
   "source": [
    "affine2 = np.genfromtxt(\n",
    "    \"../data/MxIF/WD86056/WD86056_downsample8_6723_2_affine.csv\",\n",
    "    delimiter=\",\",\n",
    ")\n",
    "shape2 = np.genfromtxt(\n",
    "    \"../data/MxIF/WD86056/WD86056_downsample8_6723_2_shape.csv\",\n",
    "    delimiter=\",\",\n",
    ")"
   ]
  },
  {
   "cell_type": "code",
   "execution_count": null,
   "metadata": {},
   "outputs": [],
   "source": [
    "affine2"
   ]
  },
  {
   "cell_type": "code",
   "execution_count": null,
   "metadata": {},
   "outputs": [],
   "source": [
    "shape2"
   ]
  },
  {
   "cell_type": "code",
   "execution_count": null,
   "metadata": {},
   "outputs": [],
   "source": [
    "scalef_adata2 = a2.uns[\"spatial\"][\"6723_KL_2\"][\"scalefactors\"][\"tissue_hires_scalef\"]"
   ]
  },
  {
   "cell_type": "code",
   "execution_count": null,
   "metadata": {},
   "outputs": [],
   "source": [
    "scalef2 = affine2[0,0]"
   ]
  },
  {
   "cell_type": "code",
   "execution_count": null,
   "metadata": {},
   "outputs": [],
   "source": [
    "a2.obsm[\"spatial_ws\"] = np.dot(\n",
    "    np.column_stack([\n",
    "        (a2.obsm[\"spatial\"]),\n",
    "        np.zeros((a2.obsm[\"spatial\"].shape[0],1))\n",
    "    ]),\n",
    "    affine2.T\n",
    ")[:,:2]"
   ]
  },
  {
   "cell_type": "code",
   "execution_count": null,
   "metadata": {},
   "outputs": [],
   "source": [
    "a2.obsm[\"spatial_ws\"]"
   ]
  },
  {
   "cell_type": "code",
   "execution_count": null,
   "metadata": {},
   "outputs": [],
   "source": [
    "a1.obsm[\"spatial_ws\"][:,0] = a1.obsm[\"spatial_ws\"][:,0] - (WD86056_HE.img.shape[1] / (scalef_adata/scalef))\n",
    "a1.obsm[\"spatial_ws\"][:,1] = a1.obsm[\"spatial_ws\"][:,1] + (WD86056_HE.img.shape[0] / (scalef/scalef_adata))"
   ]
  },
  {
   "cell_type": "code",
   "execution_count": null,
   "metadata": {},
   "outputs": [],
   "source": [
    "#a2.obsm[\"spatial_ws\"][:,0] = a2.obsm[\"spatial_ws\"][:,0] - ((a2.uns[\"spatial\"][\"6723_KL_2\"][\"images\"][\"hires\"].shape[1] / scalef_adata) - (WD86056_HE.img.shape[1] / scalef))\n",
    "a2.obsm[\"spatial_ws\"][:,1] = a2.obsm[\"spatial_ws\"][:,1] + 2*((a2.uns[\"spatial\"][\"6723_KL_2\"][\"images\"][\"hires\"].shape[0] / scalef_adata2) - (WD86056_HE.img.shape[0] / scalef2))"
   ]
  },
  {
   "cell_type": "code",
   "execution_count": null,
   "metadata": {},
   "outputs": [],
   "source": [
    "a2.obsm[\"spatial_ws\"][:,1] = a2.obsm[\"spatial_ws\"][:,1] + 1500\n",
    "a2.obsm[\"spatial_ws\"][:,0] = a2.obsm[\"spatial_ws\"][:,0] + 500"
   ]
  },
  {
   "cell_type": "code",
   "execution_count": null,
   "metadata": {},
   "outputs": [],
   "source": [
    "a2.obsm[\"spatial_ws\"] = a2.obsm[\"spatial_ws\"] * (2*scalef_adata2/scalef2)"
   ]
  },
  {
   "cell_type": "code",
   "execution_count": null,
   "metadata": {},
   "outputs": [],
   "source": [
    "a2.obsm[\"spatial_ws\"][:,1] = a2.obsm[\"spatial_ws\"][:,1] + 1500\n",
    "a2.obsm[\"spatial_ws\"][:,0] = a2.obsm[\"spatial_ws\"][:,0] + 500"
   ]
  },
  {
   "cell_type": "code",
   "execution_count": null,
   "metadata": {},
   "outputs": [],
   "source": [
    "a2.obsm[\"spatial_ws\"][:,1] = a2.obsm[\"spatial_ws\"][:,1] - 500\n",
    "a2.obsm[\"spatial_ws\"][:,0] = a2.obsm[\"spatial_ws\"][:,0] - 500"
   ]
  },
  {
   "cell_type": "code",
   "execution_count": null,
   "metadata": {},
   "outputs": [],
   "source": [
    "a2.obsm[\"spatial_ws\"][:,1] = a2.obsm[\"spatial_ws\"][:,1] + 500\n",
    "#a2.obsm[\"spatial_ws\"][:,0] = a2.obsm[\"spatial_ws\"][:,0] - 500"
   ]
  },
  {
   "cell_type": "code",
   "execution_count": null,
   "metadata": {},
   "outputs": [],
   "source": [
    "a2.obsm[\"spatial_ws\"][:,1] = a2.obsm[\"spatial_ws\"][:,1] - 200\n",
    "#a2.obsm[\"spatial_ws\"][:,0] = a2.obsm[\"spatial_ws\"][:,0] - 500"
   ]
  },
  {
   "cell_type": "code",
   "execution_count": null,
   "metadata": {},
   "outputs": [],
   "source": [
    "a2.obsm[\"spatial_ws\"][:,1] = a2.obsm[\"spatial_ws\"][:,1] - 20\n",
    "#a2.obsm[\"spatial_ws\"][:,0] = a2.obsm[\"spatial_ws\"][:,0] - 500"
   ]
  },
  {
   "cell_type": "code",
   "execution_count": null,
   "metadata": {},
   "outputs": [],
   "source": [
    "a2.obsm[\"spatial_ws\"]"
   ]
  },
  {
   "cell_type": "code",
   "execution_count": null,
   "metadata": {},
   "outputs": [],
   "source": [
    "sc.pl.spatial(\n",
    "    a2,\n",
    "    basis=\"spatial_ws\",\n",
    "    color=\"CytoTRACE\",\n",
    "    img=bg_img,\n",
    "    spot_size=50,\n",
    "    scale_factor=1,\n",
    "    crop_coord=[0,WD86056_HE.img.shape[1],0,WD86056_HE.img.shape[0]],\n",
    "    frameon=False\n",
    ")"
   ]
  },
  {
   "cell_type": "markdown",
   "metadata": {},
   "source": [
    "---\n",
    "# WD86056 Sample 6723-KL-3"
   ]
  },
  {
   "cell_type": "code",
   "execution_count": null,
   "metadata": {},
   "outputs": [],
   "source": [
    "a3 = sc.read(\"6723_3_WD86056_master.h5ad\"); a3"
   ]
  },
  {
   "cell_type": "code",
   "execution_count": null,
   "metadata": {},
   "outputs": [],
   "source": [
    "affine3 = np.genfromtxt(\n",
    "    \"../data/MxIF/WD86056/WD86056_downsample8_6723_3_affine.csv\",\n",
    "    delimiter=\",\",\n",
    ")\n",
    "shape3 = np.genfromtxt(\n",
    "    \"../data/MxIF/WD86056/WD86056_downsample8_6723_3_shape.csv\",\n",
    "    delimiter=\",\",\n",
    ")"
   ]
  },
  {
   "cell_type": "code",
   "execution_count": null,
   "metadata": {},
   "outputs": [],
   "source": [
    "affine3"
   ]
  },
  {
   "cell_type": "code",
   "execution_count": null,
   "metadata": {},
   "outputs": [],
   "source": [
    "shape3"
   ]
  },
  {
   "cell_type": "code",
   "execution_count": null,
   "metadata": {},
   "outputs": [],
   "source": [
    "scalef_adata3 = a3.uns[\"spatial\"][\"6723_KL_3\"][\"scalefactors\"][\"tissue_hires_scalef\"]"
   ]
  },
  {
   "cell_type": "code",
   "execution_count": null,
   "metadata": {},
   "outputs": [],
   "source": [
    "scalef3 = affine1[0,0]"
   ]
  },
  {
   "cell_type": "code",
   "execution_count": null,
   "metadata": {},
   "outputs": [],
   "source": [
    "a3.obsm[\"spatial_ws\"] = np.dot(\n",
    "    np.column_stack([\n",
    "        (a3.obsm[\"spatial\"]),\n",
    "        np.zeros((a3.obsm[\"spatial\"].shape[0],1))\n",
    "    ]),\n",
    "    affine3.T\n",
    ")[:,:2]"
   ]
  },
  {
   "cell_type": "code",
   "execution_count": null,
   "metadata": {},
   "outputs": [],
   "source": [
    "a3.obsm[\"spatial_ws\"]"
   ]
  },
  {
   "cell_type": "code",
   "execution_count": null,
   "metadata": {},
   "outputs": [],
   "source": [
    "(WD86056_HE.img.shape[1] / (scalef_adata3/scalef3))"
   ]
  },
  {
   "cell_type": "code",
   "execution_count": null,
   "metadata": {},
   "outputs": [],
   "source": [
    "(WD86056_HE.img.shape[0] / (scalef_adata3/scalef3))"
   ]
  },
  {
   "cell_type": "code",
   "execution_count": null,
   "metadata": {},
   "outputs": [],
   "source": [
    "a3.obsm[\"spatial_ws\"][:,0] = a3.obsm[\"spatial_ws\"][:,0] - (WD86056_HE.img.shape[1] / (scalef_adata3/scalef3))\n",
    "a3.obsm[\"spatial_ws\"][:,1] = a3.obsm[\"spatial_ws\"][:,1] + (WD86056_HE.img.shape[0] / (scalef3/scalef_adata3))"
   ]
  },
  {
   "cell_type": "code",
   "execution_count": null,
   "metadata": {},
   "outputs": [],
   "source": [
    "((a3.uns[\"spatial\"][\"6723_KL_3\"][\"images\"][\"hires\"].shape[0] / scalef_adata3) - (WD86056_HE.img.shape[0] / scalef3))"
   ]
  },
  {
   "cell_type": "code",
   "execution_count": null,
   "metadata": {},
   "outputs": [],
   "source": [
    "((a3.uns[\"spatial\"][\"6723_KL_3\"][\"images\"][\"hires\"].shape[1] / scalef_adata3) - (WD86056_HE.img.shape[1] / scalef3))"
   ]
  },
  {
   "cell_type": "code",
   "execution_count": null,
   "metadata": {},
   "outputs": [],
   "source": [
    "a3.obsm[\"spatial_ws\"][:,0] = a3.obsm[\"spatial_ws\"][:,0] + 2*((a3.uns[\"spatial\"][\"6723_KL_3\"][\"images\"][\"hires\"].shape[1] / scalef_adata3) - (WD86056_HE.img.shape[1] / scalef3))\n",
    "a3.obsm[\"spatial_ws\"][:,1] = a3.obsm[\"spatial_ws\"][:,1] + 2*((a3.uns[\"spatial\"][\"6723_KL_3\"][\"images\"][\"hires\"].shape[0] / scalef_adata3) - (WD86056_HE.img.shape[0] / scalef3))"
   ]
  },
  {
   "cell_type": "code",
   "execution_count": null,
   "metadata": {},
   "outputs": [],
   "source": [
    "a3.obsm[\"spatial_ws\"] = a3.obsm[\"spatial_ws\"] * (2*scalef_adata3/scalef3)"
   ]
  },
  {
   "cell_type": "code",
   "execution_count": null,
   "metadata": {},
   "outputs": [],
   "source": [
    "a3.obsm[\"spatial_ws\"]"
   ]
  },
  {
   "cell_type": "code",
   "execution_count": null,
   "metadata": {},
   "outputs": [],
   "source": [
    "a3.obsm[\"spatial_ws\"][:,1] = a3.obsm[\"spatial_ws\"][:,1] + 1300\n",
    "a3.obsm[\"spatial_ws\"][:,0] = a3.obsm[\"spatial_ws\"][:,0] + 1300"
   ]
  },
  {
   "cell_type": "code",
   "execution_count": null,
   "metadata": {},
   "outputs": [],
   "source": [
    "sc.pl.spatial(\n",
    "    a3,\n",
    "    basis=\"spatial_ws\",\n",
    "    color=\"CytoTRACE\",\n",
    "    img=bg_img,\n",
    "    spot_size=50,\n",
    "    scale_factor=1,\n",
    "    crop_coord=[0,WD86056_HE.img.shape[1],0,WD86056_HE.img.shape[0]],\n",
    "    frameon=False\n",
    ")"
   ]
  },
  {
   "cell_type": "markdown",
   "metadata": {},
   "source": [
    "---\n",
    "# WD86056 Combined"
   ]
  },
  {
   "cell_type": "code",
   "execution_count": null,
   "metadata": {},
   "outputs": [],
   "source": [
    "a_ws = a1.concatenate([a2,a3], fill_value=0)"
   ]
  },
  {
   "cell_type": "code",
   "execution_count": null,
   "metadata": {},
   "outputs": [],
   "source": [
    "a_ws"
   ]
  },
  {
   "cell_type": "code",
   "execution_count": null,
   "metadata": {},
   "outputs": [],
   "source": [
    "a_ws.write(\"PAT71397_WD86056_combined_ws.h5ad\", compression=\"gzip\")"
   ]
  },
  {
   "cell_type": "markdown",
   "metadata": {},
   "source": [
    "---\n",
    "### Replace old `.obs` metadata with new"
   ]
  },
  {
   "cell_type": "code",
   "execution_count": null,
   "metadata": {},
   "outputs": [],
   "source": [
    "a_ws = sc.read(\"PAT71397_WD86056_combined_ws.h5ad\")"
   ]
  },
  {
   "cell_type": "code",
   "execution_count": null,
   "metadata": {},
   "outputs": [],
   "source": [
    "del a_ws.obs #.drop(columns=['A1_SM', 'A2_MUC', 'A3_Adaptive', 'A4_Endocrine', 'A5_Cytotoxic', 'A6_DPEP1', 'A7_ABS', 'A8_Innate'], inplace=True)"
   ]
  },
  {
   "cell_type": "code",
   "execution_count": null,
   "metadata": {},
   "outputs": [],
   "source": [
    "a1 = sc.read(\"6723_1_WD86056_master.h5ad\")\n",
    "a2 = sc.read(\"6723_2_WD86056_master.h5ad\")\n",
    "a3 = sc.read(\"6723_3_WD86056_master.h5ad\")"
   ]
  },
  {
   "cell_type": "code",
   "execution_count": null,
   "metadata": {},
   "outputs": [],
   "source": [
    "a = a1.concatenate([a2,a3], fill_value=0)"
   ]
  },
  {
   "cell_type": "code",
   "execution_count": null,
   "metadata": {},
   "outputs": [],
   "source": [
    "a_ws.obs = a_ws.obs.merge(a.obs, left_index=True, right_index=True)"
   ]
  },
  {
   "cell_type": "markdown",
   "metadata": {},
   "source": [
    "---"
   ]
  },
  {
   "cell_type": "code",
   "execution_count": null,
   "metadata": {},
   "outputs": [],
   "source": [
    "sc.pl.spatial(\n",
    "    a_ws,\n",
    "    basis=\"spatial_ws\",\n",
    "    color=[\"cnv_leiden\"],\n",
    "    img=bg_img,\n",
    "    spot_size=50,\n",
    "    scale_factor=1,\n",
    "    crop_coord=[0,WD86056_HE.img.shape[1],0,WD86056_HE.img.shape[0]],\n",
    "    frameon=False,\n",
    "    cmap=\"viridis\",\n",
    "    save=\"_PAT71397_WD86056_cnv_leiden.png\"\n",
    ")"
   ]
  },
  {
   "cell_type": "code",
   "execution_count": null,
   "metadata": {},
   "outputs": [],
   "source": [
    "sc.pl.spatial(\n",
    "    a_ws,\n",
    "    basis=\"spatial_ws\",\n",
    "    color=signatures,\n",
    "    img=bg_img,\n",
    "    ncols=5,\n",
    "    spot_size=50,\n",
    "    scale_factor=1,\n",
    "    crop_coord=[0,WD86056_HE.img.shape[1],0,WD86056_HE.img.shape[0]],\n",
    "    frameon=False,\n",
    "    cmap=\"viridis\",\n",
    "    save=\"_PAT71397_WD86056_signatures.png\"\n",
    ")"
   ]
  },
  {
   "cell_type": "code",
   "execution_count": null,
   "metadata": {},
   "outputs": [],
   "source": [
    "et = ['A1_Innate', 'A2_Cytotoxic', 'A3_Endocrine', 'A4_MUC', 'A5_ABS', 'A6_SM', 'A7_Adaptive', 'A8_Stem']"
   ]
  },
  {
   "cell_type": "code",
   "execution_count": null,
   "metadata": {},
   "outputs": [],
   "source": [
    "sc.pl.spatial(\n",
    "    a_ws,\n",
    "    basis=\"spatial_ws\",\n",
    "    color=et,\n",
    "    img=bg_img,\n",
    "    spot_size=50,\n",
    "    scale_factor=1,\n",
    "    crop_coord=[0,WD86056_HE.img.shape[1],0,WD86056_HE.img.shape[0]],\n",
    "    frameon=False,\n",
    "    cmap=\"viridis\",\n",
    "    save=\"_PAT71397_WD86056_archetypes.png\",\n",
    "    ncols=4,\n",
    ")"
   ]
  },
  {
   "cell_type": "code",
   "execution_count": null,
   "metadata": {},
   "outputs": [],
   "source": [
    "sc.pl.spatial(\n",
    "    a_ws,\n",
    "    basis=\"spatial_ws\",\n",
    "    color=[\"CytoTRACE\",\"cnv_score\",\"cnv_leiden\"],\n",
    "    img=bg_img,\n",
    "    spot_size=50,\n",
    "    scale_factor=1,\n",
    "    crop_coord=[0,WD86056_HE.img.shape[1],0,WD86056_HE.img.shape[0]],\n",
    "    frameon=False,\n",
    "    cmap=\"viridis\",\n",
    "    save=\"_PAT71397_WD86056_cnv_progression.png\",\n",
    ")"
   ]
  },
  {
   "cell_type": "markdown",
   "metadata": {},
   "source": [
    "---\n",
    "# WD86055 Sample 6723-KL-4"
   ]
  },
  {
   "cell_type": "code",
   "execution_count": null,
   "metadata": {},
   "outputs": [],
   "source": [
    "a4 = sc.read(\"6723_4_WD86055_master.h5ad\"); a4"
   ]
  },
  {
   "cell_type": "code",
   "execution_count": null,
   "metadata": {},
   "outputs": [],
   "source": [
    "WD86055 = img.from_npz(file=\"../data/MxIF/WD86055/WD86055_downsample8.npz\"); WD86055"
   ]
  },
  {
   "cell_type": "code",
   "execution_count": null,
   "metadata": {},
   "outputs": [],
   "source": [
    "img1 = io.imread(\"../data/MxIF/WD86055/VirtualStains/S002_VHE_stitched_downsample8.tif\")"
   ]
  },
  {
   "cell_type": "code",
   "execution_count": null,
   "metadata": {},
   "outputs": [],
   "source": [
    "WD86055_HE = img(img1, mask=WD86055.mask)\n",
    "WD86055_HE.scale()\n",
    "WD86055_HE.img = WD86055_HE.img[::-1,::-1,:]\n",
    "WD86055_HE.mask = WD86055_HE.mask[::-1,::-1]"
   ]
  },
  {
   "cell_type": "code",
   "execution_count": null,
   "metadata": {},
   "outputs": [],
   "source": [
    "p = WD86055_HE.show(RGB=True)"
   ]
  },
  {
   "cell_type": "code",
   "execution_count": null,
   "metadata": {},
   "outputs": [],
   "source": [
    "bg_img = WD86055_HE.img\n",
    "for i in [0, 1, 2]:  # for 3-channel image\n",
    "    bg_img[:, :, i][WD86055_HE.mask == 0] = 1.0  # area outside mask 1.0"
   ]
  },
  {
   "cell_type": "code",
   "execution_count": null,
   "metadata": {},
   "outputs": [],
   "source": [
    "affine4 = np.genfromtxt(\n",
    "    \"../data/MxIF/WD86055/WD86055_downsample8_6723_4_affine.csv\",\n",
    "    delimiter=\",\",\n",
    ")\n",
    "shape4 = np.genfromtxt(\n",
    "    \"../data/MxIF/WD86055/WD86055_downsample8_6723_4_shape.csv\",\n",
    "    delimiter=\",\",\n",
    ")"
   ]
  },
  {
   "cell_type": "code",
   "execution_count": null,
   "metadata": {},
   "outputs": [],
   "source": [
    "affine4"
   ]
  },
  {
   "cell_type": "code",
   "execution_count": null,
   "metadata": {},
   "outputs": [],
   "source": [
    "shape4"
   ]
  },
  {
   "cell_type": "code",
   "execution_count": null,
   "metadata": {},
   "outputs": [],
   "source": [
    "scalef_adata4 = a4.uns[\"spatial\"][\"6723_KL_4\"][\"scalefactors\"][\"tissue_hires_scalef\"]"
   ]
  },
  {
   "cell_type": "code",
   "execution_count": null,
   "metadata": {},
   "outputs": [],
   "source": [
    "scalef4 = affine4[0,0]"
   ]
  },
  {
   "cell_type": "code",
   "execution_count": null,
   "metadata": {},
   "outputs": [],
   "source": [
    "scalef4"
   ]
  },
  {
   "cell_type": "code",
   "execution_count": null,
   "metadata": {},
   "outputs": [],
   "source": [
    "scalef_adata4"
   ]
  },
  {
   "cell_type": "code",
   "execution_count": null,
   "metadata": {},
   "outputs": [],
   "source": [
    "a4.obsm[\"spatial_ws\"] = np.dot(\n",
    "    np.column_stack([\n",
    "        (a4.obsm[\"spatial\"]),\n",
    "        np.zeros((a4.obsm[\"spatial\"].shape[0],1))\n",
    "    ]),\n",
    "    affine4.T\n",
    ")[:,:2]"
   ]
  },
  {
   "cell_type": "code",
   "execution_count": null,
   "metadata": {},
   "outputs": [],
   "source": [
    "a4.obsm[\"spatial_ws\"]"
   ]
  },
  {
   "cell_type": "code",
   "execution_count": null,
   "metadata": {},
   "outputs": [],
   "source": [
    "#a4.obsm[\"spatial_ws\"][:,0] = a4.obsm[\"spatial_ws\"][:,0] - ((a4.uns[\"spatial\"][\"6723_KL_4\"][\"images\"][\"hires\"].shape[1] / scalef_adata4) - (WD86055_HE.img.shape[1] / scalef4))\n",
    "a4.obsm[\"spatial_ws\"][:,1] = a4.obsm[\"spatial_ws\"][:,1] + ((a4.uns[\"spatial\"][\"6723_KL_4\"][\"images\"][\"hires\"].shape[0] / scalef_adata4) - (WD86055_HE.img.shape[0] / scalef4))"
   ]
  },
  {
   "cell_type": "code",
   "execution_count": null,
   "metadata": {},
   "outputs": [],
   "source": [
    "a4.obsm[\"spatial_ws\"] = a4.obsm[\"spatial_ws\"] * (scalef_adata4/scalef4)"
   ]
  },
  {
   "cell_type": "code",
   "execution_count": null,
   "metadata": {},
   "outputs": [],
   "source": [
    "a4.obsm[\"spatial_ws\"][:,1] = a4.obsm[\"spatial_ws\"][:,1] + 1300\n",
    "#a4.obsm[\"spatial_ws\"][:,0] = a4.obsm[\"spatial_ws\"][:,0] + 1300"
   ]
  },
  {
   "cell_type": "code",
   "execution_count": null,
   "metadata": {},
   "outputs": [],
   "source": [
    "a4.obsm[\"spatial_ws\"][:,1] = a4.obsm[\"spatial_ws\"][:,1] + 500\n",
    "a4.obsm[\"spatial_ws\"][:,0] = a4.obsm[\"spatial_ws\"][:,0] - 300"
   ]
  },
  {
   "cell_type": "code",
   "execution_count": null,
   "metadata": {},
   "outputs": [],
   "source": [
    "a4.obsm[\"spatial_ws\"][:,1] = a4.obsm[\"spatial_ws\"][:,1] + 500\n",
    "a4.obsm[\"spatial_ws\"][:,0] = a4.obsm[\"spatial_ws\"][:,0] - 300"
   ]
  },
  {
   "cell_type": "code",
   "execution_count": null,
   "metadata": {},
   "outputs": [],
   "source": [
    "a4.obsm[\"spatial_ws\"][:,1] = a4.obsm[\"spatial_ws\"][:,1] + 300\n",
    "a4.obsm[\"spatial_ws\"][:,0] = a4.obsm[\"spatial_ws\"][:,0] - 300"
   ]
  },
  {
   "cell_type": "code",
   "execution_count": null,
   "metadata": {},
   "outputs": [],
   "source": [
    "a4.obsm[\"spatial_ws\"][:,1] = a4.obsm[\"spatial_ws\"][:,1] + 300\n",
    "a4.obsm[\"spatial_ws\"][:,0] = a4.obsm[\"spatial_ws\"][:,0] - 100"
   ]
  },
  {
   "cell_type": "code",
   "execution_count": null,
   "metadata": {},
   "outputs": [],
   "source": [
    "#a4.obsm[\"spatial_ws\"][:,1] = a4.obsm[\"spatial_ws\"][:,1] + 300\n",
    "a4.obsm[\"spatial_ws\"][:,0] = a4.obsm[\"spatial_ws\"][:,0] - 100"
   ]
  },
  {
   "cell_type": "code",
   "execution_count": null,
   "metadata": {},
   "outputs": [],
   "source": [
    "a4.obsm[\"spatial_ws\"]"
   ]
  },
  {
   "cell_type": "code",
   "execution_count": null,
   "metadata": {},
   "outputs": [],
   "source": [
    "sc.pl.spatial(\n",
    "    a4,\n",
    "    basis=\"spatial_ws\",\n",
    "    color=\"cnv_score\",\n",
    "    img=bg_img,\n",
    "    spot_size=50,\n",
    "    scale_factor=1,\n",
    "    crop_coord=[0,WD86055_HE.img.shape[1],0,WD86055_HE.img.shape[0]],\n",
    "    frameon=False,\n",
    "    cmap=\"viridis\",\n",
    ")"
   ]
  },
  {
   "cell_type": "code",
   "execution_count": null,
   "metadata": {},
   "outputs": [],
   "source": [
    "# flip coords in second sample\n",
    "a4.obsm[\"spatial_ws\"][:,0] = WD86055_HE.img.shape[1] - a4.obsm[\"spatial_ws\"][:,0]\n",
    "a4.obsm[\"spatial_ws\"][:,1] = WD86055_HE.img.shape[0] - a4.obsm[\"spatial_ws\"][:,1]"
   ]
  },
  {
   "cell_type": "code",
   "execution_count": null,
   "metadata": {},
   "outputs": [],
   "source": [
    "# flip image back\n",
    "WD86055_HE.img = WD86055_HE.img[::-1,::-1,:]\n",
    "WD86055_HE.mask = WD86055_HE.mask[::-1,::-1]\n",
    "\n",
    "bg_img = WD86055_HE.img\n",
    "for i in [0, 1, 2]:  # for 3-channel image\n",
    "    bg_img[:, :, i][WD86055_HE.mask == 0] = 1.0  # area outside mask 1.0"
   ]
  },
  {
   "cell_type": "code",
   "execution_count": null,
   "metadata": {},
   "outputs": [],
   "source": [
    "p = WD86055_HE.show(RGB=True, mask_out=False, save_to=\"plots_patient/wholeslide/show_PAT71397_WD86055_histology.png\")"
   ]
  },
  {
   "cell_type": "code",
   "execution_count": null,
   "metadata": {},
   "outputs": [],
   "source": [
    "a4.write(\"PAT71397_WD86055_combined_ws.h5ad\", compression=\"gzip\")"
   ]
  },
  {
   "cell_type": "markdown",
   "metadata": {},
   "source": [
    "---\n",
    "### Replace old metadata with new"
   ]
  },
  {
   "cell_type": "code",
   "execution_count": null,
   "metadata": {},
   "outputs": [],
   "source": [
    "a4 = sc.read(\"PAT71397_WD86055_combined_ws.h5ad\")"
   ]
  },
  {
   "cell_type": "code",
   "execution_count": null,
   "metadata": {},
   "outputs": [],
   "source": [
    "del a4.obs"
   ]
  },
  {
   "cell_type": "code",
   "execution_count": null,
   "metadata": {},
   "outputs": [],
   "source": [
    "a4_normal = sc.read(\"6723_4_WD86055_master.h5ad\")"
   ]
  },
  {
   "cell_type": "code",
   "execution_count": null,
   "metadata": {},
   "outputs": [],
   "source": [
    "a4.obs = a4.obs.merge(a4_normal.obs, left_index=True, right_index=True)"
   ]
  },
  {
   "cell_type": "markdown",
   "metadata": {},
   "source": [
    "---"
   ]
  },
  {
   "cell_type": "code",
   "execution_count": null,
   "metadata": {},
   "outputs": [],
   "source": [
    "sc.pl.spatial(\n",
    "    a4,\n",
    "    basis=\"spatial_ws\",\n",
    "    color=[\"cnv_leiden\"],\n",
    "    img=bg_img,\n",
    "    spot_size=50,\n",
    "    scale_factor=1,\n",
    "    crop_coord=[0,WD86055_HE.img.shape[1],0,WD86055_HE.img.shape[0]],\n",
    "    frameon=False,\n",
    "    cmap=\"viridis\",\n",
    "    #save=\"_PAT71397_WD86055_cnv_leiden.png\"\n",
    ")"
   ]
  },
  {
   "cell_type": "markdown",
   "metadata": {},
   "source": [
    "---\n",
    "# WD87482 Sample 7003-AS-7"
   ]
  },
  {
   "cell_type": "code",
   "execution_count": null,
   "metadata": {},
   "outputs": [],
   "source": [
    "a1 = sc.read(\"7003_7_WD87482_master.h5ad\"); a1"
   ]
  },
  {
   "cell_type": "code",
   "execution_count": null,
   "metadata": {},
   "outputs": [],
   "source": [
    "WD87482 = img.from_npz(file=\"../data/MxIF/WD87482/WD87482_downsample8.npz\"); WD87482"
   ]
  },
  {
   "cell_type": "code",
   "execution_count": null,
   "metadata": {},
   "outputs": [],
   "source": [
    "img1 = io.imread(\"../data/MxIF/WD87482/VirtualStains/S002_VHE_stitched_downsample8.tif\")"
   ]
  },
  {
   "cell_type": "code",
   "execution_count": null,
   "metadata": {},
   "outputs": [],
   "source": [
    "img1 = img1[1::,:WD87482.img.shape[1]:,:]"
   ]
  },
  {
   "cell_type": "code",
   "execution_count": null,
   "metadata": {},
   "outputs": [],
   "source": [
    "WD87482_HE = img(img1, mask=WD87482.mask)\n",
    "WD87482_HE.scale()\n",
    "WD87482_HE.img = WD87482_HE.img[::-1,::-1,:]\n",
    "WD87482_HE.mask = WD87482_HE.mask[::-1,::-1]"
   ]
  },
  {
   "cell_type": "code",
   "execution_count": null,
   "metadata": {},
   "outputs": [],
   "source": [
    "WD87482_HE"
   ]
  },
  {
   "cell_type": "code",
   "execution_count": null,
   "metadata": {},
   "outputs": [],
   "source": [
    "bg_img = WD87482_HE.img\n",
    "for i in [0, 1, 2]:  # for 3-channel image\n",
    "    bg_img[:, :, i][WD87482_HE.mask == 0] = 1.0  # area outside mask 1.0"
   ]
  },
  {
   "cell_type": "code",
   "execution_count": null,
   "metadata": {},
   "outputs": [],
   "source": [
    "p = WD87482_HE.show(RGB=True, mask_out=False, save_to=\"plots_patient/wholeslide/show_PAT73899_histology.png\")"
   ]
  },
  {
   "cell_type": "code",
   "execution_count": null,
   "metadata": {},
   "outputs": [],
   "source": [
    "affine1 = np.genfromtxt(\n",
    "    \"../data/MxIF/WD87482/WD87482_downsample8_7003_7_affine.csv\",\n",
    "    delimiter=\",\",\n",
    ")\n",
    "shape1 = np.genfromtxt(\n",
    "    \"../data/MxIF/WD87482/WD87482_downsample8_7003_7_shape.csv\",\n",
    "    delimiter=\",\",\n",
    ")"
   ]
  },
  {
   "cell_type": "code",
   "execution_count": null,
   "metadata": {},
   "outputs": [],
   "source": [
    "affine1"
   ]
  },
  {
   "cell_type": "code",
   "execution_count": null,
   "metadata": {},
   "outputs": [],
   "source": [
    "shape1"
   ]
  },
  {
   "cell_type": "code",
   "execution_count": null,
   "metadata": {},
   "outputs": [],
   "source": [
    "shape1 * affine1[0,0]"
   ]
  },
  {
   "cell_type": "code",
   "execution_count": null,
   "metadata": {},
   "outputs": [],
   "source": [
    "scalef_adata1 = a1.uns[\"spatial\"][\"7003_AS_7\"][\"scalefactors\"][\"tissue_hires_scalef\"]"
   ]
  },
  {
   "cell_type": "code",
   "execution_count": null,
   "metadata": {},
   "outputs": [],
   "source": [
    "scalef1 = affine1[0,0]"
   ]
  },
  {
   "cell_type": "code",
   "execution_count": null,
   "metadata": {},
   "outputs": [],
   "source": [
    "a1.obsm[\"spatial_ws\"] = np.dot(\n",
    "    np.column_stack([\n",
    "        (a1.obsm[\"spatial\"]),\n",
    "        np.zeros((a1.obsm[\"spatial\"].shape[0],1))\n",
    "    ]),\n",
    "    affine1.T\n",
    ")[:,:2]"
   ]
  },
  {
   "cell_type": "code",
   "execution_count": null,
   "metadata": {},
   "outputs": [],
   "source": [
    "a1.obsm[\"spatial_ws\"]"
   ]
  },
  {
   "cell_type": "code",
   "execution_count": null,
   "metadata": {},
   "outputs": [],
   "source": [
    "a1.obsm[\"spatial_ws\"] = a1.obsm[\"spatial_ws\"] * (2*scalef_adata1/scalef1)"
   ]
  },
  {
   "cell_type": "code",
   "execution_count": null,
   "metadata": {},
   "outputs": [],
   "source": [
    "a1.obsm[\"spatial_ws\"][:,0] = a1.obsm[\"spatial_ws\"][:,0] + 1000\n",
    "a1.obsm[\"spatial_ws\"][:,1] = a1.obsm[\"spatial_ws\"][:,1] - 800"
   ]
  },
  {
   "cell_type": "code",
   "execution_count": null,
   "metadata": {},
   "outputs": [],
   "source": [
    "a1.obsm[\"spatial_ws\"][:,0] = a1.obsm[\"spatial_ws\"][:,0] + 500\n",
    "a1.obsm[\"spatial_ws\"][:,1] = a1.obsm[\"spatial_ws\"][:,1] - 100"
   ]
  },
  {
   "cell_type": "code",
   "execution_count": null,
   "metadata": {},
   "outputs": [],
   "source": [
    "a1.obsm[\"spatial_ws\"][:,0] = a1.obsm[\"spatial_ws\"][:,0] + 300\n",
    "#a1.obsm[\"spatial_ws\"][:,1] = a1.obsm[\"spatial_ws\"][:,1] + 200"
   ]
  },
  {
   "cell_type": "code",
   "execution_count": null,
   "metadata": {},
   "outputs": [],
   "source": [
    "a1.obsm[\"spatial_ws\"][:,0] = a1.obsm[\"spatial_ws\"][:,0] + 200\n",
    "a1.obsm[\"spatial_ws\"][:,1] = a1.obsm[\"spatial_ws\"][:,1] + 200"
   ]
  },
  {
   "cell_type": "code",
   "execution_count": null,
   "metadata": {},
   "outputs": [],
   "source": [
    "a1.obsm[\"spatial_ws\"]"
   ]
  },
  {
   "cell_type": "code",
   "execution_count": null,
   "metadata": {},
   "outputs": [],
   "source": [
    "sc.pl.spatial(\n",
    "    a1,\n",
    "    basis=\"spatial_ws\",\n",
    "    color=\"cnv_score\",\n",
    "    img=bg_img,\n",
    "    spot_size=50,\n",
    "    scale_factor=1,\n",
    "    crop_coord=[0,WD87482_HE.img.shape[1],0,WD87482_HE.img.shape[0]],\n",
    "    frameon=False,\n",
    "    cmap=\"viridis\",\n",
    ")"
   ]
  },
  {
   "cell_type": "markdown",
   "metadata": {},
   "source": [
    "---\n",
    "# WD87482 Sample 7003-AS-8"
   ]
  },
  {
   "cell_type": "code",
   "execution_count": null,
   "metadata": {},
   "outputs": [],
   "source": [
    "a2 = sc.read(\"7003_8_WD87482_master.h5ad\"); a2"
   ]
  },
  {
   "cell_type": "code",
   "execution_count": null,
   "metadata": {},
   "outputs": [],
   "source": [
    "WD87482 = img.from_npz(file=\"../data/MxIF/WD87482/WD87482_downsample8.npz\"); WD87482"
   ]
  },
  {
   "cell_type": "code",
   "execution_count": null,
   "metadata": {},
   "outputs": [],
   "source": [
    "img1 = io.imread(\"../data/MxIF/WD87482/VirtualStains/S002_VHE_stitched_downsample8.tif\")"
   ]
  },
  {
   "cell_type": "code",
   "execution_count": null,
   "metadata": {},
   "outputs": [],
   "source": [
    "img1 = img1[1::,:WD87482.img.shape[1]:,:]"
   ]
  },
  {
   "cell_type": "code",
   "execution_count": null,
   "metadata": {},
   "outputs": [],
   "source": [
    "WD87482_HE = img(img1, mask=WD87482.mask)\n",
    "WD87482_HE.scale()\n",
    "#WD87482_HE.img = WD87482_HE.img[::-1,::-1,:]\n",
    "#WD87482_HE.mask = WD87482_HE.mask[::-1,::-1]"
   ]
  },
  {
   "cell_type": "code",
   "execution_count": null,
   "metadata": {},
   "outputs": [],
   "source": [
    "WD87482_HE"
   ]
  },
  {
   "cell_type": "code",
   "execution_count": null,
   "metadata": {},
   "outputs": [],
   "source": [
    "bg_img = WD87482_HE.img\n",
    "for i in [0, 1, 2]:  # for 3-channel image\n",
    "    bg_img[:, :, i][WD87482_HE.mask == 0] = 1.0  # area outside mask 1.0"
   ]
  },
  {
   "cell_type": "code",
   "execution_count": null,
   "metadata": {},
   "outputs": [],
   "source": [
    "p = WD87482_HE.show(RGB=True, mask_out=False)#, save_to=\"figures/show_PAT73899_histology.png\")"
   ]
  },
  {
   "cell_type": "code",
   "execution_count": null,
   "metadata": {},
   "outputs": [],
   "source": [
    "affine2 = np.genfromtxt(\n",
    "    \"../data/MxIF/WD87482/WD87482_downsample8_7003_8_affine.csv\",\n",
    "    delimiter=\",\",\n",
    ")\n",
    "shape2 = np.genfromtxt(\n",
    "    \"../data/MxIF/WD87482/WD87482_downsample8_7003_8_shape.csv\",\n",
    "    delimiter=\",\",\n",
    ")"
   ]
  },
  {
   "cell_type": "code",
   "execution_count": null,
   "metadata": {},
   "outputs": [],
   "source": [
    "affine2"
   ]
  },
  {
   "cell_type": "code",
   "execution_count": null,
   "metadata": {},
   "outputs": [],
   "source": [
    "shape2"
   ]
  },
  {
   "cell_type": "code",
   "execution_count": null,
   "metadata": {},
   "outputs": [],
   "source": [
    "scalef_adata2 = a2.uns[\"spatial\"][\"7003_AS_8\"][\"scalefactors\"][\"tissue_hires_scalef\"]"
   ]
  },
  {
   "cell_type": "code",
   "execution_count": null,
   "metadata": {},
   "outputs": [],
   "source": [
    "scalef2 = affine2[0,0]"
   ]
  },
  {
   "cell_type": "code",
   "execution_count": null,
   "metadata": {},
   "outputs": [],
   "source": [
    "a2.obsm[\"spatial_ws\"] = np.dot(\n",
    "    np.column_stack([\n",
    "        (a2.obsm[\"spatial\"]),\n",
    "        np.zeros((a2.obsm[\"spatial\"].shape[0],1))\n",
    "    ]),\n",
    "    affine2.T\n",
    ")[:,:2]"
   ]
  },
  {
   "cell_type": "code",
   "execution_count": null,
   "metadata": {},
   "outputs": [],
   "source": [
    "a2.obsm[\"spatial_ws\"]"
   ]
  },
  {
   "cell_type": "code",
   "execution_count": null,
   "metadata": {},
   "outputs": [],
   "source": [
    "a2.obsm[\"spatial_ws\"] = a2.obsm[\"spatial_ws\"] * (2*scalef_adata2/scalef2)"
   ]
  },
  {
   "cell_type": "code",
   "execution_count": null,
   "metadata": {},
   "outputs": [],
   "source": [
    "a2.obsm[\"spatial_ws\"][:,1] = a2.obsm[\"spatial_ws\"][:,1] - 500\n",
    "a2.obsm[\"spatial_ws\"][:,0] = a2.obsm[\"spatial_ws\"][:,0] + 1500"
   ]
  },
  {
   "cell_type": "code",
   "execution_count": null,
   "metadata": {},
   "outputs": [],
   "source": [
    "a2.obsm[\"spatial_ws\"][:,1] = a2.obsm[\"spatial_ws\"][:,1] - 50\n",
    "a2.obsm[\"spatial_ws\"][:,0] = a2.obsm[\"spatial_ws\"][:,0] + 1500"
   ]
  },
  {
   "cell_type": "code",
   "execution_count": null,
   "metadata": {},
   "outputs": [],
   "source": [
    "a2.obsm[\"spatial_ws\"]"
   ]
  },
  {
   "cell_type": "code",
   "execution_count": null,
   "metadata": {},
   "outputs": [],
   "source": [
    "sc.pl.spatial(\n",
    "    a2,\n",
    "    basis=\"spatial_ws\",\n",
    "    color=\"CytoTRACE\",\n",
    "    img=bg_img,\n",
    "    spot_size=50,\n",
    "    scale_factor=1,\n",
    "    crop_coord=[0,WD87482_HE.img.shape[1],0,WD87482_HE.img.shape[0]],\n",
    "    frameon=False,\n",
    "    cmap=\"viridis\",\n",
    ")"
   ]
  },
  {
   "cell_type": "markdown",
   "metadata": {},
   "source": [
    "---\n",
    "# WD87482 Combined"
   ]
  },
  {
   "cell_type": "code",
   "execution_count": null,
   "metadata": {},
   "outputs": [],
   "source": [
    "# flip coords in second sample\n",
    "a2.obsm[\"spatial_ws\"][:,0] = WD87482_HE.img.shape[1] - a2.obsm[\"spatial_ws\"][:,0]\n",
    "a2.obsm[\"spatial_ws\"][:,1] = WD87482_HE.img.shape[0] - a2.obsm[\"spatial_ws\"][:,1]"
   ]
  },
  {
   "cell_type": "code",
   "execution_count": null,
   "metadata": {},
   "outputs": [],
   "source": [
    "a_ws = a1.concatenate([a2], fill_value=0)"
   ]
  },
  {
   "cell_type": "code",
   "execution_count": null,
   "metadata": {},
   "outputs": [],
   "source": [
    "a_ws"
   ]
  },
  {
   "cell_type": "code",
   "execution_count": null,
   "metadata": {},
   "outputs": [],
   "source": [
    "a_ws.write(\"PAT73899_combined_ws.h5ad\", compression=\"gzip\")"
   ]
  },
  {
   "cell_type": "markdown",
   "metadata": {},
   "source": [
    "---\n",
    "### Replace old metadata with new"
   ]
  },
  {
   "cell_type": "code",
   "execution_count": null,
   "metadata": {},
   "outputs": [],
   "source": [
    "a_ws = sc.read(\"PAT73899_combined_ws.h5ad\")"
   ]
  },
  {
   "cell_type": "code",
   "execution_count": null,
   "metadata": {},
   "outputs": [],
   "source": [
    "del a_ws.obs"
   ]
  },
  {
   "cell_type": "code",
   "execution_count": null,
   "metadata": {},
   "outputs": [],
   "source": [
    "a1 = sc.read(\"7003_7_WD87482_master.h5ad\")\n",
    "a2 = sc.read(\"7003_8_WD87482_master.h5ad\")"
   ]
  },
  {
   "cell_type": "code",
   "execution_count": null,
   "metadata": {},
   "outputs": [],
   "source": [
    "a = a1.concatenate([a2], fill_value=0)"
   ]
  },
  {
   "cell_type": "code",
   "execution_count": null,
   "metadata": {},
   "outputs": [],
   "source": [
    "a_ws.obs = a_ws.obs.merge(a.obs, left_index=True, right_index=True)"
   ]
  },
  {
   "cell_type": "markdown",
   "metadata": {},
   "source": [
    "---"
   ]
  },
  {
   "cell_type": "code",
   "execution_count": null,
   "metadata": {},
   "outputs": [],
   "source": [
    "sc.pl.spatial(\n",
    "    a_ws,\n",
    "    basis=\"spatial_ws\",\n",
    "    color=[\"cnv_leiden\"],\n",
    "    img=bg_img,\n",
    "    spot_size=50,\n",
    "    scale_factor=1,\n",
    "    crop_coord=[0,WD87482_HE.img.shape[1],0,WD87482_HE.img.shape[0]],\n",
    "    frameon=False,\n",
    "    cmap=\"viridis\",\n",
    "    save=\"_PAT73899_cnv_leiden.png\"\n",
    ")"
   ]
  },
  {
   "cell_type": "markdown",
   "metadata": {},
   "source": [
    "---\n",
    "# WD87480 Sample 7003-AS-5"
   ]
  },
  {
   "cell_type": "code",
   "execution_count": null,
   "metadata": {},
   "outputs": [],
   "source": [
    "a1 = sc.read(\"7003_5_WD87480_master.h5ad\"); a1"
   ]
  },
  {
   "cell_type": "code",
   "execution_count": null,
   "metadata": {},
   "outputs": [],
   "source": [
    "WD87480 = img.from_npz(file=\"../data/MxIF/WD87480/WD87480_downsample8.npz\"); WD87480"
   ]
  },
  {
   "cell_type": "code",
   "execution_count": null,
   "metadata": {},
   "outputs": [],
   "source": [
    "img1 = io.imread(\"../data/MxIF/WD87480/VirtualStains/S002_VHE_stitched_downsample8.tif\")"
   ]
  },
  {
   "cell_type": "code",
   "execution_count": null,
   "metadata": {},
   "outputs": [],
   "source": [
    "img1 = img1[1::,:WD87480.img.shape[1]:,:]"
   ]
  },
  {
   "cell_type": "code",
   "execution_count": null,
   "metadata": {},
   "outputs": [],
   "source": [
    "WD87480_HE = img(img1, mask=WD87480.mask)\n",
    "WD87480_HE.scale()\n",
    "WD87480_HE.img = WD87480_HE.img[::-1,::-1,:]\n",
    "WD87480_HE.mask = WD87480_HE.mask[::-1,::-1]"
   ]
  },
  {
   "cell_type": "code",
   "execution_count": null,
   "metadata": {},
   "outputs": [],
   "source": [
    "WD87480_HE"
   ]
  },
  {
   "cell_type": "code",
   "execution_count": null,
   "metadata": {},
   "outputs": [],
   "source": [
    "bg_img = WD87480_HE.img\n",
    "for i in [0, 1, 2]:  # for 3-channel image\n",
    "    bg_img[:, :, i][WD87480_HE.mask == 0] = 1.0  # area outside mask 1.0"
   ]
  },
  {
   "cell_type": "code",
   "execution_count": null,
   "metadata": {},
   "outputs": [],
   "source": [
    "p = WD87480_HE.show(RGB=True, mask_out=False, save_to=\"plots_patient/wholeslide/show_PAT71662_histology.png\")"
   ]
  },
  {
   "cell_type": "code",
   "execution_count": null,
   "metadata": {},
   "outputs": [],
   "source": [
    "affine1 = np.genfromtxt(\n",
    "    \"../data/MxIF/WD87480/WD87480_downsample8_7003_5_affine.csv\",\n",
    "    delimiter=\",\",\n",
    ")\n",
    "shape1 = np.genfromtxt(\n",
    "    \"../data/MxIF/WD87480/WD87480_downsample8_7003_5_shape.csv\",\n",
    "    delimiter=\",\",\n",
    ")"
   ]
  },
  {
   "cell_type": "code",
   "execution_count": null,
   "metadata": {},
   "outputs": [],
   "source": [
    "affine1"
   ]
  },
  {
   "cell_type": "code",
   "execution_count": null,
   "metadata": {},
   "outputs": [],
   "source": [
    "shape1"
   ]
  },
  {
   "cell_type": "code",
   "execution_count": null,
   "metadata": {},
   "outputs": [],
   "source": [
    "scalef_adata1 = a1.uns[\"spatial\"][\"7003_AS_5\"][\"scalefactors\"][\"tissue_hires_scalef\"]"
   ]
  },
  {
   "cell_type": "code",
   "execution_count": null,
   "metadata": {},
   "outputs": [],
   "source": [
    "scalef1 = affine1[0,0]"
   ]
  },
  {
   "cell_type": "code",
   "execution_count": null,
   "metadata": {},
   "outputs": [],
   "source": [
    "a1.obsm[\"spatial_ws\"] = np.dot(\n",
    "    np.column_stack([\n",
    "        (a1.obsm[\"spatial\"]),\n",
    "        np.zeros((a1.obsm[\"spatial\"].shape[0],1))\n",
    "    ]),\n",
    "    affine1.T\n",
    ")[:,:2]"
   ]
  },
  {
   "cell_type": "code",
   "execution_count": null,
   "metadata": {},
   "outputs": [],
   "source": [
    "a1.obsm[\"spatial_ws\"]"
   ]
  },
  {
   "cell_type": "code",
   "execution_count": null,
   "metadata": {},
   "outputs": [],
   "source": [
    "a1.obsm[\"spatial_ws\"] = a1.obsm[\"spatial_ws\"] * (1.45*scalef_adata1/scalef1)"
   ]
  },
  {
   "cell_type": "code",
   "execution_count": null,
   "metadata": {},
   "outputs": [],
   "source": [
    "a1.obsm[\"spatial_ws\"][:,0] = a1.obsm[\"spatial_ws\"][:,0] + 950\n",
    "#a1.obsm[\"spatial_ws\"][:,1] = a1.obsm[\"spatial_ws\"][:,1] + 500"
   ]
  },
  {
   "cell_type": "code",
   "execution_count": null,
   "metadata": {},
   "outputs": [],
   "source": [
    "#a1.obsm[\"spatial_ws\"][:,0] = a1.obsm[\"spatial_ws\"][:,0] + 950\n",
    "a1.obsm[\"spatial_ws\"][:,1] = a1.obsm[\"spatial_ws\"][:,1] + 100"
   ]
  },
  {
   "cell_type": "code",
   "execution_count": null,
   "metadata": {},
   "outputs": [],
   "source": [
    "a1.obsm[\"spatial_ws\"][:,0] = a1.obsm[\"spatial_ws\"][:,0] + 50\n",
    "#a1.obsm[\"spatial_ws\"][:,1] = a1.obsm[\"spatial_ws\"][:,1] + 100"
   ]
  },
  {
   "cell_type": "code",
   "execution_count": null,
   "metadata": {},
   "outputs": [],
   "source": [
    "a1.obsm[\"spatial_ws\"]"
   ]
  },
  {
   "cell_type": "code",
   "execution_count": null,
   "metadata": {},
   "outputs": [],
   "source": [
    "sc.pl.spatial(\n",
    "    a1,\n",
    "    basis=\"spatial_ws\",\n",
    "    color=\"pathology_annotation\",\n",
    "    img=bg_img,\n",
    "    spot_size=50,\n",
    "    scale_factor=1,\n",
    "    crop_coord=[0,WD87480_HE.img.shape[1],0,WD87480_HE.img.shape[0]],\n",
    "    frameon=False,\n",
    "    cmap=\"viridis\",\n",
    ")"
   ]
  },
  {
   "cell_type": "markdown",
   "metadata": {},
   "source": [
    "---\n",
    "# WD87480 Sample 7003-AS-6"
   ]
  },
  {
   "cell_type": "code",
   "execution_count": null,
   "metadata": {},
   "outputs": [],
   "source": [
    "a2 = sc.read(\"7003_6_WD87480_master.h5ad\"); a2"
   ]
  },
  {
   "cell_type": "code",
   "execution_count": null,
   "metadata": {},
   "outputs": [],
   "source": [
    "img1 = io.imread(\"../data/MxIF/WD87480/VirtualStains/S002_VHE_stitched_downsample8.tif\")"
   ]
  },
  {
   "cell_type": "code",
   "execution_count": null,
   "metadata": {},
   "outputs": [],
   "source": [
    "img1 = img1[1::,:WD87480.img.shape[1]:,:]"
   ]
  },
  {
   "cell_type": "code",
   "execution_count": null,
   "metadata": {},
   "outputs": [],
   "source": [
    "WD87480_HE = img(img1, mask=WD87480.mask)\n",
    "WD87480_HE.scale()\n",
    "#WD87480_HE.img = WD87480_HE.img[::-1,::-1,:]\n",
    "#WD87480_HE.mask = WD87480_HE.mask[::-1,::-1]"
   ]
  },
  {
   "cell_type": "code",
   "execution_count": null,
   "metadata": {},
   "outputs": [],
   "source": [
    "WD87480_HE"
   ]
  },
  {
   "cell_type": "code",
   "execution_count": null,
   "metadata": {},
   "outputs": [],
   "source": [
    "bg_img = WD87480_HE.img\n",
    "for i in [0, 1, 2]:  # for 3-channel image\n",
    "    bg_img[:, :, i][WD87480_HE.mask == 0] = 1.0  # area outside mask 1.0"
   ]
  },
  {
   "cell_type": "code",
   "execution_count": null,
   "metadata": {},
   "outputs": [],
   "source": [
    "p = WD87480_HE.show(RGB=True, mask_out=False)#, save_to=\"figures/show_WD87480_histology.png\")"
   ]
  },
  {
   "cell_type": "code",
   "execution_count": null,
   "metadata": {},
   "outputs": [],
   "source": [
    "affine2 = np.genfromtxt(\n",
    "    \"../data/MxIF/WD87480/WD87480_downsample8_7003_6_affine.csv\",\n",
    "    delimiter=\",\",\n",
    ")\n",
    "shape2 = np.genfromtxt(\n",
    "    \"../data/MxIF/WD87480/WD87480_downsample8_7003_6_shape.csv\",\n",
    "    delimiter=\",\",\n",
    ")"
   ]
  },
  {
   "cell_type": "code",
   "execution_count": null,
   "metadata": {},
   "outputs": [],
   "source": [
    "affine2"
   ]
  },
  {
   "cell_type": "code",
   "execution_count": null,
   "metadata": {},
   "outputs": [],
   "source": [
    "shape2"
   ]
  },
  {
   "cell_type": "code",
   "execution_count": null,
   "metadata": {},
   "outputs": [],
   "source": [
    "scalef_adata2 = a2.uns[\"spatial\"][\"7003_AS_6\"][\"scalefactors\"][\"tissue_hires_scalef\"]"
   ]
  },
  {
   "cell_type": "code",
   "execution_count": null,
   "metadata": {},
   "outputs": [],
   "source": [
    "scalef2 = affine2[0,0]"
   ]
  },
  {
   "cell_type": "code",
   "execution_count": null,
   "metadata": {},
   "outputs": [],
   "source": [
    "a2.obsm[\"spatial_ws\"] = np.dot(\n",
    "    np.column_stack([\n",
    "        (a2.obsm[\"spatial\"]),\n",
    "        np.zeros((a2.obsm[\"spatial\"].shape[0],1))\n",
    "    ]),\n",
    "    affine2.T\n",
    ")[:,:2]"
   ]
  },
  {
   "cell_type": "code",
   "execution_count": null,
   "metadata": {},
   "outputs": [],
   "source": [
    "a2.obsm[\"spatial_ws\"]"
   ]
  },
  {
   "cell_type": "code",
   "execution_count": null,
   "metadata": {},
   "outputs": [],
   "source": [
    "a2.obsm[\"spatial_ws\"] = a2.obsm[\"spatial_ws\"] * (1.45*scalef_adata2/scalef2)"
   ]
  },
  {
   "cell_type": "code",
   "execution_count": null,
   "metadata": {},
   "outputs": [],
   "source": [
    "a2.obsm[\"spatial_ws\"][:,0] = a2.obsm[\"spatial_ws\"][:,0] + 500\n",
    "a2.obsm[\"spatial_ws\"][:,1] = a2.obsm[\"spatial_ws\"][:,1] + 500"
   ]
  },
  {
   "cell_type": "code",
   "execution_count": null,
   "metadata": {},
   "outputs": [],
   "source": [
    "a2.obsm[\"spatial_ws\"][:,0] = a2.obsm[\"spatial_ws\"][:,0] + 500\n",
    "#a2.obsm[\"spatial_ws\"][:,1] = a2.obsm[\"spatial_ws\"][:,1] + 500"
   ]
  },
  {
   "cell_type": "code",
   "execution_count": null,
   "metadata": {},
   "outputs": [],
   "source": [
    "a2.obsm[\"spatial_ws\"][:,0] = a2.obsm[\"spatial_ws\"][:,0] + 50\n",
    "a2.obsm[\"spatial_ws\"][:,1] = a2.obsm[\"spatial_ws\"][:,1] - 50"
   ]
  },
  {
   "cell_type": "code",
   "execution_count": null,
   "metadata": {},
   "outputs": [],
   "source": [
    "#a2.obsm[\"spatial_ws\"][:,0] = a2.obsm[\"spatial_ws\"][:,0] + 50\n",
    "a2.obsm[\"spatial_ws\"][:,1] = a2.obsm[\"spatial_ws\"][:,1] - 200"
   ]
  },
  {
   "cell_type": "code",
   "execution_count": null,
   "metadata": {},
   "outputs": [],
   "source": [
    "#a2.obsm[\"spatial_ws\"][:,0] = a2.obsm[\"spatial_ws\"][:,0] + 50\n",
    "a2.obsm[\"spatial_ws\"][:,1] = a2.obsm[\"spatial_ws\"][:,1] + 100"
   ]
  },
  {
   "cell_type": "code",
   "execution_count": null,
   "metadata": {},
   "outputs": [],
   "source": [
    "#a2.obsm[\"spatial_ws\"][:,0] = a2.obsm[\"spatial_ws\"][:,0] + 50\n",
    "a2.obsm[\"spatial_ws\"][:,1] = a2.obsm[\"spatial_ws\"][:,1] - 50"
   ]
  },
  {
   "cell_type": "code",
   "execution_count": null,
   "metadata": {},
   "outputs": [],
   "source": [
    "a2.obsm[\"spatial_ws\"][:,0] = a2.obsm[\"spatial_ws\"][:,0] + 50\n",
    "a2.obsm[\"spatial_ws\"][:,1] = a2.obsm[\"spatial_ws\"][:,1] + 50"
   ]
  },
  {
   "cell_type": "code",
   "execution_count": null,
   "metadata": {},
   "outputs": [],
   "source": [
    "a2.obsm[\"spatial_ws\"]"
   ]
  },
  {
   "cell_type": "code",
   "execution_count": null,
   "metadata": {},
   "outputs": [],
   "source": [
    "WD87480_HE.img.shape"
   ]
  },
  {
   "cell_type": "code",
   "execution_count": null,
   "metadata": {},
   "outputs": [],
   "source": [
    "sc.pl.spatial(\n",
    "    a2,\n",
    "    basis=\"spatial_ws\",\n",
    "    color=\"CytoTRACE\",\n",
    "    img=bg_img,\n",
    "    spot_size=50,\n",
    "    scale_factor=1,\n",
    "    crop_coord=[0,WD87480_HE.img.shape[1],0,WD87480_HE.img.shape[0]],\n",
    "    frameon=False,\n",
    "    cmap=\"viridis\",\n",
    ")"
   ]
  },
  {
   "cell_type": "markdown",
   "metadata": {},
   "source": [
    "---\n",
    "# WD87480 Combined"
   ]
  },
  {
   "cell_type": "code",
   "execution_count": null,
   "metadata": {},
   "outputs": [],
   "source": [
    "# flip coords in second sample\n",
    "a2.obsm[\"spatial_ws\"][:,0] = WD87480_HE.img.shape[1] - a2.obsm[\"spatial_ws\"][:,0]\n",
    "a2.obsm[\"spatial_ws\"][:,1] = WD87480_HE.img.shape[0] - a2.obsm[\"spatial_ws\"][:,1]"
   ]
  },
  {
   "cell_type": "code",
   "execution_count": null,
   "metadata": {},
   "outputs": [],
   "source": [
    "img1 = io.imread(\"../data/MxIF/WD87480/VirtualStains/S002_VHE_stitched_downsample8.tif\")"
   ]
  },
  {
   "cell_type": "code",
   "execution_count": null,
   "metadata": {},
   "outputs": [],
   "source": [
    "img1 = img1[1::,:WD87480.img.shape[1]:,:]"
   ]
  },
  {
   "cell_type": "code",
   "execution_count": null,
   "metadata": {},
   "outputs": [],
   "source": [
    "WD87480_HE = img(img1, mask=WD87480.mask)\n",
    "WD87480_HE.scale()\n",
    "WD87480_HE.img = WD87480_HE.img[::-1,::-1,:]\n",
    "WD87480_HE.mask = WD87480_HE.mask[::-1,::-1]"
   ]
  },
  {
   "cell_type": "code",
   "execution_count": null,
   "metadata": {},
   "outputs": [],
   "source": [
    "WD87480_HE"
   ]
  },
  {
   "cell_type": "code",
   "execution_count": null,
   "metadata": {},
   "outputs": [],
   "source": [
    "bg_img = WD87480_HE.img\n",
    "for i in [0, 1, 2]:  # for 3-channel image\n",
    "    bg_img[:, :, i][WD87480_HE.mask == 0] = 1.0  # area outside mask 1.0"
   ]
  },
  {
   "cell_type": "code",
   "execution_count": null,
   "metadata": {},
   "outputs": [],
   "source": [
    "a_ws = a1.concatenate([a2], fill_value=0)"
   ]
  },
  {
   "cell_type": "code",
   "execution_count": null,
   "metadata": {},
   "outputs": [],
   "source": [
    "a_ws"
   ]
  },
  {
   "cell_type": "code",
   "execution_count": null,
   "metadata": {},
   "outputs": [],
   "source": [
    "a_ws.write(\"PAT71662_combined_ws.h5ad\", compression=\"gzip\")"
   ]
  },
  {
   "cell_type": "markdown",
   "metadata": {},
   "source": [
    "---\n",
    "### Replace old metadata with new"
   ]
  },
  {
   "cell_type": "code",
   "execution_count": null,
   "metadata": {},
   "outputs": [],
   "source": [
    "a_ws = sc.read(\"PAT71662_combined_ws.h5ad\")"
   ]
  },
  {
   "cell_type": "code",
   "execution_count": null,
   "metadata": {},
   "outputs": [],
   "source": [
    "del a_ws.obs"
   ]
  },
  {
   "cell_type": "code",
   "execution_count": null,
   "metadata": {},
   "outputs": [],
   "source": [
    "a1 = sc.read(\"7003_5_WD87480_master.h5ad\")\n",
    "a2 = sc.read(\"7003_6_WD87480_master.h5ad\")"
   ]
  },
  {
   "cell_type": "code",
   "execution_count": null,
   "metadata": {},
   "outputs": [],
   "source": [
    "a = a1.concatenate([a2], fill_value=0)"
   ]
  },
  {
   "cell_type": "code",
   "execution_count": null,
   "metadata": {},
   "outputs": [],
   "source": [
    "a_ws.obs = a_ws.obs.merge(a.obs, left_index=True, right_index=True)"
   ]
  },
  {
   "cell_type": "markdown",
   "metadata": {},
   "source": [
    "---"
   ]
  },
  {
   "cell_type": "code",
   "execution_count": null,
   "metadata": {},
   "outputs": [],
   "source": [
    "sc.pl.spatial(\n",
    "    a_ws,\n",
    "    basis=\"spatial_ws\",\n",
    "    color=[\"cnv_leiden\"],\n",
    "    img=bg_img,\n",
    "    spot_size=50,\n",
    "    scale_factor=1,\n",
    "    crop_coord=[0,WD87480_HE.img.shape[1],0,WD87480_HE.img.shape[0]],\n",
    "    frameon=False,\n",
    "    cmap=\"viridis\",\n",
    "    save=\"_PAT71662_cnv_leiden.png\"\n",
    ")"
   ]
  },
  {
   "cell_type": "code",
   "execution_count": null,
   "metadata": {},
   "outputs": [],
   "source": [
    "sc.pl.spatial(\n",
    "    a_ws,\n",
    "    basis=\"spatial_ws\",\n",
    "    color=signatures,\n",
    "    ncols=5,\n",
    "    img=bg_img,\n",
    "    spot_size=50,\n",
    "    scale_factor=1,\n",
    "    crop_coord=[0,WD87480_HE.img.shape[1],0,WD87480_HE.img.shape[0]],\n",
    "    frameon=False,\n",
    "    cmap=\"viridis\",\n",
    "    save=\"_PAT71662_signatures.png\"\n",
    ")"
   ]
  },
  {
   "cell_type": "code",
   "execution_count": null,
   "metadata": {},
   "outputs": [],
   "source": [
    "et = ['A1_Innate', 'A2_Cytotoxic', 'A3_Endocrine', 'A4_MUC', 'A5_ABS', 'A6_SM', 'A7_Adaptive', 'A8_Stem']"
   ]
  },
  {
   "cell_type": "code",
   "execution_count": null,
   "metadata": {},
   "outputs": [],
   "source": [
    "sc.pl.spatial(\n",
    "    a_ws,\n",
    "    basis=\"spatial_ws\",\n",
    "    color=et,\n",
    "    img=bg_img,\n",
    "    spot_size=50,\n",
    "    scale_factor=1,\n",
    "    crop_coord=[0,WD87480_HE.img.shape[1],0,WD87480_HE.img.shape[0]],\n",
    "    frameon=False,\n",
    "    cmap=\"viridis\",\n",
    "    save=\"_PAT71662_archetypes.png\",\n",
    "    ncols=4,\n",
    ")"
   ]
  },
  {
   "cell_type": "code",
   "execution_count": null,
   "metadata": {},
   "outputs": [],
   "source": [
    "sc.pl.spatial(\n",
    "    a_ws,\n",
    "    basis=\"spatial_ws\",\n",
    "    color=[\"CytoTRACE\",\"cnv_score\",\"cnv_leiden\"],\n",
    "    img=bg_img,\n",
    "    spot_size=50,\n",
    "    scale_factor=1,\n",
    "    crop_coord=[0,WD87480_HE.img.shape[1],0,WD87480_HE.img.shape[0]],\n",
    "    frameon=False,\n",
    "    cmap=\"viridis\",\n",
    "    save=\"_PAT71662_cnv_progression.png\",\n",
    ")"
   ]
  },
  {
   "cell_type": "markdown",
   "metadata": {},
   "source": [
    "---\n",
    "# WD85806 Sample 7003-AS-3"
   ]
  },
  {
   "cell_type": "code",
   "execution_count": null,
   "metadata": {},
   "outputs": [],
   "source": [
    "a1 = sc.read(\"7003_3_WD85806_master.h5ad\"); a1"
   ]
  },
  {
   "cell_type": "code",
   "execution_count": null,
   "metadata": {},
   "outputs": [],
   "source": [
    "WD85806 = img.from_npz(file=\"../data/MxIF/WD85806/WD85806_downsample8.npz\"); WD85806"
   ]
  },
  {
   "cell_type": "code",
   "execution_count": null,
   "metadata": {},
   "outputs": [],
   "source": [
    "img1 = io.imread(\"../data/MxIF/WD85806/VirtualStains/S002_VHE_stitched_downsample8.tif\")"
   ]
  },
  {
   "cell_type": "code",
   "execution_count": null,
   "metadata": {},
   "outputs": [],
   "source": [
    "img1 = img1[1::,:WD85806.img.shape[1]:,:]"
   ]
  },
  {
   "cell_type": "code",
   "execution_count": null,
   "metadata": {},
   "outputs": [],
   "source": [
    "WD85806_HE = img(img1, mask=WD85806.mask)\n",
    "WD85806_HE.scale()\n",
    "WD85806_HE.img = WD85806_HE.img[::-1,::-1,:]\n",
    "WD85806_HE.mask = WD85806_HE.mask[::-1,::-1]"
   ]
  },
  {
   "cell_type": "code",
   "execution_count": null,
   "metadata": {},
   "outputs": [],
   "source": [
    "WD85806_HE"
   ]
  },
  {
   "cell_type": "code",
   "execution_count": null,
   "metadata": {},
   "outputs": [],
   "source": [
    "bg_img = WD85806_HE.img\n",
    "for i in [0, 1, 2]:  # for 3-channel image\n",
    "    bg_img[:, :, i][WD85806_HE.mask == 0] = 1.0  # area outside mask 1.0"
   ]
  },
  {
   "cell_type": "code",
   "execution_count": null,
   "metadata": {},
   "outputs": [],
   "source": [
    "p = WD85806_HE.show(RGB=True, mask_out=False, save_to=\"plots_patient/wholeslide/show_PAT73458_histology.png\")"
   ]
  },
  {
   "cell_type": "code",
   "execution_count": null,
   "metadata": {},
   "outputs": [],
   "source": [
    "affine1 = np.genfromtxt(\n",
    "    \"../data/MxIF/WD85806/WD85806_downsample8_7003_3_affine.csv\",\n",
    "    delimiter=\",\",\n",
    ")\n",
    "shape1 = np.genfromtxt(\n",
    "    \"../data/MxIF/WD85806/WD85806_downsample8_7003_3_shape.csv\",\n",
    "    delimiter=\",\",\n",
    ")"
   ]
  },
  {
   "cell_type": "code",
   "execution_count": null,
   "metadata": {},
   "outputs": [],
   "source": [
    "affine1"
   ]
  },
  {
   "cell_type": "code",
   "execution_count": null,
   "metadata": {},
   "outputs": [],
   "source": [
    "shape1"
   ]
  },
  {
   "cell_type": "code",
   "execution_count": null,
   "metadata": {},
   "outputs": [],
   "source": [
    "scalef_adata1 = a1.uns[\"spatial\"][\"7003_AS_3\"][\"scalefactors\"][\"tissue_hires_scalef\"]"
   ]
  },
  {
   "cell_type": "code",
   "execution_count": null,
   "metadata": {},
   "outputs": [],
   "source": [
    "scalef_adata1"
   ]
  },
  {
   "cell_type": "code",
   "execution_count": null,
   "metadata": {},
   "outputs": [],
   "source": [
    "scalef1 = affine1[0,0]"
   ]
  },
  {
   "cell_type": "code",
   "execution_count": null,
   "metadata": {},
   "outputs": [],
   "source": [
    "scalef1"
   ]
  },
  {
   "cell_type": "code",
   "execution_count": null,
   "metadata": {},
   "outputs": [],
   "source": [
    "a1.obsm[\"spatial_ws\"] = np.dot(\n",
    "    np.column_stack([\n",
    "        (a1.obsm[\"spatial\"]),\n",
    "        np.zeros((a1.obsm[\"spatial\"].shape[0],1))\n",
    "    ]),\n",
    "    affine1.T\n",
    ")[:,:2]"
   ]
  },
  {
   "cell_type": "code",
   "execution_count": null,
   "metadata": {},
   "outputs": [],
   "source": [
    "a1.obsm[\"spatial_ws\"]"
   ]
  },
  {
   "cell_type": "code",
   "execution_count": null,
   "metadata": {},
   "outputs": [],
   "source": [
    "a1.obsm[\"spatial_ws\"] = a1.obsm[\"spatial_ws\"] * (scalef_adata1*1.9)#(scalef_adata1/scalef1)"
   ]
  },
  {
   "cell_type": "code",
   "execution_count": null,
   "metadata": {},
   "outputs": [],
   "source": [
    "a1.obsm[\"spatial_ws\"][:,0] = a1.obsm[\"spatial_ws\"][:,0] - 200\n",
    "a1.obsm[\"spatial_ws\"][:,1] = a1.obsm[\"spatial_ws\"][:,1] + 7000"
   ]
  },
  {
   "cell_type": "code",
   "execution_count": null,
   "metadata": {},
   "outputs": [],
   "source": [
    "a1.obsm[\"spatial_ws\"][:,0] = a1.obsm[\"spatial_ws\"][:,0] - 300\n",
    "#a1.obsm[\"spatial_ws\"][:,1] = a1.obsm[\"spatial_ws\"][:,1] + 7000"
   ]
  },
  {
   "cell_type": "code",
   "execution_count": null,
   "metadata": {},
   "outputs": [],
   "source": [
    "a1.obsm[\"spatial_ws\"][:,0] = a1.obsm[\"spatial_ws\"][:,0] - 200\n",
    "a1.obsm[\"spatial_ws\"][:,1] = a1.obsm[\"spatial_ws\"][:,1] - 100"
   ]
  },
  {
   "cell_type": "code",
   "execution_count": null,
   "metadata": {},
   "outputs": [],
   "source": [
    "a1.obsm[\"spatial_ws\"][:,0] = a1.obsm[\"spatial_ws\"][:,0] - 50\n",
    "#a1.obsm[\"spatial_ws\"][:,1] = a1.obsm[\"spatial_ws\"][:,1] - 100"
   ]
  },
  {
   "cell_type": "code",
   "execution_count": null,
   "metadata": {},
   "outputs": [],
   "source": [
    "a1.obsm[\"spatial_ws\"][:,0] = a1.obsm[\"spatial_ws\"][:,0] - 50\n",
    "a1.obsm[\"spatial_ws\"][:,1] = a1.obsm[\"spatial_ws\"][:,1] - 50"
   ]
  },
  {
   "cell_type": "code",
   "execution_count": null,
   "metadata": {},
   "outputs": [],
   "source": [
    "a1.obsm[\"spatial_ws\"]"
   ]
  },
  {
   "cell_type": "code",
   "execution_count": null,
   "metadata": {},
   "outputs": [],
   "source": [
    "sc.pl.spatial(\n",
    "    a1,\n",
    "    basis=\"spatial_ws\",\n",
    "    color=\"pathology_annotation\",\n",
    "    img=bg_img,\n",
    "    spot_size=50,\n",
    "    scale_factor=1,\n",
    "    crop_coord=[0,WD85806_HE.img.shape[1],0,WD85806_HE.img.shape[0]],\n",
    "    frameon=False,\n",
    "    cmap=\"viridis\",\n",
    ")"
   ]
  },
  {
   "cell_type": "markdown",
   "metadata": {},
   "source": [
    "---\n",
    "# WD85806 Sample 7003-AS-4"
   ]
  },
  {
   "cell_type": "code",
   "execution_count": null,
   "metadata": {},
   "outputs": [],
   "source": [
    "a2 = sc.read(\"7003_4_WD85806_master.h5ad\"); a2"
   ]
  },
  {
   "cell_type": "code",
   "execution_count": null,
   "metadata": {},
   "outputs": [],
   "source": [
    "img1 = io.imread(\"../data/MxIF/WD85806/VirtualStains/S002_VHE_stitched_downsample8.tif\")"
   ]
  },
  {
   "cell_type": "code",
   "execution_count": null,
   "metadata": {},
   "outputs": [],
   "source": [
    "img1 = img1[1::,:WD85806.img.shape[1]:,:]"
   ]
  },
  {
   "cell_type": "code",
   "execution_count": null,
   "metadata": {},
   "outputs": [],
   "source": [
    "WD85806_HE = img(img1, mask=WD85806.mask)\n",
    "WD85806_HE.scale()\n",
    "#WD87480_HE.img = WD87480_HE.img[::-1,::-1,:]\n",
    "#WD87480_HE.mask = WD87480_HE.mask[::-1,::-1]"
   ]
  },
  {
   "cell_type": "code",
   "execution_count": null,
   "metadata": {},
   "outputs": [],
   "source": [
    "WD85806_HE"
   ]
  },
  {
   "cell_type": "code",
   "execution_count": null,
   "metadata": {},
   "outputs": [],
   "source": [
    "bg_img2 = WD85806_HE.img\n",
    "for i in [0, 1, 2]:  # for 3-channel image\n",
    "    bg_img2[:, :, i][WD85806_HE.mask == 0] = 1.0  # area outside mask 1.0"
   ]
  },
  {
   "cell_type": "code",
   "execution_count": null,
   "metadata": {},
   "outputs": [],
   "source": [
    "p = WD85806_HE.show(RGB=True, mask_out=False)#, save_to=\"figures/show_WD87480_histology.png\")"
   ]
  },
  {
   "cell_type": "code",
   "execution_count": null,
   "metadata": {},
   "outputs": [],
   "source": [
    "affine2 = np.genfromtxt(\n",
    "    \"../data/MxIF/WD85806/WD85806_downsample8_7003_4_affine.csv\",\n",
    "    delimiter=\",\",\n",
    ")\n",
    "shape2 = np.genfromtxt(\n",
    "    \"../data/MxIF/WD85806/WD85806_downsample8_7003_4_shape.csv\",\n",
    "    delimiter=\",\",\n",
    ")"
   ]
  },
  {
   "cell_type": "code",
   "execution_count": null,
   "metadata": {},
   "outputs": [],
   "source": [
    "affine2"
   ]
  },
  {
   "cell_type": "code",
   "execution_count": null,
   "metadata": {},
   "outputs": [],
   "source": [
    "shape2"
   ]
  },
  {
   "cell_type": "code",
   "execution_count": null,
   "metadata": {},
   "outputs": [],
   "source": [
    "scalef_adata2 = a2.uns[\"spatial\"][\"7003_AS_4\"][\"scalefactors\"][\"tissue_hires_scalef\"]"
   ]
  },
  {
   "cell_type": "code",
   "execution_count": null,
   "metadata": {},
   "outputs": [],
   "source": [
    "scalef2 = affine2[0,0]"
   ]
  },
  {
   "cell_type": "code",
   "execution_count": null,
   "metadata": {},
   "outputs": [],
   "source": [
    "a2.obsm[\"spatial_ws\"] = np.dot(\n",
    "    np.column_stack([\n",
    "        (a2.obsm[\"spatial\"]),\n",
    "        np.zeros((a2.obsm[\"spatial\"].shape[0],1))\n",
    "    ]),\n",
    "    affine2.T\n",
    ")[:,:2]"
   ]
  },
  {
   "cell_type": "code",
   "execution_count": null,
   "metadata": {},
   "outputs": [],
   "source": [
    "a2.obsm[\"spatial_ws\"]"
   ]
  },
  {
   "cell_type": "code",
   "execution_count": null,
   "metadata": {},
   "outputs": [],
   "source": [
    "a2.obsm[\"spatial_ws\"] = a2.obsm[\"spatial_ws\"] * (scalef_adata1*1.9)#(scalef_adata1/scalef1)"
   ]
  },
  {
   "cell_type": "code",
   "execution_count": null,
   "metadata": {},
   "outputs": [],
   "source": [
    "a2.obsm[\"spatial_ws\"][:,0] = a2.obsm[\"spatial_ws\"][:,0] - 500\n",
    "a2.obsm[\"spatial_ws\"][:,1] = a2.obsm[\"spatial_ws\"][:,1] + 800"
   ]
  },
  {
   "cell_type": "code",
   "execution_count": null,
   "metadata": {},
   "outputs": [],
   "source": [
    "a2.obsm[\"spatial_ws\"][:,0] = a2.obsm[\"spatial_ws\"][:,0] - 200\n",
    "a2.obsm[\"spatial_ws\"][:,1] = a2.obsm[\"spatial_ws\"][:,1] + 1000"
   ]
  },
  {
   "cell_type": "code",
   "execution_count": null,
   "metadata": {},
   "outputs": [],
   "source": [
    "#a2.obsm[\"spatial_ws\"][:,0] = a2.obsm[\"spatial_ws\"][:,0] - 200\n",
    "a2.obsm[\"spatial_ws\"][:,1] = a2.obsm[\"spatial_ws\"][:,1] + 400"
   ]
  },
  {
   "cell_type": "code",
   "execution_count": null,
   "metadata": {},
   "outputs": [],
   "source": [
    "a2.obsm[\"spatial_ws\"][:,0] = a2.obsm[\"spatial_ws\"][:,0] + 100\n",
    "a2.obsm[\"spatial_ws\"][:,1] = a2.obsm[\"spatial_ws\"][:,1] + 200"
   ]
  },
  {
   "cell_type": "code",
   "execution_count": null,
   "metadata": {},
   "outputs": [],
   "source": [
    "a2.obsm[\"spatial_ws\"]"
   ]
  },
  {
   "cell_type": "code",
   "execution_count": null,
   "metadata": {},
   "outputs": [],
   "source": [
    "sc.pl.spatial(\n",
    "    a2,\n",
    "    basis=\"spatial_ws\",\n",
    "    color=\"CytoTRACE\",\n",
    "    img=bg_img2,\n",
    "    spot_size=50,\n",
    "    scale_factor=1,\n",
    "    crop_coord=[0,WD85806_HE.img.shape[1],0,WD85806_HE.img.shape[0]],\n",
    "    frameon=False,\n",
    "    cmap=\"viridis\",\n",
    ")"
   ]
  },
  {
   "cell_type": "markdown",
   "metadata": {},
   "source": [
    "---\n",
    "# WD85806 Combined"
   ]
  },
  {
   "cell_type": "code",
   "execution_count": null,
   "metadata": {},
   "outputs": [],
   "source": [
    "# flip coords in second sample\n",
    "a2.obsm[\"spatial_ws\"][:,0] = WD85806_HE.img.shape[1] - a2.obsm[\"spatial_ws\"][:,0]\n",
    "a2.obsm[\"spatial_ws\"][:,1] = WD85806_HE.img.shape[0] - a2.obsm[\"spatial_ws\"][:,1]"
   ]
  },
  {
   "cell_type": "code",
   "execution_count": null,
   "metadata": {},
   "outputs": [],
   "source": [
    "a_ws = a1.concatenate([a2], fill_value=0)"
   ]
  },
  {
   "cell_type": "code",
   "execution_count": null,
   "metadata": {},
   "outputs": [],
   "source": [
    "a_ws"
   ]
  },
  {
   "cell_type": "code",
   "execution_count": null,
   "metadata": {},
   "outputs": [],
   "source": [
    "a_ws.write(\"PAT73458_combined_ws.h5ad\", compression=\"gzip\")"
   ]
  },
  {
   "cell_type": "markdown",
   "metadata": {},
   "source": [
    "---\n",
    "### Replace old metadata with new"
   ]
  },
  {
   "cell_type": "code",
   "execution_count": null,
   "metadata": {},
   "outputs": [],
   "source": [
    "a_ws = sc.read(\"PAT73458_combined_ws.h5ad\")"
   ]
  },
  {
   "cell_type": "code",
   "execution_count": null,
   "metadata": {},
   "outputs": [],
   "source": [
    "del a_ws.obs"
   ]
  },
  {
   "cell_type": "code",
   "execution_count": null,
   "metadata": {},
   "outputs": [],
   "source": [
    "a1 = sc.read(\"7003_3_WD85806_master.h5ad\")\n",
    "a2 = sc.read(\"7003_4_WD85806_master.h5ad\")"
   ]
  },
  {
   "cell_type": "code",
   "execution_count": null,
   "metadata": {},
   "outputs": [],
   "source": [
    "a = a1.concatenate([a2], fill_value=0)"
   ]
  },
  {
   "cell_type": "code",
   "execution_count": null,
   "metadata": {},
   "outputs": [],
   "source": [
    "a_ws.obs = a_ws.obs.merge(a.obs, left_index=True, right_index=True)"
   ]
  },
  {
   "cell_type": "markdown",
   "metadata": {},
   "source": [
    "---"
   ]
  },
  {
   "cell_type": "code",
   "execution_count": null,
   "metadata": {},
   "outputs": [],
   "source": [
    "sc.pl.spatial(\n",
    "    a_ws,\n",
    "    basis=\"spatial_ws\",\n",
    "    color=[\"cnv_leiden\"],\n",
    "    img=bg_img,\n",
    "    spot_size=50,\n",
    "    scale_factor=1,\n",
    "    crop_coord=[0,WD85806_HE.img.shape[1],0,WD85806_HE.img.shape[0]],\n",
    "    frameon=False,\n",
    "    cmap=\"viridis\",\n",
    "    save=\"_PAT73458_cnv_leiden.png\"\n",
    ")"
   ]
  },
  {
   "cell_type": "code",
   "execution_count": null,
   "metadata": {},
   "outputs": [],
   "source": [
    "sc.pl.spatial(\n",
    "    a_ws,\n",
    "    basis=\"spatial_ws\",\n",
    "    color=signatures,\n",
    "    ncols=5,\n",
    "    img=bg_img,\n",
    "    spot_size=50,\n",
    "    scale_factor=1,\n",
    "    crop_coord=[0,WD85806_HE.img.shape[1],0,WD85806_HE.img.shape[0]],\n",
    "    frameon=False,\n",
    "    cmap=\"viridis\",\n",
    "    save=\"_PAT73458_signatures.png\"\n",
    ")"
   ]
  },
  {
   "cell_type": "code",
   "execution_count": null,
   "metadata": {},
   "outputs": [],
   "source": [
    "et = ['A1_Innate', 'A2_Cytotoxic', 'A3_Endocrine', 'A4_MUC', 'A5_ABS', 'A6_SM', 'A7_Adaptive', 'A8_Stem']"
   ]
  },
  {
   "cell_type": "code",
   "execution_count": null,
   "metadata": {},
   "outputs": [],
   "source": [
    "sc.pl.spatial(\n",
    "    a_ws,\n",
    "    basis=\"spatial_ws\",\n",
    "    color=et,\n",
    "    img=bg_img,\n",
    "    spot_size=50,\n",
    "    scale_factor=1,\n",
    "    crop_coord=[0,WD85806_HE.img.shape[1],0,WD85806_HE.img.shape[0]],\n",
    "    frameon=False,\n",
    "    cmap=\"viridis\",\n",
    "    save=\"_PAT73458_archetypes.png\",\n",
    "    ncols=4,\n",
    ")"
   ]
  },
  {
   "cell_type": "code",
   "execution_count": null,
   "metadata": {},
   "outputs": [],
   "source": [
    "sc.pl.spatial(\n",
    "    a_ws,\n",
    "    basis=\"spatial_ws\",\n",
    "    color=[\"CytoTRACE\",\"cnv_score\",\"cnv_leiden\"],\n",
    "    img=bg_img,\n",
    "    spot_size=50,\n",
    "    scale_factor=1,\n",
    "    crop_coord=[0,WD85806_HE.img.shape[1],0,WD85806_HE.img.shape[0]],\n",
    "    frameon=False,\n",
    "    cmap=\"viridis\",\n",
    "    save=\"_PAT73458_cnv_progression.png\",\n",
    ")"
   ]
  },
  {
   "cell_type": "markdown",
   "metadata": {},
   "source": [
    "---\n",
    "# WD87478 Sample 7003-AS-1"
   ]
  },
  {
   "cell_type": "code",
   "execution_count": null,
   "metadata": {},
   "outputs": [],
   "source": [
    "a1 = sc.read(\"7003_1_WD87478_master.h5ad\"); a1"
   ]
  },
  {
   "cell_type": "code",
   "execution_count": null,
   "metadata": {},
   "outputs": [],
   "source": [
    "WD87478 = img.from_npz(file=\"../data/MxIF/WD87478/WD87478_downsample8.npz\"); WD87478"
   ]
  },
  {
   "cell_type": "code",
   "execution_count": null,
   "metadata": {},
   "outputs": [],
   "source": [
    "img1 = io.imread(\"../data/MxIF/WD87478/VirtualStains/S002_VHE_stitched_downsample8.tif\")"
   ]
  },
  {
   "cell_type": "code",
   "execution_count": null,
   "metadata": {},
   "outputs": [],
   "source": [
    "img1.shape"
   ]
  },
  {
   "cell_type": "code",
   "execution_count": null,
   "metadata": {},
   "outputs": [],
   "source": [
    "WD87478_HE = img(img1, mask=WD87478.mask)\n",
    "WD87478_HE.scale()\n",
    "WD87478_HE.img = WD87478_HE.img[::-1,::-1,:]\n",
    "WD87478_HE.mask = WD87478_HE.mask[::-1,::-1]"
   ]
  },
  {
   "cell_type": "code",
   "execution_count": null,
   "metadata": {},
   "outputs": [],
   "source": [
    "WD87478_HE"
   ]
  },
  {
   "cell_type": "code",
   "execution_count": null,
   "metadata": {},
   "outputs": [],
   "source": [
    "bg_img = WD87478_HE.img\n",
    "for i in [0, 1, 2]:  # for 3-channel image\n",
    "    bg_img[:, :, i][WD87478_HE.mask == 0] = 1.0  # area outside mask 1.0"
   ]
  },
  {
   "cell_type": "code",
   "execution_count": null,
   "metadata": {},
   "outputs": [],
   "source": [
    "p = WD87478_HE.show(RGB=True, mask_out=False, save_to=\"plots_patient/wholeslide/show_PAT74143_histology.png\")"
   ]
  },
  {
   "cell_type": "code",
   "execution_count": null,
   "metadata": {},
   "outputs": [],
   "source": [
    "affine1 = np.genfromtxt(\n",
    "    \"../data/MxIF/WD87478/WD87478_downsample8_7003_1_affine.csv\",\n",
    "    delimiter=\",\",\n",
    ")\n",
    "shape1 = np.genfromtxt(\n",
    "    \"../data/MxIF/WD87478/WD87478_downsample8_7003_1_shape.csv\",\n",
    "    delimiter=\",\",\n",
    ")"
   ]
  },
  {
   "cell_type": "code",
   "execution_count": null,
   "metadata": {},
   "outputs": [],
   "source": [
    "affine1"
   ]
  },
  {
   "cell_type": "code",
   "execution_count": null,
   "metadata": {},
   "outputs": [],
   "source": [
    "shape1"
   ]
  },
  {
   "cell_type": "code",
   "execution_count": null,
   "metadata": {},
   "outputs": [],
   "source": [
    "scalef_adata1 = a1.uns[\"spatial\"][\"7003_AS_1\"][\"scalefactors\"][\"tissue_hires_scalef\"]"
   ]
  },
  {
   "cell_type": "code",
   "execution_count": null,
   "metadata": {},
   "outputs": [],
   "source": [
    "scalef_adata1"
   ]
  },
  {
   "cell_type": "code",
   "execution_count": null,
   "metadata": {},
   "outputs": [],
   "source": [
    "scalef1 = affine1[0,0]"
   ]
  },
  {
   "cell_type": "code",
   "execution_count": null,
   "metadata": {},
   "outputs": [],
   "source": [
    "scalef1"
   ]
  },
  {
   "cell_type": "code",
   "execution_count": null,
   "metadata": {},
   "outputs": [],
   "source": [
    "a1.obsm[\"spatial_ws\"] = np.dot(\n",
    "    np.column_stack([\n",
    "        (a1.obsm[\"spatial\"]),\n",
    "        np.zeros((a1.obsm[\"spatial\"].shape[0],1))\n",
    "    ]),\n",
    "    affine1.T\n",
    ")[:,:2]"
   ]
  },
  {
   "cell_type": "code",
   "execution_count": null,
   "metadata": {},
   "outputs": [],
   "source": [
    "a1.obsm[\"spatial_ws\"]"
   ]
  },
  {
   "cell_type": "code",
   "execution_count": null,
   "metadata": {},
   "outputs": [],
   "source": [
    "a1.obsm[\"spatial_ws\"] = a1.obsm[\"spatial_ws\"] * (scalef_adata1*2.2)#(scalef_adata1/scalef1)"
   ]
  },
  {
   "cell_type": "code",
   "execution_count": null,
   "metadata": {},
   "outputs": [],
   "source": [
    "a1.obsm[\"spatial_ws\"][:,0] = a1.obsm[\"spatial_ws\"][:,0] + 600\n",
    "a1.obsm[\"spatial_ws\"][:,1] = a1.obsm[\"spatial_ws\"][:,1] + 4350"
   ]
  },
  {
   "cell_type": "code",
   "execution_count": null,
   "metadata": {},
   "outputs": [],
   "source": [
    "a1.obsm[\"spatial_ws\"][:,0] = a1.obsm[\"spatial_ws\"][:,0] - 100\n",
    "a1.obsm[\"spatial_ws\"][:,1] = a1.obsm[\"spatial_ws\"][:,1] + 50"
   ]
  },
  {
   "cell_type": "code",
   "execution_count": null,
   "metadata": {},
   "outputs": [],
   "source": [
    "a1.obsm[\"spatial_ws\"][:,0] = a1.obsm[\"spatial_ws\"][:,0] - 200\n",
    "#a1.obsm[\"spatial_ws\"][:,1] = a1.obsm[\"spatial_ws\"][:,1] + 50"
   ]
  },
  {
   "cell_type": "code",
   "execution_count": null,
   "metadata": {},
   "outputs": [],
   "source": [
    "a1.obsm[\"spatial_ws\"][:,0] = a1.obsm[\"spatial_ws\"][:,0] - 100\n",
    "#a1.obsm[\"spatial_ws\"][:,1] = a1.obsm[\"spatial_ws\"][:,1] + 50"
   ]
  },
  {
   "cell_type": "code",
   "execution_count": null,
   "metadata": {},
   "outputs": [],
   "source": [
    "a1.obsm[\"spatial_ws\"][:,0] = a1.obsm[\"spatial_ws\"][:,0] - 50\n",
    "a1.obsm[\"spatial_ws\"][:,1] = a1.obsm[\"spatial_ws\"][:,1] + 50"
   ]
  },
  {
   "cell_type": "code",
   "execution_count": null,
   "metadata": {},
   "outputs": [],
   "source": [
    "a1.obsm[\"spatial_ws\"]"
   ]
  },
  {
   "cell_type": "code",
   "execution_count": null,
   "metadata": {},
   "outputs": [],
   "source": [
    "sc.pl.spatial(\n",
    "    a1,\n",
    "    basis=\"spatial_ws\",\n",
    "    color=\"pathology_annotation\",\n",
    "    img=bg_img,\n",
    "    spot_size=50,\n",
    "    scale_factor=1,\n",
    "    crop_coord=[0,WD87478_HE.img.shape[1],0,WD87478_HE.img.shape[0]],\n",
    "    frameon=False,\n",
    "    cmap=\"viridis\",\n",
    ")"
   ]
  },
  {
   "cell_type": "markdown",
   "metadata": {},
   "source": [
    "---\n",
    "# WD87478 Sample 7003-AS-2"
   ]
  },
  {
   "cell_type": "code",
   "execution_count": null,
   "metadata": {},
   "outputs": [],
   "source": [
    "a2 = sc.read(\"7003_2_WD87478_master.h5ad\"); a2"
   ]
  },
  {
   "cell_type": "code",
   "execution_count": null,
   "metadata": {},
   "outputs": [],
   "source": [
    "img1 = io.imread(\"../data/MxIF/WD87478/VirtualStains/S002_VHE_stitched_downsample8.tif\")"
   ]
  },
  {
   "cell_type": "code",
   "execution_count": null,
   "metadata": {},
   "outputs": [],
   "source": [
    "WD87478_HE = img(img1, mask=WD87478.mask)\n",
    "WD87478_HE.scale()\n",
    "WD87478_HE.img = WD87478_HE.img[::-1,::-1,:]\n",
    "WD87478_HE.mask = WD87478_HE.mask[::-1,::-1]"
   ]
  },
  {
   "cell_type": "code",
   "execution_count": null,
   "metadata": {},
   "outputs": [],
   "source": [
    "WD87478_HE"
   ]
  },
  {
   "cell_type": "code",
   "execution_count": null,
   "metadata": {},
   "outputs": [],
   "source": [
    "bg_img2 = WD87478_HE.img\n",
    "for i in [0, 1, 2]:  # for 3-channel image\n",
    "    bg_img2[:, :, i][WD87478_HE.mask == 0] = 1.0  # area outside mask 1.0"
   ]
  },
  {
   "cell_type": "code",
   "execution_count": null,
   "metadata": {},
   "outputs": [],
   "source": [
    "affine2 = np.genfromtxt(\n",
    "    \"../data/MxIF/WD87478/WD87478_downsample8_7003_2_affine.csv\",\n",
    "    delimiter=\",\",\n",
    ")\n",
    "shape2 = np.genfromtxt(\n",
    "    \"../data/MxIF/WD87478/WD87478_downsample8_7003_2_shape.csv\",\n",
    "    delimiter=\",\",\n",
    ")"
   ]
  },
  {
   "cell_type": "code",
   "execution_count": null,
   "metadata": {},
   "outputs": [],
   "source": [
    "affine2"
   ]
  },
  {
   "cell_type": "code",
   "execution_count": null,
   "metadata": {},
   "outputs": [],
   "source": [
    "shape2"
   ]
  },
  {
   "cell_type": "code",
   "execution_count": null,
   "metadata": {},
   "outputs": [],
   "source": [
    "scalef_adata2 = a2.uns[\"spatial\"][\"7003_AS_2\"][\"scalefactors\"][\"tissue_hires_scalef\"]"
   ]
  },
  {
   "cell_type": "code",
   "execution_count": null,
   "metadata": {},
   "outputs": [],
   "source": [
    "scalef2 = affine2[0,0]"
   ]
  },
  {
   "cell_type": "code",
   "execution_count": null,
   "metadata": {},
   "outputs": [],
   "source": [
    "a2.obsm[\"spatial_ws\"] = np.dot(\n",
    "    np.column_stack([\n",
    "        (a2.obsm[\"spatial\"]),\n",
    "        np.zeros((a2.obsm[\"spatial\"].shape[0],1))\n",
    "    ]),\n",
    "    affine2.T\n",
    ")[:,:2]"
   ]
  },
  {
   "cell_type": "code",
   "execution_count": null,
   "metadata": {},
   "outputs": [],
   "source": [
    "a2.obsm[\"spatial_ws\"]"
   ]
  },
  {
   "cell_type": "code",
   "execution_count": null,
   "metadata": {},
   "outputs": [],
   "source": [
    "a2.obsm[\"spatial_ws\"] = a2.obsm[\"spatial_ws\"] * (scalef_adata1*2.2)#(scalef_adata1/scalef1)"
   ]
  },
  {
   "cell_type": "code",
   "execution_count": null,
   "metadata": {},
   "outputs": [],
   "source": [
    "a2.obsm[\"spatial_ws\"][:,0] = a2.obsm[\"spatial_ws\"][:,0] - 1000\n",
    "a2.obsm[\"spatial_ws\"][:,1] = a2.obsm[\"spatial_ws\"][:,1] + 800"
   ]
  },
  {
   "cell_type": "code",
   "execution_count": null,
   "metadata": {},
   "outputs": [],
   "source": [
    "a2.obsm[\"spatial_ws\"][:,0] = a2.obsm[\"spatial_ws\"][:,0] - 600\n",
    "#a2.obsm[\"spatial_ws\"][:,1] = a2.obsm[\"spatial_ws\"][:,1] + 200"
   ]
  },
  {
   "cell_type": "code",
   "execution_count": null,
   "metadata": {},
   "outputs": [],
   "source": [
    "a2.obsm[\"spatial_ws\"]"
   ]
  },
  {
   "cell_type": "code",
   "execution_count": null,
   "metadata": {},
   "outputs": [],
   "source": [
    "sc.pl.spatial(\n",
    "    a2,\n",
    "    basis=\"spatial_ws\",\n",
    "    color=\"CytoTRACE\",\n",
    "    img=bg_img2,\n",
    "    spot_size=50,\n",
    "    scale_factor=1,\n",
    "    crop_coord=[0,WD87478_HE.img.shape[1],0,WD87478_HE.img.shape[0]],\n",
    "    frameon=False,\n",
    "    cmap=\"viridis\",\n",
    ")"
   ]
  },
  {
   "cell_type": "markdown",
   "metadata": {},
   "source": [
    "---\n",
    "# WD87478 Combined"
   ]
  },
  {
   "cell_type": "code",
   "execution_count": null,
   "metadata": {},
   "outputs": [],
   "source": [
    "a_ws = a1.concatenate([a2], fill_value=0)"
   ]
  },
  {
   "cell_type": "code",
   "execution_count": null,
   "metadata": {},
   "outputs": [],
   "source": [
    "a_ws"
   ]
  },
  {
   "cell_type": "code",
   "execution_count": null,
   "metadata": {},
   "outputs": [],
   "source": [
    "a_ws.write(\"PAT74143_combined_ws.h5ad\", compression=\"gzip\")"
   ]
  },
  {
   "cell_type": "markdown",
   "metadata": {},
   "source": [
    "---\n",
    "### Replace old metadata with new"
   ]
  },
  {
   "cell_type": "code",
   "execution_count": null,
   "metadata": {},
   "outputs": [],
   "source": [
    "a_ws = sc.read(\"PAT74143_combined_ws.h5ad\")"
   ]
  },
  {
   "cell_type": "code",
   "execution_count": null,
   "metadata": {},
   "outputs": [],
   "source": [
    "del a_ws.obs"
   ]
  },
  {
   "cell_type": "code",
   "execution_count": null,
   "metadata": {},
   "outputs": [],
   "source": [
    "a1 = sc.read(\"7003_1_WD87478_master.h5ad\")\n",
    "a2 = sc.read(\"7003_2_WD87478_master.h5ad\")"
   ]
  },
  {
   "cell_type": "code",
   "execution_count": null,
   "metadata": {},
   "outputs": [],
   "source": [
    "a = a1.concatenate([a2], fill_value=0)"
   ]
  },
  {
   "cell_type": "code",
   "execution_count": null,
   "metadata": {},
   "outputs": [],
   "source": [
    "a_ws.obs = a_ws.obs.merge(a.obs, left_index=True, right_index=True)"
   ]
  },
  {
   "cell_type": "markdown",
   "metadata": {},
   "source": [
    "---"
   ]
  },
  {
   "cell_type": "code",
   "execution_count": null,
   "metadata": {},
   "outputs": [],
   "source": [
    "sc.pl.spatial(\n",
    "    a_ws,\n",
    "    basis=\"spatial_ws\",\n",
    "    color=[\"cnv_leiden\"],\n",
    "    img=bg_img,\n",
    "    spot_size=50,\n",
    "    scale_factor=1,\n",
    "    crop_coord=[0,WD87478_HE.img.shape[1],0,WD87478_HE.img.shape[0]],\n",
    "    frameon=False,\n",
    "    cmap=\"viridis\",\n",
    "    save=\"_PAT74143_cnv_leiden.png\"\n",
    ")"
   ]
  },
  {
   "cell_type": "code",
   "execution_count": null,
   "metadata": {},
   "outputs": [],
   "source": [
    "sc.pl.spatial(\n",
    "    a_ws,\n",
    "    basis=\"spatial_ws\",\n",
    "    color=[\"CytoTRACE\",\"cnv_score\",\"cnv_leiden\"],\n",
    "    img=bg_img,\n",
    "    spot_size=50,\n",
    "    scale_factor=1,\n",
    "    crop_coord=[0,WD87478_HE.img.shape[1],0,WD87478_HE.img.shape[0]],\n",
    "    frameon=False,\n",
    "    cmap=\"viridis\",\n",
    "    save=\"_PAT74143_cnv_progression.png\",\n",
    ")"
   ]
  },
  {
   "cell_type": "code",
   "execution_count": null,
   "metadata": {},
   "outputs": [],
   "source": [
    "et = ['A1_Innate', 'A2_Cytotoxic', 'A3_Endocrine', 'A4_MUC', 'A5_ABS', 'A6_SM', 'A7_Adaptive', 'A8_Stem']"
   ]
  },
  {
   "cell_type": "code",
   "execution_count": null,
   "metadata": {},
   "outputs": [],
   "source": [
    "sc.pl.spatial(\n",
    "    a_ws,\n",
    "    basis=\"spatial_ws\",\n",
    "    color=et,\n",
    "    img=bg_img,\n",
    "    spot_size=50,\n",
    "    scale_factor=1,\n",
    "    crop_coord=[0,WD87478_HE.img.shape[1],0,WD87478_HE.img.shape[0]],\n",
    "    frameon=False,\n",
    "    cmap=\"viridis\",\n",
    "    save=\"_PAT74143_archetypes.png\",\n",
    "    ncols=4,\n",
    ")"
   ]
  },
  {
   "cell_type": "code",
   "execution_count": null,
   "metadata": {},
   "outputs": [],
   "source": [
    "sc.pl.spatial(\n",
    "    a_ws,\n",
    "    basis=\"spatial_ws\",\n",
    "    color=signatures,\n",
    "    ncols=5,\n",
    "    img=bg_img,\n",
    "    spot_size=50,\n",
    "    scale_factor=1,\n",
    "    crop_coord=[0,WD87478_HE.img.shape[1],0,WD87478_HE.img.shape[0]],\n",
    "    frameon=False,\n",
    "    cmap=\"viridis\",\n",
    "    save=\"_PAT74143_signatures.png\"\n",
    ")"
   ]
  },
  {
   "cell_type": "markdown",
   "metadata": {},
   "source": [
    "---\n",
    "# WD84602 Sample 8270-AS-6"
   ]
  },
  {
   "cell_type": "code",
   "execution_count": null,
   "metadata": {},
   "outputs": [],
   "source": [
    "a1 = sc.read(\"../data/ST/8270_6_WD84602_master.h5ad\"); a1"
   ]
  },
  {
   "cell_type": "code",
   "execution_count": null,
   "metadata": {},
   "outputs": [],
   "source": [
    "WD84602 = img.from_npz(file=\"../data/MxIF/WD84602/WD84602_downsample8.npz\"); WD84602"
   ]
  },
  {
   "cell_type": "code",
   "execution_count": null,
   "metadata": {},
   "outputs": [],
   "source": [
    "img1 = io.imread(\"../data/MxIF/WD84602/VirtualStains/S002_VHE_stitched_downsample8.tif\")"
   ]
  },
  {
   "cell_type": "code",
   "execution_count": null,
   "metadata": {},
   "outputs": [],
   "source": [
    "WD84602_HE = img(img1, mask=WD84602.mask)\n",
    "WD84602_HE.scale()\n",
    "#WD84602_HE.img = WD84602_HE.img[::-1,::-1,:]\n",
    "#WD84602_HE.mask = WD84602_HE.mask[::-1,::-1]"
   ]
  },
  {
   "cell_type": "code",
   "execution_count": null,
   "metadata": {},
   "outputs": [],
   "source": [
    "WD84602_HE"
   ]
  },
  {
   "cell_type": "code",
   "execution_count": null,
   "metadata": {},
   "outputs": [],
   "source": [
    "bg_img = WD84602_HE.img\n",
    "for i in [0, 1, 2]:  # for 3-channel image\n",
    "    bg_img[:, :, i][WD84602_HE.mask == 0] = 1.0  # area outside mask 1.0"
   ]
  },
  {
   "cell_type": "code",
   "execution_count": null,
   "metadata": {},
   "outputs": [],
   "source": [
    "p = WD84602_HE.show(RGB=True, mask_out=False, save_to=\"plots_patient/wholeslide/show_PAT30884_histology.png\")"
   ]
  },
  {
   "cell_type": "code",
   "execution_count": null,
   "metadata": {},
   "outputs": [],
   "source": [
    "affine1 = np.genfromtxt(\n",
    "    \"../data/MxIF/WD84602/WD84602_downsample8_8270_6_affine.csv\",\n",
    "    delimiter=\",\",\n",
    ")\n",
    "shape1 = np.genfromtxt(\n",
    "    \"../data/MxIF/WD84602/WD84602_downsample8_8270_6_shape.csv\",\n",
    "    delimiter=\",\",\n",
    ")"
   ]
  },
  {
   "cell_type": "code",
   "execution_count": null,
   "metadata": {},
   "outputs": [],
   "source": [
    "affine1"
   ]
  },
  {
   "cell_type": "code",
   "execution_count": null,
   "metadata": {},
   "outputs": [],
   "source": [
    "shape1"
   ]
  },
  {
   "cell_type": "code",
   "execution_count": null,
   "metadata": {},
   "outputs": [],
   "source": [
    "shape1 * affine1[0,0]"
   ]
  },
  {
   "cell_type": "code",
   "execution_count": null,
   "metadata": {},
   "outputs": [],
   "source": [
    "scalef_adata1 = a1.uns[\"spatial\"][\"8270_AS_6\"][\"scalefactors\"][\"tissue_hires_scalef\"]"
   ]
  },
  {
   "cell_type": "code",
   "execution_count": null,
   "metadata": {},
   "outputs": [],
   "source": [
    "scalef1 = affine1[0,0]"
   ]
  },
  {
   "cell_type": "code",
   "execution_count": null,
   "metadata": {},
   "outputs": [],
   "source": [
    "scalef_adata1"
   ]
  },
  {
   "cell_type": "code",
   "execution_count": null,
   "metadata": {},
   "outputs": [],
   "source": [
    "a1.obsm[\"spatial_ws\"] = np.dot(\n",
    "    np.column_stack([\n",
    "        (a1.obsm[\"spatial\"]),\n",
    "        np.zeros((a1.obsm[\"spatial\"].shape[0],1))\n",
    "    ]),\n",
    "    affine1.T\n",
    ")[:,:2]"
   ]
  },
  {
   "cell_type": "code",
   "execution_count": null,
   "metadata": {},
   "outputs": [],
   "source": [
    "a1.obsm[\"spatial_ws\"] = a1.obsm[\"spatial_ws\"] * 0.8"
   ]
  },
  {
   "cell_type": "code",
   "execution_count": null,
   "metadata": {},
   "outputs": [],
   "source": [
    "a1.obsm[\"spatial_ws\"][:,0] = a1.obsm[\"spatial_ws\"][:,0] + 200\n",
    "a1.obsm[\"spatial_ws\"][:,1] = a1.obsm[\"spatial_ws\"][:,1] + 900"
   ]
  },
  {
   "cell_type": "code",
   "execution_count": null,
   "metadata": {},
   "outputs": [],
   "source": [
    "a1.obsm[\"spatial_ws\"][:,0] = a1.obsm[\"spatial_ws\"][:,0] + 2500\n",
    "a1.obsm[\"spatial_ws\"][:,1] = a1.obsm[\"spatial_ws\"][:,1] + 300"
   ]
  },
  {
   "cell_type": "code",
   "execution_count": null,
   "metadata": {},
   "outputs": [],
   "source": [
    "a1.obsm[\"spatial_ws\"][:,0] = a1.obsm[\"spatial_ws\"][:,0] + 1000\n",
    "a1.obsm[\"spatial_ws\"][:,1] = a1.obsm[\"spatial_ws\"][:,1] + 200"
   ]
  },
  {
   "cell_type": "code",
   "execution_count": null,
   "metadata": {},
   "outputs": [],
   "source": [
    "a1.obsm[\"spatial_ws\"][:,0] = a1.obsm[\"spatial_ws\"][:,0] - 400\n",
    "a1.obsm[\"spatial_ws\"][:,1] = a1.obsm[\"spatial_ws\"][:,1] + 200"
   ]
  },
  {
   "cell_type": "code",
   "execution_count": null,
   "metadata": {},
   "outputs": [],
   "source": [
    "a1.obsm[\"spatial_ws\"][:,0] = a1.obsm[\"spatial_ws\"][:,0] - 100\n",
    "a1.obsm[\"spatial_ws\"][:,1] = a1.obsm[\"spatial_ws\"][:,1] + 300"
   ]
  },
  {
   "cell_type": "code",
   "execution_count": null,
   "metadata": {},
   "outputs": [],
   "source": [
    "sc.pl.spatial(\n",
    "    a1,\n",
    "    basis=\"spatial_ws\",\n",
    "    color=\"CNV Score\",\n",
    "    img=bg_img,\n",
    "    spot_size=50,\n",
    "    scale_factor=1,\n",
    "    crop_coord=[0,WD84602_HE.img.shape[1],0,WD84602_HE.img.shape[0]],\n",
    "    frameon=False,\n",
    "    cmap=\"viridis\",\n",
    ")"
   ]
  },
  {
   "cell_type": "markdown",
   "metadata": {},
   "source": [
    "---\n",
    "# WD84602 Sample 8270-AS-7"
   ]
  },
  {
   "cell_type": "code",
   "execution_count": null,
   "metadata": {},
   "outputs": [],
   "source": [
    "a2 = sc.read(\"../data/ST/8270_7_WD84602_master.h5ad\"); a2"
   ]
  },
  {
   "cell_type": "code",
   "execution_count": null,
   "metadata": {},
   "outputs": [],
   "source": [
    "affine2 = np.genfromtxt(\n",
    "    \"../data/MxIF/WD84602/WD84602_downsample8_8270_7_affine.csv\",\n",
    "    delimiter=\",\",\n",
    ")\n",
    "shape2 = np.genfromtxt(\n",
    "    \"../data/MxIF/WD84602/WD84602_downsample8_8270_7_shape.csv\",\n",
    "    delimiter=\",\",\n",
    ")"
   ]
  },
  {
   "cell_type": "code",
   "execution_count": null,
   "metadata": {},
   "outputs": [],
   "source": [
    "affine2"
   ]
  },
  {
   "cell_type": "code",
   "execution_count": null,
   "metadata": {},
   "outputs": [],
   "source": [
    "shape2"
   ]
  },
  {
   "cell_type": "code",
   "execution_count": null,
   "metadata": {},
   "outputs": [],
   "source": [
    "a2.obsm[\"spatial_ws\"] = np.dot(\n",
    "    np.column_stack([\n",
    "        (a2.obsm[\"spatial\"]),\n",
    "        np.zeros((a2.obsm[\"spatial\"].shape[0],1))\n",
    "    ]),\n",
    "    affine2.T\n",
    ")[:,:2]"
   ]
  },
  {
   "cell_type": "code",
   "execution_count": null,
   "metadata": {},
   "outputs": [],
   "source": [
    "a2.obsm[\"spatial_ws\"] = a2.obsm[\"spatial_ws\"] * 0.8"
   ]
  },
  {
   "cell_type": "code",
   "execution_count": null,
   "metadata": {},
   "outputs": [],
   "source": [
    "a2.obsm[\"spatial_ws\"][:,1] = a2.obsm[\"spatial_ws\"][:,1] + 2500\n",
    "a2.obsm[\"spatial_ws\"][:,0] = a2.obsm[\"spatial_ws\"][:,0] - 500"
   ]
  },
  {
   "cell_type": "code",
   "execution_count": null,
   "metadata": {},
   "outputs": [],
   "source": [
    "#a2.obsm[\"spatial_ws\"][:,1] = a2.obsm[\"spatial_ws\"][:,1] + 2500\n",
    "a2.obsm[\"spatial_ws\"][:,0] = a2.obsm[\"spatial_ws\"][:,0] + 1500"
   ]
  },
  {
   "cell_type": "code",
   "execution_count": null,
   "metadata": {},
   "outputs": [],
   "source": [
    "a2.obsm[\"spatial_ws\"][:,1] = a2.obsm[\"spatial_ws\"][:,1] - 1500\n",
    "a2.obsm[\"spatial_ws\"][:,0] = a2.obsm[\"spatial_ws\"][:,0] + 2500"
   ]
  },
  {
   "cell_type": "code",
   "execution_count": null,
   "metadata": {},
   "outputs": [],
   "source": [
    "a2.obsm[\"spatial_ws\"][:,1] = a2.obsm[\"spatial_ws\"][:,1] - 500\n",
    "#a2.obsm[\"spatial_ws\"][:,0] = a2.obsm[\"spatial_ws\"][:,0] + 2500"
   ]
  },
  {
   "cell_type": "code",
   "execution_count": null,
   "metadata": {},
   "outputs": [],
   "source": [
    "a2.obsm[\"spatial_ws\"][:,1] = a2.obsm[\"spatial_ws\"][:,1] - 200\n",
    "#a2.obsm[\"spatial_ws\"][:,0] = a2.obsm[\"spatial_ws\"][:,0] + 2500"
   ]
  },
  {
   "cell_type": "code",
   "execution_count": null,
   "metadata": {},
   "outputs": [],
   "source": [
    "a2.obsm[\"spatial_ws\"][:,1] = a2.obsm[\"spatial_ws\"][:,1] + 100\n",
    "#a2.obsm[\"spatial_ws\"][:,0] = a2.obsm[\"spatial_ws\"][:,0] + 2500"
   ]
  },
  {
   "cell_type": "code",
   "execution_count": null,
   "metadata": {},
   "outputs": [],
   "source": [
    "sc.pl.spatial(\n",
    "    a2,\n",
    "    basis=\"spatial_ws\",\n",
    "    color=\"CytoTRACE\",\n",
    "    img=bg_img,\n",
    "    spot_size=50,\n",
    "    scale_factor=1,\n",
    "    crop_coord=[0,WD84602_HE.img.shape[1],0,WD84602_HE.img.shape[0]],\n",
    "    frameon=False,\n",
    "    cmap=\"viridis\",\n",
    ")"
   ]
  },
  {
   "cell_type": "markdown",
   "metadata": {},
   "source": [
    "---\n",
    "# WD84602 Combined"
   ]
  },
  {
   "cell_type": "code",
   "execution_count": null,
   "metadata": {},
   "outputs": [],
   "source": [
    "a_ws = a1.concatenate([a2], fill_value=0)"
   ]
  },
  {
   "cell_type": "code",
   "execution_count": null,
   "metadata": {},
   "outputs": [],
   "source": [
    "a_ws"
   ]
  },
  {
   "cell_type": "code",
   "execution_count": null,
   "metadata": {},
   "outputs": [],
   "source": [
    "a_ws.write(\"../data/ST/PAT30884_combined_ws.h5ad\", compression=\"gzip\")"
   ]
  },
  {
   "cell_type": "markdown",
   "metadata": {},
   "source": [
    "---\n",
    "### Replace old metadata with new"
   ]
  },
  {
   "cell_type": "code",
   "execution_count": null,
   "metadata": {},
   "outputs": [],
   "source": [
    "a_ws = sc.read(\"../data/ST/PAT30884_combined_ws.h5ad\")"
   ]
  },
  {
   "cell_type": "code",
   "execution_count": null,
   "metadata": {},
   "outputs": [],
   "source": [
    "del a_ws.obs"
   ]
  },
  {
   "cell_type": "code",
   "execution_count": null,
   "metadata": {},
   "outputs": [],
   "source": [
    "a1 = sc.read(\"../data/ST/8270_6_WD84602_master.h5ad\")\n",
    "a2 = sc.read(\"../data/ST/8270_7_WD84602_master.h5ad\")"
   ]
  },
  {
   "cell_type": "code",
   "execution_count": null,
   "metadata": {},
   "outputs": [],
   "source": [
    "a = a1.concatenate([a2], fill_value=0)"
   ]
  },
  {
   "cell_type": "code",
   "execution_count": null,
   "metadata": {},
   "outputs": [],
   "source": [
    "a_ws.obs = a_ws.obs.merge(a.obs, left_index=True, right_index=True)"
   ]
  },
  {
   "cell_type": "markdown",
   "metadata": {},
   "source": [
    "---"
   ]
  },
  {
   "cell_type": "code",
   "execution_count": null,
   "metadata": {},
   "outputs": [],
   "source": [
    "sc.pl.spatial(\n",
    "    a_ws,\n",
    "    basis=\"spatial_ws\",\n",
    "    color=[\"CNV Clone\"],\n",
    "    img=bg_img,\n",
    "    spot_size=50,\n",
    "    scale_factor=1,\n",
    "    crop_coord=[0,WD84602_HE.img.shape[1],0,WD84602_HE.img.shape[0]],\n",
    "    frameon=False,\n",
    "    cmap=\"viridis\",\n",
    "    save=\"_PAT30884_cnv_leiden.png\"\n",
    ")"
   ]
  },
  {
   "cell_type": "markdown",
   "metadata": {},
   "source": [
    "---\n",
    "# WD84216 Sample 8270-AS-11"
   ]
  },
  {
   "cell_type": "code",
   "execution_count": null,
   "metadata": {},
   "outputs": [],
   "source": [
    "a1 = sc.read(\"../data/ST/8270_11_WD84216_master.h5ad\"); a1"
   ]
  },
  {
   "cell_type": "code",
   "execution_count": null,
   "metadata": {},
   "outputs": [],
   "source": [
    "WD84216 = img.from_npz(file=\"../data/MxIF/WD84216/WD84216_downsample8.npz\"); WD84216"
   ]
  },
  {
   "cell_type": "code",
   "execution_count": null,
   "metadata": {},
   "outputs": [],
   "source": [
    "img1 = io.imread(\"../data/MxIF/WD84216/VirtualStains/S002_VHE_stitched_downsample8.tif\")"
   ]
  },
  {
   "cell_type": "code",
   "execution_count": null,
   "metadata": {},
   "outputs": [],
   "source": [
    "WD84216_HE = img(img1, mask=WD84216.mask)\n",
    "WD84216_HE.scale()\n",
    "WD84216_HE.img = WD84216_HE.img[::-1,::-1,:]\n",
    "WD84216_HE.mask = WD84216_HE.mask[::-1,::-1]"
   ]
  },
  {
   "cell_type": "code",
   "execution_count": null,
   "metadata": {},
   "outputs": [],
   "source": [
    "WD84216_HE"
   ]
  },
  {
   "cell_type": "code",
   "execution_count": null,
   "metadata": {},
   "outputs": [],
   "source": [
    "bg_img = WD84216_HE.img\n",
    "for i in [0, 1, 2]:  # for 3-channel image\n",
    "    bg_img[:, :, i][WD84216_HE.mask == 0] = 1.0  # area outside mask 1.0"
   ]
  },
  {
   "cell_type": "code",
   "execution_count": null,
   "metadata": {},
   "outputs": [],
   "source": [
    "p = WD84216_HE.show(RGB=True, mask_out=False, save_to=\"plots_patient/wholeslide/show_PAT54273_histology.png\")"
   ]
  },
  {
   "cell_type": "code",
   "execution_count": null,
   "metadata": {},
   "outputs": [],
   "source": [
    "affine1 = np.genfromtxt(\n",
    "    \"../data/MxIF/WD84216/WD84216_downsample8_8270_11_affine.csv\",\n",
    "    delimiter=\",\",\n",
    ")\n",
    "shape1 = np.genfromtxt(\n",
    "    \"../data/MxIF/WD84216/WD84216_downsample8_8270_11_shape.csv\",\n",
    "    delimiter=\",\",\n",
    ")"
   ]
  },
  {
   "cell_type": "code",
   "execution_count": null,
   "metadata": {},
   "outputs": [],
   "source": [
    "affine1"
   ]
  },
  {
   "cell_type": "code",
   "execution_count": null,
   "metadata": {},
   "outputs": [],
   "source": [
    "shape1"
   ]
  },
  {
   "cell_type": "code",
   "execution_count": null,
   "metadata": {},
   "outputs": [],
   "source": [
    "a1.obsm[\"spatial_ws\"] = np.dot(\n",
    "    np.column_stack([\n",
    "        (a1.obsm[\"spatial\"]),\n",
    "        np.zeros((a1.obsm[\"spatial\"].shape[0],1))\n",
    "    ]),\n",
    "    affine1.T\n",
    ")[:,:2]"
   ]
  },
  {
   "cell_type": "code",
   "execution_count": null,
   "metadata": {},
   "outputs": [],
   "source": [
    "a1.obsm[\"spatial_ws\"] = a1.obsm[\"spatial_ws\"] * 0.8"
   ]
  },
  {
   "cell_type": "code",
   "execution_count": null,
   "metadata": {},
   "outputs": [],
   "source": [
    "a1.obsm[\"spatial_ws\"]"
   ]
  },
  {
   "cell_type": "code",
   "execution_count": null,
   "metadata": {},
   "outputs": [],
   "source": [
    "a1.obsm[\"spatial_ws\"][:,0] = a1.obsm[\"spatial_ws\"][:,0] + 2000\n",
    "a1.obsm[\"spatial_ws\"][:,1] = a1.obsm[\"spatial_ws\"][:,1] + 500"
   ]
  },
  {
   "cell_type": "code",
   "execution_count": null,
   "metadata": {},
   "outputs": [],
   "source": [
    "a1.obsm[\"spatial_ws\"][:,0] = a1.obsm[\"spatial_ws\"][:,0] + 3000\n",
    "a1.obsm[\"spatial_ws\"][:,1] = a1.obsm[\"spatial_ws\"][:,1] + 300"
   ]
  },
  {
   "cell_type": "code",
   "execution_count": null,
   "metadata": {},
   "outputs": [],
   "source": [
    "a1.obsm[\"spatial_ws\"][:,0] = a1.obsm[\"spatial_ws\"][:,0] - 1500\n",
    "a1.obsm[\"spatial_ws\"][:,1] = a1.obsm[\"spatial_ws\"][:,1] - 500"
   ]
  },
  {
   "cell_type": "code",
   "execution_count": null,
   "metadata": {},
   "outputs": [],
   "source": [
    "#a1.obsm[\"spatial_ws\"][:,0] = a1.obsm[\"spatial_ws\"][:,0] - 400\n",
    "a1.obsm[\"spatial_ws\"][:,1] = a1.obsm[\"spatial_ws\"][:,1] - 200"
   ]
  },
  {
   "cell_type": "code",
   "execution_count": null,
   "metadata": {},
   "outputs": [],
   "source": [
    "#a1.obsm[\"spatial_ws\"][:,0] = a1.obsm[\"spatial_ws\"][:,0] - 400\n",
    "a1.obsm[\"spatial_ws\"][:,1] = a1.obsm[\"spatial_ws\"][:,1] - 150"
   ]
  },
  {
   "cell_type": "code",
   "execution_count": null,
   "metadata": {},
   "outputs": [],
   "source": [
    "#a1.obsm[\"spatial_ws\"][:,0] = a1.obsm[\"spatial_ws\"][:,0] - 400\n",
    "a1.obsm[\"spatial_ws\"][:,1] = a1.obsm[\"spatial_ws\"][:,1] - 100"
   ]
  },
  {
   "cell_type": "code",
   "execution_count": null,
   "metadata": {},
   "outputs": [],
   "source": [
    "sc.pl.spatial(\n",
    "    a1,\n",
    "    basis=\"spatial_ws\",\n",
    "    color=\"CNV Score\",\n",
    "    img=bg_img,\n",
    "    spot_size=50,\n",
    "    scale_factor=1,\n",
    "    crop_coord=[0,WD84216_HE.img.shape[1],0,WD84216_HE.img.shape[0]],\n",
    "    frameon=False,\n",
    "    cmap=\"viridis\",\n",
    ")"
   ]
  },
  {
   "cell_type": "markdown",
   "metadata": {},
   "source": [
    "---\n",
    "# WD84216 Sample 8270-AS-12"
   ]
  },
  {
   "cell_type": "code",
   "execution_count": null,
   "metadata": {},
   "outputs": [],
   "source": [
    "a2 = sc.read(\"../data/ST/8270_12_WD84216_master.h5ad\"); a2"
   ]
  },
  {
   "cell_type": "code",
   "execution_count": null,
   "metadata": {},
   "outputs": [],
   "source": [
    "affine2 = np.genfromtxt(\n",
    "    \"../data/MxIF/WD84216/WD84216_downsample8_8270_12_affine.csv\",\n",
    "    delimiter=\",\",\n",
    ")\n",
    "shape2 = np.genfromtxt(\n",
    "    \"../data/MxIF/WD84216/WD84216_downsample8_8270_12_shape.csv\",\n",
    "    delimiter=\",\",\n",
    ")"
   ]
  },
  {
   "cell_type": "code",
   "execution_count": null,
   "metadata": {},
   "outputs": [],
   "source": [
    "affine2"
   ]
  },
  {
   "cell_type": "code",
   "execution_count": null,
   "metadata": {},
   "outputs": [],
   "source": [
    "shape2"
   ]
  },
  {
   "cell_type": "code",
   "execution_count": null,
   "metadata": {},
   "outputs": [],
   "source": [
    "a2.obsm[\"spatial_ws\"] = np.dot(\n",
    "    np.column_stack([\n",
    "        (a2.obsm[\"spatial\"]),\n",
    "        np.zeros((a2.obsm[\"spatial\"].shape[0],1))\n",
    "    ]),\n",
    "    affine2.T\n",
    ")[:,:2]"
   ]
  },
  {
   "cell_type": "code",
   "execution_count": null,
   "metadata": {},
   "outputs": [],
   "source": [
    "a2.obsm[\"spatial_ws\"] = a2.obsm[\"spatial_ws\"] * 0.8"
   ]
  },
  {
   "cell_type": "code",
   "execution_count": null,
   "metadata": {},
   "outputs": [],
   "source": [
    "a2.obsm[\"spatial_ws\"]"
   ]
  },
  {
   "cell_type": "code",
   "execution_count": null,
   "metadata": {},
   "outputs": [],
   "source": [
    "a2.obsm[\"spatial_ws\"][:,0] = a2.obsm[\"spatial_ws\"][:,0] + 500\n",
    "a2.obsm[\"spatial_ws\"][:,1] = a2.obsm[\"spatial_ws\"][:,1] + 2000"
   ]
  },
  {
   "cell_type": "code",
   "execution_count": null,
   "metadata": {},
   "outputs": [],
   "source": [
    "a2.obsm[\"spatial_ws\"][:,0] = a2.obsm[\"spatial_ws\"][:,0] + 500\n",
    "a2.obsm[\"spatial_ws\"][:,1] = a2.obsm[\"spatial_ws\"][:,1] + 2000"
   ]
  },
  {
   "cell_type": "code",
   "execution_count": null,
   "metadata": {},
   "outputs": [],
   "source": [
    "a2.obsm[\"spatial_ws\"][:,0] = a2.obsm[\"spatial_ws\"][:,0] + 500\n",
    "#a2.obsm[\"spatial_ws\"][:,1] = a2.obsm[\"spatial_ws\"][:,1] + 2000"
   ]
  },
  {
   "cell_type": "code",
   "execution_count": null,
   "metadata": {},
   "outputs": [],
   "source": [
    "a2.obsm[\"spatial_ws\"][:,0] = a2.obsm[\"spatial_ws\"][:,0] + 300\n",
    "a2.obsm[\"spatial_ws\"][:,1] = a2.obsm[\"spatial_ws\"][:,1] - 100"
   ]
  },
  {
   "cell_type": "code",
   "execution_count": null,
   "metadata": {},
   "outputs": [],
   "source": [
    "a2.obsm[\"spatial_ws\"][:,0] = a2.obsm[\"spatial_ws\"][:,0] + 100\n",
    "a2.obsm[\"spatial_ws\"][:,1] = a2.obsm[\"spatial_ws\"][:,1] - 50"
   ]
  },
  {
   "cell_type": "code",
   "execution_count": null,
   "metadata": {},
   "outputs": [],
   "source": [
    "sc.pl.spatial(\n",
    "    a2,\n",
    "    basis=\"spatial_ws\",\n",
    "    color=\"CytoTRACE\",\n",
    "    img=bg_img,\n",
    "    spot_size=50,\n",
    "    scale_factor=1,\n",
    "    crop_coord=[0,WD84216_HE.img.shape[1],0,WD84216_HE.img.shape[0]],\n",
    "    frameon=False,\n",
    "    cmap=\"viridis\",\n",
    ")"
   ]
  },
  {
   "cell_type": "markdown",
   "metadata": {},
   "source": [
    "---\n",
    "# WD84216 Combined"
   ]
  },
  {
   "cell_type": "code",
   "execution_count": null,
   "metadata": {},
   "outputs": [],
   "source": [
    "a_ws = a1.concatenate([a2], fill_value=0)"
   ]
  },
  {
   "cell_type": "code",
   "execution_count": null,
   "metadata": {},
   "outputs": [],
   "source": [
    "a_ws"
   ]
  },
  {
   "cell_type": "code",
   "execution_count": null,
   "metadata": {},
   "outputs": [],
   "source": [
    "a_ws.write(\"../data/ST/PAT54273_combined_ws.h5ad\", compression=\"gzip\")"
   ]
  },
  {
   "cell_type": "markdown",
   "metadata": {},
   "source": [
    "---\n",
    "### Replace old metadata with new"
   ]
  },
  {
   "cell_type": "code",
   "execution_count": null,
   "metadata": {},
   "outputs": [],
   "source": [
    "a_ws = sc.read(\"../data/ST/PAT54273_combined_ws.h5ad\")"
   ]
  },
  {
   "cell_type": "code",
   "execution_count": null,
   "metadata": {},
   "outputs": [],
   "source": [
    "del a_ws.obs"
   ]
  },
  {
   "cell_type": "code",
   "execution_count": null,
   "metadata": {},
   "outputs": [],
   "source": [
    "a1 = sc.read(\"../data/ST/8270_11_WD84216_master.h5ad\")\n",
    "a2 = sc.read(\"../data/ST/8270_12_WD84216_master.h5ad\")"
   ]
  },
  {
   "cell_type": "code",
   "execution_count": null,
   "metadata": {},
   "outputs": [],
   "source": [
    "a = a1.concatenate([a2], fill_value=0)"
   ]
  },
  {
   "cell_type": "code",
   "execution_count": null,
   "metadata": {},
   "outputs": [],
   "source": [
    "a_ws.obs = a_ws.obs.merge(a.obs, left_index=True, right_index=True)"
   ]
  },
  {
   "cell_type": "markdown",
   "metadata": {},
   "source": [
    "---"
   ]
  },
  {
   "cell_type": "code",
   "execution_count": null,
   "metadata": {},
   "outputs": [],
   "source": [
    "sc.pl.spatial(\n",
    "    a_ws,\n",
    "    basis=\"spatial_ws\",\n",
    "    color=[\"CNV Clone\"],\n",
    "    img=bg_img,\n",
    "    spot_size=50,\n",
    "    scale_factor=1,\n",
    "    crop_coord=[0,WD84216_HE.img.shape[1],0,WD84216_HE.img.shape[0]],\n",
    "    frameon=False,\n",
    "    cmap=\"viridis\",\n",
    "    save=\"_PAT54273_cnv_leiden.png\"\n",
    ")"
   ]
  },
  {
   "cell_type": "markdown",
   "metadata": {},
   "source": [
    "---\n",
    "# PAT33430 Block WD84221 Sample 7794-KL-3"
   ]
  },
  {
   "cell_type": "code",
   "execution_count": null,
   "metadata": {},
   "outputs": [],
   "source": [
    "a = sc.read(\"../data/ST/7794_3_WD84221_master.h5ad\"); a"
   ]
  },
  {
   "cell_type": "code",
   "execution_count": null,
   "metadata": {},
   "outputs": [],
   "source": [
    "WD84221 = img.from_npz(file=\"../data/MxIF/WD84221/WD84221_downsample8.npz\"); WD84221"
   ]
  },
  {
   "cell_type": "code",
   "execution_count": null,
   "metadata": {},
   "outputs": [],
   "source": [
    "img1 = io.imread(\"../data/MxIF/WD84221/VirtualStains/S002_VHE_stitched_downsample8.tif\")"
   ]
  },
  {
   "cell_type": "code",
   "execution_count": null,
   "metadata": {},
   "outputs": [],
   "source": [
    "WD84221_HE = img(img1, mask=WD84221.mask)\n",
    "WD84221_HE.scale()\n",
    "#WD84221_HE.img = WD84221_HE.img[::-1,::-1,:]\n",
    "#WD84221_HE.mask = WD84221_HE.mask[::-1,::-1]"
   ]
  },
  {
   "cell_type": "code",
   "execution_count": null,
   "metadata": {},
   "outputs": [],
   "source": [
    "p = WD84221_HE.show(RGB=True)"
   ]
  },
  {
   "cell_type": "code",
   "execution_count": null,
   "metadata": {},
   "outputs": [],
   "source": [
    "bg_img = WD84221_HE.img\n",
    "for i in [0, 1, 2]:  # for 3-channel image\n",
    "    bg_img[:, :, i][WD84221_HE.mask == 0] = 1.0  # area outside mask 1.0"
   ]
  },
  {
   "cell_type": "code",
   "execution_count": null,
   "metadata": {},
   "outputs": [],
   "source": [
    "affine4 = np.genfromtxt(\n",
    "    \"../data/MxIF/WD84221/WD84221_downsample8_7794_3_affine.csv\",\n",
    "    delimiter=\",\",\n",
    ")\n",
    "shape4 = np.genfromtxt(\n",
    "    \"../data/MxIF/WD84221/WD84221_downsample8_7794_3_shape.csv\",\n",
    "    delimiter=\",\",\n",
    ")"
   ]
  },
  {
   "cell_type": "code",
   "execution_count": null,
   "metadata": {},
   "outputs": [],
   "source": [
    "affine4"
   ]
  },
  {
   "cell_type": "code",
   "execution_count": null,
   "metadata": {},
   "outputs": [],
   "source": [
    "shape4"
   ]
  },
  {
   "cell_type": "code",
   "execution_count": null,
   "metadata": {},
   "outputs": [],
   "source": [
    "scalef_adata4 = a.uns[\"spatial\"][\"7794_AS_3\"][\"scalefactors\"][\"tissue_hires_scalef\"]"
   ]
  },
  {
   "cell_type": "code",
   "execution_count": null,
   "metadata": {},
   "outputs": [],
   "source": [
    "scalef4 = affine4[0,0]"
   ]
  },
  {
   "cell_type": "code",
   "execution_count": null,
   "metadata": {},
   "outputs": [],
   "source": [
    "scalef4"
   ]
  },
  {
   "cell_type": "code",
   "execution_count": null,
   "metadata": {},
   "outputs": [],
   "source": [
    "scalef_adata4"
   ]
  },
  {
   "cell_type": "code",
   "execution_count": null,
   "metadata": {},
   "outputs": [],
   "source": [
    "a.obsm[\"spatial_ws\"] = np.dot(\n",
    "    np.column_stack([\n",
    "        (a.obsm[\"spatial\"]),\n",
    "        np.zeros((a.obsm[\"spatial\"].shape[0],1))\n",
    "    ]),\n",
    "    affine4.T\n",
    ")[:,:2]"
   ]
  },
  {
   "cell_type": "code",
   "execution_count": null,
   "metadata": {},
   "outputs": [],
   "source": [
    "a.obsm[\"spatial_ws\"] = a.obsm[\"spatial_ws\"] * 0.45"
   ]
  },
  {
   "cell_type": "code",
   "execution_count": null,
   "metadata": {},
   "outputs": [],
   "source": [
    "a.obsm[\"spatial_ws\"][:,0] = a.obsm[\"spatial_ws\"][:,0] + 2000\n",
    "a.obsm[\"spatial_ws\"][:,1] = a.obsm[\"spatial_ws\"][:,1] - 500"
   ]
  },
  {
   "cell_type": "code",
   "execution_count": null,
   "metadata": {},
   "outputs": [],
   "source": [
    "a.obsm[\"spatial_ws\"][:,0] = a.obsm[\"spatial_ws\"][:,0] + 1000\n",
    "a.obsm[\"spatial_ws\"][:,1] = a.obsm[\"spatial_ws\"][:,1] + 500"
   ]
  },
  {
   "cell_type": "code",
   "execution_count": null,
   "metadata": {},
   "outputs": [],
   "source": [
    "a.obsm[\"spatial_ws\"][:,0] = a.obsm[\"spatial_ws\"][:,0] - 500\n",
    "a.obsm[\"spatial_ws\"][:,1] = a.obsm[\"spatial_ws\"][:,1] + 500"
   ]
  },
  {
   "cell_type": "code",
   "execution_count": null,
   "metadata": {},
   "outputs": [],
   "source": [
    "a.obsm[\"spatial_ws\"][:,0] = a.obsm[\"spatial_ws\"][:,0] - 50\n",
    "a.obsm[\"spatial_ws\"][:,1] = a.obsm[\"spatial_ws\"][:,1] + 50"
   ]
  },
  {
   "cell_type": "code",
   "execution_count": null,
   "metadata": {},
   "outputs": [],
   "source": [
    "a.obsm[\"spatial_ws\"][:,0] = a.obsm[\"spatial_ws\"][:,0] - 25\n",
    "a.obsm[\"spatial_ws\"][:,1] = a.obsm[\"spatial_ws\"][:,1] + 25"
   ]
  },
  {
   "cell_type": "code",
   "execution_count": null,
   "metadata": {},
   "outputs": [],
   "source": [
    "a.obsm[\"spatial_ws\"][:,0] = a.obsm[\"spatial_ws\"][:,0] - 25\n",
    "a.obsm[\"spatial_ws\"][:,1] = a.obsm[\"spatial_ws\"][:,1] + 25"
   ]
  },
  {
   "cell_type": "code",
   "execution_count": null,
   "metadata": {},
   "outputs": [],
   "source": [
    "#a.obsm[\"spatial_ws\"][:,0] = a.obsm[\"spatial_ws\"][:,0] - 25\n",
    "a.obsm[\"spatial_ws\"][:,1] = a.obsm[\"spatial_ws\"][:,1] + 50"
   ]
  },
  {
   "cell_type": "code",
   "execution_count": null,
   "metadata": {},
   "outputs": [],
   "source": [
    "a.obsm[\"spatial_ws\"][:,0] = a.obsm[\"spatial_ws\"][:,0] + 200\n",
    "a.obsm[\"spatial_ws\"][:,1] = a.obsm[\"spatial_ws\"][:,1] - 100"
   ]
  },
  {
   "cell_type": "code",
   "execution_count": null,
   "metadata": {},
   "outputs": [],
   "source": [
    "#a.obsm[\"spatial_ws\"][:,0] = a.obsm[\"spatial_ws\"][:,0] - 25\n",
    "a.obsm[\"spatial_ws\"][:,1] = a.obsm[\"spatial_ws\"][:,1] - 50"
   ]
  },
  {
   "cell_type": "code",
   "execution_count": null,
   "metadata": {},
   "outputs": [],
   "source": [
    "a.obsm[\"spatial_ws\"][:,0] = a.obsm[\"spatial_ws\"][:,0] + 25\n",
    "#a.obsm[\"spatial_ws\"][:,1] = a.obsm[\"spatial_ws\"][:,1] - 50"
   ]
  },
  {
   "cell_type": "code",
   "execution_count": null,
   "metadata": {},
   "outputs": [],
   "source": [
    "sc.pl.spatial(\n",
    "    a,\n",
    "    basis=\"spatial_ws\",\n",
    "    color=\"CNV Score\",\n",
    "    img=bg_img,\n",
    "    spot_size=50,\n",
    "    scale_factor=1,\n",
    "    crop_coord=[0,WD84221_HE.img.shape[1],0,WD84221_HE.img.shape[0]],\n",
    "    frameon=False,\n",
    "    cmap=\"viridis\",\n",
    ")"
   ]
  },
  {
   "cell_type": "code",
   "execution_count": null,
   "metadata": {},
   "outputs": [],
   "source": [
    "p = WD84221_HE.show(RGB=True, mask_out=False, save_to=\"plots_patient/wholeslide/show_PAT33430_histology.png\")"
   ]
  },
  {
   "cell_type": "code",
   "execution_count": null,
   "metadata": {},
   "outputs": [],
   "source": [
    "a.write(\"PAT33430_WD84221_combined_ws.h5ad\", compression=\"gzip\")"
   ]
  },
  {
   "cell_type": "markdown",
   "metadata": {},
   "source": [
    "---\n",
    "# PAT59460 Block WD84226 Sample 8270-AS-10"
   ]
  },
  {
   "cell_type": "code",
   "execution_count": null,
   "metadata": {},
   "outputs": [],
   "source": [
    "a = sc.read(\"../data/ST/8270_10_WD84226_master.h5ad\"); a"
   ]
  },
  {
   "cell_type": "code",
   "execution_count": null,
   "metadata": {},
   "outputs": [],
   "source": [
    "WD84226 = img.from_npz(file=\"../data/MxIF/WD84226/WD84226_downsample8.npz\"); WD84226"
   ]
  },
  {
   "cell_type": "code",
   "execution_count": null,
   "metadata": {},
   "outputs": [],
   "source": [
    "img1 = io.imread(\"../data/MxIF/WD84226/VirtualStains/S002_VHE_stitched_downsample8.tif\")"
   ]
  },
  {
   "cell_type": "code",
   "execution_count": null,
   "metadata": {},
   "outputs": [],
   "source": [
    "WD84226_HE = img(img1, mask=WD84226.mask)\n",
    "WD84226_HE.scale()\n",
    "WD84226_HE.img = WD84226_HE.img[::-1,::-1,:]\n",
    "WD84226_HE.mask = WD84226_HE.mask[::-1,::-1]"
   ]
  },
  {
   "cell_type": "code",
   "execution_count": null,
   "metadata": {},
   "outputs": [],
   "source": [
    "p = WD84226_HE.show(RGB=True)"
   ]
  },
  {
   "cell_type": "code",
   "execution_count": null,
   "metadata": {},
   "outputs": [],
   "source": [
    "bg_img = WD84226_HE.img\n",
    "for i in [0, 1, 2]:  # for 3-channel image\n",
    "    bg_img[:, :, i][WD84226_HE.mask == 0] = 1.0  # area outside mask 1.0"
   ]
  },
  {
   "cell_type": "code",
   "execution_count": null,
   "metadata": {},
   "outputs": [],
   "source": [
    "affine4 = np.genfromtxt(\n",
    "    \"../data/MxIF/WD84226/WD84226_downsample8_8270_10_affine.csv\",\n",
    "    delimiter=\",\",\n",
    ")\n",
    "shape4 = np.genfromtxt(\n",
    "    \"../data/MxIF/WD84226/WD84226_downsample8_8270_10_shape.csv\",\n",
    "    delimiter=\",\",\n",
    ")"
   ]
  },
  {
   "cell_type": "code",
   "execution_count": null,
   "metadata": {},
   "outputs": [],
   "source": [
    "affine4"
   ]
  },
  {
   "cell_type": "code",
   "execution_count": null,
   "metadata": {},
   "outputs": [],
   "source": [
    "shape4"
   ]
  },
  {
   "cell_type": "code",
   "execution_count": null,
   "metadata": {},
   "outputs": [],
   "source": [
    "scalef_adata4 = a.uns[\"spatial\"][\"8270_AS_10\"][\"scalefactors\"][\"tissue_hires_scalef\"]"
   ]
  },
  {
   "cell_type": "code",
   "execution_count": null,
   "metadata": {},
   "outputs": [],
   "source": [
    "scalef4 = affine4[0,0]"
   ]
  },
  {
   "cell_type": "code",
   "execution_count": null,
   "metadata": {},
   "outputs": [],
   "source": [
    "scalef4"
   ]
  },
  {
   "cell_type": "code",
   "execution_count": null,
   "metadata": {},
   "outputs": [],
   "source": [
    "scalef_adata4"
   ]
  },
  {
   "cell_type": "code",
   "execution_count": null,
   "metadata": {},
   "outputs": [],
   "source": [
    "a.obsm[\"spatial_ws\"] = np.dot(\n",
    "    np.column_stack([\n",
    "        (a.obsm[\"spatial\"]),\n",
    "        np.zeros((a.obsm[\"spatial\"].shape[0],1))\n",
    "    ]),\n",
    "    affine4.T\n",
    ")[:,:2]"
   ]
  },
  {
   "cell_type": "code",
   "execution_count": null,
   "metadata": {},
   "outputs": [],
   "source": [
    "a.obsm[\"spatial_ws\"] = a.obsm[\"spatial_ws\"] * 0.85"
   ]
  },
  {
   "cell_type": "code",
   "execution_count": null,
   "metadata": {},
   "outputs": [],
   "source": [
    "a.obsm[\"spatial_ws\"]"
   ]
  },
  {
   "cell_type": "code",
   "execution_count": null,
   "metadata": {},
   "outputs": [],
   "source": [
    "#a.obsm[\"spatial_ws\"][:,0] = a.obsm[\"spatial_ws\"][:,0] + 2000\n",
    "a.obsm[\"spatial_ws\"][:,1] = a.obsm[\"spatial_ws\"][:,1] + 2000"
   ]
  },
  {
   "cell_type": "code",
   "execution_count": null,
   "metadata": {},
   "outputs": [],
   "source": [
    "a.obsm[\"spatial_ws\"][:,0] = a.obsm[\"spatial_ws\"][:,0] - 500\n",
    "a.obsm[\"spatial_ws\"][:,1] = a.obsm[\"spatial_ws\"][:,1] + 1000"
   ]
  },
  {
   "cell_type": "code",
   "execution_count": null,
   "metadata": {},
   "outputs": [],
   "source": [
    "a.obsm[\"spatial_ws\"][:,0] = a.obsm[\"spatial_ws\"][:,0] + 200\n",
    "a.obsm[\"spatial_ws\"][:,1] = a.obsm[\"spatial_ws\"][:,1] + 1000"
   ]
  },
  {
   "cell_type": "code",
   "execution_count": null,
   "metadata": {},
   "outputs": [],
   "source": [
    "#a.obsm[\"spatial_ws\"][:,0] = a.obsm[\"spatial_ws\"][:,0] + 200\n",
    "a.obsm[\"spatial_ws\"][:,1] = a.obsm[\"spatial_ws\"][:,1] + 1000"
   ]
  },
  {
   "cell_type": "code",
   "execution_count": null,
   "metadata": {},
   "outputs": [],
   "source": [
    "#a.obsm[\"spatial_ws\"][:,0] = a.obsm[\"spatial_ws\"][:,0] + 200\n",
    "a.obsm[\"spatial_ws\"][:,1] = a.obsm[\"spatial_ws\"][:,1] - 200"
   ]
  },
  {
   "cell_type": "code",
   "execution_count": null,
   "metadata": {},
   "outputs": [],
   "source": [
    "a.obsm[\"spatial_ws\"][:,0] = a.obsm[\"spatial_ws\"][:,0] + 300\n",
    "a.obsm[\"spatial_ws\"][:,1] = a.obsm[\"spatial_ws\"][:,1] - 100"
   ]
  },
  {
   "cell_type": "code",
   "execution_count": null,
   "metadata": {},
   "outputs": [],
   "source": [
    "sc.pl.spatial(\n",
    "    a,\n",
    "    basis=\"spatial_ws\",\n",
    "    color=\"CNV Score\",\n",
    "    img=bg_img,\n",
    "    spot_size=50,\n",
    "    scale_factor=1,\n",
    "    crop_coord=[0,WD84226_HE.img.shape[1],0,WD84226_HE.img.shape[0]],\n",
    "    frameon=False,\n",
    "    cmap=\"viridis\",\n",
    ")"
   ]
  },
  {
   "cell_type": "code",
   "execution_count": null,
   "metadata": {},
   "outputs": [],
   "source": [
    "p = WD84226_HE.show(RGB=True, mask_out=False, save_to=\"plots_patient/wholeslide/show_PAT59460_histology.png\")"
   ]
  },
  {
   "cell_type": "code",
   "execution_count": null,
   "metadata": {},
   "outputs": [],
   "source": [
    "a.write(\"PAT59460_WD84226_combined_ws.h5ad\", compression=\"gzip\")"
   ]
  },
  {
   "cell_type": "markdown",
   "metadata": {},
   "source": [
    "---\n",
    "# PAT59667 Block WD84596 Sample 8270-AS-8"
   ]
  },
  {
   "cell_type": "code",
   "execution_count": null,
   "metadata": {},
   "outputs": [],
   "source": [
    "a = sc.read(\"../data/ST/8270_8_WD84596_master.h5ad\"); a"
   ]
  },
  {
   "cell_type": "code",
   "execution_count": null,
   "metadata": {},
   "outputs": [],
   "source": [
    "WD84596 = img.from_npz(file=\"../data/MxIF/WD84596/WD84596_downsample8.npz\"); WD84596"
   ]
  },
  {
   "cell_type": "code",
   "execution_count": null,
   "metadata": {},
   "outputs": [],
   "source": [
    "img1 = io.imread(\"../data/MxIF/WD84596/VirtualStains/S002_VHE_stitched_downsample8.tif\")"
   ]
  },
  {
   "cell_type": "code",
   "execution_count": null,
   "metadata": {},
   "outputs": [],
   "source": [
    "WD84596_HE = img(img1, mask=WD84596.mask)\n",
    "WD84596_HE.scale()\n",
    "WD84596_HE.img = WD84596_HE.img[::-1,::-1,:]\n",
    "WD84596_HE.mask = WD84596_HE.mask[::-1,::-1]"
   ]
  },
  {
   "cell_type": "code",
   "execution_count": null,
   "metadata": {},
   "outputs": [],
   "source": [
    "p = WD84596_HE.show(RGB=True)"
   ]
  },
  {
   "cell_type": "code",
   "execution_count": null,
   "metadata": {},
   "outputs": [],
   "source": [
    "bg_img = WD84596_HE.img\n",
    "for i in [0, 1, 2]:  # for 3-channel image\n",
    "    bg_img[:, :, i][WD84596_HE.mask == 0] = 1.0  # area outside mask 1.0"
   ]
  },
  {
   "cell_type": "code",
   "execution_count": null,
   "metadata": {},
   "outputs": [],
   "source": [
    "affine4 = np.genfromtxt(\n",
    "    \"../data/MxIF/WD84596/WD84596_downsample8_8270_8_affine.csv\",\n",
    "    delimiter=\",\",\n",
    ")\n",
    "shape4 = np.genfromtxt(\n",
    "    \"../data/MxIF/WD84596/WD84596_downsample8_8270_8_shape.csv\",\n",
    "    delimiter=\",\",\n",
    ")"
   ]
  },
  {
   "cell_type": "code",
   "execution_count": null,
   "metadata": {},
   "outputs": [],
   "source": [
    "affine4"
   ]
  },
  {
   "cell_type": "code",
   "execution_count": null,
   "metadata": {},
   "outputs": [],
   "source": [
    "shape4"
   ]
  },
  {
   "cell_type": "code",
   "execution_count": null,
   "metadata": {},
   "outputs": [],
   "source": [
    "scalef_adata4 = a.uns[\"spatial\"][\"8270_AS_8\"][\"scalefactors\"][\"tissue_hires_scalef\"]"
   ]
  },
  {
   "cell_type": "code",
   "execution_count": null,
   "metadata": {},
   "outputs": [],
   "source": [
    "scalef4 = affine4[0,0]"
   ]
  },
  {
   "cell_type": "code",
   "execution_count": null,
   "metadata": {},
   "outputs": [],
   "source": [
    "scalef4"
   ]
  },
  {
   "cell_type": "code",
   "execution_count": null,
   "metadata": {},
   "outputs": [],
   "source": [
    "scalef_adata4"
   ]
  },
  {
   "cell_type": "code",
   "execution_count": null,
   "metadata": {},
   "outputs": [],
   "source": [
    "a.obsm[\"spatial_ws\"] = np.dot(\n",
    "    np.column_stack([\n",
    "        (a.obsm[\"spatial\"]),\n",
    "        np.zeros((a.obsm[\"spatial\"].shape[0],1))\n",
    "    ]),\n",
    "    affine4.T\n",
    ")[:,:2]"
   ]
  },
  {
   "cell_type": "code",
   "execution_count": null,
   "metadata": {},
   "outputs": [],
   "source": [
    "a.obsm[\"spatial_ws\"] = a.obsm[\"spatial_ws\"] * 0.77"
   ]
  },
  {
   "cell_type": "code",
   "execution_count": null,
   "metadata": {},
   "outputs": [],
   "source": [
    "a.obsm[\"spatial_ws\"]"
   ]
  },
  {
   "cell_type": "code",
   "execution_count": null,
   "metadata": {},
   "outputs": [],
   "source": [
    "a.obsm[\"spatial_ws\"][:,0] = a.obsm[\"spatial_ws\"][:,0] + 3000\n",
    "a.obsm[\"spatial_ws\"][:,1] = a.obsm[\"spatial_ws\"][:,1] + 4500"
   ]
  },
  {
   "cell_type": "code",
   "execution_count": null,
   "metadata": {},
   "outputs": [],
   "source": [
    "a.obsm[\"spatial_ws\"][:,0] = a.obsm[\"spatial_ws\"][:,0] + 200\n",
    "#a.obsm[\"spatial_ws\"][:,1] = a.obsm[\"spatial_ws\"][:,1] + 4500"
   ]
  },
  {
   "cell_type": "code",
   "execution_count": null,
   "metadata": {},
   "outputs": [],
   "source": [
    "a.obsm[\"spatial_ws\"][:,0] = a.obsm[\"spatial_ws\"][:,0] + 100\n",
    "#a.obsm[\"spatial_ws\"][:,1] = a.obsm[\"spatial_ws\"][:,1] + 4500"
   ]
  },
  {
   "cell_type": "code",
   "execution_count": null,
   "metadata": {},
   "outputs": [],
   "source": [
    "a.obsm[\"spatial_ws\"][:,0] = a.obsm[\"spatial_ws\"][:,0] - 150\n",
    "#a.obsm[\"spatial_ws\"][:,1] = a.obsm[\"spatial_ws\"][:,1] + 4500"
   ]
  },
  {
   "cell_type": "code",
   "execution_count": null,
   "metadata": {},
   "outputs": [],
   "source": [
    "sc.pl.spatial(\n",
    "    a,\n",
    "    basis=\"spatial_ws\",\n",
    "    color=\"CNV Score\",\n",
    "    img=bg_img,\n",
    "    spot_size=50,\n",
    "    scale_factor=1,\n",
    "    crop_coord=[0,WD84596_HE.img.shape[1],0,WD84596_HE.img.shape[0]],\n",
    "    frameon=False,\n",
    "    cmap=\"viridis\",\n",
    ")"
   ]
  },
  {
   "cell_type": "code",
   "execution_count": null,
   "metadata": {},
   "outputs": [],
   "source": [
    "p = WD84596_HE.show(RGB=True, mask_out=False, save_to=\"plots_patient/wholeslide/show_PAT59667_histology.png\")"
   ]
  },
  {
   "cell_type": "code",
   "execution_count": null,
   "metadata": {},
   "outputs": [],
   "source": [
    "a.write(\"PAT59667_WD84596_combined_ws.h5ad\", compression=\"gzip\")"
   ]
  },
  {
   "cell_type": "markdown",
   "metadata": {},
   "source": [
    "---\n",
    "# PAT59600 Block WD84594 Sample 8270-AS-9"
   ]
  },
  {
   "cell_type": "code",
   "execution_count": null,
   "metadata": {},
   "outputs": [],
   "source": [
    "a = sc.read(\"../data/ST/8270_9_WD84594_master.h5ad\"); a"
   ]
  },
  {
   "cell_type": "code",
   "execution_count": null,
   "metadata": {},
   "outputs": [],
   "source": [
    "WD84594 = img.from_npz(file=\"../data/MxIF/WD84594/WD84594_downsample8.npz\"); WD84594"
   ]
  },
  {
   "cell_type": "code",
   "execution_count": null,
   "metadata": {},
   "outputs": [],
   "source": [
    "img1 = io.imread(\"../data/MxIF/WD84594/VirtualStains/S002_VHE_stitched_downsample8.tif\")"
   ]
  },
  {
   "cell_type": "code",
   "execution_count": null,
   "metadata": {},
   "outputs": [],
   "source": [
    "WD84594_HE = img(img1, mask=WD84594.mask)\n",
    "WD84594_HE.scale()\n",
    "#WD84594_HE.img = WD84594_HE.img[::-1,::-1,:]\n",
    "#WD84594_HE.mask = WD84594_HE.mask[::-1,::-1]"
   ]
  },
  {
   "cell_type": "code",
   "execution_count": null,
   "metadata": {},
   "outputs": [],
   "source": [
    "p = WD84594_HE.show(RGB=True)"
   ]
  },
  {
   "cell_type": "code",
   "execution_count": null,
   "metadata": {},
   "outputs": [],
   "source": [
    "bg_img = WD84594_HE.img\n",
    "for i in [0, 1, 2]:  # for 3-channel image\n",
    "    bg_img[:, :, i][WD84594_HE.mask == 0] = 1.0  # area outside mask 1.0"
   ]
  },
  {
   "cell_type": "code",
   "execution_count": null,
   "metadata": {},
   "outputs": [],
   "source": [
    "affine4 = np.genfromtxt(\n",
    "    \"../data/MxIF/WD84594/WD84594_downsample8_8270_9_affine.csv\",\n",
    "    delimiter=\",\",\n",
    ")\n",
    "shape4 = np.genfromtxt(\n",
    "    \"../data/MxIF/WD84594/WD84594_downsample8_8270_9_shape.csv\",\n",
    "    delimiter=\",\",\n",
    ")"
   ]
  },
  {
   "cell_type": "code",
   "execution_count": null,
   "metadata": {},
   "outputs": [],
   "source": [
    "affine4"
   ]
  },
  {
   "cell_type": "code",
   "execution_count": null,
   "metadata": {},
   "outputs": [],
   "source": [
    "shape4"
   ]
  },
  {
   "cell_type": "code",
   "execution_count": null,
   "metadata": {},
   "outputs": [],
   "source": [
    "scalef_adata4 = a.uns[\"spatial\"][\"8270_AS_9\"][\"scalefactors\"][\"tissue_hires_scalef\"]"
   ]
  },
  {
   "cell_type": "code",
   "execution_count": null,
   "metadata": {},
   "outputs": [],
   "source": [
    "scalef4 = affine4[0,0]"
   ]
  },
  {
   "cell_type": "code",
   "execution_count": null,
   "metadata": {},
   "outputs": [],
   "source": [
    "scalef4"
   ]
  },
  {
   "cell_type": "code",
   "execution_count": null,
   "metadata": {},
   "outputs": [],
   "source": [
    "scalef_adata4"
   ]
  },
  {
   "cell_type": "code",
   "execution_count": null,
   "metadata": {},
   "outputs": [],
   "source": [
    "a.obsm[\"spatial_ws\"] = np.dot(\n",
    "    np.column_stack([\n",
    "        (a.obsm[\"spatial\"]),\n",
    "        np.zeros((a.obsm[\"spatial\"].shape[0],1))\n",
    "    ]),\n",
    "    affine4.T\n",
    ")[:,:2]"
   ]
  },
  {
   "cell_type": "code",
   "execution_count": null,
   "metadata": {},
   "outputs": [],
   "source": [
    "a.obsm[\"spatial_ws\"] = a.obsm[\"spatial_ws\"] * 0.8"
   ]
  },
  {
   "cell_type": "code",
   "execution_count": null,
   "metadata": {},
   "outputs": [],
   "source": [
    "a.obsm[\"spatial_ws\"]"
   ]
  },
  {
   "cell_type": "code",
   "execution_count": null,
   "metadata": {},
   "outputs": [],
   "source": [
    "a.obsm[\"spatial_ws\"][:,0] = a.obsm[\"spatial_ws\"][:,0] + 2000\n",
    "a.obsm[\"spatial_ws\"][:,1] = a.obsm[\"spatial_ws\"][:,1] - 1000"
   ]
  },
  {
   "cell_type": "code",
   "execution_count": null,
   "metadata": {},
   "outputs": [],
   "source": [
    "a.obsm[\"spatial_ws\"][:,0] = a.obsm[\"spatial_ws\"][:,0] + 500\n",
    "a.obsm[\"spatial_ws\"][:,1] = a.obsm[\"spatial_ws\"][:,1] - 500"
   ]
  },
  {
   "cell_type": "code",
   "execution_count": null,
   "metadata": {},
   "outputs": [],
   "source": [
    "#a.obsm[\"spatial_ws\"][:,0] = a.obsm[\"spatial_ws\"][:,0] + 500\n",
    "a.obsm[\"spatial_ws\"][:,1] = a.obsm[\"spatial_ws\"][:,1] + 1000"
   ]
  },
  {
   "cell_type": "code",
   "execution_count": null,
   "metadata": {},
   "outputs": [],
   "source": [
    "sc.pl.spatial(\n",
    "    a,\n",
    "    basis=\"spatial_ws\",\n",
    "    color=\"CNV Score\",\n",
    "    img=bg_img,\n",
    "    spot_size=50,\n",
    "    scale_factor=1,\n",
    "    crop_coord=[0,WD84594_HE.img.shape[1],0,WD84594_HE.img.shape[0]],\n",
    "    frameon=False,\n",
    "    cmap=\"viridis\",\n",
    ")"
   ]
  },
  {
   "cell_type": "code",
   "execution_count": null,
   "metadata": {},
   "outputs": [],
   "source": [
    "p = WD84594_HE.show(RGB=True, mask_out=False, save_to=\"plots_patient/wholeslide/show_PAT59600_histology.png\")"
   ]
  },
  {
   "cell_type": "code",
   "execution_count": null,
   "metadata": {},
   "outputs": [],
   "source": [
    "a.write(\"PAT59600_WD84594_combined_ws.h5ad\", compression=\"gzip\")"
   ]
  },
  {
   "cell_type": "markdown",
   "metadata": {},
   "source": [
    "---\n",
    "# SG00001 Sample 8899-AS-1"
   ]
  },
  {
   "cell_type": "code",
   "execution_count": null,
   "metadata": {},
   "outputs": [],
   "source": [
    "a1 = sc.read(\"../data/ST/8899_1_SG00001_master.h5ad\"); a1"
   ]
  },
  {
   "cell_type": "code",
   "execution_count": null,
   "metadata": {},
   "outputs": [],
   "source": [
    "SG00001 = img.from_npz(file=\"../data/MxIF/SG00001/SG00001_downsample8.npz\"); SG00001"
   ]
  },
  {
   "cell_type": "code",
   "execution_count": null,
   "metadata": {},
   "outputs": [],
   "source": [
    "img1 = io.imread(\"../data/MxIF/SG00001/VirtualStains/S002_VHE_stitched_downsample8.tif\")"
   ]
  },
  {
   "cell_type": "code",
   "execution_count": null,
   "metadata": {},
   "outputs": [],
   "source": [
    "SG00001_HE = img(img1, mask=SG00001.mask)\n",
    "SG00001_HE.scale()\n",
    "#WD84602_HE.img = WD84602_HE.img[::-1,::-1,:]\n",
    "#WD84602_HE.mask = WD84602_HE.mask[::-1,::-1]"
   ]
  },
  {
   "cell_type": "code",
   "execution_count": null,
   "metadata": {},
   "outputs": [],
   "source": [
    "SG00001"
   ]
  },
  {
   "cell_type": "code",
   "execution_count": null,
   "metadata": {},
   "outputs": [],
   "source": [
    "bg_img = SG00001_HE.img\n",
    "for i in [0, 1, 2]:  # for 3-channel image\n",
    "    bg_img[:, :, i][SG00001_HE.mask == 0] = 1.0  # area outside mask 1.0"
   ]
  },
  {
   "cell_type": "code",
   "execution_count": null,
   "metadata": {},
   "outputs": [],
   "source": [
    "p = SG00001_HE.show(RGB=True, mask_out=False, save_to=\"plots_patient/wholeslide/show_SG00001_histology.png\")"
   ]
  },
  {
   "cell_type": "code",
   "execution_count": null,
   "metadata": {},
   "outputs": [],
   "source": [
    "affine1 = np.genfromtxt(\n",
    "    \"../data/MxIF/SG00001/SG00001_downsample8_8899_1_affine.csv\",\n",
    "    delimiter=\",\",\n",
    ")\n",
    "shape1 = np.genfromtxt(\n",
    "    \"../data/MxIF/SG00001/SG00001_downsample8_8899_2_shape.csv\",\n",
    "    delimiter=\",\",\n",
    ")"
   ]
  },
  {
   "cell_type": "code",
   "execution_count": null,
   "metadata": {},
   "outputs": [],
   "source": [
    "affine1"
   ]
  },
  {
   "cell_type": "code",
   "execution_count": null,
   "metadata": {},
   "outputs": [],
   "source": [
    "shape1"
   ]
  },
  {
   "cell_type": "code",
   "execution_count": null,
   "metadata": {},
   "outputs": [],
   "source": [
    "shape1 * affine1[0,0]"
   ]
  },
  {
   "cell_type": "code",
   "execution_count": null,
   "metadata": {},
   "outputs": [],
   "source": [
    "scalef_adata1 = a1.uns[\"spatial\"][\"8899_AS_1\"][\"scalefactors\"][\"tissue_hires_scalef\"]"
   ]
  },
  {
   "cell_type": "code",
   "execution_count": null,
   "metadata": {},
   "outputs": [],
   "source": [
    "scalef1 = affine1[0,0]"
   ]
  },
  {
   "cell_type": "code",
   "execution_count": null,
   "metadata": {},
   "outputs": [],
   "source": [
    "scalef_adata1"
   ]
  },
  {
   "cell_type": "code",
   "execution_count": null,
   "metadata": {},
   "outputs": [],
   "source": [
    "a1.obsm[\"spatial_ws\"] = np.dot(\n",
    "    np.column_stack([\n",
    "        (a1.obsm[\"spatial\"]),\n",
    "        np.zeros((a1.obsm[\"spatial\"].shape[0],1))\n",
    "    ]),\n",
    "    affine1.T\n",
    ")[:,:2]"
   ]
  },
  {
   "cell_type": "code",
   "execution_count": null,
   "metadata": {},
   "outputs": [],
   "source": [
    "a1.obsm[\"spatial_ws\"] = a1.obsm[\"spatial_ws\"] * 0.8"
   ]
  },
  {
   "cell_type": "code",
   "execution_count": null,
   "metadata": {},
   "outputs": [],
   "source": [
    "a1.obsm[\"spatial_ws\"][:,0] = a1.obsm[\"spatial_ws\"][:,0] + 200\n",
    "a1.obsm[\"spatial_ws\"][:,1] = a1.obsm[\"spatial_ws\"][:,1] + 3500"
   ]
  },
  {
   "cell_type": "code",
   "execution_count": null,
   "metadata": {},
   "outputs": [],
   "source": [
    "#a1.obsm[\"spatial_ws\"][:,0] = a1.obsm[\"spatial_ws\"][:,0] + 200\n",
    "a1.obsm[\"spatial_ws\"][:,1] = a1.obsm[\"spatial_ws\"][:,1] + 5500"
   ]
  },
  {
   "cell_type": "code",
   "execution_count": null,
   "metadata": {},
   "outputs": [],
   "source": [
    "a1.obsm[\"spatial_ws\"][:,0] = a1.obsm[\"spatial_ws\"][:,0] + 200\n",
    "#a1.obsm[\"spatial_ws\"][:,1] = a1.obsm[\"spatial_ws\"][:,1] + 5500"
   ]
  },
  {
   "cell_type": "code",
   "execution_count": null,
   "metadata": {},
   "outputs": [],
   "source": [
    "a1.obsm[\"spatial_ws\"][:,0] = a1.obsm[\"spatial_ws\"][:,0] + 500\n",
    "#a1.obsm[\"spatial_ws\"][:,1] = a1.obsm[\"spatial_ws\"][:,1] + 5500"
   ]
  },
  {
   "cell_type": "code",
   "execution_count": null,
   "metadata": {},
   "outputs": [],
   "source": [
    "a1.obsm[\"spatial_ws\"]"
   ]
  },
  {
   "cell_type": "code",
   "execution_count": null,
   "metadata": {},
   "outputs": [],
   "source": [
    "sc.pl.spatial(\n",
    "    a1,\n",
    "    basis=\"spatial_ws\",\n",
    "    color=\"CNV Score\",\n",
    "    img=bg_img,\n",
    "    spot_size=50,\n",
    "    scale_factor=1,\n",
    "    crop_coord=[0,SG00001_HE.img.shape[1],0,SG00001_HE.img.shape[0]],\n",
    "    frameon=False,\n",
    "    cmap=\"viridis\",\n",
    ")"
   ]
  },
  {
   "cell_type": "markdown",
   "metadata": {},
   "source": [
    "---\n",
    "# SG00001 Sample 8899-AS-2"
   ]
  },
  {
   "cell_type": "code",
   "execution_count": null,
   "metadata": {},
   "outputs": [],
   "source": [
    "a2 = sc.read(\"../data/ST/8899_2_SG00001_master.h5ad\"); a2"
   ]
  },
  {
   "cell_type": "code",
   "execution_count": null,
   "metadata": {},
   "outputs": [],
   "source": [
    "affine2 = np.genfromtxt(\n",
    "    \"../data/MxIF/SG00001/SG00001_downsample8_8899_2_affine.csv\",\n",
    "    delimiter=\",\",\n",
    ")\n",
    "shape2 = np.genfromtxt(\n",
    "    \"../data/MxIF/SG00001/SG00001_downsample8_8899_2_shape.csv\",\n",
    "    delimiter=\",\",\n",
    ")"
   ]
  },
  {
   "cell_type": "code",
   "execution_count": null,
   "metadata": {},
   "outputs": [],
   "source": [
    "affine2"
   ]
  },
  {
   "cell_type": "code",
   "execution_count": null,
   "metadata": {},
   "outputs": [],
   "source": [
    "shape2"
   ]
  },
  {
   "cell_type": "code",
   "execution_count": null,
   "metadata": {},
   "outputs": [],
   "source": [
    "a2.obsm[\"spatial_ws\"] = np.dot(\n",
    "    np.column_stack([\n",
    "        (a2.obsm[\"spatial\"]),\n",
    "        np.zeros((a2.obsm[\"spatial\"].shape[0],1))\n",
    "    ]),\n",
    "    affine2.T\n",
    ")[:,:2]"
   ]
  },
  {
   "cell_type": "code",
   "execution_count": null,
   "metadata": {},
   "outputs": [],
   "source": [
    "a2.obsm[\"spatial_ws\"] = a2.obsm[\"spatial_ws\"] * 0.8"
   ]
  },
  {
   "cell_type": "code",
   "execution_count": null,
   "metadata": {},
   "outputs": [],
   "source": [
    "#a2.obsm[\"spatial_ws\"][:,1] = a2.obsm[\"spatial_ws\"][:,1] + 2000\n",
    "a2.obsm[\"spatial_ws\"][:,0] = a2.obsm[\"spatial_ws\"][:,0] + 2000"
   ]
  },
  {
   "cell_type": "code",
   "execution_count": null,
   "metadata": {},
   "outputs": [],
   "source": [
    "a2.obsm[\"spatial_ws\"][:,1] = a2.obsm[\"spatial_ws\"][:,1] + 2500\n",
    "a2.obsm[\"spatial_ws\"][:,0] = a2.obsm[\"spatial_ws\"][:,0] + 8000"
   ]
  },
  {
   "cell_type": "code",
   "execution_count": null,
   "metadata": {},
   "outputs": [],
   "source": [
    "a2.obsm[\"spatial_ws\"][:,1] = a2.obsm[\"spatial_ws\"][:,1] + 800\n",
    "a2.obsm[\"spatial_ws\"][:,0] = a2.obsm[\"spatial_ws\"][:,0] + 800"
   ]
  },
  {
   "cell_type": "code",
   "execution_count": null,
   "metadata": {},
   "outputs": [],
   "source": [
    "a2.obsm[\"spatial_ws\"][:,1] = a2.obsm[\"spatial_ws\"][:,1] + 500\n",
    "#a2.obsm[\"spatial_ws\"][:,0] = a2.obsm[\"spatial_ws\"][:,0] + 2500"
   ]
  },
  {
   "cell_type": "code",
   "execution_count": null,
   "metadata": {},
   "outputs": [],
   "source": [
    "a2.obsm[\"spatial_ws\"][:,1] = a2.obsm[\"spatial_ws\"][:,1] + 200\n",
    "#a2.obsm[\"spatial_ws\"][:,0] = a2.obsm[\"spatial_ws\"][:,0] + 2500"
   ]
  },
  {
   "cell_type": "code",
   "execution_count": null,
   "metadata": {},
   "outputs": [],
   "source": [
    "a2.obsm[\"spatial_ws\"][:,1] = a2.obsm[\"spatial_ws\"][:,1] + 100\n",
    "a2.obsm[\"spatial_ws\"][:,0] = a2.obsm[\"spatial_ws\"][:,0] - 100"
   ]
  },
  {
   "cell_type": "code",
   "execution_count": null,
   "metadata": {},
   "outputs": [],
   "source": [
    "a2.obsm[\"spatial_ws\"][:,1] = a2.obsm[\"spatial_ws\"][:,1] + 100\n",
    "#a2.obsm[\"spatial_ws\"][:,0] = a2.obsm[\"spatial_ws\"][:,0] + 2500"
   ]
  },
  {
   "cell_type": "code",
   "execution_count": null,
   "metadata": {},
   "outputs": [],
   "source": [
    "a2.obsm[\"spatial_ws\"]"
   ]
  },
  {
   "cell_type": "code",
   "execution_count": null,
   "metadata": {},
   "outputs": [],
   "source": [
    "sc.pl.spatial(\n",
    "    a2,\n",
    "    basis=\"spatial_ws\",\n",
    "    color=\"CytoTRACE\",\n",
    "    img=bg_img,\n",
    "    spot_size=50,\n",
    "    scale_factor=1,\n",
    "    crop_coord=[0,SG00001_HE.img.shape[1],0,SG00001_HE.img.shape[0]],\n",
    "    frameon=False,\n",
    "    cmap=\"viridis\",\n",
    ")"
   ]
  },
  {
   "cell_type": "markdown",
   "metadata": {},
   "source": [
    "---\n",
    "# SG00001 Combined"
   ]
  },
  {
   "cell_type": "code",
   "execution_count": null,
   "metadata": {},
   "outputs": [],
   "source": [
    "a_ws = a1.concatenate([a2], fill_value=0)"
   ]
  },
  {
   "cell_type": "code",
   "execution_count": null,
   "metadata": {},
   "outputs": [],
   "source": [
    "a_ws"
   ]
  },
  {
   "cell_type": "code",
   "execution_count": null,
   "metadata": {},
   "outputs": [],
   "source": [
    "a_ws.write(\"../data/ST/SG00001_combined_ws.h5ad\", compression=\"gzip\")"
   ]
  },
  {
   "cell_type": "markdown",
   "metadata": {},
   "source": [
    "---\n",
    "### Replace old metadata with new"
   ]
  },
  {
   "cell_type": "code",
   "execution_count": null,
   "metadata": {},
   "outputs": [],
   "source": [
    "a_ws = sc.read(\"../data/ST/SG00001_combined_ws.h5ad\")"
   ]
  },
  {
   "cell_type": "code",
   "execution_count": null,
   "metadata": {},
   "outputs": [],
   "source": [
    "del a_ws.obs"
   ]
  },
  {
   "cell_type": "code",
   "execution_count": null,
   "metadata": {},
   "outputs": [],
   "source": [
    "a1 = sc.read(\"../data/ST/8899_1_SG00001_master.h5ad\")\n",
    "a2 = sc.read(\"../data/ST/8899_2_SG00001_master.h5ad\")"
   ]
  },
  {
   "cell_type": "code",
   "execution_count": null,
   "metadata": {},
   "outputs": [],
   "source": [
    "a = a1.concatenate([a2], fill_value=0)"
   ]
  },
  {
   "cell_type": "code",
   "execution_count": null,
   "metadata": {},
   "outputs": [],
   "source": [
    "a_ws.obs = a_ws.obs.merge(a.obs, left_index=True, right_index=True)"
   ]
  },
  {
   "cell_type": "markdown",
   "metadata": {},
   "source": [
    "---"
   ]
  },
  {
   "cell_type": "code",
   "execution_count": null,
   "metadata": {},
   "outputs": [],
   "source": [
    "sc.pl.spatial(\n",
    "    a_ws,\n",
    "    basis=\"spatial_ws\",\n",
    "    color=[\"CNV Clone\"],\n",
    "    img=bg_img,\n",
    "    spot_size=50,\n",
    "    scale_factor=1,\n",
    "    crop_coord=[0,SG00001_HE.img.shape[1],0,SG00001_HE.img.shape[0]],\n",
    "    frameon=False,\n",
    "    cmap=\"viridis\",\n",
    "    save=\"_SG00001_cnv_leiden.png\"\n",
    ")"
   ]
  },
  {
   "cell_type": "markdown",
   "metadata": {},
   "source": [
    "---\n",
    "# SG00002 Sample 8899-AS-3"
   ]
  },
  {
   "cell_type": "code",
   "execution_count": null,
   "metadata": {},
   "outputs": [],
   "source": [
    "a1 = sc.read(\"../data/ST/8899_3_SG00002_master.h5ad\"); a1"
   ]
  },
  {
   "cell_type": "code",
   "execution_count": null,
   "metadata": {},
   "outputs": [],
   "source": [
    "SG00002 = img.from_npz(file=\"../data/MxIF/SG00002/SG00002_downsample8.npz\"); SG00002"
   ]
  },
  {
   "cell_type": "code",
   "execution_count": null,
   "metadata": {},
   "outputs": [],
   "source": [
    "img1 = io.imread(\"../data/MxIF/SG00002/VirtualStains/S002_VHE_stitched_downsample8.tif\")"
   ]
  },
  {
   "cell_type": "code",
   "execution_count": null,
   "metadata": {},
   "outputs": [],
   "source": [
    "SG00002_HE = img(img1, mask=SG00002.mask)\n",
    "SG00002_HE.scale()\n",
    "#WD84602_HE.img = WD84602_HE.img[::-1,::-1,:]\n",
    "#WD84602_HE.mask = WD84602_HE.mask[::-1,::-1]"
   ]
  },
  {
   "cell_type": "code",
   "execution_count": null,
   "metadata": {},
   "outputs": [],
   "source": [
    "SG00002"
   ]
  },
  {
   "cell_type": "code",
   "execution_count": null,
   "metadata": {},
   "outputs": [],
   "source": [
    "bg_img = SG00002_HE.img\n",
    "for i in [0, 1, 2]:  # for 3-channel image\n",
    "    bg_img[:, :, i][SG00002_HE.mask == 0] = 1.0  # area outside mask 1.0"
   ]
  },
  {
   "cell_type": "code",
   "execution_count": null,
   "metadata": {},
   "outputs": [],
   "source": [
    "p = SG00002_HE.show(RGB=True, mask_out=False, save_to=\"plots_patient/wholeslide/show_SG00002_histology.png\")"
   ]
  },
  {
   "cell_type": "code",
   "execution_count": null,
   "metadata": {},
   "outputs": [],
   "source": [
    "affine1 = np.genfromtxt(\n",
    "    \"../data/MxIF/SG00002/SG00002_downsample8_8899_3_affine.csv\",\n",
    "    delimiter=\",\",\n",
    ")\n",
    "shape1 = np.genfromtxt(\n",
    "    \"../data/MxIF/SG00002/SG00002_downsample8_8899_3_shape.csv\",\n",
    "    delimiter=\",\",\n",
    ")"
   ]
  },
  {
   "cell_type": "code",
   "execution_count": null,
   "metadata": {},
   "outputs": [],
   "source": [
    "affine1"
   ]
  },
  {
   "cell_type": "code",
   "execution_count": null,
   "metadata": {},
   "outputs": [],
   "source": [
    "shape1"
   ]
  },
  {
   "cell_type": "code",
   "execution_count": null,
   "metadata": {},
   "outputs": [],
   "source": [
    "shape1 * affine1[0,0]"
   ]
  },
  {
   "cell_type": "code",
   "execution_count": null,
   "metadata": {},
   "outputs": [],
   "source": [
    "scalef_adata1 = a1.uns[\"spatial\"][\"8899_AS_3\"][\"scalefactors\"][\"tissue_hires_scalef\"]"
   ]
  },
  {
   "cell_type": "code",
   "execution_count": null,
   "metadata": {},
   "outputs": [],
   "source": [
    "scalef1 = affine1[0,0]"
   ]
  },
  {
   "cell_type": "code",
   "execution_count": null,
   "metadata": {},
   "outputs": [],
   "source": [
    "scalef_adata1"
   ]
  },
  {
   "cell_type": "code",
   "execution_count": null,
   "metadata": {},
   "outputs": [],
   "source": [
    "a1.obsm[\"spatial_ws\"] = np.dot(\n",
    "    np.column_stack([\n",
    "        (a1.obsm[\"spatial\"]),\n",
    "        np.zeros((a1.obsm[\"spatial\"].shape[0],1))\n",
    "    ]),\n",
    "    affine1.T\n",
    ")[:,:2]"
   ]
  },
  {
   "cell_type": "code",
   "execution_count": null,
   "metadata": {},
   "outputs": [],
   "source": [
    "a1.obsm[\"spatial_ws\"] = a1.obsm[\"spatial_ws\"] * 0.8"
   ]
  },
  {
   "cell_type": "code",
   "execution_count": null,
   "metadata": {},
   "outputs": [],
   "source": [
    "a1.obsm[\"spatial_ws\"][:,0] = a1.obsm[\"spatial_ws\"][:,0] + 2500\n",
    "a1.obsm[\"spatial_ws\"][:,1] = a1.obsm[\"spatial_ws\"][:,1] + 300"
   ]
  },
  {
   "cell_type": "code",
   "execution_count": null,
   "metadata": {},
   "outputs": [],
   "source": [
    "a1.obsm[\"spatial_ws\"][:,0] = a1.obsm[\"spatial_ws\"][:,0] + 4000\n",
    "a1.obsm[\"spatial_ws\"][:,1] = a1.obsm[\"spatial_ws\"][:,1] + 4000"
   ]
  },
  {
   "cell_type": "code",
   "execution_count": null,
   "metadata": {},
   "outputs": [],
   "source": [
    "a1.obsm[\"spatial_ws\"][:,0] = a1.obsm[\"spatial_ws\"][:,0] - 300\n",
    "a1.obsm[\"spatial_ws\"][:,1] = a1.obsm[\"spatial_ws\"][:,1] - 200"
   ]
  },
  {
   "cell_type": "code",
   "execution_count": null,
   "metadata": {},
   "outputs": [],
   "source": [
    "a1.obsm[\"spatial_ws\"][:,0] = a1.obsm[\"spatial_ws\"][:,0] - 100\n",
    "a1.obsm[\"spatial_ws\"][:,1] = a1.obsm[\"spatial_ws\"][:,1] + 300"
   ]
  },
  {
   "cell_type": "code",
   "execution_count": null,
   "metadata": {},
   "outputs": [],
   "source": [
    "a1.obsm[\"spatial_ws\"]"
   ]
  },
  {
   "cell_type": "code",
   "execution_count": null,
   "metadata": {},
   "outputs": [],
   "source": [
    "sc.pl.spatial(\n",
    "    a1,\n",
    "    basis=\"spatial_ws\",\n",
    "    color=\"CNV Score\",\n",
    "    img=bg_img,\n",
    "    spot_size=50,\n",
    "    scale_factor=1,\n",
    "    crop_coord=[0,SG00002_HE.img.shape[1],0,SG00002_HE.img.shape[0]],\n",
    "    frameon=False,\n",
    "    cmap=\"viridis\",\n",
    ")"
   ]
  },
  {
   "cell_type": "markdown",
   "metadata": {},
   "source": [
    "---\n",
    "# SG00002 Sample 8899-AS-4"
   ]
  },
  {
   "cell_type": "code",
   "execution_count": null,
   "metadata": {},
   "outputs": [],
   "source": [
    "a2 = sc.read(\"../data/ST/8899_4_SG00002_master.h5ad\"); a2"
   ]
  },
  {
   "cell_type": "code",
   "execution_count": null,
   "metadata": {},
   "outputs": [],
   "source": [
    "affine2 = np.genfromtxt(\n",
    "    \"../data/MxIF/SG00002/SG00002_downsample8_8899_4_affine.csv\",\n",
    "    delimiter=\",\",\n",
    ")\n",
    "shape2 = np.genfromtxt(\n",
    "    \"../data/MxIF/SG00002/SG00002_downsample8_8899_4_shape.csv\",\n",
    "    delimiter=\",\",\n",
    ")"
   ]
  },
  {
   "cell_type": "code",
   "execution_count": null,
   "metadata": {},
   "outputs": [],
   "source": [
    "affine2"
   ]
  },
  {
   "cell_type": "code",
   "execution_count": null,
   "metadata": {},
   "outputs": [],
   "source": [
    "shape2"
   ]
  },
  {
   "cell_type": "code",
   "execution_count": null,
   "metadata": {},
   "outputs": [],
   "source": [
    "a2.obsm[\"spatial_ws\"] = np.dot(\n",
    "    np.column_stack([\n",
    "        (a2.obsm[\"spatial\"]),\n",
    "        np.zeros((a2.obsm[\"spatial\"].shape[0],1))\n",
    "    ]),\n",
    "    affine2.T\n",
    ")[:,:2]"
   ]
  },
  {
   "cell_type": "code",
   "execution_count": null,
   "metadata": {},
   "outputs": [],
   "source": [
    "a2.obsm[\"spatial_ws\"] = a2.obsm[\"spatial_ws\"] * 0.8"
   ]
  },
  {
   "cell_type": "code",
   "execution_count": null,
   "metadata": {},
   "outputs": [],
   "source": [
    "a2.obsm[\"spatial_ws\"][:,0] = a2.obsm[\"spatial_ws\"][:,0] + 2000\n",
    "a2.obsm[\"spatial_ws\"][:,1] = a2.obsm[\"spatial_ws\"][:,1] + 3000"
   ]
  },
  {
   "cell_type": "code",
   "execution_count": null,
   "metadata": {},
   "outputs": [],
   "source": [
    "a2.obsm[\"spatial_ws\"][:,0] = a2.obsm[\"spatial_ws\"][:,0] + 8000\n",
    "a2.obsm[\"spatial_ws\"][:,1] = a2.obsm[\"spatial_ws\"][:,1] - 500"
   ]
  },
  {
   "cell_type": "code",
   "execution_count": null,
   "metadata": {},
   "outputs": [],
   "source": [
    "a2.obsm[\"spatial_ws\"][:,0] = a2.obsm[\"spatial_ws\"][:,0] + 500\n",
    "a2.obsm[\"spatial_ws\"][:,1] = a2.obsm[\"spatial_ws\"][:,1] - 600"
   ]
  },
  {
   "cell_type": "code",
   "execution_count": null,
   "metadata": {},
   "outputs": [],
   "source": [
    "a2.obsm[\"spatial_ws\"][:,0] = a2.obsm[\"spatial_ws\"][:,0] + 100\n",
    "#a2.obsm[\"spatial_ws\"][:,1] = a2.obsm[\"spatial_ws\"][:,1] - 600"
   ]
  },
  {
   "cell_type": "code",
   "execution_count": null,
   "metadata": {},
   "outputs": [],
   "source": [
    "a2.obsm[\"spatial_ws\"][:,0] = a2.obsm[\"spatial_ws\"][:,0] + 100\n",
    "a2.obsm[\"spatial_ws\"][:,1] = a2.obsm[\"spatial_ws\"][:,1] + 50"
   ]
  },
  {
   "cell_type": "code",
   "execution_count": null,
   "metadata": {},
   "outputs": [],
   "source": [
    "a2.obsm[\"spatial_ws\"][:,0] = a2.obsm[\"spatial_ws\"][:,0] + 100\n",
    "#a2.obsm[\"spatial_ws\"][:,1] = a2.obsm[\"spatial_ws\"][:,1] - 600"
   ]
  },
  {
   "cell_type": "code",
   "execution_count": null,
   "metadata": {},
   "outputs": [],
   "source": [
    "a2.obsm[\"spatial_ws\"]"
   ]
  },
  {
   "cell_type": "code",
   "execution_count": null,
   "metadata": {},
   "outputs": [],
   "source": [
    "sc.pl.spatial(\n",
    "    a2,\n",
    "    basis=\"spatial_ws\",\n",
    "    color=\"CytoTRACE\",\n",
    "    img=bg_img,\n",
    "    spot_size=50,\n",
    "    scale_factor=1,\n",
    "    crop_coord=[0,SG00002_HE.img.shape[1],0,SG00002_HE.img.shape[0]],\n",
    "    frameon=False,\n",
    "    cmap=\"viridis\",\n",
    ")"
   ]
  },
  {
   "cell_type": "markdown",
   "metadata": {},
   "source": [
    "---\n",
    "# SG00002 Combined"
   ]
  },
  {
   "cell_type": "code",
   "execution_count": null,
   "metadata": {},
   "outputs": [],
   "source": [
    "a_ws = a1.concatenate([a2], fill_value=0)"
   ]
  },
  {
   "cell_type": "code",
   "execution_count": null,
   "metadata": {},
   "outputs": [],
   "source": [
    "a_ws"
   ]
  },
  {
   "cell_type": "code",
   "execution_count": null,
   "metadata": {},
   "outputs": [],
   "source": [
    "a_ws.write(\"../data/ST/SG00002_combined_ws.h5ad\", compression=\"gzip\")"
   ]
  },
  {
   "cell_type": "markdown",
   "metadata": {},
   "source": [
    "---\n",
    "### Replace old metadata with new"
   ]
  },
  {
   "cell_type": "code",
   "execution_count": null,
   "metadata": {},
   "outputs": [],
   "source": [
    "a_ws = sc.read(\"../data/ST/SG00002_combined_ws.h5ad\")"
   ]
  },
  {
   "cell_type": "code",
   "execution_count": null,
   "metadata": {},
   "outputs": [],
   "source": [
    "del a_ws.obs"
   ]
  },
  {
   "cell_type": "code",
   "execution_count": null,
   "metadata": {},
   "outputs": [],
   "source": [
    "a1 = sc.read(\"../data/ST/8899_3_SG00002_master.h5ad\")\n",
    "a2 = sc.read(\"../data/ST/8899_4_SG00002_master.h5ad\")"
   ]
  },
  {
   "cell_type": "code",
   "execution_count": null,
   "metadata": {},
   "outputs": [],
   "source": [
    "a = a1.concatenate([a2], fill_value=0)"
   ]
  },
  {
   "cell_type": "code",
   "execution_count": null,
   "metadata": {},
   "outputs": [],
   "source": [
    "a_ws.obs = a_ws.obs.merge(a.obs, left_index=True, right_index=True)"
   ]
  },
  {
   "cell_type": "markdown",
   "metadata": {},
   "source": [
    "---"
   ]
  },
  {
   "cell_type": "code",
   "execution_count": null,
   "metadata": {},
   "outputs": [],
   "source": [
    "sc.pl.spatial(\n",
    "    a_ws,\n",
    "    basis=\"spatial_ws\",\n",
    "    color=[\"CNV Clone\"],\n",
    "    img=bg_img,\n",
    "    spot_size=50,\n",
    "    scale_factor=1,\n",
    "    crop_coord=[0,SG00002_HE.img.shape[1],0,SG00002_HE.img.shape[0]],\n",
    "    frameon=False,\n",
    "    cmap=\"viridis\",\n",
    "    save=\"_SG00002_cnv_leiden.png\"\n",
    ")"
   ]
  },
  {
   "cell_type": "markdown",
   "metadata": {},
   "source": [
    "---\n",
    "# SG00003 Sample 8899-AS-5"
   ]
  },
  {
   "cell_type": "code",
   "execution_count": null,
   "metadata": {},
   "outputs": [],
   "source": [
    "a1 = sc.read(\"../data/ST/8899_5_SG00003_master.h5ad\"); a1"
   ]
  },
  {
   "cell_type": "code",
   "execution_count": null,
   "metadata": {},
   "outputs": [],
   "source": [
    "SG00003 = img.from_npz(file=\"../data/MxIF/SG00003/SG00003_downsample8.npz\"); SG00003"
   ]
  },
  {
   "cell_type": "code",
   "execution_count": null,
   "metadata": {},
   "outputs": [],
   "source": [
    "img1 = io.imread(\"../data/MxIF/SG00003/VirtualStains/S002_VHE_stitched_downsample8.tif\")"
   ]
  },
  {
   "cell_type": "code",
   "execution_count": null,
   "metadata": {},
   "outputs": [],
   "source": [
    "SG00003_HE = img(img1, mask=SG00003.mask)\n",
    "SG00003_HE.scale()\n",
    "#WD84602_HE.img = WD84602_HE.img[::-1,::-1,:]\n",
    "#WD84602_HE.mask = WD84602_HE.mask[::-1,::-1]"
   ]
  },
  {
   "cell_type": "code",
   "execution_count": null,
   "metadata": {},
   "outputs": [],
   "source": [
    "SG00003"
   ]
  },
  {
   "cell_type": "code",
   "execution_count": null,
   "metadata": {},
   "outputs": [],
   "source": [
    "bg_img = SG00003_HE.img\n",
    "for i in [0, 1, 2]:  # for 3-channel image\n",
    "    bg_img[:, :, i][SG00003_HE.mask == 0] = 1.0  # area outside mask 1.0"
   ]
  },
  {
   "cell_type": "code",
   "execution_count": null,
   "metadata": {},
   "outputs": [],
   "source": [
    "p = SG00003_HE.show(RGB=True, mask_out=False, save_to=\"plots_patient/wholeslide/show_SG00003_histology.png\")"
   ]
  },
  {
   "cell_type": "code",
   "execution_count": null,
   "metadata": {},
   "outputs": [],
   "source": [
    "affine1 = np.genfromtxt(\n",
    "    \"../data/MxIF/SG00003/SG00003_downsample8_8899_5_affine.csv\",\n",
    "    delimiter=\",\",\n",
    ")\n",
    "shape1 = np.genfromtxt(\n",
    "    \"../data/MxIF/SG00003/SG00003_downsample8_8899_5_shape.csv\",\n",
    "    delimiter=\",\",\n",
    ")"
   ]
  },
  {
   "cell_type": "code",
   "execution_count": null,
   "metadata": {},
   "outputs": [],
   "source": [
    "affine1"
   ]
  },
  {
   "cell_type": "code",
   "execution_count": null,
   "metadata": {},
   "outputs": [],
   "source": [
    "shape1"
   ]
  },
  {
   "cell_type": "code",
   "execution_count": null,
   "metadata": {},
   "outputs": [],
   "source": [
    "shape1 * affine1[0,0]"
   ]
  },
  {
   "cell_type": "code",
   "execution_count": null,
   "metadata": {},
   "outputs": [],
   "source": [
    "scalef_adata1 = a1.uns[\"spatial\"][\"8899_AS_5\"][\"scalefactors\"][\"tissue_hires_scalef\"]"
   ]
  },
  {
   "cell_type": "code",
   "execution_count": null,
   "metadata": {},
   "outputs": [],
   "source": [
    "scalef1 = affine1[0,0]"
   ]
  },
  {
   "cell_type": "code",
   "execution_count": null,
   "metadata": {},
   "outputs": [],
   "source": [
    "scalef_adata1"
   ]
  },
  {
   "cell_type": "code",
   "execution_count": null,
   "metadata": {},
   "outputs": [],
   "source": [
    "a1.obsm[\"spatial_ws\"] = np.dot(\n",
    "    np.column_stack([\n",
    "        (a1.obsm[\"spatial\"]),\n",
    "        np.zeros((a1.obsm[\"spatial\"].shape[0],1))\n",
    "    ]),\n",
    "    affine1.T\n",
    ")[:,:2]"
   ]
  },
  {
   "cell_type": "code",
   "execution_count": null,
   "metadata": {},
   "outputs": [],
   "source": [
    "a1.obsm[\"spatial_ws\"] = a1.obsm[\"spatial_ws\"] * 0.8"
   ]
  },
  {
   "cell_type": "code",
   "execution_count": null,
   "metadata": {},
   "outputs": [],
   "source": [
    "a1.obsm[\"spatial_ws\"][:,0] = a1.obsm[\"spatial_ws\"][:,0] + 900\n",
    "a1.obsm[\"spatial_ws\"][:,1] = a1.obsm[\"spatial_ws\"][:,1] + 500"
   ]
  },
  {
   "cell_type": "code",
   "execution_count": null,
   "metadata": {},
   "outputs": [],
   "source": [
    "a1.obsm[\"spatial_ws\"][:,0] = a1.obsm[\"spatial_ws\"][:,0] + 2000\n",
    "a1.obsm[\"spatial_ws\"][:,1] = a1.obsm[\"spatial_ws\"][:,1] + 2000"
   ]
  },
  {
   "cell_type": "code",
   "execution_count": null,
   "metadata": {},
   "outputs": [],
   "source": [
    "a1.obsm[\"spatial_ws\"][:,0] = a1.obsm[\"spatial_ws\"][:,0] - 600\n",
    "a1.obsm[\"spatial_ws\"][:,1] = a1.obsm[\"spatial_ws\"][:,1] + 800"
   ]
  },
  {
   "cell_type": "code",
   "execution_count": null,
   "metadata": {},
   "outputs": [],
   "source": [
    "#a1.obsm[\"spatial_ws\"][:,0] = a1.obsm[\"spatial_ws\"][:,0] - 400\n",
    "a1.obsm[\"spatial_ws\"][:,1] = a1.obsm[\"spatial_ws\"][:,1] + 300"
   ]
  },
  {
   "cell_type": "code",
   "execution_count": null,
   "metadata": {},
   "outputs": [],
   "source": [
    "#a1.obsm[\"spatial_ws\"][:,0] = a1.obsm[\"spatial_ws\"][:,0] - 100\n",
    "a1.obsm[\"spatial_ws\"][:,1] = a1.obsm[\"spatial_ws\"][:,1] + 80"
   ]
  },
  {
   "cell_type": "code",
   "execution_count": null,
   "metadata": {},
   "outputs": [],
   "source": [
    "a1.obsm[\"spatial_ws\"]"
   ]
  },
  {
   "cell_type": "code",
   "execution_count": null,
   "metadata": {},
   "outputs": [],
   "source": [
    "sc.pl.spatial(\n",
    "    a1,\n",
    "    basis=\"spatial_ws\",\n",
    "    color=\"CNV Score\",\n",
    "    img=bg_img,\n",
    "    spot_size=50,\n",
    "    scale_factor=1,\n",
    "    crop_coord=[0,SG00003_HE.img.shape[1],0,SG00003_HE.img.shape[0]],\n",
    "    frameon=False,\n",
    "    cmap=\"viridis\",\n",
    ")"
   ]
  },
  {
   "cell_type": "markdown",
   "metadata": {},
   "source": [
    "---\n",
    "# SG00003 Sample 8899-AS-6"
   ]
  },
  {
   "cell_type": "code",
   "execution_count": null,
   "metadata": {},
   "outputs": [],
   "source": [
    "a2 = sc.read(\"../data/ST/8899_6_SG00003_master.h5ad\"); a2"
   ]
  },
  {
   "cell_type": "code",
   "execution_count": null,
   "metadata": {},
   "outputs": [],
   "source": [
    "SG00003_HE = img(img1, mask=SG00003.mask)\n",
    "SG00003_HE.scale()\n",
    "SG00003_HE.img = SG00003_HE.img[::-1,::-1,:]\n",
    "SG00003_HE.mask = SG00003_HE.mask[::-1,::-1]"
   ]
  },
  {
   "cell_type": "code",
   "execution_count": null,
   "metadata": {},
   "outputs": [],
   "source": [
    "bg_img = SG00003_HE.img\n",
    "for i in [0, 1, 2]:  # for 3-channel image\n",
    "    bg_img[:, :, i][SG00003_HE.mask == 0] = 1.0  # area outside mask 1.0"
   ]
  },
  {
   "cell_type": "code",
   "execution_count": null,
   "metadata": {},
   "outputs": [],
   "source": [
    "affine2 = np.genfromtxt(\n",
    "    \"../data/MxIF/SG00003/SG00003_downsample8_8899_6_affine.csv\",\n",
    "    delimiter=\",\",\n",
    ")\n",
    "shape2 = np.genfromtxt(\n",
    "    \"../data/MxIF/SG00003/SG00003_downsample8_8899_6_shape.csv\",\n",
    "    delimiter=\",\",\n",
    ")"
   ]
  },
  {
   "cell_type": "code",
   "execution_count": null,
   "metadata": {},
   "outputs": [],
   "source": [
    "affine2"
   ]
  },
  {
   "cell_type": "code",
   "execution_count": null,
   "metadata": {},
   "outputs": [],
   "source": [
    "shape2"
   ]
  },
  {
   "cell_type": "code",
   "execution_count": null,
   "metadata": {},
   "outputs": [],
   "source": [
    "a2.obsm[\"spatial_ws\"] = np.dot(\n",
    "    np.column_stack([\n",
    "        (a2.obsm[\"spatial\"]),\n",
    "        np.zeros((a2.obsm[\"spatial\"].shape[0],1))\n",
    "    ]),\n",
    "    affine2.T\n",
    ")[:,:2]"
   ]
  },
  {
   "cell_type": "code",
   "execution_count": null,
   "metadata": {},
   "outputs": [],
   "source": [
    "a2.obsm[\"spatial_ws\"] = a2.obsm[\"spatial_ws\"] * 0.8"
   ]
  },
  {
   "cell_type": "code",
   "execution_count": null,
   "metadata": {},
   "outputs": [],
   "source": [
    "a2.obsm[\"spatial_ws\"][:,1] = a2.obsm[\"spatial_ws\"][:,1] + 500\n",
    "a2.obsm[\"spatial_ws\"][:,0] = a2.obsm[\"spatial_ws\"][:,0] + 2000"
   ]
  },
  {
   "cell_type": "code",
   "execution_count": null,
   "metadata": {},
   "outputs": [],
   "source": [
    "#a2.obsm[\"spatial_ws\"][:,1] = a2.obsm[\"spatial_ws\"][:,1] + 2500\n",
    "a2.obsm[\"spatial_ws\"][:,0] = a2.obsm[\"spatial_ws\"][:,0] + 1500"
   ]
  },
  {
   "cell_type": "code",
   "execution_count": null,
   "metadata": {},
   "outputs": [],
   "source": [
    "a2.obsm[\"spatial_ws\"][:,1] = a2.obsm[\"spatial_ws\"][:,1] - 200\n",
    "a2.obsm[\"spatial_ws\"][:,0] = a2.obsm[\"spatial_ws\"][:,0] + 500"
   ]
  },
  {
   "cell_type": "code",
   "execution_count": null,
   "metadata": {},
   "outputs": [],
   "source": [
    "a2.obsm[\"spatial_ws\"][:,1] = a2.obsm[\"spatial_ws\"][:,1] - 50\n",
    "a2.obsm[\"spatial_ws\"][:,0] = a2.obsm[\"spatial_ws\"][:,0] - 50"
   ]
  },
  {
   "cell_type": "code",
   "execution_count": null,
   "metadata": {},
   "outputs": [],
   "source": [
    "a2.obsm[\"spatial_ws\"][:,1] = a2.obsm[\"spatial_ws\"][:,1] - 4000\n",
    "a2.obsm[\"spatial_ws\"][:,0] = a2.obsm[\"spatial_ws\"][:,0] + 5000"
   ]
  },
  {
   "cell_type": "code",
   "execution_count": null,
   "metadata": {},
   "outputs": [],
   "source": [
    "a2.obsm[\"spatial_ws\"][:,1] = a2.obsm[\"spatial_ws\"][:,1] - 3000\n",
    "a2.obsm[\"spatial_ws\"][:,0] = a2.obsm[\"spatial_ws\"][:,0] + 5000"
   ]
  },
  {
   "cell_type": "code",
   "execution_count": null,
   "metadata": {},
   "outputs": [],
   "source": [
    "a2.obsm[\"spatial_ws\"][:,1] = a2.obsm[\"spatial_ws\"][:,1] + 100\n",
    "#a2.obsm[\"spatial_ws\"][:,0] = a2.obsm[\"spatial_ws\"][:,0] + 2500"
   ]
  },
  {
   "cell_type": "code",
   "execution_count": null,
   "metadata": {},
   "outputs": [],
   "source": [
    "a2.obsm[\"spatial_ws\"]"
   ]
  },
  {
   "cell_type": "code",
   "execution_count": null,
   "metadata": {},
   "outputs": [],
   "source": [
    "sc.pl.spatial(\n",
    "    a2,\n",
    "    basis=\"spatial_ws\",\n",
    "    color=\"CytoTRACE\",\n",
    "    img=bg_img,\n",
    "    spot_size=50,\n",
    "    scale_factor=1,\n",
    "    crop_coord=[0,SG00003_HE.img.shape[1],0,SG00003_HE.img.shape[0]],\n",
    "    frameon=False,\n",
    "    cmap=\"viridis\",\n",
    ")"
   ]
  },
  {
   "cell_type": "markdown",
   "metadata": {},
   "source": [
    "---\n",
    "# SG00003 Combined"
   ]
  },
  {
   "cell_type": "code",
   "execution_count": null,
   "metadata": {},
   "outputs": [],
   "source": [
    "# flip coords in second sample\n",
    "a2.obsm[\"spatial_ws\"][:,0] = SG00003_HE.img.shape[1] - a2.obsm[\"spatial_ws\"][:,0]\n",
    "a2.obsm[\"spatial_ws\"][:,1] = SG00003_HE.img.shape[0] - a2.obsm[\"spatial_ws\"][:,1]"
   ]
  },
  {
   "cell_type": "code",
   "execution_count": null,
   "metadata": {},
   "outputs": [],
   "source": [
    "a_ws = a1.concatenate([a2], fill_value=0)"
   ]
  },
  {
   "cell_type": "code",
   "execution_count": null,
   "metadata": {},
   "outputs": [],
   "source": [
    "a_ws"
   ]
  },
  {
   "cell_type": "code",
   "execution_count": null,
   "metadata": {},
   "outputs": [],
   "source": [
    "a_ws.write(\"../data/ST/SG00003_combined_ws.h5ad\", compression=\"gzip\")"
   ]
  },
  {
   "cell_type": "markdown",
   "metadata": {},
   "source": [
    "---\n",
    "### Replace old metadata with new"
   ]
  },
  {
   "cell_type": "code",
   "execution_count": null,
   "metadata": {},
   "outputs": [],
   "source": [
    "a_ws = sc.read(\"../data/ST/SG00003_combined_ws.h5ad\")"
   ]
  },
  {
   "cell_type": "code",
   "execution_count": null,
   "metadata": {},
   "outputs": [],
   "source": [
    "del a_ws.obs"
   ]
  },
  {
   "cell_type": "code",
   "execution_count": null,
   "metadata": {},
   "outputs": [],
   "source": [
    "a1 = sc.read(\"../data/ST/8899_5_SG00003_master.h5ad\")\n",
    "a2 = sc.read(\"../data/ST/8899_6_SG00003_master.h5ad\")"
   ]
  },
  {
   "cell_type": "code",
   "execution_count": null,
   "metadata": {},
   "outputs": [],
   "source": [
    "a = a1.concatenate([a2], fill_value=0)"
   ]
  },
  {
   "cell_type": "code",
   "execution_count": null,
   "metadata": {},
   "outputs": [],
   "source": [
    "a_ws.obs = a_ws.obs.merge(a.obs, left_index=True, right_index=True)"
   ]
  },
  {
   "cell_type": "markdown",
   "metadata": {},
   "source": [
    "---"
   ]
  },
  {
   "cell_type": "code",
   "execution_count": null,
   "metadata": {},
   "outputs": [],
   "source": [
    "SG00003_HE = img(img1, mask=SG00003.mask)\n",
    "SG00003_HE.scale()"
   ]
  },
  {
   "cell_type": "code",
   "execution_count": null,
   "metadata": {},
   "outputs": [],
   "source": [
    "bg_img = SG00003_HE.img\n",
    "for i in [0, 1, 2]:  # for 3-channel image\n",
    "    bg_img[:, :, i][SG00003_HE.mask == 0] = 1.0  # area outside mask 1.0"
   ]
  },
  {
   "cell_type": "code",
   "execution_count": null,
   "metadata": {},
   "outputs": [],
   "source": [
    "sc.pl.spatial(\n",
    "    a_ws,\n",
    "    basis=\"spatial_ws\",\n",
    "    color=[\"CNV Clone\"],\n",
    "    img=bg_img,\n",
    "    spot_size=50,\n",
    "    scale_factor=1,\n",
    "    crop_coord=[0,SG00003_HE.img.shape[1],0,SG00003_HE.img.shape[0]],\n",
    "    frameon=False,\n",
    "    cmap=\"viridis\",\n",
    "    save=\"_SG00003_cnv_leiden.png\"\n",
    ")"
   ]
  },
  {
   "cell_type": "markdown",
   "metadata": {},
   "source": [
    "---\n",
    "# SG00004 Sample 8899-AS-7"
   ]
  },
  {
   "cell_type": "code",
   "execution_count": null,
   "metadata": {},
   "outputs": [],
   "source": [
    "a1 = sc.read(\"../data/ST/8899_7_SG00004_master.h5ad\"); a1"
   ]
  },
  {
   "cell_type": "code",
   "execution_count": null,
   "metadata": {},
   "outputs": [],
   "source": [
    "SG00004 = img.from_npz(file=\"../data/MxIF/SG00004/SG00004_downsample8.npz\"); SG00004"
   ]
  },
  {
   "cell_type": "code",
   "execution_count": null,
   "metadata": {},
   "outputs": [],
   "source": [
    "img1 = io.imread(\"../data/MxIF/SG00004/VirtualStains/S002_VHE_stitched_downsample8.tif\")"
   ]
  },
  {
   "cell_type": "code",
   "execution_count": null,
   "metadata": {},
   "outputs": [],
   "source": [
    "SG00004_HE = img(img1, mask=SG00004.mask)\n",
    "SG00004_HE.scale()\n",
    "#WD84602_HE.img = WD84602_HE.img[::-1,::-1,:]\n",
    "#WD84602_HE.mask = WD84602_HE.mask[::-1,::-1]"
   ]
  },
  {
   "cell_type": "code",
   "execution_count": null,
   "metadata": {},
   "outputs": [],
   "source": [
    "SG00004"
   ]
  },
  {
   "cell_type": "code",
   "execution_count": null,
   "metadata": {},
   "outputs": [],
   "source": [
    "bg_img = SG00004_HE.img\n",
    "for i in [0, 1, 2]:  # for 3-channel image\n",
    "    bg_img[:, :, i][SG00004_HE.mask == 0] = 1.0  # area outside mask 1.0"
   ]
  },
  {
   "cell_type": "code",
   "execution_count": null,
   "metadata": {},
   "outputs": [],
   "source": [
    "p = SG00004_HE.show(RGB=True, mask_out=False, save_to=\"plots_patient/wholeslide/show_SG00004_histology.png\")"
   ]
  },
  {
   "cell_type": "code",
   "execution_count": null,
   "metadata": {},
   "outputs": [],
   "source": [
    "affine1 = np.genfromtxt(\n",
    "    \"../data/MxIF/SG00004/SG00004_downsample8_8899_7_affine.csv\",\n",
    "    delimiter=\",\",\n",
    ")\n",
    "shape1 = np.genfromtxt(\n",
    "    \"../data/MxIF/SG00004/SG00004_downsample8_8899_7_shape.csv\",\n",
    "    delimiter=\",\",\n",
    ")"
   ]
  },
  {
   "cell_type": "code",
   "execution_count": null,
   "metadata": {},
   "outputs": [],
   "source": [
    "affine1"
   ]
  },
  {
   "cell_type": "code",
   "execution_count": null,
   "metadata": {},
   "outputs": [],
   "source": [
    "shape1"
   ]
  },
  {
   "cell_type": "code",
   "execution_count": null,
   "metadata": {},
   "outputs": [],
   "source": [
    "shape1 * affine1[0,0]"
   ]
  },
  {
   "cell_type": "code",
   "execution_count": null,
   "metadata": {},
   "outputs": [],
   "source": [
    "scalef_adata1 = a1.uns[\"spatial\"][\"8899_AS_7\"][\"scalefactors\"][\"tissue_hires_scalef\"]"
   ]
  },
  {
   "cell_type": "code",
   "execution_count": null,
   "metadata": {},
   "outputs": [],
   "source": [
    "scalef1 = affine1[0,0]"
   ]
  },
  {
   "cell_type": "code",
   "execution_count": null,
   "metadata": {},
   "outputs": [],
   "source": [
    "scalef_adata1"
   ]
  },
  {
   "cell_type": "code",
   "execution_count": null,
   "metadata": {},
   "outputs": [],
   "source": [
    "a1.obsm[\"spatial_ws\"] = np.dot(\n",
    "    np.column_stack([\n",
    "        (a1.obsm[\"spatial\"]),\n",
    "        np.zeros((a1.obsm[\"spatial\"].shape[0],1))\n",
    "    ]),\n",
    "    affine1.T\n",
    ")[:,:2]"
   ]
  },
  {
   "cell_type": "code",
   "execution_count": null,
   "metadata": {},
   "outputs": [],
   "source": [
    "a1.obsm[\"spatial_ws\"] = a1.obsm[\"spatial_ws\"] * 0.9"
   ]
  },
  {
   "cell_type": "code",
   "execution_count": null,
   "metadata": {},
   "outputs": [],
   "source": [
    "a1.obsm[\"spatial_ws\"][:,0] = a1.obsm[\"spatial_ws\"][:,0] + 2000\n",
    "a1.obsm[\"spatial_ws\"][:,1] = a1.obsm[\"spatial_ws\"][:,1] + 900"
   ]
  },
  {
   "cell_type": "code",
   "execution_count": null,
   "metadata": {},
   "outputs": [],
   "source": [
    "a1.obsm[\"spatial_ws\"][:,0] = a1.obsm[\"spatial_ws\"][:,0] + 1000\n",
    "a1.obsm[\"spatial_ws\"][:,1] = a1.obsm[\"spatial_ws\"][:,1] + 2000"
   ]
  },
  {
   "cell_type": "code",
   "execution_count": null,
   "metadata": {},
   "outputs": [],
   "source": [
    "a1.obsm[\"spatial_ws\"][:,0] = a1.obsm[\"spatial_ws\"][:,0] + 1000\n",
    "a1.obsm[\"spatial_ws\"][:,1] = a1.obsm[\"spatial_ws\"][:,1] + 1000"
   ]
  },
  {
   "cell_type": "code",
   "execution_count": null,
   "metadata": {},
   "outputs": [],
   "source": [
    "a1.obsm[\"spatial_ws\"][:,0] = a1.obsm[\"spatial_ws\"][:,0] + 700\n",
    "a1.obsm[\"spatial_ws\"][:,1] = a1.obsm[\"spatial_ws\"][:,1] + 700"
   ]
  },
  {
   "cell_type": "code",
   "execution_count": null,
   "metadata": {},
   "outputs": [],
   "source": [
    "a1.obsm[\"spatial_ws\"][:,0] = a1.obsm[\"spatial_ws\"][:,0] - 400\n",
    "#a1.obsm[\"spatial_ws\"][:,1] = a1.obsm[\"spatial_ws\"][:,1] + 700"
   ]
  },
  {
   "cell_type": "code",
   "execution_count": null,
   "metadata": {},
   "outputs": [],
   "source": [
    "a1.obsm[\"spatial_ws\"][:,0] = a1.obsm[\"spatial_ws\"][:,0] - 100\n",
    "#a1.obsm[\"spatial_ws\"][:,1] = a1.obsm[\"spatial_ws\"][:,1] + 700"
   ]
  },
  {
   "cell_type": "code",
   "execution_count": null,
   "metadata": {},
   "outputs": [],
   "source": [
    "a1.obsm[\"spatial_ws\"]"
   ]
  },
  {
   "cell_type": "code",
   "execution_count": null,
   "metadata": {},
   "outputs": [],
   "source": [
    "sc.pl.spatial(\n",
    "    a1,\n",
    "    basis=\"spatial_ws\",\n",
    "    color=\"CNV Score\",\n",
    "    img=bg_img,\n",
    "    spot_size=50,\n",
    "    scale_factor=1,\n",
    "    crop_coord=[0,SG00004_HE.img.shape[1],0,SG00004_HE.img.shape[0]],\n",
    "    frameon=False,\n",
    "    cmap=\"viridis\",\n",
    ")"
   ]
  },
  {
   "cell_type": "markdown",
   "metadata": {},
   "source": [
    "---\n",
    "# SG00004 Sample 8899-AS-8"
   ]
  },
  {
   "cell_type": "code",
   "execution_count": null,
   "metadata": {},
   "outputs": [],
   "source": [
    "a2 = sc.read(\"../data/ST/8899_8_SG00004_master.h5ad\"); a2"
   ]
  },
  {
   "cell_type": "code",
   "execution_count": null,
   "metadata": {},
   "outputs": [],
   "source": [
    "affine2 = np.genfromtxt(\n",
    "    \"../data/MxIF/SG00004/SG00004_downsample8_8899_8_affine.csv\",\n",
    "    delimiter=\",\",\n",
    ")\n",
    "shape2 = np.genfromtxt(\n",
    "    \"../data/MxIF/SG00004/SG00004_downsample8_8899_8_shape.csv\",\n",
    "    delimiter=\",\",\n",
    ")"
   ]
  },
  {
   "cell_type": "code",
   "execution_count": null,
   "metadata": {},
   "outputs": [],
   "source": [
    "affine2"
   ]
  },
  {
   "cell_type": "code",
   "execution_count": null,
   "metadata": {},
   "outputs": [],
   "source": [
    "shape2"
   ]
  },
  {
   "cell_type": "code",
   "execution_count": null,
   "metadata": {},
   "outputs": [],
   "source": [
    "a2.obsm[\"spatial_ws\"] = np.dot(\n",
    "    np.column_stack([\n",
    "        (a2.obsm[\"spatial\"]),\n",
    "        np.zeros((a2.obsm[\"spatial\"].shape[0],1))\n",
    "    ]),\n",
    "    affine2.T\n",
    ")[:,:2]"
   ]
  },
  {
   "cell_type": "code",
   "execution_count": null,
   "metadata": {},
   "outputs": [],
   "source": [
    "a2.obsm[\"spatial_ws\"] = a2.obsm[\"spatial_ws\"] * 0.8"
   ]
  },
  {
   "cell_type": "code",
   "execution_count": null,
   "metadata": {},
   "outputs": [],
   "source": [
    "a2.obsm[\"spatial_ws\"][:,0] = a2.obsm[\"spatial_ws\"][:,0] + 2500\n",
    "a2.obsm[\"spatial_ws\"][:,1] = a2.obsm[\"spatial_ws\"][:,1] - 500"
   ]
  },
  {
   "cell_type": "code",
   "execution_count": null,
   "metadata": {},
   "outputs": [],
   "source": [
    "a2.obsm[\"spatial_ws\"][:,0] = a2.obsm[\"spatial_ws\"][:,0] + 7000\n",
    "a2.obsm[\"spatial_ws\"][:,1] = a2.obsm[\"spatial_ws\"][:,1] + 2000"
   ]
  },
  {
   "cell_type": "code",
   "execution_count": null,
   "metadata": {},
   "outputs": [],
   "source": [
    "a2.obsm[\"spatial_ws\"][:,0] = a2.obsm[\"spatial_ws\"][:,0] + 700\n",
    "a2.obsm[\"spatial_ws\"][:,1] = a2.obsm[\"spatial_ws\"][:,1] + 1500"
   ]
  },
  {
   "cell_type": "code",
   "execution_count": null,
   "metadata": {},
   "outputs": [],
   "source": [
    "a2.obsm[\"spatial_ws\"][:,0] = a2.obsm[\"spatial_ws\"][:,0] - 300\n",
    "#a2.obsm[\"spatial_ws\"][:,1] = a2.obsm[\"spatial_ws\"][:,1] + 1500"
   ]
  },
  {
   "cell_type": "code",
   "execution_count": null,
   "metadata": {},
   "outputs": [],
   "source": [
    "#a2.obsm[\"spatial_ws\"][:,0] = a2.obsm[\"spatial_ws\"][:,0] - 300\n",
    "a2.obsm[\"spatial_ws\"][:,1] = a2.obsm[\"spatial_ws\"][:,1] - 150"
   ]
  },
  {
   "cell_type": "code",
   "execution_count": null,
   "metadata": {},
   "outputs": [],
   "source": [
    "a2.obsm[\"spatial_ws\"]"
   ]
  },
  {
   "cell_type": "code",
   "execution_count": null,
   "metadata": {},
   "outputs": [],
   "source": [
    "sc.pl.spatial(\n",
    "    a2,\n",
    "    basis=\"spatial_ws\",\n",
    "    color=\"CytoTRACE\",\n",
    "    img=bg_img,\n",
    "    spot_size=50,\n",
    "    scale_factor=1,\n",
    "    crop_coord=[0,SG00004_HE.img.shape[1],0,SG00004_HE.img.shape[0]],\n",
    "    frameon=False,\n",
    "    cmap=\"viridis\",\n",
    ")"
   ]
  },
  {
   "cell_type": "markdown",
   "metadata": {},
   "source": [
    "---\n",
    "# SG00004 Combined"
   ]
  },
  {
   "cell_type": "code",
   "execution_count": null,
   "metadata": {},
   "outputs": [],
   "source": [
    "a_ws = a1.concatenate([a2], fill_value=0)"
   ]
  },
  {
   "cell_type": "code",
   "execution_count": null,
   "metadata": {},
   "outputs": [],
   "source": [
    "a_ws"
   ]
  },
  {
   "cell_type": "code",
   "execution_count": null,
   "metadata": {},
   "outputs": [],
   "source": [
    "a_ws.write(\"../data/ST/SG00004_combined_ws.h5ad\", compression=\"gzip\")"
   ]
  },
  {
   "cell_type": "markdown",
   "metadata": {},
   "source": [
    "---\n",
    "### Replace old metadata with new"
   ]
  },
  {
   "cell_type": "code",
   "execution_count": null,
   "metadata": {},
   "outputs": [],
   "source": [
    "a_ws = sc.read(\"../data/ST/SG00004_combined_ws.h5ad\")"
   ]
  },
  {
   "cell_type": "code",
   "execution_count": null,
   "metadata": {},
   "outputs": [],
   "source": [
    "del a_ws.obs"
   ]
  },
  {
   "cell_type": "code",
   "execution_count": null,
   "metadata": {},
   "outputs": [],
   "source": [
    "a1 = sc.read(\"../data/ST/8899_7_SG00004_master.h5ad\")\n",
    "a2 = sc.read(\"../data/ST/8899_8_SG00004_master.h5ad\")"
   ]
  },
  {
   "cell_type": "code",
   "execution_count": null,
   "metadata": {},
   "outputs": [],
   "source": [
    "a = a1.concatenate([a2], fill_value=0)"
   ]
  },
  {
   "cell_type": "code",
   "execution_count": null,
   "metadata": {},
   "outputs": [],
   "source": [
    "a_ws.obs = a_ws.obs.merge(a.obs, left_index=True, right_index=True)"
   ]
  },
  {
   "cell_type": "markdown",
   "metadata": {},
   "source": [
    "---"
   ]
  },
  {
   "cell_type": "code",
   "execution_count": null,
   "metadata": {},
   "outputs": [],
   "source": [
    "sc.pl.spatial(\n",
    "    a_ws,\n",
    "    basis=\"spatial_ws\",\n",
    "    color=[\"CNV Clone\"],\n",
    "    img=bg_img,\n",
    "    spot_size=50,\n",
    "    scale_factor=1,\n",
    "    crop_coord=[0,SG00004_HE.img.shape[1],0,SG00004_HE.img.shape[0]],\n",
    "    frameon=False,\n",
    "    cmap=\"viridis\",\n",
    "    save=\"_SG00004_cnv_leiden.png\"\n",
    ")"
   ]
  }
 ],
 "metadata": {
  "kernelspec": {
   "display_name": "scanpy",
   "language": "python",
   "name": "scanpy"
  },
  "language_info": {
   "codemirror_mode": {
    "name": "ipython",
    "version": 3
   },
   "file_extension": ".py",
   "mimetype": "text/x-python",
   "name": "python",
   "nbconvert_exporter": "python",
   "pygments_lexer": "ipython3",
   "version": "3.8.10"
  }
 },
 "nbformat": 4,
 "nbformat_minor": 4
}
