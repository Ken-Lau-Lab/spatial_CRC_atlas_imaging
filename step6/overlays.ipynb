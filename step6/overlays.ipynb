{
 "cells": [
  {
   "cell_type": "code",
   "execution_count": null,
   "metadata": {},
   "outputs": [],
   "source": [
    "from MILWRM.MxIF import *\n",
    "import pandas as pd"
   ]
  },
  {
   "cell_type": "code",
   "execution_count": null,
   "metadata": {},
   "outputs": [],
   "source": [
    "import cv2"
   ]
  },
  {
   "cell_type": "markdown",
   "metadata": {},
   "source": [
    "---\n",
    "# MSS"
   ]
  },
  {
   "cell_type": "markdown",
   "metadata": {},
   "source": [
    "---\n",
    "## PAT71397"
   ]
  },
  {
   "cell_type": "code",
   "execution_count": null,
   "metadata": {},
   "outputs": [],
   "source": [
    "WD86056 = img.from_npz(\"/mnt/500gb_ssd/home/cody/images/MxIF/WD86056/WD86056_downsample8.npz\"); WD86056"
   ]
  },
  {
   "cell_type": "code",
   "execution_count": null,
   "metadata": {},
   "outputs": [],
   "source": [
    "WD86056.downsample(fact=2)"
   ]
  },
  {
   "cell_type": "code",
   "execution_count": null,
   "metadata": {},
   "outputs": [],
   "source": [
    "WD86056[\"OLFM4\"][:,:,0].shape"
   ]
  },
  {
   "cell_type": "code",
   "execution_count": null,
   "metadata": {},
   "outputs": [],
   "source": [
    "prefix = \"WD86056_downsample16\"\n",
    "for channel in WD86056.ch:\n",
    "    print(channel.split(\"_\")[0])\n",
    "    cv2.imwrite(\"channel_images/{}_{}.tif\".format(prefix, channel), WD86056[channel][:,:,0])"
   ]
  },
  {
   "cell_type": "code",
   "execution_count": null,
   "metadata": {},
   "outputs": [],
   "source": [
    "p = WD86056.show(channels=[\"COLLAGEN\",\"CDX2\",\"CD45_\"], RGB=True, save_to=\"overlays/PAT71397_RGB.png\")"
   ]
  },
  {
   "cell_type": "code",
   "execution_count": null,
   "metadata": {},
   "outputs": [],
   "source": [
    "WD86055 = img.from_npz(\"/mnt/500gb_ssd/home/cody/images/MxIF/WD86055/WD86055_downsample8.npz\"); WD86055"
   ]
  },
  {
   "cell_type": "code",
   "execution_count": null,
   "metadata": {},
   "outputs": [],
   "source": [
    "WD86055.downsample(fact=2)"
   ]
  },
  {
   "cell_type": "code",
   "execution_count": null,
   "metadata": {},
   "outputs": [],
   "source": [
    "WD86055[\"OLFM4\"][:,:,0].shape"
   ]
  },
  {
   "cell_type": "code",
   "execution_count": null,
   "metadata": {},
   "outputs": [],
   "source": [
    "prefix = \"WD86055_downsample16\"\n",
    "for channel in WD86055.ch:\n",
    "    print(channel.split(\"_\")[0])\n",
    "    cv2.imwrite(\"channel_images/{}_{}.tif\".format(prefix, channel), WD86055[channel][:,:,0])"
   ]
  },
  {
   "cell_type": "code",
   "execution_count": null,
   "metadata": {},
   "outputs": [],
   "source": [
    "p = WD86055.show(channels=[\"COLLAGEN\",\"CDX2\",\"CD45_\"], RGB=True)#, save_to=\"overlays/PAT71397_RGB.png\")"
   ]
  },
  {
   "cell_type": "markdown",
   "metadata": {},
   "source": [
    "---\n",
    "## PAT71662"
   ]
  },
  {
   "cell_type": "code",
   "execution_count": null,
   "metadata": {},
   "outputs": [],
   "source": [
    "pat71662 = img.from_npz(\"/mnt/500gb_ssd/home/cody/images/MxIF/WD87480/WD87480_downsample8.npz\"); pat71662"
   ]
  },
  {
   "cell_type": "code",
   "execution_count": null,
   "metadata": {},
   "outputs": [],
   "source": [
    "pat71662.img = pat71662.img[::-1,::-1,:]\n",
    "pat71662.mask = pat71662.mask[::-1,::-1]"
   ]
  },
  {
   "cell_type": "code",
   "execution_count": null,
   "metadata": {},
   "outputs": [],
   "source": [
    "pat71662.downsample(fact=2)"
   ]
  },
  {
   "cell_type": "code",
   "execution_count": null,
   "metadata": {},
   "outputs": [],
   "source": [
    "pat71662[channel][:,:,0].shape"
   ]
  },
  {
   "cell_type": "code",
   "execution_count": null,
   "metadata": {},
   "outputs": [],
   "source": [
    "prefix = \"PAT71662_downsample8\"\n",
    "for channel in pat71662.ch:\n",
    "    print(channel.split(\"_\")[0])\n",
    "    cv2.imwrite(\"channel_images/{}_{}.tif\".format(prefix, channel), pat71662[channel][:,:,0])"
   ]
  },
  {
   "cell_type": "code",
   "execution_count": null,
   "metadata": {},
   "outputs": [],
   "source": [
    "p = pat71662.show(channels=[\"COLLAGEN\",\"CDX2\",\"CD45_\"], RGB=True, save_to=\"overlays/PAT71662_RGB.png\")"
   ]
  },
  {
   "cell_type": "markdown",
   "metadata": {},
   "source": [
    "---\n",
    "## PAT73899"
   ]
  },
  {
   "cell_type": "code",
   "execution_count": null,
   "metadata": {},
   "outputs": [],
   "source": [
    "PAT73899 = img.from_npz(\"/mnt/500gb_ssd/home/cody/images/MxIF/WD87482/WD87482_downsample8.npz\"); PAT73899"
   ]
  },
  {
   "cell_type": "code",
   "execution_count": null,
   "metadata": {},
   "outputs": [],
   "source": [
    "PAT73899.img = PAT73899.img[::-1,::-1,:]\n",
    "PAT73899.mask = PAT73899.mask[::-1,::-1]"
   ]
  },
  {
   "cell_type": "code",
   "execution_count": null,
   "metadata": {},
   "outputs": [],
   "source": [
    "PAT73899.downsample(fact=2)"
   ]
  },
  {
   "cell_type": "code",
   "execution_count": null,
   "metadata": {},
   "outputs": [],
   "source": [
    "PAT73899[channel][:,:,0].shape"
   ]
  },
  {
   "cell_type": "code",
   "execution_count": null,
   "metadata": {},
   "outputs": [],
   "source": [
    "prefix = \"PAT73899_downsample8\"\n",
    "for channel in PAT73899.ch:\n",
    "    print(channel.split(\"_\")[0])\n",
    "    cv2.imwrite(\"channel_images/{}_{}.tif\".format(prefix, channel), PAT73899[channel][:,:,0])"
   ]
  },
  {
   "cell_type": "code",
   "execution_count": null,
   "metadata": {},
   "outputs": [],
   "source": [
    "p = PAT73899.show(channels=[\"COLLAGEN\",\"CDX2\",\"CD45_\"], RGB=True, save_to=\"overlays/PAT73899_RGB.png\")"
   ]
  },
  {
   "cell_type": "code",
   "execution_count": null,
   "metadata": {},
   "outputs": [],
   "source": [
    "p = PAT73899.show()"
   ]
  },
  {
   "cell_type": "markdown",
   "metadata": {},
   "source": [
    "---\n",
    "## PAT05785"
   ]
  },
  {
   "cell_type": "code",
   "execution_count": null,
   "metadata": {},
   "outputs": [],
   "source": [
    "PAT05785 = img.from_npz(\"/mnt/500gb_ssd/home/cody/images/MxIF/WD33468/WD33468_downsample8.npz\"); PAT05785"
   ]
  },
  {
   "cell_type": "code",
   "execution_count": null,
   "metadata": {},
   "outputs": [],
   "source": [
    "PAT05785.scale()"
   ]
  },
  {
   "cell_type": "code",
   "execution_count": null,
   "metadata": {},
   "outputs": [],
   "source": [
    "p = PAT05785.show(channels=[\"COLLAGEN\",\"CDX2\",\"CD45\"], RGB=True, save_to=\"overlays/PAT05785_RGB.png\")"
   ]
  },
  {
   "cell_type": "markdown",
   "metadata": {},
   "source": [
    "---\n",
    "## PAT30884"
   ]
  },
  {
   "cell_type": "code",
   "execution_count": null,
   "metadata": {},
   "outputs": [],
   "source": [
    "PAT30884 = img.from_npz(\"/mnt/500gb_ssd/home/cody/images/MxIF/WD84602/WD84602_downsample8.npz\"); PAT30884"
   ]
  },
  {
   "cell_type": "code",
   "execution_count": null,
   "metadata": {},
   "outputs": [],
   "source": [
    "PAT30884.scale()"
   ]
  },
  {
   "cell_type": "code",
   "execution_count": null,
   "metadata": {},
   "outputs": [],
   "source": [
    "p = PAT30884.show(channels=[\"SMA\",\"OLFM4\",\"MUC2\"], RGB=True, save_to=\"overlays/PAT30884_RGB.png\")"
   ]
  },
  {
   "cell_type": "code",
   "execution_count": null,
   "metadata": {},
   "outputs": [],
   "source": [
    "p = PAT30884.show()"
   ]
  },
  {
   "cell_type": "markdown",
   "metadata": {},
   "source": [
    "---\n",
    "## PAT59667"
   ]
  },
  {
   "cell_type": "code",
   "execution_count": null,
   "metadata": {},
   "outputs": [],
   "source": [
    "PAT59667 = img.from_npz(\"/mnt/500gb_ssd/home/cody/images/MxIF/WD84596/WD84596_downsample8.npz\"); PAT59667"
   ]
  },
  {
   "cell_type": "code",
   "execution_count": null,
   "metadata": {},
   "outputs": [],
   "source": [
    "PAT59667.scale()"
   ]
  },
  {
   "cell_type": "code",
   "execution_count": null,
   "metadata": {},
   "outputs": [],
   "source": [
    "p = PAT59667.show(channels=[\"COLLAGEN\",\"DPEP1\",\"CD45\"], RGB=True, save_to=\"overlays/PAT59667_RGB.png\")"
   ]
  },
  {
   "cell_type": "markdown",
   "metadata": {},
   "source": [
    "---\n",
    "## PAT59600"
   ]
  },
  {
   "cell_type": "code",
   "execution_count": null,
   "metadata": {},
   "outputs": [],
   "source": [
    "PAT59600 = img.from_npz(\"/mnt/500gb_ssd/home/cody/images/MxIF/WD84594/WD84594_downsample8.npz\"); PAT59600"
   ]
  },
  {
   "cell_type": "code",
   "execution_count": null,
   "metadata": {},
   "outputs": [],
   "source": [
    "PAT59600.scale()"
   ]
  },
  {
   "cell_type": "code",
   "execution_count": null,
   "metadata": {},
   "outputs": [],
   "source": [
    "p = PAT59600.show(channels=[\"COLLAGEN\",\"DPEP1\",\"CD45\"], RGB=True, save_to=\"overlays/PAT59600_RGB.png\")"
   ]
  },
  {
   "cell_type": "markdown",
   "metadata": {},
   "source": [
    "---\n",
    "# MSI-H"
   ]
  },
  {
   "cell_type": "markdown",
   "metadata": {},
   "source": [
    "---\n",
    "## PAT73458"
   ]
  },
  {
   "cell_type": "code",
   "execution_count": null,
   "metadata": {},
   "outputs": [],
   "source": [
    "PAT73458 = img.from_npz(\"/mnt/500gb_ssd/home/cody/images/MxIF/WD85806/WD85806_downsample8.npz\"); PAT73458"
   ]
  },
  {
   "cell_type": "code",
   "execution_count": null,
   "metadata": {},
   "outputs": [],
   "source": [
    "PAT73458.img = PAT73458.img[::-1,::-1,:]\n",
    "PAT73458.mask = PAT73458.mask[::-1,::-1]"
   ]
  },
  {
   "cell_type": "code",
   "execution_count": null,
   "metadata": {},
   "outputs": [],
   "source": [
    "PAT73458.downsample(fact=2)"
   ]
  },
  {
   "cell_type": "code",
   "execution_count": null,
   "metadata": {},
   "outputs": [],
   "source": [
    "PAT73458[channel][:,:,0].shape"
   ]
  },
  {
   "cell_type": "code",
   "execution_count": null,
   "metadata": {},
   "outputs": [],
   "source": [
    "prefix = \"PAT73458_downsample8\"\n",
    "for channel in PAT73458.ch:\n",
    "    print(channel.split(\"_\")[0])\n",
    "    cv2.imwrite(\"channel_images/{}_{}.tif\".format(prefix, channel), PAT73458[channel][:,:,0])"
   ]
  },
  {
   "cell_type": "code",
   "execution_count": null,
   "metadata": {},
   "outputs": [],
   "source": [
    "p = PAT73458.show(channels=[\"COLLAGEN\",\"MUC5AC\",\"CD45_\"], RGB=True, save_to=\"overlays/PAT73458_RGB.png\")"
   ]
  },
  {
   "cell_type": "code",
   "execution_count": null,
   "metadata": {},
   "outputs": [],
   "source": [
    "p = PAT73458.show(channels=[\"COLLAGEN\",\"MUC5AC\",\"OLFM4\"], RGB=True)#, save_to=\"overlays/PAT73458_RGB.png\")"
   ]
  },
  {
   "cell_type": "markdown",
   "metadata": {},
   "source": [
    "---\n",
    "## PAT40364"
   ]
  },
  {
   "cell_type": "code",
   "execution_count": null,
   "metadata": {},
   "outputs": [],
   "source": [
    "PAT40364 = img.from_npz(\"/mnt/500gb_ssd/home/cody/images/MxIF/WD33479/WD33479_downsample8.npz\"); PAT40364"
   ]
  },
  {
   "cell_type": "code",
   "execution_count": null,
   "metadata": {},
   "outputs": [],
   "source": [
    "PAT40364.scale()"
   ]
  },
  {
   "cell_type": "code",
   "execution_count": null,
   "metadata": {},
   "outputs": [],
   "source": [
    "p = PAT40364.show(channels=[\"COLLAGEN\",\"SOX9\",\"CD45\"], RGB=True, save_to=\"overlays/PAT40364_RGB.png\")"
   ]
  },
  {
   "cell_type": "markdown",
   "metadata": {},
   "source": [
    "---\n",
    "## vTMA_001"
   ]
  },
  {
   "cell_type": "code",
   "execution_count": null,
   "metadata": {},
   "outputs": [],
   "source": [
    "vTMA_001 = img.from_npz(\"/mnt/500gb_ssd/home/cody/images/MxIF/vTMA_001/vTMA_001_downsample8.npz\"); vTMA_001"
   ]
  },
  {
   "cell_type": "code",
   "execution_count": null,
   "metadata": {},
   "outputs": [],
   "source": [
    "vTMA_001.scale()"
   ]
  },
  {
   "cell_type": "code",
   "execution_count": null,
   "metadata": {},
   "outputs": [],
   "source": [
    "p = vTMA_001.show(channels=[\"COLLAGEN\",\"MUC5AC\",\"CDX2\"], RGB=True, save_to=\"overlays/vTMA_001_RGB.png\")"
   ]
  },
  {
   "cell_type": "markdown",
   "metadata": {},
   "source": [
    "---\n",
    "## vTMA_002"
   ]
  },
  {
   "cell_type": "code",
   "execution_count": null,
   "metadata": {},
   "outputs": [],
   "source": [
    "vTMA_002 = img.from_npz(\"/mnt/500gb_ssd/home/cody/images/MxIF/vTMA_002/vTMA_002_downsample8.npz\"); vTMA_002"
   ]
  },
  {
   "cell_type": "code",
   "execution_count": null,
   "metadata": {},
   "outputs": [],
   "source": [
    "vTMA_002.scale()"
   ]
  },
  {
   "cell_type": "code",
   "execution_count": null,
   "metadata": {},
   "outputs": [],
   "source": [
    "p = vTMA_002.show(channels=[\"COLLAGEN\",\"MUC5AC\",\"CDX2\"], RGB=True, save_to=\"overlays/vTMA_002_RGB.png\")"
   ]
  },
  {
   "cell_type": "markdown",
   "metadata": {},
   "source": [
    "---\n",
    "## PAT00222"
   ]
  },
  {
   "cell_type": "code",
   "execution_count": null,
   "metadata": {},
   "outputs": [],
   "source": [
    "PAT00222 = img.from_npz(\"/mnt/500gb_ssd/home/cody/images/MxIF/WD33476/WD33476_downsample8.npz\"); PAT00222"
   ]
  },
  {
   "cell_type": "code",
   "execution_count": null,
   "metadata": {},
   "outputs": [],
   "source": [
    "PAT00222.scale()"
   ]
  },
  {
   "cell_type": "code",
   "execution_count": null,
   "metadata": {},
   "outputs": [],
   "source": [
    "p = PAT00222.show(channels=[\"COLLAGEN\",\"MUC5AC\",\"CD45\"], RGB=True, save_to=\"overlays/PAT00222_RGB.png\")"
   ]
  },
  {
   "cell_type": "markdown",
   "metadata": {},
   "source": [
    "---\n",
    "## PAT01587"
   ]
  },
  {
   "cell_type": "code",
   "execution_count": null,
   "metadata": {},
   "outputs": [],
   "source": [
    "PAT01587 = img.from_npz(\"/mnt/500gb_ssd/home/cody/images/MxIF/WD33475/WD33475_downsample8.npz\"); PAT01587"
   ]
  },
  {
   "cell_type": "code",
   "execution_count": null,
   "metadata": {},
   "outputs": [],
   "source": [
    "PAT01587.scale()"
   ]
  },
  {
   "cell_type": "code",
   "execution_count": null,
   "metadata": {},
   "outputs": [],
   "source": [
    "p = PAT01587.show(channels=[\"COLLAGEN\",\"MUC5AC\",\"CD45\"], RGB=True, save_to=\"overlays/PAT01587_RGB.png\")"
   ]
  },
  {
   "cell_type": "markdown",
   "metadata": {},
   "source": [
    "---\n",
    "## PAT59460"
   ]
  },
  {
   "cell_type": "code",
   "execution_count": null,
   "metadata": {},
   "outputs": [],
   "source": [
    "PAT59460 = img.from_npz(\"/mnt/500gb_ssd/home/cody/images/MxIF/WD84226/WD84226_downsample8.npz\"); PAT59460"
   ]
  },
  {
   "cell_type": "code",
   "execution_count": null,
   "metadata": {},
   "outputs": [],
   "source": [
    "PAT59460.scale()"
   ]
  },
  {
   "cell_type": "code",
   "execution_count": null,
   "metadata": {},
   "outputs": [],
   "source": [
    "PAT59460.img = PAT59460.img[::-1,::-1,:]\n",
    "PAT59460.mask = PAT59460.mask[::-1,::-1]"
   ]
  },
  {
   "cell_type": "code",
   "execution_count": null,
   "metadata": {},
   "outputs": [],
   "source": [
    "p = PAT59460.show(channels=[\"COLLAGEN\",\"MUC5AC\",\"CD45\"], RGB=True, save_to=\"overlays/PAT59460_RGB.png\")"
   ]
  },
  {
   "cell_type": "code",
   "execution_count": null,
   "metadata": {},
   "outputs": [],
   "source": [
    "p = PAT59460.show(channels=[\"COLLAGEN\",\"MUC5AC\",\"BCATENIN\"], RGB=True)#, save_to=\"overlays/PAT59460_RGB.png\")"
   ]
  },
  {
   "cell_type": "markdown",
   "metadata": {},
   "source": [
    "---\n",
    "## PAT54273"
   ]
  },
  {
   "cell_type": "code",
   "execution_count": null,
   "metadata": {},
   "outputs": [],
   "source": [
    "PAT54273 = img.from_npz(\"/mnt/500gb_ssd/home/cody/images/MxIF/WD84216/WD84216_downsample8.npz\"); PAT54273"
   ]
  },
  {
   "cell_type": "code",
   "execution_count": null,
   "metadata": {},
   "outputs": [],
   "source": [
    "PAT54273.scale()"
   ]
  },
  {
   "cell_type": "code",
   "execution_count": null,
   "metadata": {},
   "outputs": [],
   "source": [
    "p = PAT54273.show(channels=[\"COLLAGEN\",\"MUC5AC\",\"CD45\"], RGB=True, save_to=\"overlays/PAT54273_RGB.png\")"
   ]
  },
  {
   "cell_type": "code",
   "execution_count": null,
   "metadata": {},
   "outputs": [],
   "source": [
    "p = PAT54273.show(channels=[\"COLLAGEN\",\"MUC5AC\",\"BCATENIN\"], RGB=True)#, save_to=\"overlays/PAT54273_RGB.png\")"
   ]
  },
  {
   "cell_type": "markdown",
   "metadata": {},
   "source": [
    "---\n",
    "## vTMA_003_004_005"
   ]
  },
  {
   "cell_type": "code",
   "execution_count": null,
   "metadata": {},
   "outputs": [],
   "source": [
    "vTMA_003 = img.from_npz(\"/mnt/500gb_ssd/home/cody/images/MxIF/vTMA_003_004_005/vTMA_003_004_005_downsample8_8578_1.npz\"); vTMA_003"
   ]
  },
  {
   "cell_type": "code",
   "execution_count": null,
   "metadata": {},
   "outputs": [],
   "source": [
    "vTMA_003.scale()"
   ]
  },
  {
   "cell_type": "code",
   "execution_count": null,
   "metadata": {},
   "outputs": [],
   "source": [
    "p = vTMA_003.show(channels=[\"COLLAGEN\",\"MUC5AC\",\"DPEP1\"], RGB=True, save_to=\"overlays/vTMA_003_RGB.png\")"
   ]
  },
  {
   "cell_type": "code",
   "execution_count": null,
   "metadata": {},
   "outputs": [],
   "source": [
    "vTMA_004 = img.from_npz(\"/mnt/500gb_ssd/home/cody/images/MxIF/vTMA_003_004_005/vTMA_003_004_005_downsample8_8578_2.npz\"); vTMA_004"
   ]
  },
  {
   "cell_type": "code",
   "execution_count": null,
   "metadata": {},
   "outputs": [],
   "source": [
    "vTMA_004.scale()"
   ]
  },
  {
   "cell_type": "code",
   "execution_count": null,
   "metadata": {},
   "outputs": [],
   "source": [
    "p = vTMA_004.show(channels=[\"COLLAGEN\",\"MUC5AC\",\"DPEP1\"], RGB=True, save_to=\"overlays/vTMA_004_RGB.png\")"
   ]
  },
  {
   "cell_type": "code",
   "execution_count": null,
   "metadata": {},
   "outputs": [],
   "source": [
    "vTMA_005 = img.from_npz(\"/mnt/500gb_ssd/home/cody/images/MxIF/vTMA_003_004_005/vTMA_003_004_005_downsample8_8578_3.npz\"); vTMA_005"
   ]
  },
  {
   "cell_type": "code",
   "execution_count": null,
   "metadata": {},
   "outputs": [],
   "source": [
    "vTMA_005.scale()"
   ]
  },
  {
   "cell_type": "code",
   "execution_count": null,
   "metadata": {},
   "outputs": [],
   "source": [
    "p = vTMA_005.show(channels=[\"COLLAGEN\",\"MUC5AC\",\"DPEP1\"], RGB=True, save_to=\"overlays/vTMA_005_RGB.png\")"
   ]
  },
  {
   "cell_type": "markdown",
   "metadata": {},
   "source": [
    "---\n",
    "# NORMAL"
   ]
  },
  {
   "cell_type": "markdown",
   "metadata": {},
   "source": [
    "---\n",
    "## SR00001"
   ]
  },
  {
   "cell_type": "code",
   "execution_count": null,
   "metadata": {},
   "outputs": [],
   "source": [
    "SR00001 = img.from_npz(\"/mnt/500gb_ssd/home/cody/images/MxIF/SR00001/SR00001_downsample8_8578_4.npz\"); SR00001"
   ]
  },
  {
   "cell_type": "code",
   "execution_count": null,
   "metadata": {},
   "outputs": [],
   "source": [
    "SR00001.scale()"
   ]
  },
  {
   "cell_type": "code",
   "execution_count": null,
   "metadata": {},
   "outputs": [],
   "source": [
    "p = SR00001.show(channels=[\"COLLAGEN\",\"MUC2\",\"CD4_\"], RGB=True, save_to=\"overlays/SR00001_RGB.png\")"
   ]
  },
  {
   "cell_type": "markdown",
   "metadata": {},
   "source": [
    "---\n",
    "## HTA11_08622_A"
   ]
  },
  {
   "cell_type": "code",
   "execution_count": null,
   "metadata": {},
   "outputs": [],
   "source": [
    "HTA11_8622_A = img.from_npz(\"/mnt/500gb_ssd/home/cody/images/MxIF/HTA11_08622_A/HTA11_08622_A_downsample8_7319_2.npz\"); HTA11_8622_A"
   ]
  },
  {
   "cell_type": "code",
   "execution_count": null,
   "metadata": {},
   "outputs": [],
   "source": [
    "HTA11_8622_A.img = HTA11_8622_A.img[505:3105, 50:3145, :]\n",
    "HTA11_8622_A.mask = HTA11_8622_A.mask[505:3105, 50:3145]"
   ]
  },
  {
   "cell_type": "code",
   "execution_count": null,
   "metadata": {},
   "outputs": [],
   "source": [
    "HTA11_8622_A.scale()"
   ]
  },
  {
   "cell_type": "code",
   "execution_count": null,
   "metadata": {},
   "outputs": [],
   "source": [
    "p = HTA11_8622_A.show(channels=[\"COLLAGEN\",\"PANCK\",\"MUC5AC\"], RGB=True, save_to=\"overlays/HTA11_08622_A_RGB.png\")"
   ]
  }
 ],
 "metadata": {
  "kernelspec": {
   "display_name": "scanpy",
   "language": "python",
   "name": "scanpy"
  },
  "language_info": {
   "codemirror_mode": {
    "name": "ipython",
    "version": 3
   },
   "file_extension": ".py",
   "mimetype": "text/x-python",
   "name": "python",
   "nbconvert_exporter": "python",
   "pygments_lexer": "ipython3",
   "version": "3.8.10"
  }
 },
 "nbformat": 4,
 "nbformat_minor": 4
}
