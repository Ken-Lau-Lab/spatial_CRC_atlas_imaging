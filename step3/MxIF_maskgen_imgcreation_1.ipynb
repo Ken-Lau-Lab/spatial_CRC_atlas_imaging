{
 "cells": [
  {
   "cell_type": "code",
   "execution_count": null,
   "metadata": {},
   "outputs": [],
   "source": [
    "from MILWRM.MxIF import *\n",
    "from MILWRM.ST import *\n",
    "from MILWRM.MILWRM import *"
   ]
  },
  {
   "cell_type": "code",
   "execution_count": null,
   "metadata": {},
   "outputs": [],
   "source": [
    "# markers in COLON MAP PCA data\n",
    "allmarkers = [\"ACTININ\",\"BCATENIN\",\"CD3D\",\"CD4_\",\"CD8\",\"CD11B\",\"CD20\",\"CD45\",\"CD68\",\n",
    "              \"CGA\",\"COLLAGEN\",\"COX2\",\"DAPI\",\"ERBB2\",\"FOXP3\",\"GAMMAACTIN\",\"HLAA\",\"LYSOZYME\",\"MUC2\",\n",
    "              \"NAKATPASE\",\"OLFM4\",\"SOX9\",\"PANCK\",\"PCNA\",\"PEGFR\",\"PSTAT3\",\"SMA\",\"SNA\",\"VIMENTIN\"]\n",
    "eliotmarkers = [\"VIMENTIN\",\"SOX9\",\"SMA\",\"PSTAT3\",\"PEGFR\",\"PCNA\",\"PANCK\",\"OLFM4\",\n",
    "                \"NAKATPASE\",\"MUC5AC\",\"MUC2\",\"LYSOZYME\",\"HLAA\",\"GAMMAACTIN\",\"FOXP3\",\n",
    "                \"ERBB2\",\"COLLAGEN\",\"CGA\",\"CDX2\",\"CD68\",\"CD45\",\"CD20\",\"CD11B\",\"CD8\",\n",
    "                \"CD4_\",\"CD3D\",\"BCATENIN\",\"AQP5\",\"COX2\"]"
   ]
  },
  {
   "cell_type": "code",
   "execution_count": null,
   "metadata": {},
   "outputs": [],
   "source": [
    "def create_tissue_mask_mxif(images, markers=None, downsample_factor=1):\n",
    "    \"\"\"\n",
    "    Creates a whole tissue mask for the given tissue image\n",
    "\n",
    "    Parameters\n",
    "    ----------\n",
    "    images : list or img\n",
    "        images for which the tissue mask will be created for\n",
    "    markers : list\n",
    "        markers required to create MxIF labeller object\n",
    "\n",
    "    Returns\n",
    "    -------\n",
    "    mask is added to self.mask\n",
    "    \"\"\"\n",
    "    if isinstance(\n",
    "        images, img\n",
    "    ):  # force img objects into a list if a single object is given\n",
    "        images = [images]\n",
    "    if markers is None:  # using all markers if list of markers is not given\n",
    "        markers = images[0].ch\n",
    "    # TODO : check if the images have masks already or not\n",
    "    for image in images:\n",
    "        # create a copy of the image\n",
    "        image_cp = image.copy()\n",
    "        # creating a temprory mask\n",
    "        w, h, d = image_cp.img.shape\n",
    "        tmp_mask = np.ones((w, h))\n",
    "        # setting the mask within the image object\n",
    "        image_cp.mask = tmp_mask\n",
    "        # creating the mask_tl tissue labeler\n",
    "        mask_tl = mxif_labeler(images=[image_cp])\n",
    "        # preprocessing before running MILWRM\n",
    "        mask_tl.prep_cluster_data(\n",
    "            features=markers, downsample_factor=downsample_factor, sigma=2, fract=0.1\n",
    "        )\n",
    "        # running MILWRM with two clusters\n",
    "        mask_tl.label_tissue_regions(k=2, alpha=0.05)\n",
    "        # estimating centroids\n",
    "        scores = mask_tl.kmeans.cluster_centers_.copy()\n",
    "        mean = mask_tl.kmeans.cluster_centers_.mean(axis=0)\n",
    "        sd = mask_tl.kmeans.cluster_centers_.std(axis=0)\n",
    "        # z-score cluster centroid values for more reliable loadings\n",
    "        z_scores = (scores - mean) / sd\n",
    "        # making sure the background is set as 0\n",
    "        if z_scores[0].mean() > 0:\n",
    "            print(z_scores[0], \"the background is set as tissue ID 1\")\n",
    "            where_0 = np.where(mask_tl.tissue_IDs[0] == 0.0)\n",
    "            mask_tl.tissue_IDs[0][where_0] = 0.5\n",
    "            where_1 = np.where(mask_tl.tissue_IDs[0] == 1.0)\n",
    "            mask_tl.tissue_IDs[0][where_1] = 0.0\n",
    "            where_05 = np.where(mask_tl.tissue_IDs[0] == 0.5)\n",
    "            mask_tl.tissue_IDs[0][where_05] = 1.0\n",
    "        # rescaling the mask\n",
    "        mask_final = resize(mask_tl.tissue_IDs[0], (w, h))\n",
    "        # setting the final mask\n",
    "        image.mask = mask_final"
   ]
  },
  {
   "cell_type": "markdown",
   "metadata": {
    "tags": []
   },
   "source": [
    "---\n",
    "### WD86056"
   ]
  },
  {
   "cell_type": "code",
   "execution_count": null,
   "metadata": {},
   "outputs": [],
   "source": [
    "WD86056 = img.from_npz(file=\"../data/MxIF/WD86056/WD86056_stitched_downsample8.npz\") ; WD86056.mask = None ; WD86056"
   ]
  },
  {
   "cell_type": "code",
   "execution_count": null,
   "metadata": {},
   "outputs": [],
   "source": [
    "WD86056.clip()"
   ]
  },
  {
   "cell_type": "code",
   "execution_count": null,
   "metadata": {},
   "outputs": [],
   "source": [
    "rgb = WD86056.show(channels=[\"CD20\",\"BCATENIN\",\"COLLAGEN\"], RGB=True)"
   ]
  },
  {
   "cell_type": "code",
   "execution_count": null,
   "metadata": {
    "tags": []
   },
   "outputs": [],
   "source": [
    "%time create_tissue_mask_mxif(WD86056, downsample_factor=36)"
   ]
  },
  {
   "cell_type": "code",
   "execution_count": null,
   "metadata": {
    "tags": []
   },
   "outputs": [],
   "source": [
    "rgb = WD86056.show(ncols=5)"
   ]
  },
  {
   "cell_type": "code",
   "execution_count": null,
   "metadata": {},
   "outputs": [],
   "source": [
    "%time WD86056.to_npz(\"../data/MxIF/WD86056/WD86056_downsample8.npz\")"
   ]
  },
  {
   "cell_type": "markdown",
   "metadata": {
    "tags": []
   },
   "source": [
    "---\n",
    "### WD85806"
   ]
  },
  {
   "cell_type": "code",
   "execution_count": null,
   "metadata": {},
   "outputs": [],
   "source": [
    "WD85806 = img.from_npz(file=\"../data/MxIF/WD85806/WD85806_stitched_downsample8.npz\") ; WD85806.mask = None ; WD85806"
   ]
  },
  {
   "cell_type": "code",
   "execution_count": null,
   "metadata": {},
   "outputs": [],
   "source": [
    "WD85806.clip()"
   ]
  },
  {
   "cell_type": "code",
   "execution_count": null,
   "metadata": {},
   "outputs": [],
   "source": [
    "rgb = WD85806.show(channels=[\"CD20\",\"BCATENIN\",\"COLLAGEN\"], RGB=True)"
   ]
  },
  {
   "cell_type": "code",
   "execution_count": null,
   "metadata": {
    "tags": []
   },
   "outputs": [],
   "source": [
    "%time create_tissue_mask_mxif(WD85806, downsample_factor=36)"
   ]
  },
  {
   "cell_type": "code",
   "execution_count": null,
   "metadata": {
    "tags": []
   },
   "outputs": [],
   "source": [
    "rgb = WD85806.show(ncols=5)"
   ]
  },
  {
   "cell_type": "code",
   "execution_count": null,
   "metadata": {},
   "outputs": [],
   "source": [
    "%time WD85806.to_npz(\"../data/MxIF/WD85806/WD85806_downsample8.npz\")"
   ]
  },
  {
   "cell_type": "markdown",
   "metadata": {
    "tags": []
   },
   "source": [
    "---\n",
    "### WD87480"
   ]
  },
  {
   "cell_type": "code",
   "execution_count": null,
   "metadata": {},
   "outputs": [],
   "source": [
    "WD87480 = img.from_npz(file=\"../data/MxIF/WD87480/WD87480_stitched_downsample8.npz\") ; WD87480.mask = None ; WD87480"
   ]
  },
  {
   "cell_type": "code",
   "execution_count": null,
   "metadata": {},
   "outputs": [],
   "source": [
    "WD87480.clip()"
   ]
  },
  {
   "cell_type": "code",
   "execution_count": null,
   "metadata": {},
   "outputs": [],
   "source": [
    "rgb = WD87480.show(channels=[\"CD20\",\"BCATENIN\",\"COLLAGEN\"], RGB=True)"
   ]
  },
  {
   "cell_type": "code",
   "execution_count": null,
   "metadata": {
    "tags": []
   },
   "outputs": [],
   "source": [
    "%time create_tissue_mask_mxif(WD87480, downsample_factor=16)"
   ]
  },
  {
   "cell_type": "code",
   "execution_count": null,
   "metadata": {
    "tags": []
   },
   "outputs": [],
   "source": [
    "rgb = WD87480.show(ncols=5)"
   ]
  },
  {
   "cell_type": "code",
   "execution_count": null,
   "metadata": {},
   "outputs": [],
   "source": [
    "%time WD87480.to_npz(\"../data/MxIF/WD87480/WD87480_downsample8.npz\")"
   ]
  },
  {
   "cell_type": "markdown",
   "metadata": {
    "tags": []
   },
   "source": [
    "---\n",
    "### WD87482"
   ]
  },
  {
   "cell_type": "code",
   "execution_count": null,
   "metadata": {},
   "outputs": [],
   "source": [
    "WD87482 = img.from_npz(file=\"../data/MxIF/WD87482/WD87482_stitched_downsample8.npz\") ; WD87482.mask = None ; WD87482"
   ]
  },
  {
   "cell_type": "code",
   "execution_count": null,
   "metadata": {},
   "outputs": [],
   "source": [
    "WD87482.clip()"
   ]
  },
  {
   "cell_type": "code",
   "execution_count": null,
   "metadata": {},
   "outputs": [],
   "source": [
    "rgb = WD87482.show(channels=[\"CD20\",\"BCATENIN\",\"COLLAGEN\"], RGB=True)"
   ]
  },
  {
   "cell_type": "code",
   "execution_count": null,
   "metadata": {
    "tags": []
   },
   "outputs": [],
   "source": [
    "%time create_tissue_mask_mxif(WD87482, downsample_factor=32)"
   ]
  },
  {
   "cell_type": "code",
   "execution_count": null,
   "metadata": {
    "tags": []
   },
   "outputs": [],
   "source": [
    "rgb = WD87482.show(ncols=5)"
   ]
  },
  {
   "cell_type": "code",
   "execution_count": null,
   "metadata": {},
   "outputs": [],
   "source": [
    "%time WD87482.to_npz(\"../data/MxIF/WD87482/WD87482_downsample8.npz\")"
   ]
  },
  {
   "cell_type": "markdown",
   "metadata": {
    "tags": []
   },
   "source": [
    "---\n",
    "### vTMA_001"
   ]
  },
  {
   "cell_type": "code",
   "execution_count": null,
   "metadata": {},
   "outputs": [],
   "source": [
    "%%time\n",
    "vTMA1 = img.from_tiffs(\n",
    "    tiffdir = \"../data/MxIF/VISIUM_TMA/AFRemoved/\",\n",
    "    common_strings = [\"AFRemoved_pyr16_region_001.tif\"],\n",
    "    channels = eliotmarkers,\n",
    "    #mask = \"01_TISSUE_MASK.tif\",\n",
    ")"
   ]
  },
  {
   "cell_type": "code",
   "execution_count": null,
   "metadata": {},
   "outputs": [],
   "source": [
    "vTMA1"
   ]
  },
  {
   "cell_type": "code",
   "execution_count": null,
   "metadata": {},
   "outputs": [],
   "source": [
    "%%time\n",
    "vTMA1.downsample(fact=8)\n",
    "vTMA1.clip()\n",
    "vTMA1"
   ]
  },
  {
   "cell_type": "code",
   "execution_count": null,
   "metadata": {},
   "outputs": [],
   "source": [
    "rgb = vTMA1.show()"
   ]
  },
  {
   "cell_type": "code",
   "execution_count": null,
   "metadata": {},
   "outputs": [],
   "source": [
    "%time vTMA1.to_npz(\"../data/MxIF/vTMA_001/vTMA_001_downsample8.npz\")"
   ]
  },
  {
   "cell_type": "code",
   "execution_count": null,
   "metadata": {},
   "outputs": [],
   "source": [
    "%time create_tissue_mask_mxif(vTMA1, downsample_factor=8)"
   ]
  },
  {
   "cell_type": "code",
   "execution_count": null,
   "metadata": {},
   "outputs": [],
   "source": [
    "rgb = vTMA1.show()"
   ]
  },
  {
   "cell_type": "code",
   "execution_count": null,
   "metadata": {},
   "outputs": [],
   "source": [
    "%time vTMA1.to_npz(\"../data/MxIF/vTMA_001/vTMA_001_downsample8.npz\")"
   ]
  },
  {
   "cell_type": "markdown",
   "metadata": {
    "tags": []
   },
   "source": [
    "---\n",
    "### vTMA_002"
   ]
  },
  {
   "cell_type": "code",
   "execution_count": null,
   "metadata": {},
   "outputs": [],
   "source": [
    "%%time\n",
    "vTMA1 = img.from_tiffs(\n",
    "    tiffdir = \"../data/MxIF/VISIUM_TMA/AFRemoved/\",\n",
    "    common_strings = [\"AFRemoved_pyr16_region_002.tif\"],\n",
    "    channels = eliotmarkers,\n",
    "    #mask = \"01_TISSUE_MASK.tif\",\n",
    ")"
   ]
  },
  {
   "cell_type": "code",
   "execution_count": null,
   "metadata": {},
   "outputs": [],
   "source": [
    "vTMA1"
   ]
  },
  {
   "cell_type": "code",
   "execution_count": null,
   "metadata": {},
   "outputs": [],
   "source": [
    "%%time\n",
    "vTMA1.downsample(fact=8)\n",
    "vTMA1.clip()\n",
    "vTMA1"
   ]
  },
  {
   "cell_type": "code",
   "execution_count": null,
   "metadata": {},
   "outputs": [],
   "source": [
    "rgb = vTMA1.show()"
   ]
  },
  {
   "cell_type": "code",
   "execution_count": null,
   "metadata": {},
   "outputs": [],
   "source": [
    "%time vTMA1.to_npz(\"../data/MxIF/vTMA_002/vTMA_002_downsample8.npz\")"
   ]
  },
  {
   "cell_type": "code",
   "execution_count": null,
   "metadata": {},
   "outputs": [],
   "source": [
    "%time create_tissue_mask_mxif(vTMA1, downsample_factor=8)"
   ]
  },
  {
   "cell_type": "code",
   "execution_count": null,
   "metadata": {},
   "outputs": [],
   "source": [
    "rgb = vTMA1.show()"
   ]
  },
  {
   "cell_type": "code",
   "execution_count": null,
   "metadata": {},
   "outputs": [],
   "source": [
    "%time vTMA1.to_npz(\"../data/MxIF/vTMA_002/vTMA_002_downsample8.npz\")"
   ]
  },
  {
   "cell_type": "markdown",
   "metadata": {
    "tags": []
   },
   "source": [
    "---\n",
    "### MPP-00092-A1"
   ]
  },
  {
   "cell_type": "code",
   "execution_count": null,
   "metadata": {},
   "outputs": [],
   "source": [
    "%%time\n",
    "MPP_00092_A1 = img.from_tiffs(\n",
    "    tiffdir = \"../data/MxIF/MPP_0092_A1/AFRemoved/\",\n",
    "    common_strings = [\"stitched_downsample8.tif\"],\n",
    "    channels = eliotmarkers,\n",
    ")"
   ]
  },
  {
   "cell_type": "code",
   "execution_count": null,
   "metadata": {},
   "outputs": [],
   "source": [
    "MPP_00092_A1"
   ]
  },
  {
   "cell_type": "code",
   "execution_count": null,
   "metadata": {},
   "outputs": [],
   "source": [
    "%%time\n",
    "MPP_00092_A1.clip()\n",
    "MPP_00092_A1"
   ]
  },
  {
   "cell_type": "code",
   "execution_count": null,
   "metadata": {},
   "outputs": [],
   "source": [
    "rgb = MPP_00092_A1.show(ncols=5)"
   ]
  },
  {
   "cell_type": "code",
   "execution_count": null,
   "metadata": {},
   "outputs": [],
   "source": [
    "%time MPP_00092_A1.to_npz(\"../data/MxIF/MPP_00092_A1/MPP_00092_A1_downsample8.npz\")"
   ]
  },
  {
   "cell_type": "code",
   "execution_count": null,
   "metadata": {},
   "outputs": [],
   "source": [
    "%time create_tissue_mask_mxif(MPP_00092_A1, downsample_factor=8)"
   ]
  },
  {
   "cell_type": "code",
   "execution_count": null,
   "metadata": {},
   "outputs": [],
   "source": [
    "rgb = MPP_00092_A1.show(ncols=5)"
   ]
  },
  {
   "cell_type": "code",
   "execution_count": null,
   "metadata": {},
   "outputs": [],
   "source": [
    "%time MPP_00092_A1.to_npz(\"../data/MxIF/MPP_00092_A1/MPP_00092_A1_downsample8.npz\")"
   ]
  },
  {
   "cell_type": "markdown",
   "metadata": {
    "tags": []
   },
   "source": [
    "---\n",
    "### MPP-00274-A1"
   ]
  },
  {
   "cell_type": "code",
   "execution_count": null,
   "metadata": {
    "tags": []
   },
   "outputs": [],
   "source": [
    "%%time\n",
    "MPP_00274_A1 = img.from_tiffs(\n",
    "    tiffdir = \"../data/MxIF/MPP_00274_A1/AFRemoved/\",\n",
    "    common_strings = [\"stitched_downsample8.tif\"],\n",
    "    channels = eliotmarkers,\n",
    ")"
   ]
  },
  {
   "cell_type": "code",
   "execution_count": null,
   "metadata": {
    "tags": []
   },
   "outputs": [],
   "source": [
    "MPP_00274_A1"
   ]
  },
  {
   "cell_type": "code",
   "execution_count": null,
   "metadata": {
    "tags": []
   },
   "outputs": [],
   "source": [
    "MPP_00274_A1.clip()"
   ]
  },
  {
   "cell_type": "code",
   "execution_count": null,
   "metadata": {
    "tags": []
   },
   "outputs": [],
   "source": [
    "rgb = MPP_00274_A1.show(ncols=5)"
   ]
  },
  {
   "cell_type": "code",
   "execution_count": null,
   "metadata": {
    "tags": []
   },
   "outputs": [],
   "source": [
    "%time MPP_00274_A1.to_npz(\"../data/MxIF/MPP_00274_A1/MPP_00274_A1_downsample8.npz\")"
   ]
  },
  {
   "cell_type": "code",
   "execution_count": null,
   "metadata": {
    "tags": []
   },
   "outputs": [],
   "source": [
    "%time create_tissue_mask_mxif(MPP_00274_A1, downsample_factor=8)"
   ]
  },
  {
   "cell_type": "code",
   "execution_count": null,
   "metadata": {
    "tags": []
   },
   "outputs": [],
   "source": [
    "rgb = MPP_00274_A1.show(ncols=5)"
   ]
  },
  {
   "cell_type": "code",
   "execution_count": null,
   "metadata": {},
   "outputs": [],
   "source": [
    "%time MPP_00274_A1.to_npz(\"../data/MxIF/MPP_00274_A1/MPP_00274_A1_downsample8.npz\")"
   ]
  },
  {
   "cell_type": "markdown",
   "metadata": {
    "tags": []
   },
   "source": [
    "---\n",
    "### MPP-00274-B1"
   ]
  },
  {
   "cell_type": "code",
   "execution_count": null,
   "metadata": {
    "tags": []
   },
   "outputs": [],
   "source": [
    "%%time\n",
    "MPP_00274_B1 = img.from_tiffs(\n",
    "    tiffdir = \"../data/MxIF/MPP_00274_B1/AFRemoved/\",\n",
    "    common_strings = [\"stitched_downsample8.tif\"],\n",
    "    channels = eliotmarkers,\n",
    ")"
   ]
  },
  {
   "cell_type": "code",
   "execution_count": null,
   "metadata": {
    "tags": []
   },
   "outputs": [],
   "source": [
    "MPP_00274_B1"
   ]
  },
  {
   "cell_type": "code",
   "execution_count": null,
   "metadata": {
    "tags": []
   },
   "outputs": [],
   "source": [
    "MPP_00274_B1.clip()"
   ]
  },
  {
   "cell_type": "code",
   "execution_count": null,
   "metadata": {
    "tags": []
   },
   "outputs": [],
   "source": [
    "rgb = MPP_00274_B1.show(ncols=5)"
   ]
  },
  {
   "cell_type": "code",
   "execution_count": null,
   "metadata": {
    "tags": []
   },
   "outputs": [],
   "source": [
    "%time create_tissue_mask_mxif(MPP_00274_B1, downsample_factor=8)"
   ]
  },
  {
   "cell_type": "code",
   "execution_count": null,
   "metadata": {
    "tags": []
   },
   "outputs": [],
   "source": [
    "rgb = MPP_00274_B1.show(ncols=5)"
   ]
  },
  {
   "cell_type": "code",
   "execution_count": null,
   "metadata": {},
   "outputs": [],
   "source": [
    "%time MPP_00274_B1.to_npz(\"../data/MxIF/MPP_00274_B1/MPP_00274_B1_downsample8.npz\")"
   ]
  },
  {
   "cell_type": "markdown",
   "metadata": {
    "tags": []
   },
   "source": [
    "---\n",
    "### WD87478"
   ]
  },
  {
   "cell_type": "code",
   "execution_count": null,
   "metadata": {
    "tags": []
   },
   "outputs": [],
   "source": [
    "%%time\n",
    "WD87478 = img.from_tiffs(\n",
    "    tiffdir = \"../data/MxIF/WD87478/AFRemoved/\",\n",
    "    common_strings = [\"stitched_downsample8.tif\"],\n",
    "    channels = eliotmarkers,\n",
    ")\n",
    "WD87478"
   ]
  },
  {
   "cell_type": "code",
   "execution_count": null,
   "metadata": {
    "tags": []
   },
   "outputs": [],
   "source": [
    "WD87478.clip()"
   ]
  },
  {
   "cell_type": "code",
   "execution_count": null,
   "metadata": {
    "tags": []
   },
   "outputs": [],
   "source": [
    "rgb = WD87478.show(ncols=5)"
   ]
  },
  {
   "cell_type": "code",
   "execution_count": null,
   "metadata": {
    "tags": []
   },
   "outputs": [],
   "source": [
    "%time create_tissue_mask_mxif(WD87478, downsample_factor=8)"
   ]
  },
  {
   "cell_type": "code",
   "execution_count": null,
   "metadata": {
    "tags": []
   },
   "outputs": [],
   "source": [
    "rgb = WD87478.show(ncols=5)"
   ]
  },
  {
   "cell_type": "code",
   "execution_count": null,
   "metadata": {},
   "outputs": [],
   "source": [
    "%time WD87478.to_npz(\"../data/MxIF/WD87478/WD87478_downsample8.npz\")"
   ]
  },
  {
   "cell_type": "markdown",
   "metadata": {
    "tags": []
   },
   "source": [
    "---\n",
    "### WD33468"
   ]
  },
  {
   "cell_type": "code",
   "execution_count": null,
   "metadata": {
    "tags": []
   },
   "outputs": [],
   "source": [
    "%%time\n",
    "WD33468 = img.from_tiffs(\n",
    "    tiffdir = \"../data/MxIF/WD33468/AFRemoved/\",\n",
    "    common_strings = [\"stitched_downsample8.tif\"],\n",
    "    channels = eliotmarkers,\n",
    ")\n",
    "WD33468"
   ]
  },
  {
   "cell_type": "code",
   "execution_count": null,
   "metadata": {
    "tags": []
   },
   "outputs": [],
   "source": [
    "WD33468.clip()"
   ]
  },
  {
   "cell_type": "code",
   "execution_count": null,
   "metadata": {
    "tags": []
   },
   "outputs": [],
   "source": [
    "rgb = WD33468.show(channels=[\"CD20\",\"BCATENIN\",\"COLLAGEN\"], RGB=True)"
   ]
  },
  {
   "cell_type": "code",
   "execution_count": null,
   "metadata": {
    "tags": []
   },
   "outputs": [],
   "source": [
    "%time create_tissue_mask_mxif(WD33468, downsample_factor=16)"
   ]
  },
  {
   "cell_type": "code",
   "execution_count": null,
   "metadata": {
    "tags": []
   },
   "outputs": [],
   "source": [
    "rgb = WD33468.show(ncols=5)"
   ]
  },
  {
   "cell_type": "code",
   "execution_count": null,
   "metadata": {},
   "outputs": [],
   "source": [
    "%time WD33468.to_npz(\"../data/MxIF/WD33468/WD33468_downsample8.npz\")"
   ]
  },
  {
   "cell_type": "markdown",
   "metadata": {
    "tags": []
   },
   "source": [
    "---\n",
    "### WD33475"
   ]
  },
  {
   "cell_type": "code",
   "execution_count": null,
   "metadata": {
    "tags": []
   },
   "outputs": [],
   "source": [
    "%%time\n",
    "WD33475 = img.from_tiffs(\n",
    "    tiffdir = \"../data/MxIF/WD33475/AFRemoved/\",\n",
    "    common_strings = [\"stitched_downsample8.tif\"],\n",
    "    channels = eliotmarkers,\n",
    ")\n",
    "WD33475"
   ]
  },
  {
   "cell_type": "code",
   "execution_count": null,
   "metadata": {
    "tags": []
   },
   "outputs": [],
   "source": [
    "WD33475.clip()"
   ]
  },
  {
   "cell_type": "code",
   "execution_count": null,
   "metadata": {
    "tags": []
   },
   "outputs": [],
   "source": [
    "rgb = WD33475.show(channels=[\"CD20\",\"BCATENIN\",\"COLLAGEN\"], RGB=True)"
   ]
  },
  {
   "cell_type": "code",
   "execution_count": null,
   "metadata": {
    "tags": []
   },
   "outputs": [],
   "source": [
    "%time create_tissue_mask_mxif(WD33475, downsample_factor=16)"
   ]
  },
  {
   "cell_type": "code",
   "execution_count": null,
   "metadata": {
    "tags": []
   },
   "outputs": [],
   "source": [
    "rgb = WD33475.show(ncols=5)"
   ]
  },
  {
   "cell_type": "code",
   "execution_count": null,
   "metadata": {},
   "outputs": [],
   "source": [
    "%time WD33475.to_npz(\"../data/MxIF/WD33475/WD33475_downsample8.npz\")"
   ]
  },
  {
   "cell_type": "markdown",
   "metadata": {
    "tags": []
   },
   "source": [
    "---\n",
    "### WD33476"
   ]
  },
  {
   "cell_type": "code",
   "execution_count": null,
   "metadata": {
    "tags": []
   },
   "outputs": [],
   "source": [
    "%%time\n",
    "WD33476 = img.from_tiffs(\n",
    "    tiffdir = \"../data/MxIF/WD33476/AFRemoved/\",\n",
    "    common_strings = [\"stitched_downsample8.tif\"],\n",
    "    channels = eliotmarkers,\n",
    ")\n",
    "WD33476"
   ]
  },
  {
   "cell_type": "code",
   "execution_count": null,
   "metadata": {
    "tags": []
   },
   "outputs": [],
   "source": [
    "WD33476.clip()"
   ]
  },
  {
   "cell_type": "code",
   "execution_count": null,
   "metadata": {
    "tags": []
   },
   "outputs": [],
   "source": [
    "rgb = WD33476.show(channels=[\"CD20\",\"BCATENIN\",\"COLLAGEN\"], RGB=True)"
   ]
  },
  {
   "cell_type": "code",
   "execution_count": null,
   "metadata": {
    "tags": []
   },
   "outputs": [],
   "source": [
    "%time create_tissue_mask_mxif(WD33476, downsample_factor=16)"
   ]
  },
  {
   "cell_type": "code",
   "execution_count": null,
   "metadata": {
    "tags": []
   },
   "outputs": [],
   "source": [
    "rgb = WD33476.show(ncols=5)"
   ]
  },
  {
   "cell_type": "code",
   "execution_count": null,
   "metadata": {},
   "outputs": [],
   "source": [
    "%time WD33476.to_npz(\"../data/MxIF/WD33476/WD33476_downsample8.npz\")"
   ]
  },
  {
   "cell_type": "markdown",
   "metadata": {
    "tags": []
   },
   "source": [
    "---\n",
    "### WD33479"
   ]
  },
  {
   "cell_type": "code",
   "execution_count": null,
   "metadata": {
    "tags": []
   },
   "outputs": [],
   "source": [
    "%%time\n",
    "WD33479 = img.from_tiffs(\n",
    "    tiffdir = \"../data/MxIF/WD33479/AFRemoved/\",\n",
    "    common_strings = [\"stitched_downsample8.tif\"],\n",
    "    channels = eliotmarkers,\n",
    ")\n",
    "WD33479"
   ]
  },
  {
   "cell_type": "code",
   "execution_count": null,
   "metadata": {
    "tags": []
   },
   "outputs": [],
   "source": [
    "WD33479.clip()"
   ]
  },
  {
   "cell_type": "code",
   "execution_count": null,
   "metadata": {
    "tags": []
   },
   "outputs": [],
   "source": [
    "rgb = WD33479.show(channels=[\"CD20\",\"BCATENIN\",\"COLLAGEN\"], RGB=True)"
   ]
  },
  {
   "cell_type": "code",
   "execution_count": null,
   "metadata": {
    "tags": []
   },
   "outputs": [],
   "source": [
    "%time create_tissue_mask_mxif(WD33479, downsample_factor=16)"
   ]
  },
  {
   "cell_type": "code",
   "execution_count": null,
   "metadata": {
    "tags": []
   },
   "outputs": [],
   "source": [
    "rgb = WD33479.show(ncols=5)"
   ]
  },
  {
   "cell_type": "code",
   "execution_count": null,
   "metadata": {},
   "outputs": [],
   "source": [
    "%time WD33479.to_npz(\"../data/MxIF/WD33479/WD33479_downsample8.npz\")"
   ]
  }
 ],
 "metadata": {
  "kernelspec": {
   "display_name": "sc",
   "language": "python",
   "name": "sc"
  },
  "language_info": {
   "codemirror_mode": {
    "name": "ipython",
    "version": 3
   },
   "file_extension": ".py",
   "mimetype": "text/x-python",
   "name": "python",
   "nbconvert_exporter": "python",
   "pygments_lexer": "ipython3",
   "version": "3.8.10"
  }
 },
 "nbformat": 4,
 "nbformat_minor": 5
}
