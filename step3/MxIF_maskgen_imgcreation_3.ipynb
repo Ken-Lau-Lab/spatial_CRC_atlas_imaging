{
 "cells": [
  {
   "cell_type": "code",
   "execution_count": null,
   "metadata": {
    "tags": []
   },
   "outputs": [],
   "source": [
    "from MILWRM.MxIF import *\n",
    "from MILWRM.ST import *\n",
    "from MILWRM.MILWRM import *"
   ]
  },
  {
   "cell_type": "code",
   "execution_count": null,
   "metadata": {},
   "outputs": [],
   "source": [
    "# markers in COLON MAP PCA data\n",
    "allmarkers = [\"ACTININ\",\"BCATENIN\",\"CD3D\",\"CD4_\",\"CD8\",\"CD11B\",\"CD20\",\"CD45\",\"CD68\",\n",
    "              \"CGA\",\"COLLAGEN\",\"COX2\",\"DAPI\",\"ERBB2\",\"FOXP3\",\"GAMMAACTIN\",\"HLAA\",\"LYSOZYME\",\"MUC2\",\n",
    "              \"NAKATPASE\",\"OLFM4\",\"SOX9\",\"PANCK\",\"PCNA\",\"PEGFR\",\"PSTAT3\",\"SMA\",\"SNA\",\"VIMENTIN\"]\n",
    "eliotmarkers = [\"VIMENTIN\",\"SOX9\",\"SMA\",\"PSTAT3\",\"PEGFR\",\"PCNA\",\"PANCK\",\"OLFM4\",\n",
    "                \"NAKATPASE\",\"MUC5AC\",\"MUC2\",\"LYSOZYME\",\"HLAA\",\"GAMMAACTIN\",\"FOXP3\",\n",
    "                \"ERBB2\",\"COLLAGEN\",\"CGA\",\"CDX2\",\"CD68\",\"CD45\",\"CD20\",\"CD11B\",\"CD8\",\n",
    "                \"CD4_\",\"CD3D\",\"BCATENIN\",\"AQP5\",\"COX2\"]\n",
    "channels = [\n",
    "    \"AQP5\",\n",
    "    \"VIMENTIN\",\n",
    "    \"SOX9\",\n",
    "    \"SMA\",\n",
    "    \"PSTAT3\",\n",
    "    \"PEGFR\",\n",
    "    \"PCNA\",\n",
    "    \"PANCK\",\n",
    "    \"OLFM4\",\n",
    "    \"NAKATPASE\",\n",
    "    \"MUC5AC\",\n",
    "    #\"MUC2\",\n",
    "    \"LYSOZYME\",\n",
    "    \"HLAA\",\n",
    "    \"GAMMAACTIN\",\n",
    "    \"FOXP3\",\n",
    "    \"CGA\",\n",
    "    \"CDX2\",\n",
    "    \"CD68\",\n",
    "    \"CD45\",\n",
    "    \"CD20\",\n",
    "    \"CD11B\",\n",
    "    \"CD8\",\n",
    "    \"CD4_\",\n",
    "    \"CD3D\",\n",
    "    \"BCATENIN\",\n",
    "    \n",
    "    #\"CEACAM5\",\n",
    "    #\"DPEP1\",\n",
    "    #\"CD27\",\n",
    "    #\"COX2\",\n",
    "    #\"VIMENTIN\",\n",
    "    #\"ERBB2\",\n",
    "    #\"COLLAGEN\",\n",
    "]"
   ]
  },
  {
   "cell_type": "code",
   "execution_count": null,
   "metadata": {},
   "outputs": [],
   "source": [
    "def create_tissue_mask_mxif(images, markers=None, downsample_factor=1):\n",
    "    \"\"\"\n",
    "    Creates a whole tissue mask for the given tissue image\n",
    "\n",
    "    Parameters\n",
    "    ----------\n",
    "    images : list or img\n",
    "        images for which the tissue mask will be created for\n",
    "    markers : list\n",
    "        markers required to create MxIF labeller object\n",
    "\n",
    "    Returns\n",
    "    -------\n",
    "    mask is added to self.mask\n",
    "    \"\"\"\n",
    "    if isinstance(\n",
    "        images, img\n",
    "    ):  # force img objects into a list if a single object is given\n",
    "        images = [images]\n",
    "    if markers is None:  # using all markers if list of markers is not given\n",
    "        markers = images[0].ch\n",
    "    # TODO : check if the images have masks already or not\n",
    "    for image in images:\n",
    "        # create a copy of the image\n",
    "        image_cp = image.copy()\n",
    "        # creating a temprory mask\n",
    "        w, h, d = image_cp.img.shape\n",
    "        tmp_mask = np.ones((w, h))\n",
    "        # setting the mask within the image object\n",
    "        image_cp.mask = tmp_mask\n",
    "        # creating the mask_tl tissue labeler\n",
    "        mask_tl = mxif_labeler(images=[image_cp])\n",
    "        # preprocessing before running MILWRM\n",
    "        mask_tl.prep_cluster_data(\n",
    "            features=markers, downsample_factor=downsample_factor, sigma=2, fract=0.1\n",
    "        )\n",
    "        # running MILWRM with two clusters\n",
    "        mask_tl.label_tissue_regions(k=2, alpha=0.05)\n",
    "        # estimating centroids\n",
    "        scores = mask_tl.kmeans.cluster_centers_.copy()\n",
    "        mean = mask_tl.kmeans.cluster_centers_.mean(axis=0)\n",
    "        sd = mask_tl.kmeans.cluster_centers_.std(axis=0)\n",
    "        # z-score cluster centroid values for more reliable loadings\n",
    "        z_scores = (scores - mean) / sd\n",
    "        # making sure the background is set as 0\n",
    "        if z_scores[0].mean() > 0:\n",
    "            print(z_scores[0], \"the background is set as tissue ID 1\")\n",
    "            where_0 = np.where(mask_tl.tissue_IDs[0] == 0.0)\n",
    "            mask_tl.tissue_IDs[0][where_0] = 0.5\n",
    "            where_1 = np.where(mask_tl.tissue_IDs[0] == 1.0)\n",
    "            mask_tl.tissue_IDs[0][where_1] = 0.0\n",
    "            where_05 = np.where(mask_tl.tissue_IDs[0] == 0.5)\n",
    "            mask_tl.tissue_IDs[0][where_05] = 1.0\n",
    "        # rescaling the mask\n",
    "        mask_final = resize(mask_tl.tissue_IDs[0], (w, h))\n",
    "        # setting the final mask\n",
    "        image.mask = mask_final"
   ]
  },
  {
   "cell_type": "markdown",
   "metadata": {
    "tags": []
   },
   "source": [
    "---\n",
    "### HTA11_10711"
   ]
  },
  {
   "cell_type": "code",
   "execution_count": null,
   "metadata": {},
   "outputs": [],
   "source": [
    "HTA11_10711 = img.from_tiffs(\n",
    "    tiffdir = \"/Volumes/CellDive/scan_alpha/S20_37543_1A/AFRemoved/\",\n",
    "    common_strings = [\"_stitched_downsample8.tif\"],\n",
    "    channels = channels,\n",
    ") ; HTA11_10711"
   ]
  },
  {
   "cell_type": "code",
   "execution_count": null,
   "metadata": {},
   "outputs": [],
   "source": [
    "HTA11_10711.clip()"
   ]
  },
  {
   "cell_type": "code",
   "execution_count": null,
   "metadata": {},
   "outputs": [],
   "source": [
    "rgb = HTA11_10711.show(channels=[\"CD20\",\"BCATENIN\",\"COLLAGEN\"], RGB=True)"
   ]
  },
  {
   "cell_type": "code",
   "execution_count": null,
   "metadata": {
    "tags": []
   },
   "outputs": [],
   "source": [
    "%time create_tissue_mask_mxif(HTA11_10711, downsample_factor=14)"
   ]
  },
  {
   "cell_type": "code",
   "execution_count": null,
   "metadata": {
    "tags": []
   },
   "outputs": [],
   "source": [
    "rgb = HTA11_10711.show(ncols=5)"
   ]
  },
  {
   "cell_type": "code",
   "execution_count": null,
   "metadata": {},
   "outputs": [],
   "source": [
    "%time HTA11_10711.to_npz(\"/Users/cody/Downloads/HTA11_10711_downsample8.npz\")"
   ]
  },
  {
   "cell_type": "markdown",
   "metadata": {
    "tags": []
   },
   "source": [
    "---\n",
    "### HTA11_06134"
   ]
  },
  {
   "cell_type": "code",
   "execution_count": null,
   "metadata": {},
   "outputs": [],
   "source": [
    "HTA11_06134 = img.from_tiffs(\n",
    "    tiffdir = \"/Volumes/CellDive/scan_alpha/S20_8615_1A/AFRemoved/\",\n",
    "    common_strings = [\"_stitched_downsample8.tif\"],\n",
    "    channels = channels,\n",
    ") ; HTA11_06134"
   ]
  },
  {
   "cell_type": "code",
   "execution_count": null,
   "metadata": {},
   "outputs": [],
   "source": [
    "HTA11_06134.clip()"
   ]
  },
  {
   "cell_type": "code",
   "execution_count": null,
   "metadata": {},
   "outputs": [],
   "source": [
    "rgb = HTA11_06134.show(channels=[\"CD20\",\"BCATENIN\",\"COLLAGEN\"], RGB=True)"
   ]
  },
  {
   "cell_type": "code",
   "execution_count": null,
   "metadata": {
    "tags": []
   },
   "outputs": [],
   "source": [
    "%time create_tissue_mask_mxif(HTA11_06134, downsample_factor=10)"
   ]
  },
  {
   "cell_type": "code",
   "execution_count": null,
   "metadata": {
    "tags": []
   },
   "outputs": [],
   "source": [
    "rgb = HTA11_06134.show(ncols=5)"
   ]
  },
  {
   "cell_type": "code",
   "execution_count": null,
   "metadata": {},
   "outputs": [],
   "source": [
    "%time HTA11_06134.to_npz(\"/Users/cody/Downloads/HTA11_06134_downsample8.npz\")"
   ]
  },
  {
   "cell_type": "markdown",
   "metadata": {
    "tags": []
   },
   "source": [
    "---\n",
    "### HTA11_07862"
   ]
  },
  {
   "cell_type": "code",
   "execution_count": null,
   "metadata": {},
   "outputs": [],
   "source": [
    "HTA11_07862 = img.from_tiffs(\n",
    "    tiffdir = \"/Volumes/CellDive/scan_alpha/S20_20146_2A/AFRemoved/\",\n",
    "    common_strings = [\"_stitched_downsample8.tif\"],\n",
    "    channels = channels,\n",
    ") ; HTA11_07862"
   ]
  },
  {
   "cell_type": "code",
   "execution_count": null,
   "metadata": {},
   "outputs": [],
   "source": [
    "HTA11_07862.clip()"
   ]
  },
  {
   "cell_type": "code",
   "execution_count": null,
   "metadata": {},
   "outputs": [],
   "source": [
    "rgb = HTA11_07862.show(channels=[\"CD20\",\"BCATENIN\",\"COLLAGEN\"], RGB=True)"
   ]
  },
  {
   "cell_type": "code",
   "execution_count": null,
   "metadata": {
    "tags": []
   },
   "outputs": [],
   "source": [
    "%time create_tissue_mask_mxif(HTA11_07862, downsample_factor=10)"
   ]
  },
  {
   "cell_type": "code",
   "execution_count": null,
   "metadata": {
    "tags": []
   },
   "outputs": [],
   "source": [
    "rgb = HTA11_07862.show(ncols=5)"
   ]
  },
  {
   "cell_type": "code",
   "execution_count": null,
   "metadata": {},
   "outputs": [],
   "source": [
    "%time HTA11_07862.to_npz(\"/Users/cody/Downloads/HTA11_07862_downsample8.npz\")"
   ]
  },
  {
   "cell_type": "markdown",
   "metadata": {
    "tags": []
   },
   "source": [
    "---\n",
    "### HTA11_07663"
   ]
  },
  {
   "cell_type": "code",
   "execution_count": null,
   "metadata": {},
   "outputs": [],
   "source": [
    "HTA11_07663 = img.from_tiffs(\n",
    "    tiffdir = \"/Volumes/CellDive/scan_alpha/S20_19137_1A/AFRemoved/\",\n",
    "    common_strings = [\"_stitched_downsample8.tif\"],\n",
    "    channels = channels,\n",
    ") ; HTA11_07663"
   ]
  },
  {
   "cell_type": "code",
   "execution_count": null,
   "metadata": {},
   "outputs": [],
   "source": [
    "HTA11_07663.clip()"
   ]
  },
  {
   "cell_type": "code",
   "execution_count": null,
   "metadata": {},
   "outputs": [],
   "source": [
    "rgb = HTA11_07663.show(channels=[\"CD20\",\"BCATENIN\",\"COLLAGEN\"], RGB=True)"
   ]
  },
  {
   "cell_type": "code",
   "execution_count": null,
   "metadata": {
    "tags": []
   },
   "outputs": [],
   "source": [
    "%time create_tissue_mask_mxif(HTA11_07663, downsample_factor=22)"
   ]
  },
  {
   "cell_type": "code",
   "execution_count": null,
   "metadata": {
    "tags": []
   },
   "outputs": [],
   "source": [
    "rgb = HTA11_07663.show(ncols=5)"
   ]
  },
  {
   "cell_type": "code",
   "execution_count": null,
   "metadata": {},
   "outputs": [],
   "source": [
    "%time HTA11_07663.to_npz(\"/Users/cody/Downloads/HTA11_07663_downsample8.npz\")"
   ]
  },
  {
   "cell_type": "markdown",
   "metadata": {
    "tags": []
   },
   "source": [
    "---\n",
    "### WD84594"
   ]
  },
  {
   "cell_type": "code",
   "execution_count": null,
   "metadata": {},
   "outputs": [],
   "source": [
    "WD84594 = img.from_tiffs(\n",
    "    tiffdir = \"/Volumes/CellDive/scan_alpha/WD54594/AFRemoved/\",\n",
    "    common_strings = [\"_stitched_downsample8.tif\"],\n",
    "    channels = channels,\n",
    ") ; WD84594"
   ]
  },
  {
   "cell_type": "code",
   "execution_count": null,
   "metadata": {},
   "outputs": [],
   "source": [
    "WD84594.clip()"
   ]
  },
  {
   "cell_type": "code",
   "execution_count": null,
   "metadata": {},
   "outputs": [],
   "source": [
    "rgb = WD84594.show(channels=[\"CD20\",\"BCATENIN\",\"COLLAGEN\"], RGB=True)"
   ]
  },
  {
   "cell_type": "code",
   "execution_count": null,
   "metadata": {
    "tags": []
   },
   "outputs": [],
   "source": [
    "%time create_tissue_mask_mxif(WD84594, downsample_factor=24)"
   ]
  },
  {
   "cell_type": "code",
   "execution_count": null,
   "metadata": {
    "tags": []
   },
   "outputs": [],
   "source": [
    "rgb = WD84594.show(ncols=5)"
   ]
  },
  {
   "cell_type": "code",
   "execution_count": null,
   "metadata": {},
   "outputs": [],
   "source": [
    "%time WD84594.to_npz(\"/Users/cody/Downloads/WD84594_downsample8.npz\")"
   ]
  },
  {
   "cell_type": "markdown",
   "metadata": {
    "tags": []
   },
   "source": [
    "---\n",
    "### WD84221"
   ]
  },
  {
   "cell_type": "code",
   "execution_count": null,
   "metadata": {},
   "outputs": [],
   "source": [
    "WD84221 = img.from_tiffs(\n",
    "    tiffdir = \"/Volumes/CellDive/scan_alpha/WD84221/AFRemoved/\",\n",
    "    common_strings = [\"_stitched_downsample8.tif\"],\n",
    "    channels = channels,\n",
    ") ; WD84221"
   ]
  },
  {
   "cell_type": "code",
   "execution_count": null,
   "metadata": {},
   "outputs": [],
   "source": [
    "WD84221.clip()"
   ]
  },
  {
   "cell_type": "code",
   "execution_count": null,
   "metadata": {},
   "outputs": [],
   "source": [
    "rgb = WD84221.show(channels=[\"CD20\",\"BCATENIN\",\"COLLAGEN\"], RGB=True)"
   ]
  },
  {
   "cell_type": "code",
   "execution_count": null,
   "metadata": {
    "tags": []
   },
   "outputs": [],
   "source": [
    "%time create_tissue_mask_mxif(WD84221, downsample_factor=20)"
   ]
  },
  {
   "cell_type": "code",
   "execution_count": null,
   "metadata": {
    "tags": []
   },
   "outputs": [],
   "source": [
    "rgb = WD84221.show(ncols=5)"
   ]
  },
  {
   "cell_type": "code",
   "execution_count": null,
   "metadata": {},
   "outputs": [],
   "source": [
    "%time WD84221.to_npz(\"/Users/cody/Downloads/WD84221_downsample8.npz\")"
   ]
  },
  {
   "cell_type": "markdown",
   "metadata": {
    "tags": []
   },
   "source": [
    "---\n",
    "### SR00001"
   ]
  },
  {
   "cell_type": "code",
   "execution_count": null,
   "metadata": {},
   "outputs": [],
   "source": [
    "SR00001 = img.from_tiffs(\n",
    "    tiffdir = \"/Volumes/CellDive/scan_alpha/HUMAN_NL/AFRemoved/\",\n",
    "    common_strings = [\"_stitched_downsample8.tif\"],\n",
    "    channels = channels,\n",
    ") ; SR00001"
   ]
  },
  {
   "cell_type": "code",
   "execution_count": null,
   "metadata": {},
   "outputs": [],
   "source": [
    "SR00001.clip()"
   ]
  },
  {
   "cell_type": "code",
   "execution_count": null,
   "metadata": {},
   "outputs": [],
   "source": [
    "rgb = SR00001.show(channels=[\"CD20\",\"BCATENIN\",\"COLLAGEN\"], RGB=True)"
   ]
  },
  {
   "cell_type": "code",
   "execution_count": null,
   "metadata": {
    "tags": []
   },
   "outputs": [],
   "source": [
    "%time create_tissue_mask_mxif(SR00001, downsample_factor=20)"
   ]
  },
  {
   "cell_type": "code",
   "execution_count": null,
   "metadata": {
    "tags": []
   },
   "outputs": [],
   "source": [
    "rgb = SR00001.show(ncols=5)"
   ]
  },
  {
   "cell_type": "code",
   "execution_count": null,
   "metadata": {},
   "outputs": [],
   "source": [
    "%time SR00001.to_npz(\"/Users/cody/Downloads/SR00001_downsample8.npz\")"
   ]
  },
  {
   "cell_type": "markdown",
   "metadata": {
    "tags": []
   },
   "source": [
    "---\n",
    "### WD84216"
   ]
  },
  {
   "cell_type": "code",
   "execution_count": null,
   "metadata": {},
   "outputs": [],
   "source": [
    "WD84216 = img.from_tiffs(\n",
    "    tiffdir = \"/Volumes/CellDive/scan_alpha/WD84216/AFRemoved/\",\n",
    "    common_strings = [\"_stitched_downsample8.tif\"],\n",
    "    channels = channels,\n",
    ") ; WD84216"
   ]
  },
  {
   "cell_type": "code",
   "execution_count": null,
   "metadata": {},
   "outputs": [],
   "source": [
    "WD84216.clip()"
   ]
  },
  {
   "cell_type": "code",
   "execution_count": null,
   "metadata": {},
   "outputs": [],
   "source": [
    "rgb = WD84216.show(channels=[\"CD20\",\"BCATENIN\",\"COLLAGEN\"], RGB=True)"
   ]
  },
  {
   "cell_type": "code",
   "execution_count": null,
   "metadata": {
    "tags": []
   },
   "outputs": [],
   "source": [
    "%time create_tissue_mask_mxif(WD84216, downsample_factor=22)"
   ]
  },
  {
   "cell_type": "code",
   "execution_count": null,
   "metadata": {
    "tags": []
   },
   "outputs": [],
   "source": [
    "rgb = WD84216.show(ncols=5)"
   ]
  },
  {
   "cell_type": "code",
   "execution_count": null,
   "metadata": {},
   "outputs": [],
   "source": [
    "%time WD84216.to_npz(\"/Users/cody/Downloads/WD84216_downsample8.npz\")"
   ]
  },
  {
   "cell_type": "markdown",
   "metadata": {
    "tags": []
   },
   "source": [
    "---\n",
    "### WD84602"
   ]
  },
  {
   "cell_type": "code",
   "execution_count": null,
   "metadata": {},
   "outputs": [],
   "source": [
    "WD84602 = img.from_tiffs(\n",
    "    tiffdir = \"/Volumes/CellDive/scan_alpha/WD84602/AFRemoved/\",\n",
    "    common_strings = [\"_stitched_downsample8.tif\"],\n",
    "    channels = channels,\n",
    ") ; WD84602"
   ]
  },
  {
   "cell_type": "code",
   "execution_count": null,
   "metadata": {},
   "outputs": [],
   "source": [
    "WD84602.clip()"
   ]
  },
  {
   "cell_type": "code",
   "execution_count": null,
   "metadata": {},
   "outputs": [],
   "source": [
    "rgb = WD84602.show(channels=[\"CD20\",\"BCATENIN\",\"COLLAGEN\"], RGB=True)"
   ]
  },
  {
   "cell_type": "code",
   "execution_count": null,
   "metadata": {
    "tags": []
   },
   "outputs": [],
   "source": [
    "%time create_tissue_mask_mxif(WD84602, downsample_factor=18)"
   ]
  },
  {
   "cell_type": "code",
   "execution_count": null,
   "metadata": {
    "tags": []
   },
   "outputs": [],
   "source": [
    "rgb = WD84602.show(ncols=5)"
   ]
  },
  {
   "cell_type": "code",
   "execution_count": null,
   "metadata": {},
   "outputs": [],
   "source": [
    "%time WD84602.to_npz(\"/Users/cody/Downloads/WD84602_downsample8.npz\")"
   ]
  },
  {
   "cell_type": "markdown",
   "metadata": {
    "tags": []
   },
   "source": [
    "---\n",
    "### WD84596"
   ]
  },
  {
   "cell_type": "code",
   "execution_count": null,
   "metadata": {},
   "outputs": [],
   "source": [
    "WD84596 = img.from_tiffs(\n",
    "    tiffdir = \"/Volumes/CellDive/scan_alpha/WD84596/AFRemoved/\",\n",
    "    common_strings = [\"_stitched_downsample8.tif\"],\n",
    "    channels = channels,\n",
    ") ; WD84596"
   ]
  },
  {
   "cell_type": "code",
   "execution_count": null,
   "metadata": {},
   "outputs": [],
   "source": [
    "WD84596.clip()"
   ]
  },
  {
   "cell_type": "code",
   "execution_count": null,
   "metadata": {},
   "outputs": [],
   "source": [
    "rgb = WD84596.show(channels=[\"CD20\",\"BCATENIN\",\"COLLAGEN\"], RGB=True)"
   ]
  },
  {
   "cell_type": "code",
   "execution_count": null,
   "metadata": {
    "tags": []
   },
   "outputs": [],
   "source": [
    "%time create_tissue_mask_mxif(WD84596, downsample_factor=22)"
   ]
  },
  {
   "cell_type": "code",
   "execution_count": null,
   "metadata": {
    "tags": []
   },
   "outputs": [],
   "source": [
    "rgb = WD84596.show(ncols=5)"
   ]
  },
  {
   "cell_type": "code",
   "execution_count": null,
   "metadata": {},
   "outputs": [],
   "source": [
    "%time WD84596.to_npz(\"/Users/cody/Downloads/WD84596_downsample8.npz\")"
   ]
  },
  {
   "cell_type": "markdown",
   "metadata": {
    "tags": []
   },
   "source": [
    "---\n",
    "### WD84226"
   ]
  },
  {
   "cell_type": "code",
   "execution_count": null,
   "metadata": {},
   "outputs": [],
   "source": [
    "WD84226 = img.from_tiffs(\n",
    "    tiffdir = \"/Volumes/CellDive/scan_alpha/WD84226/AFRemoved/\",\n",
    "    common_strings = [\"_stitched_downsample8.tif\"],\n",
    "    channels = channels,\n",
    ") ; WD84226"
   ]
  },
  {
   "cell_type": "code",
   "execution_count": null,
   "metadata": {},
   "outputs": [],
   "source": [
    "WD84226.clip()"
   ]
  },
  {
   "cell_type": "code",
   "execution_count": null,
   "metadata": {},
   "outputs": [],
   "source": [
    "rgb = WD84226.show(channels=[\"CD20\",\"BCATENIN\",\"COLLAGEN\"], RGB=True)"
   ]
  },
  {
   "cell_type": "code",
   "execution_count": null,
   "metadata": {
    "tags": []
   },
   "outputs": [],
   "source": [
    "%time create_tissue_mask_mxif(WD84226, downsample_factor=18)"
   ]
  },
  {
   "cell_type": "code",
   "execution_count": null,
   "metadata": {
    "tags": []
   },
   "outputs": [],
   "source": [
    "rgb = WD84226.show(ncols=5)"
   ]
  },
  {
   "cell_type": "code",
   "execution_count": null,
   "metadata": {},
   "outputs": [],
   "source": [
    "%time WD84226.to_npz(\"/Users/cody/Downloads/WD84226_downsample8.npz\")"
   ]
  },
  {
   "cell_type": "markdown",
   "metadata": {
    "tags": []
   },
   "source": [
    "---\n",
    "### vTMA 3-5"
   ]
  },
  {
   "cell_type": "code",
   "execution_count": null,
   "metadata": {
    "tags": []
   },
   "outputs": [],
   "source": [
    "vTMA = img.from_tiffs(\n",
    "    tiffdir = \"/Volumes/CellDive/scan_alpha/VISIUM_TMA_2/AFRemoved/\",\n",
    "    common_strings = [\"_stitched_downsample8.tif\"],\n",
    "    channels = channels,\n",
    ") ; vTMA"
   ]
  },
  {
   "cell_type": "code",
   "execution_count": null,
   "metadata": {},
   "outputs": [],
   "source": [
    "vTMA.clip()"
   ]
  },
  {
   "cell_type": "code",
   "execution_count": null,
   "metadata": {
    "tags": []
   },
   "outputs": [],
   "source": [
    "rgb = vTMA.show(channels=[\"CD20\",\"BCATENIN\",\"COLLAGEN\"], RGB=True)"
   ]
  },
  {
   "cell_type": "code",
   "execution_count": null,
   "metadata": {
    "tags": []
   },
   "outputs": [],
   "source": [
    "%time create_tissue_mask_mxif(vTMA, downsample_factor=18)"
   ]
  },
  {
   "cell_type": "code",
   "execution_count": null,
   "metadata": {
    "tags": []
   },
   "outputs": [],
   "source": [
    "rgb = vTMA.show(ncols=5)"
   ]
  },
  {
   "cell_type": "code",
   "execution_count": null,
   "metadata": {
    "tags": []
   },
   "outputs": [],
   "source": [
    "%time vTMA.to_npz(\"/Users/cody/Downloads/vTMA_003_004_005_downsample8.npz\")"
   ]
  },
  {
   "cell_type": "markdown",
   "metadata": {
    "tags": []
   },
   "source": [
    "---\n",
    "### SG00001"
   ]
  },
  {
   "cell_type": "code",
   "execution_count": null,
   "metadata": {},
   "outputs": [],
   "source": [
    "channels = [\n",
    "    \"AQP5\",\n",
    "    \"VIMENTIN\",\n",
    "    \"SOX9\",\n",
    "    \"SMA\",\n",
    "    \"PSTAT3\",\n",
    "    \"PEGFR\",\n",
    "    \"PCNA\",\n",
    "    \"PANCK\",\n",
    "    \"OLFM4\",\n",
    "    \"NAKATPASE\",\n",
    "    \"MUC5AC\",\n",
    "    #\"MUC2\",\n",
    "    \"LYSOZYME\",\n",
    "    \"HLAA\",\n",
    "    \"GAMMAACTIN\",\n",
    "    \"FOXP3\",\n",
    "    \"CGA\",\n",
    "    \"CDX2\",\n",
    "    \"CD68\",\n",
    "    #\"CD45\",\n",
    "    \"CD20\",\n",
    "    \"CD11B\",\n",
    "    \"CD8\",\n",
    "    \"CD4_\",\n",
    "    \"CD3D\",\n",
    "    \"BCATENIN\",\n",
    "    \n",
    "    #\"CEACAM5\",\n",
    "    #\"DPEP1\",\n",
    "    #\"CD27\",\n",
    "    #\"COX2\",\n",
    "    #\"VIMENTIN\",\n",
    "    #\"ERBB2\",\n",
    "    #\"COLLAGEN\",\n",
    "]"
   ]
  },
  {
   "cell_type": "code",
   "execution_count": null,
   "metadata": {},
   "outputs": [],
   "source": [
    "SG00001 = img.from_tiffs(\n",
    "    tiffdir = \"/Volumes/CellDive/scan_alpha/S19_19913_1J/AFRemoved/\",\n",
    "    common_strings = [\"_stitched_downsample8.tif\"],\n",
    "    channels = channels,\n",
    ") ; SG00001"
   ]
  },
  {
   "cell_type": "code",
   "execution_count": null,
   "metadata": {},
   "outputs": [],
   "source": [
    "SG00001.clip()"
   ]
  },
  {
   "cell_type": "code",
   "execution_count": null,
   "metadata": {},
   "outputs": [],
   "source": [
    "rgb = SG00001.show(channels=[\"PANCK\",\"BCATENIN\",\"SMA\"], RGB=True)"
   ]
  },
  {
   "cell_type": "code",
   "execution_count": null,
   "metadata": {
    "tags": []
   },
   "outputs": [],
   "source": [
    "%time create_tissue_mask_mxif(SG00001, downsample_factor=18)"
   ]
  },
  {
   "cell_type": "code",
   "execution_count": null,
   "metadata": {
    "tags": []
   },
   "outputs": [],
   "source": [
    "rgb = SG00001.show(ncols=5)"
   ]
  },
  {
   "cell_type": "code",
   "execution_count": null,
   "metadata": {},
   "outputs": [],
   "source": [
    "%time SG00001.to_npz(\"/Users/cody/Downloads/SG00001_downsample8.npz\")"
   ]
  },
  {
   "cell_type": "markdown",
   "metadata": {
    "tags": []
   },
   "source": [
    "---\n",
    "### SG00002"
   ]
  },
  {
   "cell_type": "code",
   "execution_count": null,
   "metadata": {},
   "outputs": [],
   "source": [
    "SG00002 = img.from_tiffs(\n",
    "    tiffdir = \"/Volumes/CellDive/scan_alpha/S20_39567_1H/AFRemoved/\",\n",
    "    common_strings = [\"_stitched_downsample8.tif\"],\n",
    "    channels = channels,\n",
    ") ; SG00002"
   ]
  },
  {
   "cell_type": "code",
   "execution_count": null,
   "metadata": {},
   "outputs": [],
   "source": [
    "SG00002.clip()"
   ]
  },
  {
   "cell_type": "code",
   "execution_count": null,
   "metadata": {},
   "outputs": [],
   "source": [
    "rgb = SG00002.show(channels=[\"PANCK\",\"BCATENIN\",\"SMA\"], RGB=True)"
   ]
  },
  {
   "cell_type": "code",
   "execution_count": null,
   "metadata": {
    "tags": []
   },
   "outputs": [],
   "source": [
    "%time create_tissue_mask_mxif(SG00002, downsample_factor=20)"
   ]
  },
  {
   "cell_type": "code",
   "execution_count": null,
   "metadata": {
    "tags": []
   },
   "outputs": [],
   "source": [
    "rgb = SG00002.show(ncols=5)"
   ]
  },
  {
   "cell_type": "code",
   "execution_count": null,
   "metadata": {},
   "outputs": [],
   "source": [
    "%time SG00002.to_npz(\"/Users/cody/Downloads/SG00002_downsample8.npz\")"
   ]
  },
  {
   "cell_type": "markdown",
   "metadata": {
    "tags": []
   },
   "source": [
    "---\n",
    "### SG00003"
   ]
  },
  {
   "cell_type": "code",
   "execution_count": null,
   "metadata": {},
   "outputs": [],
   "source": [
    "SG00003 = img.from_tiffs(\n",
    "    tiffdir = \"/Volumes/CellDive/scan_alpha/S21_34686_1N/AFRemoved/\",\n",
    "    common_strings = [\"_stitched_downsample8.tif\"],\n",
    "    channels = channels,\n",
    ") ; SG00003"
   ]
  },
  {
   "cell_type": "code",
   "execution_count": null,
   "metadata": {},
   "outputs": [],
   "source": [
    "SG00003.clip()"
   ]
  },
  {
   "cell_type": "code",
   "execution_count": null,
   "metadata": {},
   "outputs": [],
   "source": [
    "rgb = SG00003.show(channels=[\"PANCK\",\"BCATENIN\",\"SMA\"], RGB=True)"
   ]
  },
  {
   "cell_type": "code",
   "execution_count": null,
   "metadata": {
    "tags": []
   },
   "outputs": [],
   "source": [
    "%time create_tissue_mask_mxif(SG00003, downsample_factor=18)"
   ]
  },
  {
   "cell_type": "code",
   "execution_count": null,
   "metadata": {
    "tags": []
   },
   "outputs": [],
   "source": [
    "rgb = SG00003.show(ncols=5)"
   ]
  },
  {
   "cell_type": "code",
   "execution_count": null,
   "metadata": {},
   "outputs": [],
   "source": [
    "%time SG00003.to_npz(\"/Users/cody/Downloads/SG00003_downsample8.npz\")"
   ]
  },
  {
   "cell_type": "markdown",
   "metadata": {
    "tags": []
   },
   "source": [
    "---\n",
    "### SG00004"
   ]
  },
  {
   "cell_type": "code",
   "execution_count": null,
   "metadata": {},
   "outputs": [],
   "source": [
    "channels = [\n",
    "    \"AQP5\",\n",
    "    \"VIMENTIN\",\n",
    "    \"SOX9\",\n",
    "    \"SMA\",\n",
    "    \"PSTAT3\",\n",
    "    \"PEGFR\",\n",
    "    \"PCNA\",\n",
    "    \"PANCK\",\n",
    "    \"OLFM4\",\n",
    "    \"NAKATPASE\",\n",
    "    \"MUC5AC\",\n",
    "    \"MUC2\",\n",
    "    \"LYSOZYME\",\n",
    "    \"HLAA\",\n",
    "    \"GAMMAACTIN\",\n",
    "    \"FOXP3\",\n",
    "    \"CGA\",\n",
    "    \"CDX2\",\n",
    "    \"CD68\",\n",
    "    \"CD45\",\n",
    "    \"CD20\",\n",
    "    \"CD11B\",\n",
    "    \"CD8\",\n",
    "    \"CD4_\",\n",
    "    \"CD3D\",\n",
    "    \"BCATENIN\",\n",
    "    \n",
    "    #\"CEACAM5\",\n",
    "    #\"DPEP1\",\n",
    "    #\"CD27\",\n",
    "    #\"COX2\",\n",
    "    #\"ERBB2\",\n",
    "    #\"COLLAGEN\",\n",
    "]"
   ]
  },
  {
   "cell_type": "code",
   "execution_count": null,
   "metadata": {},
   "outputs": [],
   "source": [
    "SG00004 = img.from_tiffs(\n",
    "    tiffdir = \"/Volumes/CellDive/scan_alpha/S18_12464_1H/AFRemoved/\",\n",
    "    common_strings = [\"_stitched_downsample8.tif\"],\n",
    "    channels = channels,\n",
    ") ; SG00004"
   ]
  },
  {
   "cell_type": "code",
   "execution_count": null,
   "metadata": {},
   "outputs": [],
   "source": [
    "SG00004.clip()"
   ]
  },
  {
   "cell_type": "code",
   "execution_count": null,
   "metadata": {},
   "outputs": [],
   "source": [
    "rgb = SG00004.show(channels=[\"PANCK\",\"BCATENIN\",\"SMA\"], RGB=True)"
   ]
  },
  {
   "cell_type": "code",
   "execution_count": null,
   "metadata": {
    "tags": []
   },
   "outputs": [],
   "source": [
    "%time create_tissue_mask_mxif(SG00004, downsample_factor=20)"
   ]
  },
  {
   "cell_type": "code",
   "execution_count": null,
   "metadata": {
    "tags": []
   },
   "outputs": [],
   "source": [
    "rgb = SG00004.show(ncols=5)"
   ]
  },
  {
   "cell_type": "code",
   "execution_count": null,
   "metadata": {},
   "outputs": [],
   "source": [
    "%time SG00004.to_npz(\"/Users/cody/Downloads/SG00004_downsample8.npz\")"
   ]
  }
 ],
 "metadata": {
  "kernelspec": {
   "display_name": "scanpy",
   "language": "python",
   "name": "scanpy"
  },
  "language_info": {
   "codemirror_mode": {
    "name": "ipython",
    "version": 3
   },
   "file_extension": ".py",
   "mimetype": "text/x-python",
   "name": "python",
   "nbconvert_exporter": "python",
   "pygments_lexer": "ipython3",
   "version": "3.8.10"
  }
 },
 "nbformat": 4,
 "nbformat_minor": 4
}
