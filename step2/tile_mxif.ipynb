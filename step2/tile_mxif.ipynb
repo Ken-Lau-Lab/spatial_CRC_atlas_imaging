{
 "cells": [
  {
   "cell_type": "code",
   "execution_count": null,
   "metadata": {},
   "outputs": [],
   "source": [
    "%%javascript\n",
    "document.title=\"Local\""
   ]
  },
  {
   "cell_type": "code",
   "execution_count": null,
   "metadata": {},
   "outputs": [],
   "source": [
    "from tile_mxif import *\n",
    "import matplotlib.pyplot as plt"
   ]
  },
  {
   "cell_type": "markdown",
   "metadata": {},
   "source": [
    "---\n",
    "## 12Jan23"
   ]
  },
  {
   "cell_type": "code",
   "execution_count": null,
   "metadata": {},
   "outputs": [],
   "source": [
    "channels = [\n",
    "    \"CEACAM5\",\n",
    "    \"DPEP1\",\n",
    "    \"CD27\",\n",
    "    \"AQP5\",\n",
    "    \"COX2\",\n",
    "    \"VIMENTIN\",\n",
    "    \"SOX9\",\n",
    "    \"SMA\",\n",
    "    \"PSTAT3\",\n",
    "    \"PEGFR\",\n",
    "    \"PCNA\",\n",
    "    \"PANCK\",\n",
    "    \"OLFM4\",\n",
    "    \"NAKATPASE\",\n",
    "    \"MUC5AC\",\n",
    "    \"MUC2\",\n",
    "    \"LYSOZYME\",\n",
    "    \"HLAA\",\n",
    "    \"GAMMAACTIN\",\n",
    "    \"FOXP3\",\n",
    "    \"ERBB2\",\n",
    "    \"COLLAGEN\",\n",
    "    \"CGA\",\n",
    "    \"CDX2\",\n",
    "    \"CD68\",\n",
    "    \"CD45\",\n",
    "    \"CD20\",\n",
    "    \"CD11B\",\n",
    "    \"CD8\",\n",
    "    \"CD4_\",\n",
    "    \"CD3D\",\n",
    "    \"BCATENIN\",\n",
    "]"
   ]
  },
  {
   "cell_type": "code",
   "execution_count": null,
   "metadata": {},
   "outputs": [],
   "source": [
    "len(channels)"
   ]
  },
  {
   "cell_type": "code",
   "execution_count": null,
   "metadata": {},
   "outputs": [],
   "source": [
    "tile_tiffs(\n",
    "    tiffdir=\"/Volumes/CellDive/scan_alpha/S18_12464_1H/VirtualStains/\",\n",
    "    canvas=\"region_canvas_12Jan23.csv\",\n",
    "    name=\"S18_12464_1H\",\n",
    "    regions=[1,2,3,4,5,6],\n",
    "    channels=[\"S002_VHE\"],\n",
    "    RGB=True,\n",
    "    scale=8,\n",
    ")"
   ]
  },
  {
   "cell_type": "code",
   "execution_count": null,
   "metadata": {},
   "outputs": [],
   "source": [
    "tile_tiffs(\n",
    "    tiffdir=\"/Volumes/CellDive/scan_alpha/S19_19913_1J/VirtualStains/\",\n",
    "    canvas=\"region_canvas_12Jan23.csv\",\n",
    "    name=\"S19_19913_1J\",\n",
    "    regions=[1,2,3,4,5,6,7,8],\n",
    "    channels=[\"S002_VHE\"],\n",
    "    RGB=True,\n",
    "    scale=8,\n",
    ")"
   ]
  },
  {
   "cell_type": "code",
   "execution_count": null,
   "metadata": {},
   "outputs": [],
   "source": [
    "tile_tiffs(\n",
    "    tiffdir=\"/Volumes/CellDive/scan_alpha/S20_39567_1H/VirtualStains/\",\n",
    "    canvas=\"region_canvas_12Jan23.csv\",\n",
    "    name=\"S20_39567_1H\",\n",
    "    regions=[1,2,3,4,5],\n",
    "    channels=[\"S002_VHE\"],\n",
    "    RGB=True,\n",
    "    scale=8,\n",
    ")"
   ]
  },
  {
   "cell_type": "code",
   "execution_count": null,
   "metadata": {},
   "outputs": [],
   "source": [
    "tile_tiffs(\n",
    "    tiffdir=\"/Volumes/CellDive/scan_alpha/S21_34686_1N/VirtualStains/\",\n",
    "    canvas=\"region_canvas_12Jan23.csv\",\n",
    "    name=\"S21_34686_1N\",\n",
    "    regions=[1,2,3,4,5,6,7],\n",
    "    channels=[\"S002_VHE\"],\n",
    "    RGB=True,\n",
    "    scale=8,\n",
    ")"
   ]
  },
  {
   "cell_type": "code",
   "execution_count": null,
   "metadata": {
    "tags": []
   },
   "outputs": [],
   "source": [
    "tile_tiffs(\n",
    "    tiffdir=\"/Volumes/CellDive/scan_alpha/S18_12464_1H/AFRemoved/\",\n",
    "    canvas=\"region_canvas_12Jan23.csv\",\n",
    "    name=\"S18_12464_1H\",\n",
    "    regions=[1,2,3,4,5,6],\n",
    "    channels=channels,\n",
    "    common_strings=[\"_AFRemoved_pyr16_\"],\n",
    "    RGB=False,\n",
    "    scale=8,\n",
    ")"
   ]
  },
  {
   "cell_type": "code",
   "execution_count": null,
   "metadata": {
    "tags": []
   },
   "outputs": [],
   "source": [
    "tile_tiffs(\n",
    "    tiffdir=\"/Volumes/CellDive/scan_alpha/S19_19913_1J/AFRemoved/\",\n",
    "    canvas=\"region_canvas_12Jan23.csv\",\n",
    "    name=\"S19_19913_1J\",\n",
    "    regions=[1,2,3,4,5,6,7,8],\n",
    "    channels=channels,\n",
    "    common_strings=[\"_AFRemoved_pyr16_\"],\n",
    "    RGB=False,\n",
    "    scale=8,\n",
    ")"
   ]
  },
  {
   "cell_type": "code",
   "execution_count": null,
   "metadata": {
    "tags": []
   },
   "outputs": [],
   "source": [
    "tile_tiffs(\n",
    "    tiffdir=\"/Volumes/CellDive/scan_alpha/S20_39567_1H/AFRemoved/\",\n",
    "    canvas=\"region_canvas_12Jan23.csv\",\n",
    "    name=\"S20_39567_1H\",\n",
    "    regions=[1,2,3,4,5],\n",
    "    channels=channels,\n",
    "    common_strings=[\"_AFRemoved_pyr16_\"],\n",
    "    RGB=False,\n",
    "    scale=8,\n",
    ")"
   ]
  },
  {
   "cell_type": "code",
   "execution_count": null,
   "metadata": {
    "tags": []
   },
   "outputs": [],
   "source": [
    "tile_tiffs(\n",
    "    tiffdir=\"/Volumes/CellDive/scan_alpha/S21_34686_1N/AFRemoved/\",\n",
    "    canvas=\"region_canvas_12Jan23.csv\",\n",
    "    name=\"S21_34686_1N\",\n",
    "    regions=[1,2,3,4,5,6,7],\n",
    "    channels=channels,\n",
    "    common_strings=[\"_AFRemoved_pyr16_\"],\n",
    "    RGB=False,\n",
    "    scale=8,\n",
    ")"
   ]
  },
  {
   "cell_type": "markdown",
   "metadata": {},
   "source": [
    "---\n",
    "## 26Sep22"
   ]
  },
  {
   "cell_type": "code",
   "execution_count": null,
   "metadata": {},
   "outputs": [],
   "source": [
    "channels = [\n",
    "    \"CEACAM5\",\n",
    "    \"DPEP1\",\n",
    "    \"CD27\",\n",
    "    \"AQP5\",\n",
    "    #\"COX2\",\n",
    "    \"VIMENTIN\",\n",
    "    \"SOX9\",\n",
    "    \"SMA\",\n",
    "    \"PSTAT3\",\n",
    "    \"PEGFR\",\n",
    "    \"PCNA\",\n",
    "    \"PANCK\",\n",
    "    \"OLFM4\",\n",
    "    \"NAKATPASE\",\n",
    "    \"MUC5AC\",\n",
    "    \"MUC2\",\n",
    "    \"LYSOZYME\",\n",
    "    \"HLAA\",\n",
    "    \"GAMMAACTIN\",\n",
    "    \"FOXP3\",\n",
    "    #\"ERBB2\",\n",
    "    \"COLLAGEN\",\n",
    "    \"CGA\",\n",
    "    \"CDX2\",\n",
    "    \"CD68\",\n",
    "    \"CD45\",\n",
    "    \"CD20\",\n",
    "    \"CD11B\",\n",
    "    \"CD8\",\n",
    "    \"CD4_\",\n",
    "    \"CD3D\",\n",
    "    \"BCATENIN\",\n",
    "]"
   ]
  },
  {
   "cell_type": "code",
   "execution_count": null,
   "metadata": {},
   "outputs": [],
   "source": [
    "len(channels)"
   ]
  },
  {
   "cell_type": "code",
   "execution_count": null,
   "metadata": {},
   "outputs": [],
   "source": [
    "tile_tiffs(\n",
    "    tiffdir=\"/Volumes/CellDive/scan_alpha/S20_37543_1A/AFRemoved/\",\n",
    "    canvas=\"region_canvas_26Sep22.csv\",\n",
    "    #name=\"HTA11_10711\",\n",
    "    name=\"S20_37543_1A\",\n",
    "    regions=[1],\n",
    "    channels=channels,\n",
    "    common_strings=[\"_AFRemoved_pyr16_\"],\n",
    "    RGB=False,\n",
    "    scale=8,\n",
    ")"
   ]
  },
  {
   "cell_type": "code",
   "execution_count": null,
   "metadata": {},
   "outputs": [],
   "source": [
    "tile_tiffs(\n",
    "    tiffdir=\"/Volumes/CellDive/scan_alpha/S20_8615_1A/AFRemoved/\",\n",
    "    canvas=\"region_canvas_26Sep22.csv\",\n",
    "    name=\"S20_8615_1A\",\n",
    "    regions=[1],\n",
    "    channels=channels,\n",
    "    common_strings=[\"_AFRemoved_pyr16_\"],\n",
    "    RGB=False,\n",
    "    scale=8,\n",
    ")"
   ]
  },
  {
   "cell_type": "code",
   "execution_count": null,
   "metadata": {},
   "outputs": [],
   "source": [
    "tile_tiffs(\n",
    "    tiffdir=\"/Volumes/CellDive/scan_alpha/S20_20146_2A/AFRemoved/\",\n",
    "    canvas=\"region_canvas_26Sep22.csv\",\n",
    "    name=\"S20_20146_2A\",\n",
    "    regions=[1],\n",
    "    channels=channels,\n",
    "    common_strings=[\"_AFRemoved_pyr16_\"],\n",
    "    RGB=False,\n",
    "    scale=8,\n",
    ")"
   ]
  },
  {
   "cell_type": "code",
   "execution_count": null,
   "metadata": {},
   "outputs": [],
   "source": [
    "tile_tiffs(\n",
    "    tiffdir=\"/Volumes/CellDive/scan_alpha/S20_19137_1A/AFRemoved/\",\n",
    "    canvas=\"region_canvas_26Sep22.csv\",\n",
    "    name=\"S20_19137_1A\",\n",
    "    regions=[1],\n",
    "    channels=channels,\n",
    "    common_strings=[\"_AFRemoved_pyr16_\"],\n",
    "    RGB=False,\n",
    "    scale=8,\n",
    ")"
   ]
  },
  {
   "cell_type": "code",
   "execution_count": null,
   "metadata": {},
   "outputs": [],
   "source": [
    "tile_tiffs(\n",
    "    tiffdir=\"/Volumes/CellDive/scan_alpha/WD54594/AFRemoved/\",\n",
    "    canvas=\"region_canvas_26Sep22.csv\",\n",
    "    name=\"WD54594\",\n",
    "    regions=[1,2,3,4],\n",
    "    channels=channels,\n",
    "    common_strings=[\"_AFRemoved_pyr16_\"],\n",
    "    RGB=False,\n",
    "    scale=8,\n",
    ")"
   ]
  },
  {
   "cell_type": "code",
   "execution_count": null,
   "metadata": {},
   "outputs": [],
   "source": [
    "tile_tiffs(\n",
    "    tiffdir=\"/Volumes/CellDive/scan_alpha/WD84221/AFRemoved/\",\n",
    "    canvas=\"region_canvas_26Sep22.csv\",\n",
    "    name=\"WD84221\",\n",
    "    regions=[1,2,3,4,5,6],\n",
    "    channels=channels,\n",
    "    common_strings=[\"_AFRemoved_pyr16_\"],\n",
    "    RGB=False,\n",
    "    scale=8,\n",
    ")"
   ]
  },
  {
   "cell_type": "code",
   "execution_count": null,
   "metadata": {},
   "outputs": [],
   "source": [
    "tile_tiffs(\n",
    "    tiffdir=\"/Volumes/CellDive/scan_alpha/HUMAN_NL/AFRemoved/\",\n",
    "    canvas=\"region_canvas_26Sep22.csv\",\n",
    "    name=\"HUMAN_NL\",\n",
    "    regions=[1,2,3],\n",
    "    channels=channels,\n",
    "    common_strings=[\"_AFRemoved_pyr16_\"],\n",
    "    RGB=False,\n",
    "    scale=8,\n",
    ")"
   ]
  },
  {
   "cell_type": "code",
   "execution_count": null,
   "metadata": {},
   "outputs": [],
   "source": [
    "tile_tiffs(\n",
    "    tiffdir=\"/Volumes/CellDive/scan_alpha/WD84216/AFRemoved/\",\n",
    "    canvas=\"region_canvas_26Sep22.csv\",\n",
    "    name=\"WD84216\",\n",
    "    regions=[1,2,3,4],\n",
    "    channels=channels,\n",
    "    common_strings=[\"_AFRemoved_pyr16_\"],\n",
    "    RGB=False,\n",
    "    scale=8,\n",
    ")"
   ]
  },
  {
   "cell_type": "code",
   "execution_count": null,
   "metadata": {},
   "outputs": [],
   "source": [
    "tile_tiffs(\n",
    "    tiffdir=\"/Volumes/CellDive/scan_alpha/WD84602/AFRemoved/\",\n",
    "    canvas=\"region_canvas_26Sep22.csv\",\n",
    "    name=\"WD84602\",\n",
    "    regions=[1,2,3,4,5,6],\n",
    "    channels=channels,\n",
    "    common_strings=[\"_AFRemoved_pyr16_\"],\n",
    "    RGB=False,\n",
    "    scale=8,\n",
    ")"
   ]
  },
  {
   "cell_type": "code",
   "execution_count": null,
   "metadata": {},
   "outputs": [],
   "source": [
    "tile_tiffs(\n",
    "    tiffdir=\"/Volumes/CellDive/scan_alpha/WD84596/AFRemoved/\",\n",
    "    canvas=\"region_canvas_26Sep22.csv\",\n",
    "    name=\"WD84596\",\n",
    "    regions=[1,2,3,4,5],\n",
    "    channels=channels,\n",
    "    common_strings=[\"_AFRemoved_pyr16_\"],\n",
    "    RGB=False,\n",
    "    scale=8,\n",
    ")"
   ]
  },
  {
   "cell_type": "code",
   "execution_count": null,
   "metadata": {},
   "outputs": [],
   "source": [
    "tile_tiffs(\n",
    "    tiffdir=\"/Volumes/CellDive/scan_alpha/VISIUM_TMA_2/AFRemoved/\",\n",
    "    canvas=\"region_canvas_26Sep22.csv\",\n",
    "    name=\"VISIUM_TMA_2\",\n",
    "    regions=[1,2,3],\n",
    "    channels=channels,\n",
    "    common_strings=[\"_AFRemoved_pyr16_\"],\n",
    "    RGB=False,\n",
    "    scale=8,\n",
    ")"
   ]
  },
  {
   "cell_type": "code",
   "execution_count": null,
   "metadata": {},
   "outputs": [],
   "source": [
    "tile_tiffs(\n",
    "    tiffdir=\"/Volumes/CellDive/scan_alpha/WD84226/AFRemoved/\",\n",
    "    canvas=\"region_canvas_26Sep22.csv\",\n",
    "    name=\"WD84226\",\n",
    "    regions=[1,2,3,4,5],\n",
    "    channels=channels,\n",
    "    common_strings=[\"_AFRemoved_pyr16_\"],\n",
    "    RGB=False,\n",
    "    scale=8,\n",
    ")"
   ]
  },
  {
   "cell_type": "markdown",
   "metadata": {},
   "source": [
    "---\n",
    "### Now tile the virtual H&E as well"
   ]
  },
  {
   "cell_type": "code",
   "execution_count": null,
   "metadata": {},
   "outputs": [],
   "source": [
    "tile_tiffs(\n",
    "    tiffdir=\"/Volumes/CellDive/scan_alpha/WD54594/VirtualStains/\",\n",
    "    canvas=\"region_canvas_26Sep22.csv\",\n",
    "    name=\"WD54594\",\n",
    "    regions=[1,2,3,4],\n",
    "    channels=[\"S002_VHE\"],\n",
    "    RGB=True,\n",
    "    scale=8,\n",
    ")"
   ]
  },
  {
   "cell_type": "code",
   "execution_count": null,
   "metadata": {},
   "outputs": [],
   "source": [
    "tile_tiffs(\n",
    "    tiffdir=\"/Volumes/CellDive/scan_alpha/WD84221/VirtualStains/\",\n",
    "    canvas=\"region_canvas_26Sep22.csv\",\n",
    "    #name=\"PAT33430\",\n",
    "    name=\"WD84221\",\n",
    "    regions=[1,2,3,4,5,6],\n",
    "    channels=[\"S002_VHE\"],\n",
    "    RGB=True,\n",
    "    scale=8,\n",
    ")"
   ]
  },
  {
   "cell_type": "code",
   "execution_count": null,
   "metadata": {},
   "outputs": [],
   "source": [
    "tile_tiffs(\n",
    "    tiffdir=\"/Volumes/CellDive/scan_alpha/HUMAN_NL/VirtualStains/\",\n",
    "    canvas=\"region_canvas_26Sep22.csv\",\n",
    "    #name=\"SR00001\",\n",
    "    name=\"HUMAN_NL\",\n",
    "    regions=[1,2,3],\n",
    "    channels=[\"S002_VHE\"],\n",
    "    RGB=True,\n",
    "    scale=8,\n",
    ")"
   ]
  },
  {
   "cell_type": "code",
   "execution_count": null,
   "metadata": {},
   "outputs": [],
   "source": [
    "tile_tiffs(\n",
    "    tiffdir=\"/Volumes/CellDive/scan_alpha/WD84216/VirtualStains/\",\n",
    "    canvas=\"region_canvas_26Sep22.csv\",\n",
    "    #name=\"PAT54273\",\n",
    "    name=\"WD84216\",\n",
    "    regions=[1,2,3,4],\n",
    "    channels=[\"S002_VHE\"],\n",
    "    RGB=True,\n",
    "    scale=8,\n",
    ")"
   ]
  },
  {
   "cell_type": "code",
   "execution_count": null,
   "metadata": {},
   "outputs": [],
   "source": [
    "tile_tiffs(\n",
    "    tiffdir=\"/Volumes/CellDive/scan_alpha/WD84602/VirtualStains/\",\n",
    "    canvas=\"region_canvas_26Sep22.csv\",\n",
    "    #name=\"PAT30884\",\n",
    "    name=\"WD84602\",\n",
    "    regions=[1,2,3,4,5,6],\n",
    "    channels=[\"S002_VHE\"],\n",
    "    RGB=True,\n",
    "    scale=8,\n",
    ")"
   ]
  },
  {
   "cell_type": "code",
   "execution_count": null,
   "metadata": {},
   "outputs": [],
   "source": [
    "tile_tiffs(\n",
    "    tiffdir=\"/Volumes/CellDive/scan_alpha/WD84596/VirtualStains/\",\n",
    "    canvas=\"region_canvas_26Sep22.csv\",\n",
    "    #name=\"PAT59667\",\n",
    "    name=\"WD84596\",\n",
    "    regions=[1,2,3,4,5],\n",
    "    channels=[\"S002_VHE\"],\n",
    "    RGB=True,\n",
    "    scale=8,\n",
    ")"
   ]
  },
  {
   "cell_type": "code",
   "execution_count": null,
   "metadata": {},
   "outputs": [],
   "source": [
    "tile_tiffs(\n",
    "    tiffdir=\"/Volumes/CellDive/scan_alpha/VISIUM_TMA_2/VirtualStains/\",\n",
    "    canvas=\"region_canvas_26Sep22.csv\",\n",
    "    name=\"VISIUM_TMA_2\",\n",
    "    regions=[1,2,3],\n",
    "    channels=[\"S002_VHE\"],\n",
    "    RGB=True,\n",
    "    scale=8,\n",
    ")"
   ]
  },
  {
   "cell_type": "code",
   "execution_count": null,
   "metadata": {},
   "outputs": [],
   "source": [
    "tile_tiffs(\n",
    "    tiffdir=\"/Volumes/CellDive/scan_alpha/WD84226/VirtualStains/\",\n",
    "    canvas=\"region_canvas_26Sep22.csv\",\n",
    "    #name=\"PAT59460\",\n",
    "    name=\"WD84226\",\n",
    "    regions=[1,2,3,4,5],\n",
    "    channels=[\"S002_VHE\"],\n",
    "    RGB=True,\n",
    "    scale=8,\n",
    ")"
   ]
  }
 ],
 "metadata": {
  "kernelspec": {
   "display_name": "sc",
   "language": "python",
   "name": "sc"
  },
  "language_info": {
   "codemirror_mode": {
    "name": "ipython",
    "version": 3
   },
   "file_extension": ".py",
   "mimetype": "text/x-python",
   "name": "python",
   "nbconvert_exporter": "python",
   "pygments_lexer": "ipython3",
   "version": "3.8.10"
  }
 },
 "nbformat": 4,
 "nbformat_minor": 5
}
