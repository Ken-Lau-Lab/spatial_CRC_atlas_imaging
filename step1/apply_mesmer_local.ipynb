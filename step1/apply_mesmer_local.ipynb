{
 "cells": [
  {
   "cell_type": "markdown",
   "metadata": {
    "id": "kDYMtzL4SYgs"
   },
   "source": [
    "Import required packages"
   ]
  },
  {
   "cell_type": "code",
   "execution_count": null,
   "metadata": {
    "colab": {
     "base_uri": "https://localhost:8080/"
    },
    "executionInfo": {
     "elapsed": 32392,
     "status": "ok",
     "timestamp": 1670421365790,
     "user": {
      "displayName": "Eliot McKinley",
      "userId": "14321537568817649258"
     },
     "user_tz": 360
    },
    "id": "iid4GTHr8dJL",
    "outputId": "3267fbba-9705-4bd9-d4c0-8deb8c019f01"
   },
   "outputs": [],
   "source": [
    "import imagecodecs\n",
    "import skimage.io as io\n",
    "import numpy as np\n",
    "import os, sys \n",
    "import csv \n",
    "from deepcell.applications import Mesmer\n",
    "app = Mesmer()"
   ]
  },
  {
   "cell_type": "markdown",
   "metadata": {
    "id": "ApLG45FfSfUe"
   },
   "source": [
    "Read in slide list"
   ]
  },
  {
   "cell_type": "code",
   "execution_count": null,
   "metadata": {
    "executionInfo": {
     "elapsed": 112,
     "status": "ok",
     "timestamp": 1670423521028,
     "user": {
      "displayName": "Eliot McKinley",
      "userId": "14321537568817649258"
     },
     "user_tz": 360
    },
    "id": "9FxpHkQo7bL6"
   },
   "outputs": [],
   "source": [
    "slide_list = \"/Volumes/CellDive/scan_alpha/st_slides_10Jan23.csv\"\n",
    "\n",
    "# Open the CSV file with read-only access\n",
    "with open(slide_list, 'r') as csv_file:\n",
    "    csv_reader = csv.reader(csv_file)\n",
    "\n",
    "    # Skip the header row\n",
    "    next(csv_reader)\n",
    "\n",
    "    # Extract the data in the \"slide_id\" column\n",
    "    slide_ids = [row[0] for row in csv_reader]"
   ]
  },
  {
   "cell_type": "code",
   "execution_count": null,
   "metadata": {
    "colab": {
     "base_uri": "https://localhost:8080/"
    },
    "executionInfo": {
     "elapsed": 99,
     "status": "ok",
     "timestamp": 1670423522397,
     "user": {
      "displayName": "Eliot McKinley",
      "userId": "14321537568817649258"
     },
     "user_tz": 360
    },
    "id": "ZFiU3yR7336r",
    "outputId": "ecf34337-b5ba-4350-f08a-f82e5d7b3b76"
   },
   "outputs": [],
   "source": [
    "slide_ids"
   ]
  },
  {
   "cell_type": "markdown",
   "metadata": {
    "id": "0J9tYiyGShjT"
   },
   "source": [
    "Run Mesmer on all DAPI images and save"
   ]
  },
  {
   "cell_type": "code",
   "execution_count": null,
   "metadata": {
    "colab": {
     "base_uri": "https://localhost:8080/"
    },
    "id": "iKAjM9XV8Jzp",
    "outputId": "5625df60-e3b7-498d-c1eb-a1372951186a"
   },
   "outputs": [],
   "source": [
    "base_dir = \"/Volumes/CellDive/scan_alpha/\"\n",
    "\n",
    "# Loop through the list of slide IDs\n",
    "for slide_id in slide_ids:\n",
    "    # Construct the full path to the folder for this slide\n",
    "    slide_path = os.path.join(base_dir, slide_id, 'DAPI Tiles')\n",
    "\n",
    "    # Loop through all the files in the folder\n",
    "    for f in os.listdir(slide_path):\n",
    "        new_file = os.path.join(slide_path, f)\n",
    "        # Check if the file is an image\n",
    "        if os.path.isfile(new_file):\n",
    "          new_file = new_file.replace(\"DAPI Tiles/\", \"SegQuant/CellSegFinal/\")\n",
    "          new_file = new_file.replace(\"S002_mono_dapi_reg_\", \"StrCellSegFinal_\")\n",
    "          if os.path.isfile(new_file):\n",
    "            print(new_file + \" exists\")\n",
    "          else:\n",
    "            print(new_file + \" processing\")\n",
    "            im = io.imread(os.path.join(slide_path, f))\n",
    "            im = np.stack((im, im), axis=-1)\n",
    "            im = np.expand_dims(im,0)\n",
    "            io.imsave(new_file, app.predict(im, image_mpp=0.325, compartment='nuclear'))\n",
    "            \n",
    "        \n",
    "  "
   ]
  }
 ],
 "metadata": {
  "colab": {
   "authorship_tag": "ABX9TyPhkhio3WuEAO4Oo6JxlRPF",
   "provenance": []
  },
  "gpuClass": "standard",
  "kernelspec": {
   "display_name": "scanpy",
   "language": "python",
   "name": "scanpy"
  },
  "language_info": {
   "codemirror_mode": {
    "name": "ipython",
    "version": 3
   },
   "file_extension": ".py",
   "mimetype": "text/x-python",
   "name": "python",
   "nbconvert_exporter": "python",
   "pygments_lexer": "ipython3",
   "version": "3.8.10"
  }
 },
 "nbformat": 4,
 "nbformat_minor": 4
}
