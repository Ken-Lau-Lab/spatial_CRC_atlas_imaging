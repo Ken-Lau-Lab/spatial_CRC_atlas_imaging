{
 "cells": [
  {
   "cell_type": "code",
   "execution_count": null,
   "metadata": {},
   "outputs": [],
   "source": [
    "import pandas as pd"
   ]
  },
  {
   "cell_type": "code",
   "execution_count": null,
   "metadata": {},
   "outputs": [],
   "source": [
    "out = pd.DataFrame()\n",
    "for slide in [\n",
    "    #\"S20_37543_1A\",\"S20_8615_1A\",\"S20_20146_2A\",\"S20_19137_1A\",\n",
    "    \"S19_19913_1J\",\"S20_39567_1H\",\"S18_12464_1H\",\"S21_34686_1N\",\n",
    "    #\"WD54594\",\"WD84221\",\"HUMAN_NL\",\"WD84216\",\"WD84602\",\"WD84596\",\n",
    "    #\"VISIUM_TMA_2\",\"WD84226\",\"WD86055\",\"WD86056\",\"WD87480\",\"WD87482\",\"WD85806\",\n",
    "]:\n",
    "    xform = pd.read_csv(\n",
    "        \"/Volumes/CellDive/scan_alpha/{}/S001_DAPI_dapi_MUC2_fitc_CD45_cy5/canvas_xform.tsv\".format(slide),\n",
    "        delimiter=\"\\t\",\n",
    "    )\n",
    "    xform[\"SlideID\"] = slide\n",
    "    xform.rename(columns={\"width\":\"totalWidth\",\"height\":\"totalHeight\"}, inplace=True)\n",
    "    out = pd.concat([out, xform])"
   ]
  },
  {
   "cell_type": "code",
   "execution_count": null,
   "metadata": {},
   "outputs": [],
   "source": [
    "out"
   ]
  },
  {
   "cell_type": "code",
   "execution_count": null,
   "metadata": {},
   "outputs": [],
   "source": [
    "out.to_csv(\"region_canvas_12Jan23.csv\", index=False)"
   ]
  }
 ],
 "metadata": {
  "kernelspec": {
   "display_name": "sc",
   "language": "python",
   "name": "sc"
  },
  "language_info": {
   "codemirror_mode": {
    "name": "ipython",
    "version": 3
   },
   "file_extension": ".py",
   "mimetype": "text/x-python",
   "name": "python",
   "nbconvert_exporter": "python",
   "pygments_lexer": "ipython3",
   "version": "3.9.10"
  }
 },
 "nbformat": 4,
 "nbformat_minor": 5
}
